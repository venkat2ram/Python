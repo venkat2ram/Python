{
  "nbformat": 4,
  "nbformat_minor": 0,
  "metadata": {
    "colab": {
      "name": "Python_data_analatycs.ipynb",
      "provenance": [],
      "include_colab_link": true
    },
    "kernelspec": {
      "name": "python3",
      "display_name": "Python 3"
    }
  },
  "cells": [
    {
      "cell_type": "markdown",
      "metadata": {
        "id": "view-in-github",
        "colab_type": "text"
      },
      "source": [
        "<a href=\"https://colab.research.google.com/github/venkat2ram/Python/blob/master/Python_data_analatycs.ipynb\" target=\"_parent\"><img src=\"https://colab.research.google.com/assets/colab-badge.svg\" alt=\"Open In Colab\"/></a>"
      ]
    },
    {
      "cell_type": "markdown",
      "metadata": {
        "id": "N1EPoTDCzHKq",
        "colab_type": "text"
      },
      "source": [
        "**Numpy:**"
      ]
    },
    {
      "cell_type": "code",
      "metadata": {
        "id": "fTDZzxcBqLLF",
        "colab_type": "code",
        "colab": {
          "base_uri": "https://localhost:8080/",
          "height": 34
        },
        "outputId": "5dea03f7-a536-4964-a566-774b0233a3cd"
      },
      "source": [
        "import numpy as np\n",
        "a=np.array([(1,2,3),(4,5,6)])\n",
        "print(a[:,1]"
      ],
      "execution_count": 9,
      "outputs": [
        {
          "output_type": "execute_result",
          "data": {
            "text/plain": [
              "array([2, 5])"
            ]
          },
          "metadata": {
            "tags": []
          },
          "execution_count": 9
        }
      ]
    },
    {
      "cell_type": "markdown",
      "metadata": {
        "id": "NbXhzZClu5Pw",
        "colab_type": "text"
      },
      "source": [
        "Columnwise sum"
      ]
    },
    {
      "cell_type": "code",
      "metadata": {
        "id": "DbshY8h8u7VH",
        "colab_type": "code",
        "colab": {
          "base_uri": "https://localhost:8080/",
          "height": 34
        },
        "outputId": "7c01e3f0-8556-43df-8c12-4b581e2688c8"
      },
      "source": [
        "print(a.min(),a.max(),a.sum(),a.min(axis=0),a.max(axis=1),a.sum(axis=0),a.sum(axis=1))"
      ],
      "execution_count": 12,
      "outputs": [
        {
          "output_type": "stream",
          "text": [
            "1 6 21 [1 2 3] [3 6] [5 7 9] [ 6 15]\n"
          ],
          "name": "stdout"
        }
      ]
    },
    {
      "cell_type": "markdown",
      "metadata": {
        "id": "GKzNFmECv-qX",
        "colab_type": "text"
      },
      "source": [
        "Square root and standard deviation:"
      ]
    },
    {
      "cell_type": "code",
      "metadata": {
        "id": "c07xUlLEwBsy",
        "colab_type": "code",
        "colab": {
          "base_uri": "https://localhost:8080/",
          "height": 34
        },
        "outputId": "45b00e82-6ed8-4abd-928b-d4b82c0cdb7a"
      },
      "source": [
        "a.std()"
      ],
      "execution_count": 14,
      "outputs": [
        {
          "output_type": "execute_result",
          "data": {
            "text/plain": [
              "1.707825127659933"
            ]
          },
          "metadata": {
            "tags": []
          },
          "execution_count": 14
        }
      ]
    },
    {
      "cell_type": "markdown",
      "metadata": {
        "id": "6iBY2QpXwOFF",
        "colab_type": "text"
      },
      "source": [
        "Sorting"
      ]
    },
    {
      "cell_type": "code",
      "metadata": {
        "id": "baDd897BwNQz",
        "colab_type": "code",
        "colab": {
          "base_uri": "https://localhost:8080/",
          "height": 51
        },
        "outputId": "bf5448b6-37d8-44a0-8a13-ba482d5ef7c8"
      },
      "source": [
        "b=([(4,2,5),(6,3,7)])\n",
        "np.sort(b)"
      ],
      "execution_count": 17,
      "outputs": [
        {
          "output_type": "execute_result",
          "data": {
            "text/plain": [
              "array([[2, 4, 5],\n",
              "       [3, 6, 7]])"
            ]
          },
          "metadata": {
            "tags": []
          },
          "execution_count": 17
        }
      ]
    },
    {
      "cell_type": "markdown",
      "metadata": {
        "id": "h7HlGu9LwslX",
        "colab_type": "text"
      },
      "source": [
        "Column wise sorting."
      ]
    },
    {
      "cell_type": "code",
      "metadata": {
        "id": "zRoYAD5qwvGa",
        "colab_type": "code",
        "colab": {
          "base_uri": "https://localhost:8080/",
          "height": 51
        },
        "outputId": "e4cfbff2-ed90-4365-e692-a7f9721b2816"
      },
      "source": [
        "b=([(4,2,5),(6,3,1)])\n",
        "np.sort(b,axis=0)"
      ],
      "execution_count": 19,
      "outputs": [
        {
          "output_type": "execute_result",
          "data": {
            "text/plain": [
              "array([[4, 2, 1],\n",
              "       [6, 3, 5]])"
            ]
          },
          "metadata": {
            "tags": []
          },
          "execution_count": 19
        }
      ]
    },
    {
      "cell_type": "markdown",
      "metadata": {
        "id": "jGeTcdJTw3_B",
        "colab_type": "text"
      },
      "source": [
        "rowwise sorting."
      ]
    },
    {
      "cell_type": "code",
      "metadata": {
        "id": "DhC7uELAxA4n",
        "colab_type": "code",
        "colab": {
          "base_uri": "https://localhost:8080/",
          "height": 51
        },
        "outputId": "14941ba0-00b5-4f92-cf15-74e83588661d"
      },
      "source": [
        "b=([(4,2,5),(6,3,1)])\n",
        "np.sort(b,axis=1) # This works same as np.sort(b)"
      ],
      "execution_count": 21,
      "outputs": [
        {
          "output_type": "execute_result",
          "data": {
            "text/plain": [
              "array([[2, 4, 5],\n",
              "       [1, 3, 6]])"
            ]
          },
          "metadata": {
            "tags": []
          },
          "execution_count": 21
        }
      ]
    },
    {
      "cell_type": "markdown",
      "metadata": {
        "id": "D67cQ4GZxiX0",
        "colab_type": "text"
      },
      "source": [
        "Exponentials and logarithms:"
      ]
    },
    {
      "cell_type": "code",
      "metadata": {
        "id": "-klzNr3vxmVn",
        "colab_type": "code",
        "colab": {
          "base_uri": "https://localhost:8080/",
          "height": 34
        },
        "outputId": "ae3de73f-590b-4e5b-bbf4-23494e14af9c"
      },
      "source": [
        "c=([(1,2,3)])\n",
        "print(np.exp(c),np.log(c),np.log10(c))"
      ],
      "execution_count": 22,
      "outputs": [
        {
          "output_type": "stream",
          "text": [
            "[[ 2.71828183  7.3890561  20.08553692]] [[0.         0.69314718 1.09861229]] [[0.         0.30103    0.47712125]]\n"
          ],
          "name": "stdout"
        }
      ]
    },
    {
      "cell_type": "markdown",
      "metadata": {
        "id": "wlZBCQSkx9P0",
        "colab_type": "text"
      },
      "source": [
        "Convert all columns and rows into single column."
      ]
    },
    {
      "cell_type": "code",
      "metadata": {
        "id": "MdD1EZQQx87l",
        "colab_type": "code",
        "colab": {
          "base_uri": "https://localhost:8080/",
          "height": 34
        },
        "outputId": "07a51cd2-4288-43f6-aada-a424d8fa4786"
      },
      "source": [
        "a.ravel() #This converts array into tuple."
      ],
      "execution_count": 25,
      "outputs": [
        {
          "output_type": "execute_result",
          "data": {
            "text/plain": [
              "array([1, 2, 3, 4, 5, 6])"
            ]
          },
          "metadata": {
            "tags": []
          },
          "execution_count": 25
        }
      ]
    },
    {
      "cell_type": "markdown",
      "metadata": {
        "id": "cC4hOqTWzLUT",
        "colab_type": "text"
      },
      "source": [
        "**Matplotlib**"
      ]
    },
    {
      "cell_type": "code",
      "metadata": {
        "id": "v1uAGvBdzVcc",
        "colab_type": "code",
        "colab": {
          "base_uri": "https://localhost:8080/",
          "height": 34
        },
        "outputId": "f92ddb39-9c2a-4da6-9dcd-995e37c5da4a"
      },
      "source": [
        "import matplotlib.pyplot as plt\n",
        "x=np.arange(1,np.pi,3)\n",
        "x"
      ],
      "execution_count": 33,
      "outputs": [
        {
          "output_type": "execute_result",
          "data": {
            "text/plain": [
              "dtype('float64')"
            ]
          },
          "metadata": {
            "tags": []
          },
          "execution_count": 33
        }
      ]
    }
  ]
}