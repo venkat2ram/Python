{
  "nbformat": 4,
  "nbformat_minor": 0,
  "metadata": {
    "colab": {
      "name": "Python_data_analatycs.ipynb",
      "provenance": [],
      "include_colab_link": true
    },
    "kernelspec": {
      "name": "python3",
      "display_name": "Python 3"
    }
  },
  "cells": [
    {
      "cell_type": "markdown",
      "metadata": {
        "id": "view-in-github",
        "colab_type": "text"
      },
      "source": [
        "<a href=\"https://colab.research.google.com/github/venkat2ram/Python/blob/master/Python_data_analatycs.ipynb\" target=\"_parent\"><img src=\"https://colab.research.google.com/assets/colab-badge.svg\" alt=\"Open In Colab\"/></a>"
      ]
    },
    {
      "cell_type": "markdown",
      "metadata": {
        "id": "N1EPoTDCzHKq",
        "colab_type": "text"
      },
      "source": [
        "**Numpy:**"
      ]
    },
    {
      "cell_type": "code",
      "metadata": {
        "id": "fTDZzxcBqLLF",
        "colab_type": "code",
        "outputId": "13c12af4-12c4-4df9-9df7-2512516016cf",
        "colab": {
          "base_uri": "https://localhost:8080/",
          "height": 34
        }
      },
      "source": [
        "import numpy as np\n",
        "a=np.array([(1,2,3),(4,5,6)])\n",
        "print(a[:,1])"
      ],
      "execution_count": 3,
      "outputs": [
        {
          "output_type": "stream",
          "text": [
            "[2 5]\n"
          ],
          "name": "stdout"
        }
      ]
    },
    {
      "cell_type": "markdown",
      "metadata": {
        "id": "NbXhzZClu5Pw",
        "colab_type": "text"
      },
      "source": [
        "Columnwise sum"
      ]
    },
    {
      "cell_type": "code",
      "metadata": {
        "id": "DbshY8h8u7VH",
        "colab_type": "code",
        "outputId": "80383606-05a3-4232-d65f-7e7b9eec608b",
        "colab": {
          "base_uri": "https://localhost:8080/",
          "height": 34
        }
      },
      "source": [
        "print(a.min(),a.max(),a.sum(),a.min(axis=0),a.max(axis=1),a.sum(axis=0),a.sum(axis=1))"
      ],
      "execution_count": 4,
      "outputs": [
        {
          "output_type": "stream",
          "text": [
            "1 6 21 [1 2 3] [3 6] [5 7 9] [ 6 15]\n"
          ],
          "name": "stdout"
        }
      ]
    },
    {
      "cell_type": "markdown",
      "metadata": {
        "id": "GKzNFmECv-qX",
        "colab_type": "text"
      },
      "source": [
        "Square root and standard deviation:"
      ]
    },
    {
      "cell_type": "code",
      "metadata": {
        "id": "c07xUlLEwBsy",
        "colab_type": "code",
        "outputId": "394e37d7-8f76-46af-f719-80449f6d0385",
        "colab": {
          "base_uri": "https://localhost:8080/",
          "height": 34
        }
      },
      "source": [
        "a.std()"
      ],
      "execution_count": 5,
      "outputs": [
        {
          "output_type": "execute_result",
          "data": {
            "text/plain": [
              "1.707825127659933"
            ]
          },
          "metadata": {
            "tags": []
          },
          "execution_count": 5
        }
      ]
    },
    {
      "cell_type": "markdown",
      "metadata": {
        "id": "6iBY2QpXwOFF",
        "colab_type": "text"
      },
      "source": [
        "Sorting"
      ]
    },
    {
      "cell_type": "code",
      "metadata": {
        "id": "baDd897BwNQz",
        "colab_type": "code",
        "outputId": "0924d6c0-7cfc-49b3-a223-8a4cf2c730ec",
        "colab": {
          "base_uri": "https://localhost:8080/",
          "height": 51
        }
      },
      "source": [
        "b=([(4,2,5),(6,3,7)])\n",
        "np.sort(b)"
      ],
      "execution_count": 6,
      "outputs": [
        {
          "output_type": "execute_result",
          "data": {
            "text/plain": [
              "array([[2, 4, 5],\n",
              "       [3, 6, 7]])"
            ]
          },
          "metadata": {
            "tags": []
          },
          "execution_count": 6
        }
      ]
    },
    {
      "cell_type": "markdown",
      "metadata": {
        "id": "h7HlGu9LwslX",
        "colab_type": "text"
      },
      "source": [
        "Column wise sorting."
      ]
    },
    {
      "cell_type": "code",
      "metadata": {
        "id": "zRoYAD5qwvGa",
        "colab_type": "code",
        "outputId": "d6e179cd-d3b4-47d6-e6de-be5564c64fac",
        "colab": {
          "base_uri": "https://localhost:8080/",
          "height": 51
        }
      },
      "source": [
        "b=([(4,2,5),(6,3,1)])\n",
        "np.sort(b,axis=0)"
      ],
      "execution_count": 7,
      "outputs": [
        {
          "output_type": "execute_result",
          "data": {
            "text/plain": [
              "array([[4, 2, 1],\n",
              "       [6, 3, 5]])"
            ]
          },
          "metadata": {
            "tags": []
          },
          "execution_count": 7
        }
      ]
    },
    {
      "cell_type": "markdown",
      "metadata": {
        "id": "jGeTcdJTw3_B",
        "colab_type": "text"
      },
      "source": [
        "rowwise sorting."
      ]
    },
    {
      "cell_type": "code",
      "metadata": {
        "id": "DhC7uELAxA4n",
        "colab_type": "code",
        "outputId": "f7b4944a-9725-4c1f-c5fd-726978130e7f",
        "colab": {
          "base_uri": "https://localhost:8080/",
          "height": 51
        }
      },
      "source": [
        "b=([(4,2,5),(6,3,1)])\n",
        "np.sort(b,axis=1) # This works same as np.sort(b)"
      ],
      "execution_count": 8,
      "outputs": [
        {
          "output_type": "execute_result",
          "data": {
            "text/plain": [
              "array([[2, 4, 5],\n",
              "       [1, 3, 6]])"
            ]
          },
          "metadata": {
            "tags": []
          },
          "execution_count": 8
        }
      ]
    },
    {
      "cell_type": "markdown",
      "metadata": {
        "id": "D67cQ4GZxiX0",
        "colab_type": "text"
      },
      "source": [
        "Exponentials and logarithms:"
      ]
    },
    {
      "cell_type": "code",
      "metadata": {
        "id": "-klzNr3vxmVn",
        "colab_type": "code",
        "outputId": "9056ef59-51d0-46d7-cc23-28fd7b080c7f",
        "colab": {
          "base_uri": "https://localhost:8080/",
          "height": 34
        }
      },
      "source": [
        "c=([(1,2,3)])\n",
        "print(np.exp(c),np.log(c),np.log10(c))"
      ],
      "execution_count": 9,
      "outputs": [
        {
          "output_type": "stream",
          "text": [
            "[[ 2.71828183  7.3890561  20.08553692]] [[0.         0.69314718 1.09861229]] [[0.         0.30103    0.47712125]]\n"
          ],
          "name": "stdout"
        }
      ]
    },
    {
      "cell_type": "markdown",
      "metadata": {
        "id": "wlZBCQSkx9P0",
        "colab_type": "text"
      },
      "source": [
        "Convert all columns and rows into single column."
      ]
    },
    {
      "cell_type": "code",
      "metadata": {
        "id": "MdD1EZQQx87l",
        "colab_type": "code",
        "outputId": "53bdde57-c7d7-44b8-fef0-48e1adb358d9",
        "colab": {
          "base_uri": "https://localhost:8080/",
          "height": 34
        }
      },
      "source": [
        "a.ravel() #This converts array into tuple."
      ],
      "execution_count": 10,
      "outputs": [
        {
          "output_type": "execute_result",
          "data": {
            "text/plain": [
              "array([1, 2, 3, 4, 5, 6])"
            ]
          },
          "metadata": {
            "tags": []
          },
          "execution_count": 10
        }
      ]
    },
    {
      "cell_type": "markdown",
      "metadata": {
        "id": "cC4hOqTWzLUT",
        "colab_type": "text"
      },
      "source": [
        "**Matplotlib**"
      ]
    },
    {
      "cell_type": "code",
      "metadata": {
        "id": "v1uAGvBdzVcc",
        "colab_type": "code",
        "outputId": "81d587bc-9d8d-44d4-b352-b9017f35835b",
        "colab": {
          "base_uri": "https://localhost:8080/",
          "height": 34
        }
      },
      "source": [
        "import matplotlib.pyplot as plt"
      ],
      "execution_count": 11,
      "outputs": [
        {
          "output_type": "execute_result",
          "data": {
            "text/plain": [
              "array([1.])"
            ]
          },
          "metadata": {
            "tags": []
          },
          "execution_count": 11
        }
      ]
    },
    {
      "cell_type": "code",
      "metadata": {
        "id": "u4TP3JYHt3NN",
        "colab_type": "code",
        "colab": {
          "base_uri": "https://localhost:8080/",
          "height": 269
        },
        "outputId": "1206fdce-2f2b-479e-e9d4-5d90f91e2845"
      },
      "source": [
        "x=[1,2,3]\n",
        "y=[4,8,6]\n",
        "x2=[5,6,7]\n",
        "y2=[7,2,6]\n",
        "plt.plot(x,y,'c',label='Example')\n",
        "plt.plot(x2,y2,'g',label='Example2')\n",
        "plt.xlabel='X-axis'\n",
        "plt.xlabel='Y-axis'\n",
        "plt.legend()\n",
        "plt.show()"
      ],
      "execution_count": 17,
      "outputs": [
        {
          "output_type": "display_data",
          "data": {
            "image/png": "[encoded data removed]",
            "text/plain": [
              "<Figure size 432x288 with 1 Axes>"
            ]
          },
          "metadata": {
            "tags": []
          }
        }
      ]
    }
  ]
}