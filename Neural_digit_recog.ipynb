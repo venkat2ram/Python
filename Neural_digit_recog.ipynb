{
  "nbformat": 4,
  "nbformat_minor": 0,
  "metadata": {
    "colab": {
      "name": "Neural_digit_recog.ipynb",
      "provenance": [],
      "include_colab_link": true
    },
    "kernelspec": {
      "name": "python3",
      "display_name": "Python 3"
    }
  },
  "cells": [
    {
      "cell_type": "markdown",
      "metadata": {
        "id": "view-in-github",
        "colab_type": "text"
      },
      "source": [
        "<a href=\"https://colab.research.google.com/github/venkat2ram/Python/blob/master/Neural_digit_recog.ipynb\" target=\"_parent\"><img src=\"https://colab.research.google.com/assets/colab-badge.svg\" alt=\"Open In Colab\"/></a>"
      ]
    },
    {
      "cell_type": "code",
      "metadata": {
        "id": "fSrE5IT4DyJM",
        "colab_type": "code",
        "colab": {}
      },
      "source": [
        "from sklearn.datasets import fetch_openml\n",
        "\n",
        "Data=fetch_openml('mnist_784')"
      ],
      "execution_count": 0,
      "outputs": []
    },
    {
      "cell_type": "code",
      "metadata": {
        "id": "mBEhsAxFGYZB",
        "colab_type": "code",
        "colab": {}
      },
      "source": [
        "X,y_act=Data[\"data\"][:1000]/1000,Data[\"target\"][:1000]"
      ],
      "execution_count": 0,
      "outputs": []
    },
    {
      "cell_type": "code",
      "metadata": {
        "id": "xJTnPxy8GdDR",
        "colab_type": "code",
        "colab": {}
      },
      "source": [
        "import numpy as np\n",
        "import matplotlib \n",
        "import matplotlib.pyplot as plt\n",
        "\n",
        "def show_imag(X,y_act,position):\n",
        "  img=X[position]\n",
        "  imag=img.reshape(int(np.sqrt(img.size)),int(np.sqrt(img.size)))\n",
        "  plt.imshow(imag,cmap = matplotlib.cm.binary, interpolation=\"nearest\")\n",
        "  plt.show()\n",
        "  print(y_act[position]) "
      ],
      "execution_count": 0,
      "outputs": []
    },
    {
      "cell_type": "code",
      "metadata": {
        "id": "_yVwXhItGf5q",
        "colab_type": "code",
        "colab": {
          "base_uri": "https://localhost:8080/",
          "height": 282
        },
        "outputId": "452631e3-0d92-4d0c-e89f-eb6f8036af86"
      },
      "source": [
        "show_imag(X,y_act,400)"
      ],
      "execution_count": 10,
      "outputs": [
        {
          "output_type": "display_data",
          "data": {
            "image/png": "[encoded data removed]",
            "text/plain": [
              "<Figure size 432x288 with 1 Axes>"
            ]
          },
          "metadata": {
            "tags": []
          }
        },
        {
          "output_type": "stream",
          "text": [
            "2\n"
          ],
          "name": "stdout"
        }
      ]
    },
    {
      "cell_type": "code",
      "metadata": {
        "id": "yyf_1GKtGj0T",
        "colab_type": "code",
        "colab": {}
      },
      "source": [
        "def convert_binary(y_act):\n",
        "  y1=np.zeros((len(y_act),10))\n",
        "  for i in range(len(y_act)):\n",
        "    y1[i][int(y_act[i])]=1\n",
        "    \n",
        "    \n",
        "  return y1"
      ],
      "execution_count": 0,
      "outputs": []
    },
    {
      "cell_type": "code",
      "metadata": {
        "id": "rviv9MYbGr8c",
        "colab_type": "code",
        "colab": {}
      },
      "source": [
        "NumHLayers=1\n",
        "NumHUnits=3"
      ],
      "execution_count": 0,
      "outputs": []
    },
    {
      "cell_type": "code",
      "metadata": {
        "id": "Q0k_lvHbHBo_",
        "colab_type": "code",
        "colab": {
          "base_uri": "https://localhost:8080/",
          "height": 612
        },
        "outputId": "0027b21f-97ff-48ae-90f3-305138746f1f"
      },
      "source": [
        "y=convert_binary(y_act)\n",
        "m,n=np.shape(X)\n",
        "p,s=np.shape(y)\n",
        "X_with_bias=np.c_[np.ones((X.shape[0],1)),X]\n",
        "hidden=np.ones((m,NumHUnits+1))\n",
        "out=np.ones((p,s))\n",
        "#ITheta=np.ones((n+1,NumHUnits))\n",
        "ITheta=np.random.rand(n+1,NumHUnits)\n",
        "#ETheta=np.ones((NumHUnits+1,s))\n",
        "ETheta=np.random.rand(NumHUnits+1,s)\n",
        "EGrad=np.ones((NumHUnits+1,s))\n",
        "IGrad=np.ones((n+1,NumHUnits))\n",
        "for i in range(2500):\n",
        "  hidden[:,1:NumHUnits+1]=(1/(1+np.exp(-1*np.matmul(X_with_bias,ITheta))))\n",
        "  out=(1/(1+np.exp(-1*np.matmul(hidden,ETheta))))\n",
        "  EGrad=np.matmul(hidden.transpose(),2*(y-out)*out*(1-out))\n",
        "  #HGrad=(ETheta*sum(2*(y-out)*out*(1-out)))[1:NumHUnits+1]\n",
        "  HGrad=np.sum(np.matmul(ETheta[1:NumHUnits+1],(2*(y-out)*out*(1-out)).transpose()),axis=1)\n",
        "  HTGrad=np.matmul(X_with_bias.transpose(),hidden[:,1:NumHUnits+1]*HGrad)\n",
        "  #HTGrad=sum(hidden[:,1:NumHUnits+1]*(hidden[:,1:NumHUnits+1]*(1-hidden[:,1:NumHUnits+1])))*ITheta[1:n+1,:]\n",
        "  cost=sum(sum((y-out)**2))\n",
        "  ETheta=ETheta+EGrad*0.0001\n",
        "  #ITheta=ITheta+HTGrad*0.0001\n",
        "  if(i%500==0):\n",
        "    print(cost,HGrad,out)"
      ],
      "execution_count": 26,
      "outputs": [
        {
          "output_type": "stream",
          "text": [
            "6910.1394989785485 [-479.74950284 -841.29548346 -892.75480611] [[0.78210543 0.87176659 0.94513642 ... 0.93992764 0.85609125 0.78208356]\n",
            " [0.78210551 0.87176679 0.94513649 ... 0.93992776 0.85609145 0.78208389]\n",
            " [0.78209959 0.87175578 0.94513041 ... 0.9399219  0.85608019 0.78207347]\n",
            " ...\n",
            " [0.7821055  0.87176678 0.94513649 ... 0.93992776 0.85609144 0.78208388]\n",
            " [0.78210443 0.87176517 0.94513583 ... 0.9399267  0.85608949 0.7820825 ]\n",
            " [0.7821052  0.87176624 0.94513625 ... 0.93992743 0.85609086 0.78208331]]\n",
            "899.1704382083992 [2.59117991 1.98563243 2.11623278] [[0.09918726 0.11692128 0.10139845 ... 0.11801063 0.09055376 0.10192211]\n",
            " [0.0991871  0.1169212  0.10139829 ... 0.11801054 0.09055367 0.10192208]\n",
            " [0.09919711 0.11692817 0.10140691 ... 0.11802062 0.09056034 0.10192981]\n",
            " ...\n",
            " [0.0991871  0.1169212  0.1013983  ... 0.11801054 0.09055367 0.10192209]\n",
            " [0.09918818 0.11692186 0.10139954 ... 0.1180112  0.09055414 0.10192301]\n",
            " [0.09918752 0.11692146 0.10139872 ... 0.11801086 0.0905539  0.10192236]]\n",
            "899.112451268084 [0.11851904 0.0916996  0.10909853] [[0.09705171 0.11599605 0.09905248 ... 0.11698768 0.08724674 0.10005085]\n",
            " [0.09705155 0.11599597 0.09905232 ... 0.11698759 0.08724665 0.10005082]\n",
            " [0.09706146 0.11600294 0.09906086 ... 0.11699764 0.08725324 0.1000585 ]\n",
            " ...\n",
            " [0.09705155 0.11599597 0.09905233 ... 0.11698759 0.08724665 0.10005082]\n",
            " [0.09705262 0.11599663 0.09905356 ... 0.11698825 0.08724712 0.10005174]\n",
            " [0.09705196 0.11599623 0.09905274 ... 0.11698791 0.08724688 0.1000511 ]]\n",
            "899.1122432273961 [0.00684844 0.00706662 0.00952131] [[0.09695709 0.11598281 0.09896005 ... 0.11697382 0.08700138 0.09998067]\n",
            " [0.09695693 0.11598273 0.09895989 ... 0.11697373 0.08700129 0.09998064]\n",
            " [0.09696683 0.1159897  0.09896843 ... 0.11698378 0.08700787 0.09998831]\n",
            " ...\n",
            " [0.09695693 0.11598273 0.0989599  ... 0.11697373 0.08700129 0.09998064]\n",
            " [0.096958   0.11598339 0.09896113 ... 0.11697439 0.08700176 0.09998156]\n",
            " [0.09695734 0.11598299 0.09896031 ... 0.11697405 0.08700152 0.09998092]]\n",
            "899.1122097214105 [0.00057342 0.00272023 0.00386928] [[0.09695273 0.1159827  0.09895626 ... 0.11697363 0.08698192 0.09997796]\n",
            " [0.09695257 0.11598262 0.0989561  ... 0.11697354 0.08698184 0.09997792]\n",
            " [0.09696248 0.1159896  0.09896464 ... 0.11698359 0.08698841 0.0999856 ]\n",
            " ...\n",
            " [0.09695258 0.11598262 0.09895611 ... 0.11697355 0.08698184 0.09997793]\n",
            " [0.09695364 0.11598328 0.09895734 ... 0.11697421 0.08698231 0.09997884]\n",
            " [0.09695299 0.11598288 0.09895652 ... 0.11697386 0.08698207 0.0999782 ]]\n"
          ],
          "name": "stdout"
        }
      ]
    }
  ]
}