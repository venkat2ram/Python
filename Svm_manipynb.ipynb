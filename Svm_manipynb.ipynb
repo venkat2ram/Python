{
  "nbformat": 4,
  "nbformat_minor": 0,
  "metadata": {
    "colab": {
      "name": "Svm_manipynb",
      "provenance": [],
      "include_colab_link": true
    },
    "kernelspec": {
      "name": "python3",
      "display_name": "Python 3"
    }
  },
  "cells": [
    {
      "cell_type": "markdown",
      "metadata": {
        "id": "view-in-github",
        "colab_type": "text"
      },
      "source": [
        "<a href=\"https://colab.research.google.com/github/venkat2ram/Python/blob/master/Svm_manipynb.ipynb\" target=\"_parent\"><img src=\"https://colab.research.google.com/assets/colab-badge.svg\" alt=\"Open In Colab\"/></a>"
      ]
    },
    {
      "cell_type": "code",
      "metadata": {
        "id": "zcV8k1Ts7NOI",
        "colab_type": "code",
        "colab": {}
      },
      "source": [
        "import pandas as pd\n",
        "import numpy as np\n",
        "from matplotlib import pyplot as plt\n"
      ],
      "execution_count": 0,
      "outputs": []
    },
    {
      "cell_type": "markdown",
      "metadata": {
        "id": "dHi2aIfaSiYI",
        "colab_type": "text"
      },
      "source": [
        "Import dataset and drop one classifier data to make it binary classifier."
      ]
    },
    {
      "cell_type": "code",
      "metadata": {
        "id": "4eXv1s-h8AKs",
        "colab_type": "code",
        "colab": {}
      },
      "source": [
        "df=pd.read_csv('/content/Iris.csv')\n",
        "df=df.drop(['Id'],axis=1)\n",
        "target=df['Species']\n",
        "#s=set()\n",
        "#for val in target:\n",
        "#  s.add(val)\n",
        "#s=list(s)\n",
        "#rows=list(range(100,150))\n",
        "#df=df.drop(df.index[rows])"
      ],
      "execution_count": 0,
      "outputs": []
    },
    {
      "cell_type": "markdown",
      "metadata": {
        "id": "1eBVEiWIStj4",
        "colab_type": "text"
      },
      "source": [
        "Plot the data using only two features. x and y in below code are only for plot purpose. "
      ]
    },
    {
      "cell_type": "code",
      "metadata": {
        "id": "X13FS_UKLlpE",
        "colab_type": "code",
        "outputId": "7de12a39-2be0-4975-feac-b0d4cdaa1567",
        "colab": {
          "base_uri": "https://localhost:8080/",
          "height": 282
        }
      },
      "source": [
        "xp=df['SepalLengthCm']\n",
        "yp=df['PetalLengthCm']\n",
        "setosa_x=xp[:50]\n",
        "setosa_y=yp[:50]\n",
        "versicolor_x=xp[50:100]\n",
        "versicolor_y=yp[50:100]\n",
        "virginica_x=xp[100:]\n",
        "virginica_y=yp[100:]\n",
        "plt.scatter( setosa_x,setosa_y,marker='+',color='green')\n",
        "plt.scatter(versicolor_x,versicolor_y,marker='_',color='red')\n",
        "plt.scatter(virginica_x,virginica_y, marker='x',color='blue')"
      ],
      "execution_count": 463,
      "outputs": [
        {
          "output_type": "execute_result",
          "data": {
            "text/plain": [
              "<matplotlib.collections.PathCollection at 0x7fee259a5470>"
            ]
          },
          "metadata": {
            "tags": []
          },
          "execution_count": 463
        },
        {
          "output_type": "display_data",
          "data": {
            "image/png": "[encoded data removed]",
            "text/plain": [
              "<Figure size 432x288 with 1 Axes>"
            ]
          },
          "metadata": {
            "tags": []
          }
        }
      ]
    },
    {
      "cell_type": "markdown",
      "metadata": {
        "id": "FPfIjK5dTI7D",
        "colab_type": "text"
      },
      "source": [
        "Now shuffle the data set and split it into train and test set. Then convert these sets as numpy arrays."
      ]
    },
    {
      "cell_type": "code",
      "metadata": {
        "id": "SQvMloYWTVU1",
        "colab_type": "code",
        "colab": {}
      },
      "source": [
        "df=df.drop(['SepalWidthCm','PetalWidthCm'],axis=1)"
      ],
      "execution_count": 0,
      "outputs": []
    },
    {
      "cell_type": "code",
      "metadata": {
        "id": "Jy_ypfoeT74W",
        "colab_type": "code",
        "colab": {}
      },
      "source": [
        "target=df['Species']\n",
        "y_original=[]\n",
        "for val in target:\n",
        "  if val=='Iris-setosa':\n",
        "    y_original.append(-1)\n",
        "  else:\n",
        "    y_original.append(1)\n",
        "\n"
      ],
      "execution_count": 0,
      "outputs": []
    },
    {
      "cell_type": "code",
      "metadata": {
        "id": "n6lgFu6lVLUj",
        "colab_type": "code",
        "colab": {}
      },
      "source": [
        "df=df.drop(['Species'],axis=1)"
      ],
      "execution_count": 0,
      "outputs": []
    },
    {
      "cell_type": "code",
      "metadata": {
        "id": "8nmCtGxsUj0w",
        "colab_type": "code",
        "colab": {}
      },
      "source": [
        "X_original=[]\n",
        "X_original=df.values.tolist()"
      ],
      "execution_count": 0,
      "outputs": []
    },
    {
      "cell_type": "code",
      "metadata": {
        "id": "33MUVqCtVu1T",
        "colab_type": "code",
        "colab": {}
      },
      "source": [
        "from sklearn.utils import shuffle\n",
        "from sklearn.model_selection import train_test_split"
      ],
      "execution_count": 0,
      "outputs": []
    },
    {
      "cell_type": "code",
      "metadata": {
        "id": "-qgQadHfWDgX",
        "colab_type": "code",
        "colab": {}
      },
      "source": [
        "X,y=shuffle(X_original,y_original)\n",
        "X_train=[]\n",
        "X_test=[]\n",
        "y_train=[]\n",
        "y_test=[]\n",
        "X_train,X_test,y_train,y_test=train_test_split(X,y,train_size=0.9)"
      ],
      "execution_count": 0,
      "outputs": []
    },
    {
      "cell_type": "code",
      "metadata": {
        "id": "JIFgD1PkXOnA",
        "colab_type": "code",
        "colab": {}
      },
      "source": [
        "X_train=np.array(X_train)\n",
        "X_test=np.array(X_test)\n",
        "y_train=np.array(y_train)\n",
        "y_test=np.array(y_test)"
      ],
      "execution_count": 0,
      "outputs": []
    },
    {
      "cell_type": "code",
      "metadata": {
        "id": "6D1hQMrTYBfX",
        "colab_type": "code",
        "colab": {}
      },
      "source": [
        "y_train=y_train.reshape(135,1)\n",
        "y_test=y_test.reshape(15,1)"
      ],
      "execution_count": 0,
      "outputs": []
    },
    {
      "cell_type": "markdown",
      "metadata": {
        "id": "Ao4E0knJHzBo",
        "colab_type": "text"
      },
      "source": [
        "Train the weights using the data."
      ]
    },
    {
      "cell_type": "code",
      "metadata": {
        "id": "dw9nIoV_H7UC",
        "colab_type": "code",
        "colab": {}
      },
      "source": [
        "train_f1=X_train[:,0]\n",
        "train_f2=X_train[:,1]\n",
        "train_f1=train_f1.reshape(135,1)\n",
        "train_f2=train_f2.reshape(135,1)"
      ],
      "execution_count": 0,
      "outputs": []
    },
    {
      "cell_type": "code",
      "metadata": {
        "id": "I5pIZ2LBM77C",
        "colab_type": "code",
        "colab": {}
      },
      "source": [
        "#w1=np.zeros((90,1))\n",
        "#w2=np.zeros((90,1))\n",
        "w1=np.zeros((2,1))"
      ],
      "execution_count": 0,
      "outputs": []
    },
    {
      "cell_type": "code",
      "metadata": {
        "id": "8xw-mhumONeR",
        "colab_type": "code",
        "colab": {}
      },
      "source": [
        "def train(X_f,w_f,y_f):\n",
        "  epoch=1\n",
        "  alpha=0.0001\n",
        "  while epoch<10000:\n",
        "    #res=w1*train_f1+w2*train_f2\n",
        "    res=np.matmul(X_f,w_f)\n",
        "    prod=res*y_f\n",
        "    count=0\n",
        "    for val in prod:\n",
        "      if(val>=1):\n",
        "        cost=0\n",
        "      #w1=w1-alpha*((1/epoch)*w1)\n",
        "      #w2=w2-alpha*((1/epoch)*w2)\n",
        "        w_f=w_f-alpha*((1/epoch)*w_f)\n",
        "      else:\n",
        "        cost=1-val\n",
        "        #w1=w1+alpha*(y_train[count]*train_f1[count]-((1/epoch)*w1))\n",
        "        #w2=w2+alpha*(y_train[count]*train_f2[count]-((1/epoch)*w2))\n",
        "        w_f[0,0]=w_f[0,0]+alpha*(y_f[count]*X_f[count,0]-((1/epoch)*w_f[0,0]))\n",
        "        w_f[1,0]=w_f[1,0]+alpha*(y_f[count]*X_f[count,1]-((1/epoch)*w_f[1,0]))\n",
        "      count+=1\n",
        "    epoch+=1\n",
        "  return w_f"
      ],
      "execution_count": 0,
      "outputs": []
    },
    {
      "cell_type": "code",
      "metadata": {
        "id": "GWvy0V8NkpGH",
        "colab_type": "code",
        "outputId": "ecb4e8e3-fdf0-422a-c370-6ad4578a19b5",
        "colab": {
          "base_uri": "https://localhost:8080/",
          "height": 52
        }
      },
      "source": [
        "w1=train(X_train,w,y_train)\n",
        "w1"
      ],
      "execution_count": 475,
      "outputs": [
        {
          "output_type": "execute_result",
          "data": {
            "text/plain": [
              "array([[-1.04069225],\n",
              "       [ 2.10257552]])"
            ]
          },
          "metadata": {
            "tags": []
          },
          "execution_count": 475
        }
      ]
    },
    {
      "cell_type": "code",
      "metadata": {
        "id": "8_72vIOtCIgt",
        "colab_type": "code",
        "outputId": "b627a073-382f-40ad-ba21-057ab3556c5f",
        "colab": {
          "base_uri": "https://localhost:8080/",
          "height": 281
        }
      },
      "source": [
        "np.matmul(X_test,w1)"
      ],
      "execution_count": 476,
      "outputs": [
        {
          "output_type": "execute_result",
          "data": {
            "text/plain": [
              "array([[ 5.11399252],\n",
              "       [-2.78020164],\n",
              "       [-2.15366719],\n",
              "       [ 5.4262002 ],\n",
              "       [ 5.11399252],\n",
              "       [-2.77808254],\n",
              "       [ 2.38276345],\n",
              "       [ 3.52964402],\n",
              "       [ 2.69497112],\n",
              "       [ 5.01628061],\n",
              "       [ 2.38064435],\n",
              "       [ 2.59725921],\n",
              "       [ 3.32574378],\n",
              "       [ 2.26597961],\n",
              "       [ 4.90161587]])"
            ]
          },
          "metadata": {
            "tags": []
          },
          "execution_count": 476
        }
      ]
    },
    {
      "cell_type": "code",
      "metadata": {
        "id": "JagkVrYgCfh5",
        "colab_type": "code",
        "outputId": "326b1840-1523-47bf-8002-f5f96f7fd630",
        "colab": {
          "base_uri": "https://localhost:8080/",
          "height": 281
        }
      },
      "source": [
        "y_test"
      ],
      "execution_count": 477,
      "outputs": [
        {
          "output_type": "execute_result",
          "data": {
            "text/plain": [
              "array([[ 1],\n",
              "       [-1],\n",
              "       [-1],\n",
              "       [ 1],\n",
              "       [ 1],\n",
              "       [-1],\n",
              "       [ 1],\n",
              "       [ 1],\n",
              "       [ 1],\n",
              "       [ 1],\n",
              "       [ 1],\n",
              "       [ 1],\n",
              "       [ 1],\n",
              "       [ 1],\n",
              "       [ 1]])"
            ]
          },
          "metadata": {
            "tags": []
          },
          "execution_count": 477
        }
      ]
    },
    {
      "cell_type": "code",
      "metadata": {
        "id": "WWTQUA0x6Vx5",
        "colab_type": "code",
        "colab": {
          "base_uri": "https://localhost:8080/",
          "height": 402
        },
        "outputId": "a768f144-5971-42e4-b5d2-95abb50c0ecf"
      },
      "source": [
        "df"
      ],
      "execution_count": 478,
      "outputs": [
        {
          "output_type": "execute_result",
          "data": {
            "text/html": [
              "<div>\n",
              "<style scoped>\n",
              "    .dataframe tbody tr th:only-of-type {\n",
              "        vertical-align: middle;\n",
              "    }\n",
              "\n",
              "    .dataframe tbody tr th {\n",
              "        vertical-align: top;\n",
              "    }\n",
              "\n",
              "    .dataframe thead th {\n",
              "        text-align: right;\n",
              "    }\n",
              "</style>\n",
              "<table border=\"1\" class=\"dataframe\">\n",
              "  <thead>\n",
              "    <tr style=\"text-align: right;\">\n",
              "      <th></th>\n",
              "      <th>SepalLengthCm</th>\n",
              "      <th>PetalLengthCm</th>\n",
              "    </tr>\n",
              "  </thead>\n",
              "  <tbody>\n",
              "    <tr>\n",
              "      <th>0</th>\n",
              "      <td>5.1</td>\n",
              "      <td>1.4</td>\n",
              "    </tr>\n",
              "    <tr>\n",
              "      <th>1</th>\n",
              "      <td>4.9</td>\n",
              "      <td>1.4</td>\n",
              "    </tr>\n",
              "    <tr>\n",
              "      <th>2</th>\n",
              "      <td>4.7</td>\n",
              "      <td>1.3</td>\n",
              "    </tr>\n",
              "    <tr>\n",
              "      <th>3</th>\n",
              "      <td>4.6</td>\n",
              "      <td>1.5</td>\n",
              "    </tr>\n",
              "    <tr>\n",
              "      <th>4</th>\n",
              "      <td>5.0</td>\n",
              "      <td>1.4</td>\n",
              "    </tr>\n",
              "    <tr>\n",
              "      <th>...</th>\n",
              "      <td>...</td>\n",
              "      <td>...</td>\n",
              "    </tr>\n",
              "    <tr>\n",
              "      <th>145</th>\n",
              "      <td>6.7</td>\n",
              "      <td>5.2</td>\n",
              "    </tr>\n",
              "    <tr>\n",
              "      <th>146</th>\n",
              "      <td>6.3</td>\n",
              "      <td>5.0</td>\n",
              "    </tr>\n",
              "    <tr>\n",
              "      <th>147</th>\n",
              "      <td>6.5</td>\n",
              "      <td>5.2</td>\n",
              "    </tr>\n",
              "    <tr>\n",
              "      <th>148</th>\n",
              "      <td>6.2</td>\n",
              "      <td>5.4</td>\n",
              "    </tr>\n",
              "    <tr>\n",
              "      <th>149</th>\n",
              "      <td>5.9</td>\n",
              "      <td>5.1</td>\n",
              "    </tr>\n",
              "  </tbody>\n",
              "</table>\n",
              "<p>150 rows × 2 columns</p>\n",
              "</div>"
            ],
            "text/plain": [
              "     SepalLengthCm  PetalLengthCm\n",
              "0              5.1            1.4\n",
              "1              4.9            1.4\n",
              "2              4.7            1.3\n",
              "3              4.6            1.5\n",
              "4              5.0            1.4\n",
              "..             ...            ...\n",
              "145            6.7            5.2\n",
              "146            6.3            5.0\n",
              "147            6.5            5.2\n",
              "148            6.2            5.4\n",
              "149            5.9            5.1\n",
              "\n",
              "[150 rows x 2 columns]"
            ]
          },
          "metadata": {
            "tags": []
          },
          "execution_count": 478
        }
      ]
    },
    {
      "cell_type": "code",
      "metadata": {
        "id": "zPmbN4cI602p",
        "colab_type": "code",
        "colab": {}
      },
      "source": [
        "df1=pd.read_csv('/content/Iris.csv')\n",
        "df1=df1.drop(['Id'],axis=1)\n",
        "target=df1['Species']\n",
        "s=set()\n",
        "for val in target:\n",
        "  s.add(val)\n",
        "s=list(s)\n",
        "rows=list(range(0,50))\n",
        "df1=df1.drop(df1.index[rows])"
      ],
      "execution_count": 0,
      "outputs": []
    },
    {
      "cell_type": "code",
      "metadata": {
        "id": "vldgzK6gDh0J",
        "colab_type": "code",
        "colab": {}
      },
      "source": [
        "y1=[]\n",
        "for val in df1['Species']:\n",
        "  if(val=='Iris-versicolor'):\n",
        "    y1.append(-1)\n",
        "  else:\n",
        "    y1.append(1)"
      ],
      "execution_count": 0,
      "outputs": []
    },
    {
      "cell_type": "code",
      "metadata": {
        "id": "ZOtbMTcsET7H",
        "colab_type": "code",
        "colab": {}
      },
      "source": [
        "df1.drop(['SepalWidthCm','PetalWidthCm','Species'],axis=1,inplace=True)"
      ],
      "execution_count": 0,
      "outputs": []
    },
    {
      "cell_type": "code",
      "metadata": {
        "id": "9d8Q8eSVEvAa",
        "colab_type": "code",
        "colab": {}
      },
      "source": [
        "X1=[]\n",
        "X1=df1.values.tolist()"
      ],
      "execution_count": 0,
      "outputs": []
    },
    {
      "cell_type": "code",
      "metadata": {
        "id": "bWMWJWMYFfL2",
        "colab_type": "code",
        "colab": {}
      },
      "source": [
        "X1,y1=shuffle(X1,y1)\n",
        "X_train1=[]\n",
        "X_test1=[]\n",
        "y_train1=[]\n",
        "y_test1=[]\n",
        "X_train1,X_test1,y_train1,y_test1=train_test_split(X1,y1,train_size=0.9)"
      ],
      "execution_count": 0,
      "outputs": []
    },
    {
      "cell_type": "code",
      "metadata": {
        "id": "9lDGkCciHqFG",
        "colab_type": "code",
        "colab": {}
      },
      "source": [
        "X_train1=np.array(X_train1)\n",
        "X_test1=np.array(X_test1)\n",
        "y_train1=np.array(y_train1)\n",
        "y_test1=np.array(y_test1)"
      ],
      "execution_count": 0,
      "outputs": []
    },
    {
      "cell_type": "code",
      "metadata": {
        "id": "DAlvJCmjHGWO",
        "colab_type": "code",
        "colab": {}
      },
      "source": [
        "y_train1=y_train1.reshape(90,1)\n",
        "y_test1=y_test1.reshape(10,1)"
      ],
      "execution_count": 0,
      "outputs": []
    },
    {
      "cell_type": "code",
      "metadata": {
        "id": "59pqKfvrGML8",
        "colab_type": "code",
        "colab": {}
      },
      "source": [
        "w2=np.zeros((2,1))"
      ],
      "execution_count": 0,
      "outputs": []
    },
    {
      "cell_type": "code",
      "metadata": {
        "id": "FLwuWyNwGdRG",
        "colab_type": "code",
        "colab": {}
      },
      "source": [
        "w2=train(X_train1,w2,y_train1)"
      ],
      "execution_count": 0,
      "outputs": []
    },
    {
      "cell_type": "code",
      "metadata": {
        "id": "kGht9BVpOe6B",
        "colab_type": "code",
        "colab": {
          "base_uri": "https://localhost:8080/",
          "height": 52
        },
        "outputId": "c450ff68-3414-43ee-a8a9-7eab4739910f"
      },
      "source": [
        "w2"
      ],
      "execution_count": 527,
      "outputs": [
        {
          "output_type": "execute_result",
          "data": {
            "text/plain": [
              "array([[-3.21563737],\n",
              "       [ 4.10971652]])"
            ]
          },
          "metadata": {
            "tags": []
          },
          "execution_count": 527
        }
      ]
    },
    {
      "cell_type": "code",
      "metadata": {
        "id": "EOgzH7ToJQfF",
        "colab_type": "code",
        "colab": {
          "base_uri": "https://localhost:8080/",
          "height": 193
        },
        "outputId": "1b817c68-9fa0-4fea-9f63-d293129a6149"
      },
      "source": [
        "np.matmul(X_test1,w2)"
      ],
      "execution_count": 528,
      "outputs": [
        {
          "output_type": "execute_result",
          "data": {
            "text/plain": [
              "array([[ 0.6837668 ],\n",
              "       [ 2.75589713],\n",
              "       [-2.19455857],\n",
              "       [ 2.43433339],\n",
              "       [-1.24713942],\n",
              "       [-1.06832359],\n",
              "       [-3.17652184],\n",
              "       [-3.1937939 ],\n",
              "       [-1.694179  ],\n",
              "       [-1.97967481]])"
            ]
          },
          "metadata": {
            "tags": []
          },
          "execution_count": 528
        }
      ]
    },
    {
      "cell_type": "code",
      "metadata": {
        "id": "12EhNhBDJXEi",
        "colab_type": "code",
        "colab": {
          "base_uri": "https://localhost:8080/",
          "height": 193
        },
        "outputId": "30a83893-4c82-44c2-abdd-5d3c76e6308b"
      },
      "source": [
        "y_test1"
      ],
      "execution_count": 529,
      "outputs": [
        {
          "output_type": "execute_result",
          "data": {
            "text/plain": [
              "array([[ 1],\n",
              "       [ 1],\n",
              "       [-1],\n",
              "       [ 1],\n",
              "       [-1],\n",
              "       [-1],\n",
              "       [-1],\n",
              "       [-1],\n",
              "       [-1],\n",
              "       [-1]])"
            ]
          },
          "metadata": {
            "tags": []
          },
          "execution_count": 529
        }
      ]
    },
    {
      "cell_type": "markdown",
      "metadata": {
        "id": "zBEeNRSJWVT_",
        "colab_type": "text"
      },
      "source": [
        "**Now classify the whole data.**"
      ]
    },
    {
      "cell_type": "code",
      "metadata": {
        "id": "iASqoOeWWxxV",
        "colab_type": "code",
        "colab": {}
      },
      "source": [
        "X_final=np.array(X_original)\n",
        "Y_final=np.array(y_original).reshape(150,1)"
      ],
      "execution_count": 0,
      "outputs": []
    },
    {
      "cell_type": "code",
      "metadata": {
        "id": "rQ6T4PWIXKGE",
        "colab_type": "code",
        "colab": {}
      },
      "source": [
        "fin1=np.matmul(X_final,w1)"
      ],
      "execution_count": 0,
      "outputs": []
    },
    {
      "cell_type": "code",
      "metadata": {
        "id": "kpY-qMoPXYyK",
        "colab_type": "code",
        "colab": {}
      },
      "source": [
        "X_final[np.where(fin1<-1)[0]]=0"
      ],
      "execution_count": 0,
      "outputs": []
    },
    {
      "cell_type": "code",
      "metadata": {
        "id": "AnRXUu1BiMo3",
        "colab_type": "code",
        "colab": {
          "base_uri": "https://localhost:8080/",
          "height": 1000
        },
        "outputId": "24fd89af-155c-4a3d-f3c3-45032f5f6e2c"
      },
      "source": [
        "np.matmul(X_final,w2)"
      ],
      "execution_count": 530,
      "outputs": [
        {
          "output_type": "execute_result",
          "data": {
            "text/plain": [
              "array([[ 0.        ],\n",
              "       [ 0.        ],\n",
              "       [ 0.        ],\n",
              "       [ 0.        ],\n",
              "       [ 0.        ],\n",
              "       [ 0.        ],\n",
              "       [ 0.        ],\n",
              "       [ 0.        ],\n",
              "       [ 0.        ],\n",
              "       [ 0.        ],\n",
              "       [ 0.        ],\n",
              "       [ 0.        ],\n",
              "       [ 0.        ],\n",
              "       [ 0.        ],\n",
              "       [ 0.        ],\n",
              "       [ 0.        ],\n",
              "       [ 0.        ],\n",
              "       [ 0.        ],\n",
              "       [ 0.        ],\n",
              "       [ 0.        ],\n",
              "       [ 0.        ],\n",
              "       [ 0.        ],\n",
              "       [ 0.        ],\n",
              "       [ 0.        ],\n",
              "       [ 0.        ],\n",
              "       [ 0.        ],\n",
              "       [ 0.        ],\n",
              "       [ 0.        ],\n",
              "       [ 0.        ],\n",
              "       [ 0.        ],\n",
              "       [ 0.        ],\n",
              "       [ 0.        ],\n",
              "       [ 0.        ],\n",
              "       [ 0.        ],\n",
              "       [ 0.        ],\n",
              "       [ 0.        ],\n",
              "       [ 0.        ],\n",
              "       [ 0.        ],\n",
              "       [ 0.        ],\n",
              "       [ 0.        ],\n",
              "       [ 0.        ],\n",
              "       [ 0.        ],\n",
              "       [ 0.        ],\n",
              "       [ 0.        ],\n",
              "       [ 0.        ],\n",
              "       [ 0.        ],\n",
              "       [ 0.        ],\n",
              "       [ 0.        ],\n",
              "       [ 0.        ],\n",
              "       [ 0.        ],\n",
              "       [-3.1937939 ],\n",
              "       [-2.08635479],\n",
              "       [-2.05028686],\n",
              "       [-1.24713942],\n",
              "       [-1.99694687],\n",
              "       [ 0.16459137],\n",
              "       [-0.94284775],\n",
              "       [-2.19455857],\n",
              "       [-2.31851061],\n",
              "       [-0.69341986],\n",
              "       [-1.694179  ],\n",
              "       [-1.71145106],\n",
              "       [-2.8549581 ],\n",
              "       [-0.29972027],\n",
              "       [-3.21258977],\n",
              "       [-3.46201765],\n",
              "       [ 0.48615511],\n",
              "       [-1.80085898],\n",
              "       [-1.44322731],\n",
              "       [-1.97967481],\n",
              "       [ 0.75437885],\n",
              "       [-3.17652184],\n",
              "       [-0.12090444],\n",
              "       [-0.29972027],\n",
              "       [-2.90829809],\n",
              "       [-3.14045391],\n",
              "       [-2.13969478],\n",
              "       [-0.99618774],\n",
              "       [-0.80009984],\n",
              "       [-3.94512516],\n",
              "       [-2.06908272],\n",
              "       [-2.48005438],\n",
              "       [-2.62280228],\n",
              "       [ 1.66573007],\n",
              "       [ 1.12928258],\n",
              "       [-0.80009984],\n",
              "       [-2.22910269],\n",
              "       [-2.1757627 ],\n",
              "       [-1.1577315 ],\n",
              "       [-1.24713942],\n",
              "       [ 0.39674719],\n",
              "       [-0.71069192],\n",
              "       [-2.21183063],\n",
              "       [-2.5161223 ],\n",
              "       [-0.74675985],\n",
              "       [-1.06832359],\n",
              "       [-1.06832359],\n",
              "       [-2.26517062],\n",
              "       [-4.070601  ],\n",
              "       [-1.47929524],\n",
              "       [ 4.39978374],\n",
              "       [ 2.30885755],\n",
              "       [ 1.41630219],\n",
              "       [ 2.75589713],\n",
              "       [ 2.93471296],\n",
              "       [ 2.68528507],\n",
              "       [ 2.73710126],\n",
              "       [ 2.41706133],\n",
              "       [ 2.29158548],\n",
              "       [ 1.91668176],\n",
              "       [ 0.05791139],\n",
              "       [ 1.20141843],\n",
              "       [ 0.73710679],\n",
              "       [ 2.21944963],\n",
              "       [ 2.30885755],\n",
              "       [ 1.20141843],\n",
              "       [ 1.701798  ],\n",
              "       [ 2.77469299],\n",
              "       [ 3.59663629],\n",
              "       [ 1.25475842],\n",
              "       [ 1.23748636],\n",
              "       [ 2.13004172],\n",
              "       [ 2.77469299],\n",
              "       [-0.12090444],\n",
              "       [ 1.88061383],\n",
              "       [ 1.50571011],\n",
              "       [-0.21031236],\n",
              "       [ 0.52222303],\n",
              "       [ 2.43433339],\n",
              "       [ 0.6837668 ],\n",
              "       [ 1.27355429],\n",
              "       [ 0.89865056],\n",
              "       [ 2.43433339],\n",
              "       [ 0.70103886],\n",
              "       [ 3.3990246 ],\n",
              "       [ 0.30886308],\n",
              "       [ 2.75589713],\n",
              "       [ 2.02336174],\n",
              "       [ 0.43281512],\n",
              "       [ 0.0045714 ],\n",
              "       [ 1.46964218],\n",
              "       [-1.22834356],\n",
              "       [ 2.30885755],\n",
              "       [ 2.3809934 ],\n",
              "       [ 1.88061383],\n",
              "       [-0.17424443],\n",
              "       [ 0.29006721],\n",
              "       [ 0.46888304],\n",
              "       [ 2.25551756],\n",
              "       [ 1.98729381]])"
            ]
          },
          "metadata": {
            "tags": []
          },
          "execution_count": 530
        }
      ]
    },
    {
      "cell_type": "markdown",
      "metadata": {
        "id": "8YZaNC7Vntwu",
        "colab_type": "text"
      },
      "source": [
        "**Classify the Kaggle test data.**"
      ]
    },
    {
      "cell_type": "code",
      "metadata": {
        "id": "WVTl1uDpkOVV",
        "colab_type": "code",
        "colab": {}
      },
      "source": [
        "kg=pd.read_csv('/content/testing.csv')"
      ],
      "execution_count": 0,
      "outputs": []
    },
    {
      "cell_type": "code",
      "metadata": {
        "id": "jISlElJSlDyj",
        "colab_type": "code",
        "colab": {}
      },
      "source": [
        "kg.drop(['sepal_width','petal_width'],axis=1,inplace=True)"
      ],
      "execution_count": 0,
      "outputs": []
    },
    {
      "cell_type": "code",
      "metadata": {
        "id": "axskhXUblcu8",
        "colab_type": "code",
        "colab": {}
      },
      "source": [
        "X_kg=[]\n",
        "X_kg=np.array(kg.values.tolist())"
      ],
      "execution_count": 0,
      "outputs": []
    },
    {
      "cell_type": "code",
      "metadata": {
        "id": "mO6aGyLQlxTh",
        "colab_type": "code",
        "colab": {}
      },
      "source": [
        "kg_res=np.matmul(X_kg,w1)"
      ],
      "execution_count": 0,
      "outputs": []
    },
    {
      "cell_type": "code",
      "metadata": {
        "id": "R7Od3wfdmJjq",
        "colab_type": "code",
        "colab": {}
      },
      "source": [
        "X_kg[np.where(kg_res<-1)[0]]=0"
      ],
      "execution_count": 0,
      "outputs": []
    },
    {
      "cell_type": "code",
      "metadata": {
        "id": "SLUcPzAzmZig",
        "colab_type": "code",
        "colab": {}
      },
      "source": [
        "kg_res=np.matmul(X_kg,w2)"
      ],
      "execution_count": 0,
      "outputs": []
    },
    {
      "cell_type": "code",
      "metadata": {
        "id": "i6KBGr0nneaq",
        "colab_type": "code",
        "colab": {}
      },
      "source": [
        "kg_res"
      ],
      "execution_count": 0,
      "outputs": []
    },
    {
      "cell_type": "code",
      "metadata": {
        "id": "K8QDkLERo2-r",
        "colab_type": "code",
        "colab": {}
      },
      "source": [
        "sub=[]\n",
        "for a in kg_res:\n",
        "  if(a==0):\n",
        "    sub.append('Iris-setosa')\n",
        "  else:\n",
        "    if(a<=0):\n",
        "      sub.append('Iris-versicolor')\n",
        "    else:\n",
        "      sub.append('Iris-virginica')"
      ],
      "execution_count": 0,
      "outputs": []
    },
    {
      "cell_type": "code",
      "metadata": {
        "id": "OB053E1xp-hl",
        "colab_type": "code",
        "colab": {
          "base_uri": "https://localhost:8080/",
          "height": 1000
        },
        "outputId": "047de174-183f-44fa-d806-799f90912d04"
      },
      "source": [
        "sub"
      ],
      "execution_count": 533,
      "outputs": [
        {
          "output_type": "execute_result",
          "data": {
            "text/plain": [
              "['Iris-versicolor',\n",
              " 'Iris-setosa',\n",
              " 'Iris-versicolor',\n",
              " 'Iris-virginica',\n",
              " 'Iris-virginica',\n",
              " 'Iris-versicolor',\n",
              " 'Iris-virginica',\n",
              " 'Iris-setosa',\n",
              " 'Iris-setosa',\n",
              " 'Iris-virginica',\n",
              " 'Iris-virginica',\n",
              " 'Iris-virginica',\n",
              " 'Iris-virginica',\n",
              " 'Iris-versicolor',\n",
              " 'Iris-setosa',\n",
              " 'Iris-versicolor',\n",
              " 'Iris-versicolor',\n",
              " 'Iris-setosa',\n",
              " 'Iris-virginica',\n",
              " 'Iris-setosa',\n",
              " 'Iris-setosa',\n",
              " 'Iris-versicolor',\n",
              " 'Iris-setosa',\n",
              " 'Iris-versicolor',\n",
              " 'Iris-versicolor',\n",
              " 'Iris-setosa',\n",
              " 'Iris-setosa',\n",
              " 'Iris-virginica',\n",
              " 'Iris-virginica',\n",
              " 'Iris-setosa',\n",
              " 'Iris-virginica',\n",
              " 'Iris-versicolor',\n",
              " 'Iris-versicolor',\n",
              " 'Iris-virginica',\n",
              " 'Iris-setosa',\n",
              " 'Iris-virginica',\n",
              " 'Iris-setosa',\n",
              " 'Iris-versicolor',\n",
              " 'Iris-versicolor',\n",
              " 'Iris-setosa',\n",
              " 'Iris-versicolor',\n",
              " 'Iris-versicolor',\n",
              " 'Iris-versicolor',\n",
              " 'Iris-virginica',\n",
              " 'Iris-setosa',\n",
              " 'Iris-versicolor',\n",
              " 'Iris-versicolor',\n",
              " 'Iris-versicolor',\n",
              " 'Iris-setosa',\n",
              " 'Iris-setosa',\n",
              " 'Iris-versicolor',\n",
              " 'Iris-virginica',\n",
              " 'Iris-setosa',\n",
              " 'Iris-virginica',\n",
              " 'Iris-setosa',\n",
              " 'Iris-virginica',\n",
              " 'Iris-virginica',\n",
              " 'Iris-virginica',\n",
              " 'Iris-setosa',\n",
              " 'Iris-versicolor']"
            ]
          },
          "metadata": {
            "tags": []
          },
          "execution_count": 533
        }
      ]
    }
  ]
}