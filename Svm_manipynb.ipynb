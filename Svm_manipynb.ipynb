{
  "nbformat": 4,
  "nbformat_minor": 0,
  "metadata": {
    "colab": {
      "name": "Svm_manipynb",
      "provenance": [],
      "include_colab_link": true
    },
    "kernelspec": {
      "name": "python3",
      "display_name": "Python 3"
    }
  },
  "cells": [
    {
      "cell_type": "markdown",
      "metadata": {
        "id": "view-in-github",
        "colab_type": "text"
      },
      "source": [
        "<a href=\"https://colab.research.google.com/github/venkat2ram/Python/blob/master/Svm_manipynb.ipynb\" target=\"_parent\"><img src=\"https://colab.research.google.com/assets/colab-badge.svg\" alt=\"Open In Colab\"/></a>"
      ]
    },
    {
      "cell_type": "code",
      "metadata": {
        "id": "zcV8k1Ts7NOI",
        "colab_type": "code",
        "colab": {}
      },
      "source": [
        "import pandas as pd\n",
        "import numpy as np\n",
        "from matplotlib import pyplot as plt\n"
      ],
      "execution_count": 0,
      "outputs": []
    },
    {
      "cell_type": "markdown",
      "metadata": {
        "id": "dHi2aIfaSiYI",
        "colab_type": "text"
      },
      "source": [
        "Import dataset and drop one classifier data to make it binary classifier."
      ]
    },
    {
      "cell_type": "code",
      "metadata": {
        "id": "4eXv1s-h8AKs",
        "colab_type": "code",
        "colab": {}
      },
      "source": [
        "df=pd.read_csv('/content/Iris.csv')\n",
        "df=df.drop(['Id'],axis=1)\n",
        "target=df['Species']\n",
        "s=set()\n",
        "for val in target:\n",
        "  s.add(val)\n",
        "s=list(s)\n",
        "rows=list(range(100,150))\n",
        "df=df.drop(df.index[rows])"
      ],
      "execution_count": 0,
      "outputs": []
    },
    {
      "cell_type": "markdown",
      "metadata": {
        "id": "1eBVEiWIStj4",
        "colab_type": "text"
      },
      "source": [
        "Plot the data using only two features. x and y in below code are only for plot purpose. "
      ]
    },
    {
      "cell_type": "code",
      "metadata": {
        "id": "X13FS_UKLlpE",
        "colab_type": "code",
        "colab": {
          "base_uri": "https://localhost:8080/",
          "height": 282
        },
        "outputId": "a9994c6b-ed78-4290-f0af-1f8f28bdbb3e"
      },
      "source": [
        "x=df['SepalLengthCm']\n",
        "y=df['PetalLengthCm']\n",
        "setosa_x=x[:50]\n",
        "setosa_y=y[:50]\n",
        "versicolor_x=x[50:]\n",
        "versicolor_y=y[50:]\n",
        "plt.scatter( setosa_x,setosa_y,marker='+',color='green')\n",
        "plt.scatter(versicolor_x,versicolor_y,marker='_',color='red')\n"
      ],
      "execution_count": 28,
      "outputs": [
        {
          "output_type": "execute_result",
          "data": {
            "text/plain": [
              "<matplotlib.collections.PathCollection at 0x7faa328f19e8>"
            ]
          },
          "metadata": {
            "tags": []
          },
          "execution_count": 28
        },
        {
          "output_type": "display_data",
          "data": {
            "image/png": "[encoded data removed]",
            "text/plain": [
              "<Figure size 432x288 with 1 Axes>"
            ]
          },
          "metadata": {
            "tags": []
          }
        }
      ]
    },
    {
      "cell_type": "markdown",
      "metadata": {
        "id": "FPfIjK5dTI7D",
        "colab_type": "text"
      },
      "source": [
        "Now shuffle the data set and split it into train and test set. Then convert these sets as numpy arrays."
      ]
    },
    {
      "cell_type": "code",
      "metadata": {
        "id": "SQvMloYWTVU1",
        "colab_type": "code",
        "colab": {}
      },
      "source": [
        "df=df.drop(['SepalWidthCm','PetalWidthCm'],axis=1)"
      ],
      "execution_count": 0,
      "outputs": []
    },
    {
      "cell_type": "code",
      "metadata": {
        "id": "Jy_ypfoeT74W",
        "colab_type": "code",
        "colab": {}
      },
      "source": [
        "target=df['Species']\n",
        "y=[]\n",
        "for val in target:\n",
        "  if val=='Iris-setosa':\n",
        "    y.append(-1)\n",
        "  else:\n",
        "    y.append(1)\n",
        "\n"
      ],
      "execution_count": 0,
      "outputs": []
    },
    {
      "cell_type": "code",
      "metadata": {
        "id": "n6lgFu6lVLUj",
        "colab_type": "code",
        "colab": {}
      },
      "source": [
        "df=df.drop(['Species'],axis=1)"
      ],
      "execution_count": 0,
      "outputs": []
    },
    {
      "cell_type": "code",
      "metadata": {
        "id": "8nmCtGxsUj0w",
        "colab_type": "code",
        "colab": {}
      },
      "source": [
        "X=[]\n",
        "X=df.values.tolist()"
      ],
      "execution_count": 0,
      "outputs": []
    },
    {
      "cell_type": "code",
      "metadata": {
        "id": "33MUVqCtVu1T",
        "colab_type": "code",
        "colab": {}
      },
      "source": [
        "from sklearn.utils import shuffle\n",
        "from sklearn.model_selection import train_test_split"
      ],
      "execution_count": 0,
      "outputs": []
    },
    {
      "cell_type": "code",
      "metadata": {
        "id": "-qgQadHfWDgX",
        "colab_type": "code",
        "colab": {}
      },
      "source": [
        "X,y=shuffle(X,y)\n",
        "X_train,X_test,y_train,y_test=train_test_split(X,y,train_size=0.9)"
      ],
      "execution_count": 0,
      "outputs": []
    },
    {
      "cell_type": "code",
      "metadata": {
        "id": "JIFgD1PkXOnA",
        "colab_type": "code",
        "colab": {
          "base_uri": "https://localhost:8080/",
          "height": 214
        },
        "outputId": "4c03412b-8474-4640-81f8-308207c31a6e"
      },
      "source": [
        "X_train=np.ndarray(X_train)\n",
        "X_test=np.ndarray(X_test)\n",
        "Y_train=np.ndarray(y_train)\n",
        "y_test=np.ndarray(y_test)"
      ],
      "execution_count": 67,
      "outputs": [
        {
          "output_type": "error",
          "ename": "ValueError",
          "evalue": "ignored",
          "traceback": [
            "\u001b[0;31m---------------------------------------------------------------------------\u001b[0m",
            "\u001b[0;31mValueError\u001b[0m                                Traceback (most recent call last)",
            "\u001b[0;32m<ipython-input-67-d77cd0cbe8cb>\u001b[0m in \u001b[0;36m<module>\u001b[0;34m()\u001b[0m\n\u001b[0;32m----> 1\u001b[0;31m \u001b[0mX_train\u001b[0m\u001b[0;34m=\u001b[0m\u001b[0mnp\u001b[0m\u001b[0;34m.\u001b[0m\u001b[0mndarray\u001b[0m\u001b[0;34m(\u001b[0m\u001b[0mX_train\u001b[0m\u001b[0;34m)\u001b[0m\u001b[0;34m\u001b[0m\u001b[0;34m\u001b[0m\u001b[0m\n\u001b[0m\u001b[1;32m      2\u001b[0m \u001b[0mX_test\u001b[0m\u001b[0;34m=\u001b[0m\u001b[0mnp\u001b[0m\u001b[0;34m.\u001b[0m\u001b[0mndarray\u001b[0m\u001b[0;34m(\u001b[0m\u001b[0mX_test\u001b[0m\u001b[0;34m)\u001b[0m\u001b[0;34m\u001b[0m\u001b[0;34m\u001b[0m\u001b[0m\n\u001b[1;32m      3\u001b[0m \u001b[0mY_train\u001b[0m\u001b[0;34m=\u001b[0m\u001b[0mnp\u001b[0m\u001b[0;34m.\u001b[0m\u001b[0mndarray\u001b[0m\u001b[0;34m(\u001b[0m\u001b[0my_train\u001b[0m\u001b[0;34m)\u001b[0m\u001b[0;34m\u001b[0m\u001b[0;34m\u001b[0m\u001b[0m\n\u001b[1;32m      4\u001b[0m \u001b[0my_test\u001b[0m\u001b[0;34m=\u001b[0m\u001b[0mnp\u001b[0m\u001b[0;34m.\u001b[0m\u001b[0mndarray\u001b[0m\u001b[0;34m(\u001b[0m\u001b[0my_test\u001b[0m\u001b[0;34m)\u001b[0m\u001b[0;34m\u001b[0m\u001b[0;34m\u001b[0m\u001b[0m\n",
            "\u001b[0;31mValueError\u001b[0m: maximum supported dimension for an ndarray is 32, found 90"
          ]
        }
      ]
    },
    {
      "cell_type": "code",
      "metadata": {
        "id": "6D1hQMrTYBfX",
        "colab_type": "code",
        "colab": {}
      },
      "source": [
        ""
      ],
      "execution_count": 0,
      "outputs": []
    }
  ]
}