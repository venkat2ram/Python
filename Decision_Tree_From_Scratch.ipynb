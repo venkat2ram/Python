{
  "nbformat": 4,
  "nbformat_minor": 0,
  "metadata": {
    "colab": {
      "name": "Decision_Tree_From_Scratch.ipynb",
      "provenance": [],
      "collapsed_sections": [],
      "include_colab_link": true
    },
    "kernelspec": {
      "name": "python3",
      "display_name": "Python 3"
    }
  },
  "cells": [
    {
      "cell_type": "markdown",
      "metadata": {
        "id": "view-in-github",
        "colab_type": "text"
      },
      "source": [
        "<a href=\"https://colab.research.google.com/github/venkat2ram/Python/blob/master/Decision_Tree_From_Scratch.ipynb\" target=\"_parent\"><img src=\"https://colab.research.google.com/assets/colab-badge.svg\" alt=\"Open In Colab\"/></a>"
      ]
    },
    {
      "cell_type": "code",
      "metadata": {
        "id": "8O3Fh4UR8bYP",
        "colab_type": "code",
        "colab": {}
      },
      "source": [
        "groups=[[[1,1],[1,0]],[[1,1],[1,0]]]\n",
        "classes=[0,1]"
      ],
      "execution_count": 0,
      "outputs": []
    },
    {
      "cell_type": "markdown",
      "metadata": {
        "id": "dOE7Wsio6QzL",
        "colab_type": "text"
      },
      "source": [
        "**Calculating Gini index:**"
      ]
    },
    {
      "cell_type": "code",
      "metadata": {
        "id": "WPAntvqG9Cry",
        "colab_type": "code",
        "colab": {}
      },
      "source": [
        "def gini_index(groups,classes):\n",
        "  n_instances=sum(len(group) for group in groups)\n",
        "  gini=0.0\n",
        "  for group in groups:\n",
        "    size=len(group)\n",
        "    if size==0:\n",
        "      continue\n",
        "    score=0.0\n",
        "    for class_val in classes:\n",
        "      p=[row[-1] for row in group].count(class_val)/size\n",
        "      score+=p**2\n",
        "    gini+=(1-score)*(size/n_instances)\n",
        "  return gini"
      ],
      "execution_count": 0,
      "outputs": []
    },
    {
      "cell_type": "markdown",
      "metadata": {
        "id": "tphfdohg6Xfc",
        "colab_type": "text"
      },
      "source": [
        "Splitting the data into left and right data sets."
      ]
    },
    {
      "cell_type": "code",
      "metadata": {
        "id": "LEXJ3yVP6XE1",
        "colab_type": "code",
        "colab": {}
      },
      "source": [
        "def test_split(index,value,dataset):\n",
        "  right,left=list(),list()\n",
        "  for row in dataset:\n",
        "    if row[index]<value:\n",
        "      left.append(row)\n",
        "    else:\n",
        "      right.append(row)\n",
        "  return left,right\n"
      ],
      "execution_count": 0,
      "outputs": []
    },
    {
      "cell_type": "markdown",
      "metadata": {
        "id": "wpFHies08Dsz",
        "colab_type": "text"
      },
      "source": [
        "Now write a function which takes a dataset, loops through it and returns conditions based on which the dataset to be split and their gini values."
      ]
    },
    {
      "cell_type": "code",
      "metadata": {
        "id": "WiBwvCoKXfxD",
        "colab_type": "code",
        "outputId": "3f48f2fa-7f0a-4e03-da74-0d469e4fd650",
        "colab": {
          "base_uri": "https://localhost:8080/",
          "height": 34
        }
      },
      "source": [
        "gini_index(groups,classes)"
      ],
      "execution_count": 4,
      "outputs": [
        {
          "output_type": "execute_result",
          "data": {
            "text/plain": [
              "0.5"
            ]
          },
          "metadata": {
            "tags": []
          },
          "execution_count": 4
        }
      ]
    },
    {
      "cell_type": "code",
      "metadata": {
        "id": "kN5sw-acDdho",
        "colab_type": "code",
        "outputId": "5d465df3-531e-448d-b01f-b3e3219cc95b",
        "colab": {
          "base_uri": "https://localhost:8080/",
          "height": 34
        }
      },
      "source": [
        "group=[[1,0],[1,2]]\n",
        "[row[-1] for row in group].count(1)"
      ],
      "execution_count": 5,
      "outputs": [
        {
          "output_type": "execute_result",
          "data": {
            "text/plain": [
              "0"
            ]
          },
          "metadata": {
            "tags": []
          },
          "execution_count": 5
        }
      ]
    },
    {
      "cell_type": "code",
      "metadata": {
        "id": "fCsFIeMdLoy_",
        "colab_type": "code",
        "outputId": "3036bab7-7821-45f0-8588-72c489dbf8e9",
        "colab": {
          "base_uri": "https://localhost:8080/",
          "height": 34
        }
      },
      "source": [
        "len(group)"
      ],
      "execution_count": 0,
      "outputs": [
        {
          "output_type": "execute_result",
          "data": {
            "text/plain": [
              "2"
            ]
          },
          "metadata": {
            "tags": []
          },
          "execution_count": 20
        }
      ]
    }
  ]
}