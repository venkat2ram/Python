{
  "nbformat": 4,
  "nbformat_minor": 0,
  "metadata": {
    "colab": {
      "name": "Decision_Tree_From_Scratch.ipynb",
      "provenance": [],
      "collapsed_sections": [],
      "include_colab_link": true
    },
    "kernelspec": {
      "name": "python3",
      "display_name": "Python 3"
    }
  },
  "cells": [
    {
      "cell_type": "markdown",
      "metadata": {
        "id": "view-in-github",
        "colab_type": "text"
      },
      "source": [
        "<a href=\"https://colab.research.google.com/github/venkat2ram/Python/blob/master/Decision_Tree_From_Scratch.ipynb\" target=\"_parent\"><img src=\"https://colab.research.google.com/assets/colab-badge.svg\" alt=\"Open In Colab\"/></a>"
      ]
    },
    {
      "cell_type": "code",
      "metadata": {
        "id": "8O3Fh4UR8bYP",
        "colab_type": "code",
        "colab": {}
      },
      "source": [
        "groups=[[[1,1],[1,0]],[[1,1],[1,0]]]\n",
        "classes=[0,1]"
      ],
      "execution_count": 0,
      "outputs": []
    },
    {
      "cell_type": "markdown",
      "metadata": {
        "id": "dOE7Wsio6QzL",
        "colab_type": "text"
      },
      "source": [
        "**Calculating Gini index:**"
      ]
    },
    {
      "cell_type": "code",
      "metadata": {
        "id": "WPAntvqG9Cry",
        "colab_type": "code",
        "colab": {}
      },
      "source": [
        "def gini_index(groups,classes):\n",
        "  n_instances=sum(len(group) for group in groups)\n",
        "  gini=0.0\n",
        "  for group in groups:\n",
        "    size=len(group)\n",
        "    if size==0:\n",
        "      continue\n",
        "    score=0.0\n",
        "    for class_val in classes:\n",
        "      p=[row[-1] for row in group].count(class_val)/size\n",
        "      score+=p**2\n",
        "    gini+=(1-score)*(size/n_instances)\n",
        "  return gini"
      ],
      "execution_count": 0,
      "outputs": []
    },
    {
      "cell_type": "markdown",
      "metadata": {
        "id": "tphfdohg6Xfc",
        "colab_type": "text"
      },
      "source": [
        "Splitting the data into left and right data sets."
      ]
    },
    {
      "cell_type": "code",
      "metadata": {
        "id": "LEXJ3yVP6XE1",
        "colab_type": "code",
        "colab": {}
      },
      "source": [
        "def test_split(index,value,dataset):\n",
        "  right,left=list(),list()\n",
        "  for row in dataset:\n",
        "    if row[index]<value:\n",
        "      left.append(row)\n",
        "    else:\n",
        "      right.append(row)\n",
        "  return left,right\n"
      ],
      "execution_count": 0,
      "outputs": []
    },
    {
      "cell_type": "markdown",
      "metadata": {
        "id": "wpFHies08Dsz",
        "colab_type": "text"
      },
      "source": [
        "Now write a function which takes a dataset, loops through it and returns conditions based on which the dataset to be split and their gini values."
      ]
    },
    {
      "cell_type": "code",
      "metadata": {
        "id": "C_zN3EWr8e2X",
        "colab_type": "code",
        "colab": {}
      },
      "source": [
        "def get_split(dataset):\n",
        "  class_values=list(set(row[-1] for row in dataset ))\n",
        "  b_index,b_value,b_score,b_groups=999,999,999,None\n",
        "  for index in range(len(dataset[0])-1):\n",
        "    for row in dataset:\n",
        "      groups=test_split(index,row[index],dataset)\n",
        "      gini=gini_index(groups,class_values)\n",
        "      print(index,row[index],gini )\n",
        "      if b_score>gini:\n",
        "        b_index,b_value,b_score,b_groups=index,row[index],gini,groups\n",
        "  return {'index':b_index,'value':b_value,'groups':b_groups}\n"
      ],
      "execution_count": 0,
      "outputs": []
    },
    {
      "cell_type": "markdown",
      "metadata": {
        "id": "gsLHgsNzgeFx",
        "colab_type": "text"
      },
      "source": [
        "**Create a function to build a terminal node.**\n"
      ]
    },
    {
      "cell_type": "code",
      "metadata": {
        "id": "kbLXCxBrgnpo",
        "colab_type": "code",
        "colab": {}
      },
      "source": [
        "def terminal_node(group):\n",
        "  outcomes=[row[-1] for row in group]\n",
        "  return max(set(outcomes), key=outcomes.count)"
      ],
      "execution_count": 0,
      "outputs": []
    },
    {
      "cell_type": "markdown",
      "metadata": {
        "id": "BAT8wS8Zmnrj",
        "colab_type": "text"
      },
      "source": [
        "**Now recursively split whole dataset into nodes and terminals**"
      ]
    },
    {
      "cell_type": "code",
      "metadata": {
        "id": "mIQZsgpcmt-L",
        "colab_type": "code",
        "colab": {}
      },
      "source": [
        "def split(node,max_depth,min_size,depth):\n",
        "  left,right=node['groups']\n",
        "  del(node['groups'])\n",
        "  if not left or not right:\n",
        "    node['left']=node['right']=terminal_node(left+right)\n",
        "    return\n",
        "  if depth>=max_depth:\n",
        "    node['left'],node['right']=terminal_node(left),terminal_node(right)\n",
        "    return\n",
        "  if len(left)<=min_size:\n",
        "    node['left']=terminal_node(left)\n",
        "  else:\n",
        "    node['left']=get_split(left)\n",
        "    split(node['left'],max_depth,min_size,depth+1)\n",
        "  if len(right)<=min_size:\n",
        "    node['right']=terminal_node(right)\n",
        "    split(node['right'],max_depth,min_size,depth+1)\n"
      ],
      "execution_count": 0,
      "outputs": []
    },
    {
      "cell_type": "code",
      "metadata": {
        "id": "WiBwvCoKXfxD",
        "colab_type": "code",
        "outputId": "4a073c9a-7ce4-4d4f-aa7b-a126877bf005",
        "colab": {
          "base_uri": "https://localhost:8080/",
          "height": 353
        }
      },
      "source": [
        "dataset = [[2.771244718,1.784783929,0],\t[1.728571309,1.169761413,0],\t[3.678319846,2.81281357,0],\t[3.961043357,2.61995032,0],\t[2.999208922,2.209014212,0],\t[7.497545867,3.162953546,1],\t[9.00220326,3.339047188,1],\t[7.444542326,0.476683375,1],\t[10.12493903,3.234550982,1],\t[6.642287351,3.319983761,1]]\n",
        "a=get_split(dataset)"
      ],
      "execution_count": 7,
      "outputs": [
        {
          "output_type": "stream",
          "text": [
            "0 2.771244718 0.4444444444444444\n",
            "0 1.728571309 0.5\n",
            "0 3.678319846 0.2857142857142857\n",
            "0 3.961043357 0.1666666666666666\n",
            "0 2.999208922 0.375\n",
            "0 7.497545867 0.2857142857142857\n",
            "0 9.00220326 0.375\n",
            "0 7.444542326 0.1666666666666666\n",
            "0 10.12493903 0.4444444444444444\n",
            "0 6.642287351 0.0\n",
            "1 1.784783929 0.5\n",
            "1 1.169761413 0.4444444444444444\n",
            "1 2.81281357 0.31999999999999984\n",
            "1 2.61995032 0.4166666666666667\n",
            "1 2.209014212 0.4761904761904763\n",
            "1 3.162953546 0.1666666666666666\n",
            "1 3.339047188 0.4444444444444444\n",
            "1 0.476683375 0.5\n",
            "1 3.234550982 0.2857142857142857\n",
            "1 3.319983761 0.375\n"
          ],
          "name": "stdout"
        }
      ]
    },
    {
      "cell_type": "markdown",
      "metadata": {
        "id": "bPKMO3tTjiEJ",
        "colab_type": "text"
      },
      "source": [
        "Now build a tree."
      ]
    },
    {
      "cell_type": "code",
      "metadata": {
        "id": "-uRGBwkpGHX_",
        "colab_type": "code",
        "colab": {}
      },
      "source": [
        "def build_tree(train,max_depth,min_size):\n",
        "  root=get_split(train)\n",
        "  split(root,max_depth,min_size,1)\n",
        "  return root"
      ],
      "execution_count": 0,
      "outputs": []
    },
    {
      "cell_type": "markdown",
      "metadata": {
        "id": "sMj25a-qlG3Y",
        "colab_type": "text"
      },
      "source": [
        "Function to print tree."
      ]
    },
    {
      "cell_type": "code",
      "metadata": {
        "id": "kN5sw-acDdho",
        "colab_type": "code",
        "colab": {}
      },
      "source": [
        "def print_tree(node, depth=0):\n",
        "\tif isinstance(node, dict):\n",
        "\t\tprint('%s[X%d < %.3f]' % ((depth*' ', (node['index']+1), node['value'])))\n",
        "\t\tprint_tree(node['left'], depth+1)\n",
        "\t\tprint_tree(node['right'], depth+1)\n",
        "\telse:\n",
        "\t\tprint('%s[%s]' % ((depth*' ', node)))"
      ],
      "execution_count": 0,
      "outputs": []
    },
    {
      "cell_type": "markdown",
      "metadata": {
        "id": "48jrHczclPkg",
        "colab_type": "text"
      },
      "source": [
        "Run the code ona dataset and print tree.\n"
      ]
    },
    {
      "cell_type": "code",
      "metadata": {
        "id": "x2rvDYNmlO_d",
        "colab_type": "code",
        "colab": {
          "base_uri": "https://localhost:8080/",
          "height": 884
        },
        "outputId": "99ad6b57-b5eb-4120-9f10-9a4456fb3a85"
      },
      "source": [
        "dataset = [[2.771244718,1.784783929,0],\n",
        "\t[1.728571309,1.169761413,0],\n",
        "\t[3.678319846,2.81281357,0],\n",
        "\t[3.961043357,2.61995032,0],\n",
        "\t[2.999208922,2.209014212,0],\n",
        "\t[7.497545867,3.162953546,1],\n",
        "\t[9.00220326,3.339047188,1],\n",
        "\t[7.444542326,0.476683375,1],\n",
        "\t[10.12493903,3.234550982,1],\n",
        "\t[6.642287351,3.319983761,1]]\n",
        "tree=build_tree(dataset,2,0)\n",
        "print_tree(tree)"
      ],
      "execution_count": 19,
      "outputs": [
        {
          "output_type": "stream",
          "text": [
            "0 2.771244718 0.4444444444444444\n",
            "0 1.728571309 0.5\n",
            "0 3.678319846 0.2857142857142857\n",
            "0 3.961043357 0.1666666666666666\n",
            "0 2.999208922 0.375\n",
            "0 7.497545867 0.2857142857142857\n",
            "0 9.00220326 0.375\n",
            "0 7.444542326 0.1666666666666666\n",
            "0 10.12493903 0.4444444444444444\n",
            "0 6.642287351 0.0\n",
            "1 1.784783929 0.5\n",
            "1 1.169761413 0.4444444444444444\n",
            "1 2.81281357 0.31999999999999984\n",
            "1 2.61995032 0.4166666666666667\n",
            "1 2.209014212 0.4761904761904763\n",
            "1 3.162953546 0.1666666666666666\n",
            "1 3.339047188 0.4444444444444444\n",
            "1 0.476683375 0.5\n",
            "1 3.234550982 0.2857142857142857\n",
            "1 3.319983761 0.375\n",
            "0 2.771244718 0.0\n",
            "0 1.728571309 0.0\n",
            "0 3.678319846 0.0\n",
            "0 3.961043357 0.0\n",
            "0 2.999208922 0.0\n",
            "1 1.784783929 0.0\n",
            "1 1.169761413 0.0\n",
            "1 2.81281357 0.0\n",
            "1 2.61995032 0.0\n",
            "1 2.209014212 0.0\n",
            "[X1 < 6.642]\n",
            " [X1 < 2.771]\n",
            "  [0]\n",
            "  [0]\n"
          ],
          "name": "stdout"
        },
        {
          "output_type": "error",
          "ename": "KeyError",
          "evalue": "ignored",
          "traceback": [
            "\u001b[0;31m---------------------------------------------------------------------------\u001b[0m",
            "\u001b[0;31mKeyError\u001b[0m                                  Traceback (most recent call last)",
            "\u001b[0;32m<ipython-input-19-a70781d2fb56>\u001b[0m in \u001b[0;36m<module>\u001b[0;34m()\u001b[0m\n\u001b[1;32m     10\u001b[0m \t[6.642287351,3.319983761,1]]\n\u001b[1;32m     11\u001b[0m \u001b[0mtree\u001b[0m\u001b[0;34m=\u001b[0m\u001b[0mbuild_tree\u001b[0m\u001b[0;34m(\u001b[0m\u001b[0mdataset\u001b[0m\u001b[0;34m,\u001b[0m\u001b[0;36m2\u001b[0m\u001b[0;34m,\u001b[0m\u001b[0;36m0\u001b[0m\u001b[0;34m)\u001b[0m\u001b[0;34m\u001b[0m\u001b[0;34m\u001b[0m\u001b[0m\n\u001b[0;32m---> 12\u001b[0;31m \u001b[0mprint_tree\u001b[0m\u001b[0;34m(\u001b[0m\u001b[0mtree\u001b[0m\u001b[0;34m)\u001b[0m\u001b[0;34m\u001b[0m\u001b[0;34m\u001b[0m\u001b[0m\n\u001b[0m",
            "\u001b[0;32m<ipython-input-13-ac39ab186f70>\u001b[0m in \u001b[0;36mprint_tree\u001b[0;34m(node, depth)\u001b[0m\n\u001b[1;32m      3\u001b[0m                 \u001b[0mprint\u001b[0m\u001b[0;34m(\u001b[0m\u001b[0;34m'%s[X%d < %.3f]'\u001b[0m \u001b[0;34m%\u001b[0m \u001b[0;34m(\u001b[0m\u001b[0;34m(\u001b[0m\u001b[0mdepth\u001b[0m\u001b[0;34m*\u001b[0m\u001b[0;34m' '\u001b[0m\u001b[0;34m,\u001b[0m \u001b[0;34m(\u001b[0m\u001b[0mnode\u001b[0m\u001b[0;34m[\u001b[0m\u001b[0;34m'index'\u001b[0m\u001b[0;34m]\u001b[0m\u001b[0;34m+\u001b[0m\u001b[0;36m1\u001b[0m\u001b[0;34m)\u001b[0m\u001b[0;34m,\u001b[0m \u001b[0mnode\u001b[0m\u001b[0;34m[\u001b[0m\u001b[0;34m'value'\u001b[0m\u001b[0;34m]\u001b[0m\u001b[0;34m)\u001b[0m\u001b[0;34m)\u001b[0m\u001b[0;34m)\u001b[0m\u001b[0;34m\u001b[0m\u001b[0;34m\u001b[0m\u001b[0m\n\u001b[1;32m      4\u001b[0m                 \u001b[0mprint_tree\u001b[0m\u001b[0;34m(\u001b[0m\u001b[0mnode\u001b[0m\u001b[0;34m[\u001b[0m\u001b[0;34m'left'\u001b[0m\u001b[0;34m]\u001b[0m\u001b[0;34m,\u001b[0m \u001b[0mdepth\u001b[0m\u001b[0;34m+\u001b[0m\u001b[0;36m1\u001b[0m\u001b[0;34m)\u001b[0m\u001b[0;34m\u001b[0m\u001b[0;34m\u001b[0m\u001b[0m\n\u001b[0;32m----> 5\u001b[0;31m                 \u001b[0mprint_tree\u001b[0m\u001b[0;34m(\u001b[0m\u001b[0mnode\u001b[0m\u001b[0;34m[\u001b[0m\u001b[0;34m'right'\u001b[0m\u001b[0;34m]\u001b[0m\u001b[0;34m,\u001b[0m \u001b[0mdepth\u001b[0m\u001b[0;34m+\u001b[0m\u001b[0;36m1\u001b[0m\u001b[0;34m)\u001b[0m\u001b[0;34m\u001b[0m\u001b[0;34m\u001b[0m\u001b[0m\n\u001b[0m\u001b[1;32m      6\u001b[0m         \u001b[0;32melse\u001b[0m\u001b[0;34m:\u001b[0m\u001b[0;34m\u001b[0m\u001b[0;34m\u001b[0m\u001b[0m\n\u001b[1;32m      7\u001b[0m                 \u001b[0mprint\u001b[0m\u001b[0;34m(\u001b[0m\u001b[0;34m'%s[%s]'\u001b[0m \u001b[0;34m%\u001b[0m \u001b[0;34m(\u001b[0m\u001b[0;34m(\u001b[0m\u001b[0mdepth\u001b[0m\u001b[0;34m*\u001b[0m\u001b[0;34m' '\u001b[0m\u001b[0;34m,\u001b[0m \u001b[0mnode\u001b[0m\u001b[0;34m)\u001b[0m\u001b[0;34m)\u001b[0m\u001b[0;34m)\u001b[0m\u001b[0;34m\u001b[0m\u001b[0;34m\u001b[0m\u001b[0m\n",
            "\u001b[0;31mKeyError\u001b[0m: 'right'"
          ]
        }
      ]
    },
    {
      "cell_type": "code",
      "metadata": {
        "id": "fCsFIeMdLoy_",
        "colab_type": "code",
        "colab": {}
      },
      "source": [
        "len(group)"
      ],
      "execution_count": 0,
      "outputs": []
    }
  ]
}