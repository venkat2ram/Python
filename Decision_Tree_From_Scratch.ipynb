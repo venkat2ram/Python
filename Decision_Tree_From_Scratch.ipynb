{
  "nbformat": 4,
  "nbformat_minor": 0,
  "metadata": {
    "colab": {
      "name": "Decision_Tree_From_Scratch.ipynb",
      "provenance": [],
      "collapsed_sections": [],
      "include_colab_link": true
    },
    "kernelspec": {
      "name": "python3",
      "display_name": "Python 3"
    }
  },
  "cells": [
    {
      "cell_type": "markdown",
      "metadata": {
        "id": "view-in-github",
        "colab_type": "text"
      },
      "source": [
        "<a href=\"https://colab.research.google.com/github/venkat2ram/Python/blob/master/Decision_Tree_From_Scratch.ipynb\" target=\"_parent\"><img src=\"https://colab.research.google.com/assets/colab-badge.svg\" alt=\"Open In Colab\"/></a>"
      ]
    },
    {
      "cell_type": "code",
      "metadata": {
        "id": "8O3Fh4UR8bYP",
        "colab_type": "code",
        "colab": {}
      },
      "source": [
        "groups=[[[1,1],[1,0]],[[1,1],[1,0]]]\n",
        "classes=[0,1]"
      ],
      "execution_count": 0,
      "outputs": []
    },
    {
      "cell_type": "markdown",
      "metadata": {
        "id": "dOE7Wsio6QzL",
        "colab_type": "text"
      },
      "source": [
        "**Calculating Gini index:**"
      ]
    },
    {
      "cell_type": "code",
      "metadata": {
        "id": "WPAntvqG9Cry",
        "colab_type": "code",
        "colab": {}
      },
      "source": [
        "def gini_index(groups,classes):\n",
        "  n_instances=sum(len(group) for group in groups)\n",
        "  gini=0.0\n",
        "  for group in groups:\n",
        "    size=len(group)\n",
        "    if size==0:\n",
        "      continue\n",
        "    score=0.0\n",
        "    for class_val in classes:\n",
        "      p=[row[-1] for row in group].count(class_val)/size\n",
        "      score+=p**2\n",
        "    gini+=(1-score)*(size/n_instances)\n",
        "  return gini"
      ],
      "execution_count": 0,
      "outputs": []
    },
    {
      "cell_type": "markdown",
      "metadata": {
        "id": "tphfdohg6Xfc",
        "colab_type": "text"
      },
      "source": [
        "Splitting the data into left and right data sets."
      ]
    },
    {
      "cell_type": "code",
      "metadata": {
        "id": "LEXJ3yVP6XE1",
        "colab_type": "code",
        "colab": {}
      },
      "source": [
        "def test_split(index,value,dataset):\n",
        "  right,left=list(),list()\n",
        "  for row in dataset:\n",
        "    if row[index]<value:\n",
        "      left.append(row)\n",
        "    else:\n",
        "      right.append(row)\n",
        "  return left,right\n"
      ],
      "execution_count": 0,
      "outputs": []
    },
    {
      "cell_type": "markdown",
      "metadata": {
        "id": "wpFHies08Dsz",
        "colab_type": "text"
      },
      "source": [
        "Now write a function which takes a dataset, loops through it and returns conditions based on which the dataset to be split and their gini values."
      ]
    },
    {
      "cell_type": "code",
      "metadata": {
        "id": "C_zN3EWr8e2X",
        "colab_type": "code",
        "colab": {}
      },
      "source": [
        "def get_split(dataset):\n",
        "  class_values=list(set(row[-1] for row in dataset ))\n",
        "  b_index,b_value,b_score,b_groups=999,999,999,None\n",
        "  for index in range(len(dataset[0])-1):\n",
        "    for row in dataset:\n",
        "      groups=test_split(index,row[index],dataset)\n",
        "      gini=gini_index(groups,class_values)\n",
        "      print(index,row[index],gini )\n",
        "      if b_score>gini:\n",
        "        b_index,b_value,b_score,b_groups=index,row[index],gini,groups\n",
        "  return {'index':b_index,'value':b_value,'groups':b_groups}\n"
      ],
      "execution_count": 0,
      "outputs": []
    },
    {
      "cell_type": "markdown",
      "metadata": {
        "id": "gsLHgsNzgeFx",
        "colab_type": "text"
      },
      "source": [
        "**Create a function to build a terminal node.**\n"
      ]
    },
    {
      "cell_type": "code",
      "metadata": {
        "id": "kbLXCxBrgnpo",
        "colab_type": "code",
        "colab": {}
      },
      "source": [
        "def terminal_node(group):\n",
        "  outcomes=[row[-1] for row in group]\n",
        "  return max(set(outcomes), key=outcomes.count)"
      ],
      "execution_count": 0,
      "outputs": []
    },
    {
      "cell_type": "markdown",
      "metadata": {
        "id": "BAT8wS8Zmnrj",
        "colab_type": "text"
      },
      "source": [
        "**Now recursively split whole dataset into nodes and terminals**"
      ]
    },
    {
      "cell_type": "code",
      "metadata": {
        "id": "mIQZsgpcmt-L",
        "colab_type": "code",
        "colab": {}
      },
      "source": [
        "def split(node,max_depth,min_size,depth):\n",
        "  left,right=node['groups']\n",
        "  del(node['groups'])\n",
        "  if not left or not right:\n",
        "    node['left']=node['right']=terminal_node(left+right)\n",
        "    return\n",
        "  if depth>=max_depth:\n",
        "    node['left'],node['right']=terminal_node(left),terminal_node(right)\n",
        "    return\n",
        "  if len(left)<=min_size:\n",
        "    node['left']=terminal_node(left)\n",
        "  else:\n",
        "    node['left']=get_split(left)\n",
        "    split(node['left'],max_depth,min_size,depth+1)\n",
        "  if len(right)<=min_size:\n",
        "    node['right']=terminal_node(right)\n",
        "    split(node['right'],max_depth,min_size,depth+1)\n"
      ],
      "execution_count": 0,
      "outputs": []
    },
    {
      "cell_type": "code",
      "metadata": {
        "id": "WiBwvCoKXfxD",
        "colab_type": "code",
        "outputId": "0407c9b6-10cc-4e7c-c222-b1dacdc1233c",
        "colab": {
          "base_uri": "https://localhost:8080/",
          "height": 353
        }
      },
      "source": [
        "dataset = [[2.771244718,1.784783929,0],\t[1.728571309,1.169761413,0],\t[3.678319846,2.81281357,0],\t[3.961043357,2.61995032,0],\t[2.999208922,2.209014212,0],\t[7.497545867,3.162953546,1],\t[9.00220326,3.339047188,1],\t[7.444542326,0.476683375,1],\t[10.12493903,3.234550982,1],\t[6.642287351,3.319983761,1]]\n",
        "a=get_split(dataset)"
      ],
      "execution_count": 60,
      "outputs": [
        {
          "output_type": "stream",
          "text": [
            "0 2.771244718 0.4444444444444444\n",
            "0 1.728571309 0.5\n",
            "0 3.678319846 0.2857142857142857\n",
            "0 3.961043357 0.1666666666666666\n",
            "0 2.999208922 0.375\n",
            "0 7.497545867 0.2857142857142857\n",
            "0 9.00220326 0.375\n",
            "0 7.444542326 0.1666666666666666\n",
            "0 10.12493903 0.4444444444444444\n",
            "0 6.642287351 0.0\n",
            "1 1.784783929 0.5\n",
            "1 1.169761413 0.4444444444444444\n",
            "1 2.81281357 0.31999999999999984\n",
            "1 2.61995032 0.4166666666666667\n",
            "1 2.209014212 0.4761904761904763\n",
            "1 3.162953546 0.1666666666666666\n",
            "1 3.339047188 0.4444444444444444\n",
            "1 0.476683375 0.5\n",
            "1 3.234550982 0.2857142857142857\n",
            "1 3.319983761 0.375\n"
          ],
          "name": "stdout"
        }
      ]
    },
    {
      "cell_type": "code",
      "metadata": {
        "id": "-uRGBwkpGHX_",
        "colab_type": "code",
        "colab": {
          "base_uri": "https://localhost:8080/",
          "height": 54
        },
        "outputId": "c435b92f-a88d-4fed-ef4a-9f15bca40557"
      },
      "source": [
        "print(a)"
      ],
      "execution_count": 35,
      "outputs": [
        {
          "output_type": "stream",
          "text": [
            "{'index': 0, 'value': 6.642287351, 'groups': ([[2.771244718, 1.784783929, 0], [1.728571309, 1.169761413, 0], [3.678319846, 2.81281357, 0], [3.961043357, 2.61995032, 0], [2.999208922, 2.209014212, 0]], [[7.497545867, 3.162953546, 1], [9.00220326, 3.339047188, 1], [7.444542326, 0.476683375, 1], [10.12493903, 3.234550982, 1], [6.642287351, 3.319983761, 1]])}\n"
          ],
          "name": "stdout"
        }
      ]
    },
    {
      "cell_type": "code",
      "metadata": {
        "id": "kN5sw-acDdho",
        "colab_type": "code",
        "outputId": "5d465df3-531e-448d-b01f-b3e3219cc95b",
        "colab": {
          "base_uri": "https://localhost:8080/",
          "height": 34
        }
      },
      "source": [
        "group=[[1,0],[1,2]]\n",
        "[row[-1] for row in group].count(1)"
      ],
      "execution_count": 5,
      "outputs": [
        {
          "output_type": "execute_result",
          "data": {
            "text/plain": [
              "0"
            ]
          },
          "metadata": {
            "tags": []
          },
          "execution_count": 5
        }
      ]
    },
    {
      "cell_type": "code",
      "metadata": {
        "id": "fCsFIeMdLoy_",
        "colab_type": "code",
        "outputId": "3036bab7-7821-45f0-8588-72c489dbf8e9",
        "colab": {
          "base_uri": "https://localhost:8080/",
          "height": 34
        }
      },
      "source": [
        "len(group)"
      ],
      "execution_count": 0,
      "outputs": [
        {
          "output_type": "execute_result",
          "data": {
            "text/plain": [
              "2"
            ]
          },
          "metadata": {
            "tags": []
          },
          "execution_count": 20
        }
      ]
    }
  ]
}