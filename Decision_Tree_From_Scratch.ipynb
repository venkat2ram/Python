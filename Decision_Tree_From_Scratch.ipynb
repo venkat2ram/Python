{
  "nbformat": 4,
  "nbformat_minor": 0,
  "metadata": {
    "colab": {
      "name": "Decision_Tree_From_Scratch.ipynb",
      "provenance": [],
      "collapsed_sections": [],
      "include_colab_link": true
    },
    "kernelspec": {
      "name": "python3",
      "display_name": "Python 3"
    }
  },
  "cells": [
    {
      "cell_type": "markdown",
      "metadata": {
        "id": "view-in-github",
        "colab_type": "text"
      },
      "source": [
        "<a href=\"https://colab.research.google.com/github/venkat2ram/Python/blob/master/Decision_Tree_From_Scratch.ipynb\" target=\"_parent\"><img src=\"https://colab.research.google.com/assets/colab-badge.svg\" alt=\"Open In Colab\"/></a>"
      ]
    },
    {
      "cell_type": "code",
      "metadata": {
        "id": "8O3Fh4UR8bYP",
        "colab_type": "code",
        "colab": {}
      },
      "source": [
        "groups=[[[1,1],[1,0]],[[1,1],[1,0]]]"
      ],
      "execution_count": 0,
      "outputs": []
    },
    {
      "cell_type": "code",
      "metadata": {
        "id": "WPAntvqG9Cry",
        "colab_type": "code",
        "colab": {}
      },
      "source": [
        "n_instances=sum(len(group) for group in groups)\n",
        "gini=0.0\n",
        "for group in groups:\n",
        "  size=len(group)\n",
        "  if size==0:\n",
        "    "
      ],
      "execution_count": 0,
      "outputs": []
    },
    {
      "cell_type": "code",
      "metadata": {
        "id": "kN5sw-acDdho",
        "colab_type": "code",
        "colab": {
          "base_uri": "https://localhost:8080/",
          "height": 34
        },
        "outputId": "c5d714ef-3bfe-4283-8d08-8372ed91b7fe"
      },
      "source": [
        "n_instances"
      ],
      "execution_count": 10,
      "outputs": [
        {
          "output_type": "execute_result",
          "data": {
            "text/plain": [
              "4"
            ]
          },
          "metadata": {
            "tags": []
          },
          "execution_count": 10
        }
      ]
    }
  ]
}