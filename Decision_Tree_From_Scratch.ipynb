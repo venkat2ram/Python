{
  "nbformat": 4,
  "nbformat_minor": 0,
  "metadata": {
    "colab": {
      "name": "Decision_Tree_From_Scratch.ipynb",
      "provenance": [],
      "collapsed_sections": [],
      "include_colab_link": true
    },
    "kernelspec": {
      "name": "python3",
      "display_name": "Python 3"
    }
  },
  "cells": [
    {
      "cell_type": "markdown",
      "metadata": {
        "id": "view-in-github",
        "colab_type": "text"
      },
      "source": [
        "<a href=\"https://colab.research.google.com/github/venkat2ram/Python/blob/master/Decision_Tree_From_Scratch.ipynb\" target=\"_parent\"><img src=\"https://colab.research.google.com/assets/colab-badge.svg\" alt=\"Open In Colab\"/></a>"
      ]
    },
    {
      "cell_type": "code",
      "metadata": {
        "id": "8O3Fh4UR8bYP",
        "colab_type": "code",
        "colab": {}
      },
      "source": [
        "groups=[[[1,1],[1,0]],[[1,1],[1,0]]]\n",
        "classes=[0,1]"
      ],
      "execution_count": 0,
      "outputs": []
    },
    {
      "cell_type": "code",
      "metadata": {
        "id": "WPAntvqG9Cry",
        "colab_type": "code",
        "colab": {}
      },
      "source": [
        "def gini_index():\n",
        "  n_instances=sum(len(group) for group in groups)\n",
        "  gini=0.0\n",
        "  for group in groups:\n",
        "    size=len(group)\n",
        "    if size==0:\n",
        "      continue\n",
        "    for class_val in classes:\n",
        "      p=[row[-1] for row in group].count(class_val)/size\n",
        "      score+=p**2\n",
        "    gini=(1-score)*(size/n_instances)\n",
        "  return gini"
      ],
      "execution_count": 0,
      "outputs": []
    },
    {
      "cell_type": "code",
      "metadata": {
        "id": "kN5sw-acDdho",
        "colab_type": "code",
        "colab": {
          "base_uri": "https://localhost:8080/",
          "height": 34
        },
        "outputId": "65965054-6cb3-49de-98b0-df3c535a7679"
      },
      "source": [
        "group=[[1,0],[1,2]]\n",
        "[row[-1] for row in group].count(1)"
      ],
      "execution_count": 24,
      "outputs": [
        {
          "output_type": "execute_result",
          "data": {
            "text/plain": [
              "0"
            ]
          },
          "metadata": {
            "tags": []
          },
          "execution_count": 24
        }
      ]
    },
    {
      "cell_type": "code",
      "metadata": {
        "id": "fCsFIeMdLoy_",
        "colab_type": "code",
        "colab": {
          "base_uri": "https://localhost:8080/",
          "height": 34
        },
        "outputId": "3036bab7-7821-45f0-8588-72c489dbf8e9"
      },
      "source": [
        "len(group)"
      ],
      "execution_count": 20,
      "outputs": [
        {
          "output_type": "execute_result",
          "data": {
            "text/plain": [
              "2"
            ]
          },
          "metadata": {
            "tags": []
          },
          "execution_count": 20
        }
      ]
    }
  ]
}