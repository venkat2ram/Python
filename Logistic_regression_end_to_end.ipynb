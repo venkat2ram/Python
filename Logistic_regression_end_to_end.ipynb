{
  "nbformat": 4,
  "nbformat_minor": 0,
  "metadata": {
    "colab": {
      "name": "Logistic regression end to end.ipynb",
      "version": "0.3.2",
      "provenance": [],
      "collapsed_sections": [],
      "include_colab_link": true
    },
    "kernelspec": {
      "name": "python3",
      "display_name": "Python 3"
    }
  },
  "cells": [
    {
      "cell_type": "markdown",
      "metadata": {
        "id": "view-in-github",
        "colab_type": "text"
      },
      "source": [
        "<a href=\"https://colab.research.google.com/github/venkat2ram/Python/blob/master/Logistic_regression_end_to_end.ipynb\" target=\"_parent\"><img src=\"https://colab.research.google.com/assets/colab-badge.svg\" alt=\"Open In Colab\"/></a>"
      ]
    },
    {
      "cell_type": "markdown",
      "metadata": {
        "id": "zU0kPaU_b2Kc",
        "colab_type": "text"
      },
      "source": [
        "**Logistic regression end to end**"
      ]
    },
    {
      "cell_type": "markdown",
      "metadata": {
        "id": "rA1I56xydBwt",
        "colab_type": "text"
      },
      "source": [
        "Create moons dataset."
      ]
    },
    {
      "cell_type": "code",
      "metadata": {
        "id": "uwyyC_MAb07p",
        "colab_type": "code",
        "colab": {}
      },
      "source": [
        "from sklearn.datasets import make_moons\n",
        "m=1000\n",
        "X_moons,y_moons=make_moons(m,noise=0.1, random_state=42)"
      ],
      "execution_count": 0,
      "outputs": []
    },
    {
      "cell_type": "markdown",
      "metadata": {
        "id": "OIp2MjFbdH08",
        "colab_type": "text"
      },
      "source": [
        "Plot the data:"
      ]
    },
    {
      "cell_type": "code",
      "metadata": {
        "id": "czRzrRztdTl-",
        "colab_type": "code",
        "outputId": "2c3c50e4-acec-4253-c8dd-131fb3809adf",
        "colab": {
          "base_uri": "https://localhost:8080/",
          "height": 269
        }
      },
      "source": [
        "from matplotlib import pyplot as plt\n",
        "plt.plot(X_moons[y_moons==0,0],X_moons[y_moons==0,1], 'r^', label='Negative')\n",
        "plt.plot(X_moons[y_moons==1,0],X_moons[y_moons==1,1], 'go', label='Positive')\n",
        "plt.legend()\n",
        "plt.show()"
      ],
      "execution_count": 2,
      "outputs": [
        {
          "output_type": "display_data",
          "data": {
            "image/png": "[encoded data removed]",
            "text/plain": [
              "<Figure size 432x288 with 1 Axes>"
            ]
          },
          "metadata": {
            "tags": []
          }
        }
      ]
    },
    {
      "cell_type": "markdown",
      "metadata": {
        "id": "NfsYiTk2fs-L",
        "colab_type": "text"
      },
      "source": [
        "Add extra bias feature"
      ]
    },
    {
      "cell_type": "code",
      "metadata": {
        "id": "njtjeIMEfwqm",
        "colab_type": "code",
        "outputId": "c79574cc-2cef-4caf-96c4-5af73f6f0dba",
        "colab": {
          "base_uri": "https://localhost:8080/",
          "height": 136
        }
      },
      "source": [
        "import numpy as np\n",
        "X_moons_with_bias=np.c_[np.ones((m,1)),X_moons]\n",
        "print(X_moons_with_bias)"
      ],
      "execution_count": 3,
      "outputs": [
        {
          "output_type": "stream",
          "text": [
            "[[ 1.         -0.05146968  0.44419863]\n",
            " [ 1.          1.03201691 -0.41974116]\n",
            " [ 1.          0.86789186 -0.25482711]\n",
            " ...\n",
            " [ 1.          1.68425911 -0.34822268]\n",
            " [ 1.         -0.9672013   0.26367208]\n",
            " [ 1.          0.78758971  0.61660945]]\n"
          ],
          "name": "stdout"
        }
      ]
    },
    {
      "cell_type": "markdown",
      "metadata": {
        "id": "nj683AgOg3I5",
        "colab_type": "text"
      },
      "source": [
        "Now, let's reshape the y_moons into column vector."
      ]
    },
    {
      "cell_type": "code",
      "metadata": {
        "id": "TRIsh2Gmg-p1",
        "colab_type": "code",
        "colab": {}
      },
      "source": [
        "y_moons_column_vector=y_moons.reshape(-1,1)\n"
      ],
      "execution_count": 0,
      "outputs": []
    },
    {
      "cell_type": "markdown",
      "metadata": {
        "id": "Mu4aD_YYjYDh",
        "colab_type": "text"
      },
      "source": [
        "Split the moons data into test and training sets."
      ]
    },
    {
      "cell_type": "code",
      "metadata": {
        "id": "ntUkCJJXj7BB",
        "colab_type": "code",
        "colab": {}
      },
      "source": [
        "test_ratio=0.2\n",
        "test_size=int(m*test_ratio)\n",
        "X_train=X_moons_with_bias[:-test_size]\n",
        "X_test=X_moons_with_bias[-test_size:]\n",
        "y_train=y_moons_column_vector[:-test_size]\n",
        "y_test=y_moons_column_vector[-test_size:]"
      ],
      "execution_count": 0,
      "outputs": []
    },
    {
      "cell_type": "markdown",
      "metadata": {
        "id": "mt0NZD40lzqU",
        "colab_type": "text"
      },
      "source": [
        "Create a function to generate batches from data and target. This function will randomly fetch data from moons data set and it may contain same instance in different batches."
      ]
    },
    {
      "cell_type": "code",
      "metadata": {
        "id": "UY3iMsRemaV4",
        "colab_type": "code",
        "colab": {}
      },
      "source": [
        "def random_batch(X_train,y_train,batch_size):\n",
        "  rnd_indices=np.random.randint(0,len(X_train),batch_size)\n",
        "  X_batch=X_train[rnd_indices]\n",
        "  y_batch=y_train[rnd_indices]\n",
        "  return X_batch,y_batch"
      ],
      "execution_count": 0,
      "outputs": []
    },
    {
      "cell_type": "markdown",
      "metadata": {
        "id": "pYVk9ouzn2eV",
        "colab_type": "text"
      },
      "source": [
        "Let's look at small batch."
      ]
    },
    {
      "cell_type": "code",
      "metadata": {
        "id": "3sZ6eyQZn6HN",
        "colab_type": "code",
        "outputId": "6bc5c800-ab3e-4bdc-a0bc-94ff714227ac",
        "colab": {
          "base_uri": "https://localhost:8080/",
          "height": 102
        }
      },
      "source": [
        "X_batch,y_batch=random_batch(X_train,y_train,5)\n",
        "y_batch"
      ],
      "execution_count": 7,
      "outputs": [
        {
          "output_type": "execute_result",
          "data": {
            "text/plain": [
              "array([[1],\n",
              "       [0],\n",
              "       [1],\n",
              "       [1],\n",
              "       [1]])"
            ]
          },
          "metadata": {
            "tags": []
          },
          "execution_count": 7
        }
      ]
    },
    {
      "cell_type": "markdown",
      "metadata": {
        "id": "_Uk89iHiAfOt",
        "colab_type": "text"
      },
      "source": [
        "Reset the graph."
      ]
    },
    {
      "cell_type": "code",
      "metadata": {
        "id": "5jKIIYWso_SM",
        "colab_type": "code",
        "colab": {}
      },
      "source": [
        "import tensorflow as tf\n",
        "tf.reset_default_graph()"
      ],
      "execution_count": 0,
      "outputs": []
    },
    {
      "cell_type": "markdown",
      "metadata": {
        "id": "dGb8QXg6AxkU",
        "colab_type": "text"
      },
      "source": [
        "Moons dataset has two features."
      ]
    },
    {
      "cell_type": "code",
      "metadata": {
        "id": "VhQjwpvNpA-L",
        "colab_type": "code",
        "outputId": "d224d6da-3777-4de2-fcfe-5a8105a64408",
        "colab": {
          "base_uri": "https://localhost:8080/",
          "height": 34
        }
      },
      "source": [
        "n_inputs=len(X_moons[1])\n",
        "print(n_inputs)"
      ],
      "execution_count": 9,
      "outputs": [
        {
          "output_type": "stream",
          "text": [
            "2\n"
          ],
          "name": "stdout"
        }
      ]
    },
    {
      "cell_type": "code",
      "metadata": {
        "id": "mWADJrcdeiRu",
        "colab_type": "code",
        "colab": {
          "base_uri": "https://localhost:8080/",
          "height": 34
        },
        "outputId": "b69db951-6f1f-4c67-e9bb-8b0ad5ec9d73"
      },
      "source": [
        "n_inputs=6\n",
        "n_inputs"
      ],
      "execution_count": 11,
      "outputs": [
        {
          "output_type": "execute_result",
          "data": {
            "text/plain": [
              "6"
            ]
          },
          "metadata": {
            "tags": []
          },
          "execution_count": 11
        }
      ]
    },
    {
      "cell_type": "markdown",
      "metadata": {
        "id": "taZT-BVKLpHu",
        "colab_type": "text"
      },
      "source": [
        "Now start with the actual graph creation."
      ]
    },
    {
      "cell_type": "code",
      "metadata": {
        "id": "MluFNoyYM5hW",
        "colab_type": "code",
        "colab": {}
      },
      "source": [
        "n_iterations=500\n",
        "learning_rate=0.01\n",
        "batch_size=50\n",
        "n_batches=int(m/batch_size)\n",
        "X = tf.placeholder(tf.float32, shape=(None,n_inputs + 1 ), name=\"X\")\n",
        "y = tf.placeholder(tf.float32, shape=(None, 1), name=\"y\")\n",
        "theta = tf.Variable(tf.random_uniform([n_inputs + 1, 1], -1.0, 1.0, seed=42), name=\"theta\")\n",
        "logits = tf.matmul(X, theta, name=\"logits\")\n",
        "y_proba = tf.sigmoid(logits) \n",
        "loss=tf.losses.log_loss(y,y_proba)\n",
        "optimizer=tf.train.GradientDescentOptimizer(learning_rate)\n",
        "training_op=optimizer.minimize(loss)\n",
        "y_proba_val=tf.sigmoid(tf.matmul(X, theta))\n",
        "init=tf.global_variables_initializer()\n",
        "\n"
      ],
      "execution_count": 0,
      "outputs": []
    },
    {
      "cell_type": "markdown",
      "metadata": {
        "id": "gC3LYyRzQ4hT",
        "colab_type": "text"
      },
      "source": [
        "Execute the created graph."
      ]
    },
    {
      "cell_type": "code",
      "metadata": {
        "id": "V0PSPX0AQ7js",
        "colab_type": "code",
        "colab": {}
      },
      "source": [
        "with tf.Session() as sess:\n",
        "  init.run()\n",
        "  for i in range(n_iterations):\n",
        "    for j in range(n_batches):\n",
        "      X_batch,y_batch=random_batch(X_train,y_train,batch_size)\n",
        "      sess.run(training_op,feed_dict={X:X_batch,y:y_batch})\n",
        "    loss_val=loss.eval(feed_dict={X:X_test,y:y_test})\n",
        "    if(i%100==0):\n",
        "      print(i,loss_val)\n",
        "  y_proba_val=y_proba.eval(feed_dict={X:X_test,y:y_test})"
      ],
      "execution_count": 0,
      "outputs": []
    },
    {
      "cell_type": "markdown",
      "metadata": {
        "id": "dhNDE9hfW3z5",
        "colab_type": "text"
      },
      "source": [
        "Roun off the predictions of test dataset."
      ]
    },
    {
      "cell_type": "code",
      "metadata": {
        "id": "-kDwre-AV-bg",
        "colab_type": "code",
        "colab": {}
      },
      "source": [
        "y_pred=(y_proba_val>=0.5)"
      ],
      "execution_count": 0,
      "outputs": []
    },
    {
      "cell_type": "markdown",
      "metadata": {
        "id": "3RPrbS1RXxcS",
        "colab_type": "text"
      },
      "source": [
        "Plot the test data."
      ]
    },
    {
      "cell_type": "code",
      "metadata": {
        "id": "XAaBp9J-X0Ao",
        "colab_type": "code",
        "colab": {}
      },
      "source": [
        "from matplotlib import pyplot as plt1\n",
        "y_pred_idx=y_pred.reshape(-1)\n",
        "plt1.plot(X_test[y_pred_idx==True,1],X_test[y_pred_idx==True,2],'go',label='Positive')\n",
        "plt1.plot(X_test[y_pred_idx==False,1],X_test[y_pred_idx==False,2],'r^',label='Negative')\n",
        "plt1.legend()\n",
        "plt1.show()"
      ],
      "execution_count": 0,
      "outputs": []
    },
    {
      "cell_type": "markdown",
      "metadata": {
        "id": "OJCzVYo0cW_L",
        "colab_type": "text"
      },
      "source": [
        "Add more features."
      ]
    },
    {
      "cell_type": "code",
      "metadata": {
        "id": "QtPgQLOHcfyc",
        "colab_type": "code",
        "colab": {
          "base_uri": "https://localhost:8080/",
          "height": 272
        },
        "outputId": "f18527c2-89fa-40f9-9e52-a61c33fb5c72"
      },
      "source": [
        "X_train_enhanced=np.c_[X_train,X_train[:,1]**2,X_train[:,2]**2,X_train[:,1]**3,X_train[:,2]**3]\n",
        "X_train_enhanced[:5]"
      ],
      "execution_count": 16,
      "outputs": [
        {
          "output_type": "execute_result",
          "data": {
            "text/plain": [
              "array([[ 1.00000000e+00, -5.14696757e-02,  4.44198631e-01,\n",
              "         2.64912752e-03,  1.97312424e-01, -1.36349734e-04,\n",
              "         8.76459084e-02],\n",
              "       [ 1.00000000e+00,  1.03201691e+00, -4.19741157e-01,\n",
              "         1.06505890e+00,  1.76182639e-01,  1.09915879e+00,\n",
              "        -7.39511049e-02],\n",
              "       [ 1.00000000e+00,  8.67891864e-01, -2.54827114e-01,\n",
              "         7.53236288e-01,  6.49368582e-02,  6.53727646e-01,\n",
              "        -1.65476722e-02],\n",
              "       [ 1.00000000e+00,  2.88850997e-01, -4.48668621e-01,\n",
              "         8.34348982e-02,  2.01303531e-01,  2.41002535e-02,\n",
              "        -9.03185778e-02],\n",
              "       [ 1.00000000e+00, -8.33439108e-01,  5.35056649e-01,\n",
              "         6.94620746e-01,  2.86285618e-01, -5.78924095e-01,\n",
              "         1.53179024e-01]])"
            ]
          },
          "metadata": {
            "tags": []
          },
          "execution_count": 16
        }
      ]
    },
    {
      "cell_type": "markdown",
      "metadata": {
        "id": "LlplfG97dnEC",
        "colab_type": "text"
      },
      "source": [
        "let's run the graph."
      ]
    },
    {
      "cell_type": "code",
      "metadata": {
        "id": "UHTe-DXidp8H",
        "colab_type": "code",
        "colab": {
          "base_uri": "https://localhost:8080/",
          "height": 221
        },
        "outputId": "b8f390fa-4b42-4b8d-b148-dc37fd9c8572"
      },
      "source": [
        "with tf.Session() as sess:\n",
        "  init.run()\n",
        "  for i in range(n_iterations):\n",
        "    for j in range(n_batches):\n",
        "      X_batch,y_batch=random_batch(X_train_enhanced,y_train,batch_size)\n",
        "      Theta=sess.run(training_op,feed_dict={X:X_batch,y:y_batch})\n",
        "    loss_val=loss.eval(feed_dict={X:X_train_enhanced,y:y_train})\n",
        "    if(i%100==0):\n",
        "      print(i,loss_val)\n",
        "  best_theta=theta.eval()\n",
        "  print(best_theta)"
      ],
      "execution_count": 32,
      "outputs": [
        {
          "output_type": "stream",
          "text": [
            "0 0.77998954\n",
            "100 0.27453563\n",
            "200 0.22298436\n",
            "300 0.19268787\n",
            "400 0.17139158\n",
            "[[ 1.3262379 ]\n",
            " [-0.06390494]\n",
            " [-3.0888102 ]\n",
            " [-2.0398674 ]\n",
            " [-1.0780764 ]\n",
            " [ 1.5451276 ]\n",
            " [-2.1818614 ]]\n"
          ],
          "name": "stdout"
        }
      ]
    },
    {
      "cell_type": "code",
      "metadata": {
        "id": "moIXsgYuTd1V",
        "colab_type": "code",
        "colab": {}
      },
      "source": [
        "X_test_enhanced = np.c_[X_test,\n",
        "                        np.square(X_test[:, 1]),\n",
        "                        np.square(X_test[:, 2]),\n",
        "                        X_test[:, 1] ** 3,\n",
        "                        X_test[:, 2] ** 3]\n",
        "y_pred=np.matmul(X_test_enhanced,best_theta)\n"
      ],
      "execution_count": 0,
      "outputs": []
    }
  ]
}