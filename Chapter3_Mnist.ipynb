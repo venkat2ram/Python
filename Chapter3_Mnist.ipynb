{
  "nbformat": 4,
  "nbformat_minor": 0,
  "metadata": {
    "colab": {
      "name": "Chapter3_Mnist.ipynb",
      "provenance": [],
      "include_colab_link": true
    },
    "kernelspec": {
      "name": "python3",
      "display_name": "Python 3"
    }
  },
  "cells": [
    {
      "cell_type": "markdown",
      "metadata": {
        "id": "view-in-github",
        "colab_type": "text"
      },
      "source": [
        "<a href=\"https://colab.research.google.com/github/venkat2ram/Python/blob/master/Chapter3_Mnist.ipynb\" target=\"_parent\"><img src=\"https://colab.research.google.com/assets/colab-badge.svg\" alt=\"Open In Colab\"/></a>"
      ]
    },
    {
      "cell_type": "markdown",
      "metadata": {
        "id": "eHz-WCA5kHj8",
        "colab_type": "text"
      },
      "source": [
        "Importing the mnist data from sklearn data sets."
      ]
    },
    {
      "cell_type": "code",
      "metadata": {
        "id": "oLh0FKzJc959",
        "colab_type": "code",
        "colab": {}
      },
      "source": [
        "from sklearn.datasets import fetch_openml\n",
        "mnist=fetch_openml('mnist_784')"
      ],
      "execution_count": 0,
      "outputs": []
    },
    {
      "cell_type": "markdown",
      "metadata": {
        "id": "_xFi_wNdkNO3",
        "colab_type": "text"
      },
      "source": [
        "fetching the data from dataset."
      ]
    },
    {
      "cell_type": "code",
      "metadata": {
        "id": "to3z40hpe5Zl",
        "colab_type": "code",
        "outputId": "1ff38a63-6636-4155-e25d-3ea1844ec440",
        "colab": {
          "base_uri": "https://localhost:8080/",
          "height": 34
        }
      },
      "source": [
        "X,y=mnist['data'],mnist['target']\n",
        "\n",
        "print(X.shape,y.shape)"
      ],
      "execution_count": 2,
      "outputs": [
        {
          "output_type": "stream",
          "text": [
            "(70000, 784) (70000,)\n"
          ],
          "name": "stdout"
        }
      ]
    },
    {
      "cell_type": "markdown",
      "metadata": {
        "id": "oL_UqgeZkSSf",
        "colab_type": "text"
      },
      "source": [
        "Displaying a digit in plot."
      ]
    },
    {
      "cell_type": "code",
      "metadata": {
        "id": "ys-5Fj7NfKdS",
        "colab_type": "code",
        "colab": {}
      },
      "source": [
        "%matplotlib inline\n",
        "import matplotlib\n",
        "from matplotlib import pyplot as plt"
      ],
      "execution_count": 0,
      "outputs": []
    },
    {
      "cell_type": "code",
      "metadata": {
        "id": "LtjZcOmlgoJ5",
        "colab_type": "code",
        "outputId": "3daab3ba-805e-4502-aa14-4fbaa2239d0c",
        "colab": {
          "base_uri": "https://localhost:8080/",
          "height": 282
        }
      },
      "source": [
        "some_digit = X[36012]\n",
        "some_digit_image = some_digit.reshape(28, 28)\n",
        "plt.imshow(some_digit_image, cmap = matplotlib.cm.binary, interpolation=\"nearest\")\n",
        "plt.axis(\"off\")\n",
        "plt.show()\n",
        "y[36009]"
      ],
      "execution_count": 4,
      "outputs": [
        {
          "output_type": "display_data",
          "data": {
            "image/png": "[encoded data removed]",
            "text/plain": [
              "<Figure size 432x288 with 1 Axes>"
            ]
          },
          "metadata": {
            "tags": []
          }
        },
        {
          "output_type": "execute_result",
          "data": {
            "text/plain": [
              "'2'"
            ]
          },
          "metadata": {
            "tags": []
          },
          "execution_count": 4
        }
      ]
    },
    {
      "cell_type": "markdown",
      "metadata": {
        "id": "T63EtfYFkfRP",
        "colab_type": "text"
      },
      "source": [
        "Split the sets into traing and test sets."
      ]
    },
    {
      "cell_type": "code",
      "metadata": {
        "id": "5RBmMw_JjEVp",
        "colab_type": "code",
        "colab": {}
      },
      "source": [
        "X_train,X_test,y_train,y_test=X[:60000],X[60000:],y[:60000],y[60000:]"
      ],
      "execution_count": 0,
      "outputs": []
    },
    {
      "cell_type": "code",
      "metadata": {
        "id": "fiJSH9mMZ5v0",
        "colab_type": "code",
        "colab": {}
      },
      "source": [
        "import numpy as np\n",
        "shuffle_index=np.random.permutation(60000)\n",
        "X_train,y_train=X_train[shuffle_index],y_train[shuffle_index]"
      ],
      "execution_count": 0,
      "outputs": []
    },
    {
      "cell_type": "markdown",
      "metadata": {
        "id": "JhHwB-PPfFB0",
        "colab_type": "text"
      },
      "source": [
        "First let's train for the data with digit 5."
      ]
    },
    {
      "cell_type": "code",
      "metadata": {
        "id": "71H-YRSffU0l",
        "colab_type": "code",
        "colab": {}
      },
      "source": [
        "y_train_5=(y_train=='5')\n",
        "y_test_5=(y_test=='5')"
      ],
      "execution_count": 0,
      "outputs": []
    },
    {
      "cell_type": "markdown",
      "metadata": {
        "id": "OmW7PHoDhCLC",
        "colab_type": "text"
      },
      "source": [
        "Train the Stochastic gradient classifier."
      ]
    },
    {
      "cell_type": "code",
      "metadata": {
        "id": "MZqBSmHihaDJ",
        "colab_type": "code",
        "outputId": "0b354b27-7a29-44c9-aa13-31d11e05b4cb",
        "colab": {
          "base_uri": "https://localhost:8080/",
          "height": 119
        }
      },
      "source": [
        "from sklearn.linear_model import SGDClassifier \n",
        "SGDC=SGDClassifier(random_state=42)\n",
        "SGDC.fit(X_train,y_train_5)\n"
      ],
      "execution_count": 8,
      "outputs": [
        {
          "output_type": "execute_result",
          "data": {
            "text/plain": [
              "SGDClassifier(alpha=0.0001, average=False, class_weight=None,\n",
              "              early_stopping=False, epsilon=0.1, eta0=0.0, fit_intercept=True,\n",
              "              l1_ratio=0.15, learning_rate='optimal', loss='hinge',\n",
              "              max_iter=1000, n_iter_no_change=5, n_jobs=None, penalty='l2',\n",
              "              power_t=0.5, random_state=42, shuffle=True, tol=0.001,\n",
              "              validation_fraction=0.1, verbose=0, warm_start=False)"
            ]
          },
          "metadata": {
            "tags": []
          },
          "execution_count": 8
        }
      ]
    },
    {
      "cell_type": "code",
      "metadata": {
        "id": "Pme9RYvsjmB0",
        "colab_type": "code",
        "outputId": "a67f11bd-adc5-412d-b55a-0d19be343c7a",
        "colab": {
          "base_uri": "https://localhost:8080/",
          "height": 34
        }
      },
      "source": [
        "SGDC.predict([some_digit])"
      ],
      "execution_count": 9,
      "outputs": [
        {
          "output_type": "execute_result",
          "data": {
            "text/plain": [
              "array([False])"
            ]
          },
          "metadata": {
            "tags": []
          },
          "execution_count": 9
        }
      ]
    },
    {
      "cell_type": "markdown",
      "metadata": {
        "id": "ELS9VwXMnBDz",
        "colab_type": "text"
      },
      "source": [
        "Perform cross validation on the training dataset."
      ]
    },
    {
      "cell_type": "code",
      "metadata": {
        "id": "7nfGWTOEPw-Y",
        "colab_type": "code",
        "outputId": "a8e1b9ba-1072-4f0f-e1c9-04074fb173b3",
        "colab": {
          "base_uri": "https://localhost:8080/",
          "height": 68
        }
      },
      "source": [
        "from sklearn.model_selection import StratifiedKFold\n",
        "from sklearn.base import clone\n",
        "\n",
        "skfolds=StratifiedKFold(n_splits=3,random_state=42)\n",
        "\n",
        "for train_index,test_index in skfolds.split(X_train,y_train_5):\n",
        "  cln=clone(SGDC)\n",
        "  X_fold_train=X_train[train_index]\n",
        "  y_fold_train=y_train_5[train_index]\n",
        "  X_fold_test=X_train[test_index]\n",
        "  y_fold_test=y_train_5[test_index]\n",
        "  cln.fit(X_fold_train,y_fold_train)\n",
        "  y_pred=cln.predict(X_fold_test)\n",
        "  n_pred=sum(y_pred==y_fold_test)\n",
        "  print(n_pred/len(y_fold_test))\n",
        "  \n",
        "  \n",
        "  "
      ],
      "execution_count": 10,
      "outputs": [
        {
          "output_type": "stream",
          "text": [
            "0.96705\n",
            "0.9664\n",
            "0.95095\n"
          ],
          "name": "stdout"
        }
      ]
    },
    {
      "cell_type": "markdown",
      "metadata": {
        "id": "E_mkrhTkoBHd",
        "colab_type": "text"
      },
      "source": [
        "Now perform cross validation using cross_val_score() function.\n"
      ]
    },
    {
      "cell_type": "code",
      "metadata": {
        "id": "hp8TcKehoApK",
        "colab_type": "code",
        "colab": {}
      },
      "source": [
        "from sklearn.model_selection import cross_val_score\n",
        "cvs=cross_val_score(SGDC,X_train,y_train_5,cv=3,scoring='accuracy')"
      ],
      "execution_count": 0,
      "outputs": []
    },
    {
      "cell_type": "code",
      "metadata": {
        "id": "PFSc57o9p1qF",
        "colab_type": "code",
        "outputId": "79ef6400-167a-45ba-d4d8-a2a5b44f4376",
        "colab": {
          "base_uri": "https://localhost:8080/",
          "height": 34
        }
      },
      "source": [
        "cvs"
      ],
      "execution_count": 12,
      "outputs": [
        {
          "output_type": "execute_result",
          "data": {
            "text/plain": [
              "array([0.96705, 0.9664 , 0.95095])"
            ]
          },
          "metadata": {
            "tags": []
          },
          "execution_count": 12
        }
      ]
    },
    {
      "cell_type": "markdown",
      "metadata": {
        "id": "MJWOpOn0yBTQ",
        "colab_type": "text"
      },
      "source": [
        "We can not depend on The accuracies. If our model predicts eevery thing ngative we will get accuracy as 90%. This is because only 10% of all the records in dataset are of digit 5.\n",
        "\n",
        "So we need a better way to check if the predictions are actually acurate. For this compare predict set with target data in data set using confusion matrix."
      ]
    },
    {
      "cell_type": "code",
      "metadata": {
        "id": "1khzQiK_YdXX",
        "colab_type": "code",
        "colab": {}
      },
      "source": [
        "y_t=SGDC.predict(X_train)"
      ],
      "execution_count": 0,
      "outputs": []
    },
    {
      "cell_type": "code",
      "metadata": {
        "id": "McakoGIjY9GZ",
        "colab_type": "code",
        "outputId": "a06798db-7e3a-434d-89ef-cababde500a8",
        "colab": {
          "base_uri": "https://localhost:8080/",
          "height": 51
        }
      },
      "source": [
        "from sklearn.metrics import confusion_matrix\n",
        "cm=confusion_matrix(y_train_5,y_t)\n",
        "cm"
      ],
      "execution_count": 14,
      "outputs": [
        {
          "output_type": "execute_result",
          "data": {
            "text/plain": [
              "array([[54460,   119],\n",
              "       [ 2646,  2775]])"
            ]
          },
          "metadata": {
            "tags": []
          },
          "execution_count": 14
        }
      ]
    },
    {
      "cell_type": "markdown",
      "metadata": {
        "id": "SVncXlaQEFrx",
        "colab_type": "text"
      },
      "source": [
        "calculate Precision and recall using above numbers."
      ]
    },
    {
      "cell_type": "code",
      "metadata": {
        "id": "vJeTrZA2EFKr",
        "colab_type": "code",
        "outputId": "2d1d104f-fc46-4854-9894-8b955c0e296e",
        "colab": {
          "base_uri": "https://localhost:8080/",
          "height": 68
        }
      },
      "source": [
        "tn=cm[0,0]\n",
        "fp=cm[0,1]\n",
        "fn=cm[1,0]\n",
        "tp=cm[1,1]\n",
        "print(tn,fn,fp,tp)\n",
        "precision=tp/(tp+fp)\n",
        "recall=tp/(tp+fn)\n",
        "print('Precision=',precision)\n",
        "print('Recall=',recall)\n"
      ],
      "execution_count": 15,
      "outputs": [
        {
          "output_type": "stream",
          "text": [
            "54460 2646 119 2775\n",
            "Precision= 0.9588804422944022\n",
            "Recall= 0.5118981737686774\n"
          ],
          "name": "stdout"
        }
      ]
    },
    {
      "cell_type": "markdown",
      "metadata": {
        "id": "LknwvOmvG8Fz",
        "colab_type": "text"
      },
      "source": [
        "Now calculate precision and recall using scikit learn."
      ]
    },
    {
      "cell_type": "code",
      "metadata": {
        "id": "dHLGv_xgHwJX",
        "colab_type": "code",
        "outputId": "0d01df35-25bc-40ec-9ca0-68b358c51f80",
        "colab": {
          "base_uri": "https://localhost:8080/",
          "height": 51
        }
      },
      "source": [
        "from sklearn.metrics import precision_score,recall_score\n",
        "print(precision_score(y_t,y_train_5))\n",
        "print(recall_score(y_t,y_train_5))"
      ],
      "execution_count": 16,
      "outputs": [
        {
          "output_type": "stream",
          "text": [
            "0.5118981737686774\n",
            "0.9588804422944022\n"
          ],
          "name": "stdout"
        }
      ]
    },
    {
      "cell_type": "markdown",
      "metadata": {
        "id": "lvwstQEAIlra",
        "colab_type": "text"
      },
      "source": [
        "Both are matching. Now calculate the F1 score. f1= 2 / ( (1/precision)+(1/recall))"
      ]
    },
    {
      "cell_type": "code",
      "metadata": {
        "id": "nAZibt7HJH2V",
        "colab_type": "code",
        "outputId": "c26814bb-6a85-4f06-d4ba-eee05c03a093",
        "colab": {
          "base_uri": "https://localhost:8080/",
          "height": 34
        }
      },
      "source": [
        "f1= 2 / ( (1/precision)+(1/recall))\n",
        "print(f1)"
      ],
      "execution_count": 17,
      "outputs": [
        {
          "output_type": "stream",
          "text": [
            "0.6674684305472038\n"
          ],
          "name": "stdout"
        }
      ]
    },
    {
      "cell_type": "markdown",
      "metadata": {
        "id": "vRik6H7XJPV8",
        "colab_type": "text"
      },
      "source": [
        "Now get the f1 score using sklearn."
      ]
    },
    {
      "cell_type": "code",
      "metadata": {
        "id": "RUx0r61HJVsj",
        "colab_type": "code",
        "outputId": "54ca283a-59e3-445f-e7fc-04f049f12d2a",
        "colab": {
          "base_uri": "https://localhost:8080/",
          "height": 34
        }
      },
      "source": [
        "from sklearn.metrics import f1_score\n",
        "f1_score(y_t,y_train_5)"
      ],
      "execution_count": 18,
      "outputs": [
        {
          "output_type": "execute_result",
          "data": {
            "text/plain": [
              "0.667468430547204"
            ]
          },
          "metadata": {
            "tags": []
          },
          "execution_count": 18
        }
      ]
    },
    {
      "cell_type": "markdown",
      "metadata": {
        "id": "9c-wpIJSv86W",
        "colab_type": "text"
      },
      "source": [
        "You can compromise on either recall or precision to improve the other. This is by increasing or decreasing the threshold of the classification. Threshold is nothing but a value used to decide whether an example is positive or negative. \n",
        "For this, you need to get the putput of the decision function of your classifier instead of predictions. like below. And then use precision_recall_curve to check the graph."
      ]
    },
    {
      "cell_type": "code",
      "metadata": {
        "id": "eQLckCMQw5hY",
        "colab_type": "code",
        "colab": {}
      },
      "source": [
        "y_scores=SGDC.decision_function(X_train)"
      ],
      "execution_count": 0,
      "outputs": []
    },
    {
      "cell_type": "code",
      "metadata": {
        "id": "LpLBZyNNx2B6",
        "colab_type": "code",
        "colab": {}
      },
      "source": [
        "from sklearn.metrics import precision_recall_curve\n",
        "precisions,recalls,threshold= precision_recall_curve(y_train_5,y_scores)"
      ],
      "execution_count": 0,
      "outputs": []
    },
    {
      "cell_type": "code",
      "metadata": {
        "id": "zQ87L2G1yX6m",
        "colab_type": "code",
        "outputId": "6b3cdce3-0fd4-4036-c744-d6a5b2d77e3d",
        "colab": {
          "base_uri": "https://localhost:8080/",
          "height": 269
        }
      },
      "source": [
        "import matplotlib.pyplot as plt\n",
        "plt.plot(threshold,precisions[:-1],'g--',label='Precision')\n",
        "plt.plot(threshold,recalls[:-1],'b-',label='Recall')\n",
        "plt.legend()\n",
        "plt.show()"
      ],
      "execution_count": 21,
      "outputs": [
        {
          "output_type": "display_data",
          "data": {
            "image/png": "[encoded data removed]",
            "text/plain": [
              "<Figure size 432x288 with 1 Axes>"
            ]
          },
          "metadata": {
            "tags": []
          }
        }
      ]
    },
    {
      "cell_type": "markdown",
      "metadata": {
        "id": "zrKJ82u183HV",
        "colab_type": "text"
      },
      "source": [
        "This clearly shos that at threshold 0 the precision and recall are at relative high. So now establish relation between precisiona and recall."
      ]
    },
    {
      "cell_type": "code",
      "metadata": {
        "id": "sIvMWZue9RM0",
        "colab_type": "code",
        "outputId": "0ee2e83d-1d1f-449e-cffd-0b9b32c6e280",
        "colab": {
          "base_uri": "https://localhost:8080/",
          "height": 286
        }
      },
      "source": [
        "plt.plot(recalls[:-1],precisions[:-1],'b-')\n",
        "plt.legend()\n",
        "plt.show()"
      ],
      "execution_count": 22,
      "outputs": [
        {
          "output_type": "stream",
          "text": [
            "No handles with labels found to put in legend.\n"
          ],
          "name": "stderr"
        },
        {
          "output_type": "display_data",
          "data": {
            "image/png": "[encoded data removed]",
            "text/plain": [
              "<Figure size 432x288 with 1 Axes>"
            ]
          },
          "metadata": {
            "tags": []
          }
        }
      ]
    },
    {
      "cell_type": "markdown",
      "metadata": {
        "id": "488sjRaV7gjr",
        "colab_type": "text"
      },
      "source": [
        "Recall is actually about how many positive values are classified as positives i.e) true positives. Now we need to see if the threshold is set to high, how many actual negatives are classified as positives(false positives). Use roc_curve for these details."
      ]
    },
    {
      "cell_type": "code",
      "metadata": {
        "id": "D8ep6fbAA6Ci",
        "colab_type": "code",
        "outputId": "35661d1c-1eb2-4973-a8c6-5e3d8926ac81",
        "colab": {
          "base_uri": "https://localhost:8080/",
          "height": 269
        }
      },
      "source": [
        "from sklearn.metrics  import roc_curve\n",
        "fpr,tpr,thresholds=roc_curve(y_t,y_train_5)\n",
        "plt.plot(fpr,tpr,\"b-\")\n",
        "plt.xlabel='False positive rate'\n",
        "plt.ylabel='True positive rate'\n",
        "\n",
        "plt.show()"
      ],
      "execution_count": 23,
      "outputs": [
        {
          "output_type": "display_data",
          "data": {
            "image/png": "[encoded data removed]",
            "text/plain": [
              "<Figure size 432x288 with 1 Axes>"
            ]
          },
          "metadata": {
            "tags": []
          }
        }
      ]
    },
    {
      "cell_type": "markdown",
      "metadata": {
        "id": "AKLm5ogTCy74",
        "colab_type": "text"
      },
      "source": [
        "There is tradeoff identified. When true positive rate increased, false positives are increased. \n",
        "\n",
        "Area under curve(AUC) is usally used to measure the ROC curve's outcome. If area under curve is 1, the model is perfect. a random classifier will have 0.5 AUC.Below is how we calculate AUC."
      ]
    },
    {
      "cell_type": "code",
      "metadata": {
        "id": "YYHDg-viP1xg",
        "colab_type": "code",
        "colab": {
          "base_uri": "https://localhost:8080/",
          "height": 34
        },
        "outputId": "150a5512-df9a-4fab-f537-ced35eedd64b"
      },
      "source": [
        "from sklearn.metrics import roc_auc_score\n",
        "roc_auc_score(y_train_5,y_scores)"
      ],
      "execution_count": 25,
      "outputs": [
        {
          "output_type": "execute_result",
          "data": {
            "text/plain": [
              "0.9697089247746529"
            ]
          },
          "metadata": {
            "tags": []
          },
          "execution_count": 25
        }
      ]
    },
    {
      "cell_type": "markdown",
      "metadata": {
        "id": "HcT6Q-QZPaLP",
        "colab_type": "text"
      },
      "source": [
        "The above score shows good result. But ROC curve is not dependable if the positive class is rare. So we should go with Precision-Recall curve(PR Curve)."
      ]
    },
    {
      "cell_type": "markdown",
      "metadata": {
        "id": "FkCcC1ETRUcf",
        "colab_type": "text"
      },
      "source": [
        "**Random forests:**"
      ]
    },
    {
      "cell_type": "markdown",
      "metadata": {
        "id": "DCaBhFQDRYhy",
        "colab_type": "text"
      },
      "source": [
        "Lets train the classifier using Random forests and check the performance."
      ]
    },
    {
      "cell_type": "code",
      "metadata": {
        "id": "zEFUxeKTRXnx",
        "colab_type": "code",
        "colab": {
          "base_uri": "https://localhost:8080/",
          "height": 173
        },
        "outputId": "d9313b90-ff1a-4339-f08b-f0a8ae795d18"
      },
      "source": [
        "from sklearn.ensemble import RandomForestClassifier\n",
        "from sklearn.model_selection import cross_val_predict\n",
        "forest_clf=RandomForestClassifier(random_state=42)\n",
        "y_proba_forest=cross_val_predict(forest_clf,X_train,y_train_5,method='predict_proba')"
      ],
      "execution_count": 33,
      "outputs": [
        {
          "output_type": "stream",
          "text": [
            "/usr/local/lib/python3.6/dist-packages/sklearn/model_selection/_split.py:1978: FutureWarning: The default value of cv will change from 3 to 5 in version 0.22. Specify it explicitly to silence this warning.\n",
            "  warnings.warn(CV_WARNING, FutureWarning)\n",
            "/usr/local/lib/python3.6/dist-packages/sklearn/ensemble/forest.py:245: FutureWarning: The default value of n_estimators will change from 10 in version 0.20 to 100 in 0.22.\n",
            "  \"10 in version 0.20 to 100 in 0.22.\", FutureWarning)\n",
            "/usr/local/lib/python3.6/dist-packages/sklearn/ensemble/forest.py:245: FutureWarning: The default value of n_estimators will change from 10 in version 0.20 to 100 in 0.22.\n",
            "  \"10 in version 0.20 to 100 in 0.22.\", FutureWarning)\n",
            "/usr/local/lib/python3.6/dist-packages/sklearn/ensemble/forest.py:245: FutureWarning: The default value of n_estimators will change from 10 in version 0.20 to 100 in 0.22.\n",
            "  \"10 in version 0.20 to 100 in 0.22.\", FutureWarning)\n"
          ],
          "name": "stderr"
        }
      ]
    },
    {
      "cell_type": "code",
      "metadata": {
        "id": "gRsgHeTzWhg2",
        "colab_type": "code",
        "colab": {
          "base_uri": "https://localhost:8080/",
          "height": 269
        },
        "outputId": "d2e36301-fbc4-436a-fc44-5ee965a6c606"
      },
      "source": [
        "y_scores_forest=y_proba_forest[:,1]\n",
        "fpr_forest,tpr_forest,threshold_forest=roc_curve(y_train_5,y_scores_forest)\n",
        "\n",
        "plt.plot(fpr,tpr,'b:')\n",
        "plt.plot(fpr_forest,tpr_forest)\n",
        "plt.show()"
      ],
      "execution_count": 38,
      "outputs": [
        {
          "output_type": "display_data",
          "data": {
            "image/png": "[encoded data removed]",
            "text/plain": [
              "<Figure size 432x288 with 1 Axes>"
            ]
          },
          "metadata": {
            "tags": []
          }
        }
      ]
    },
    {
      "cell_type": "code",
      "metadata": {
        "id": "FQx74mzEZm6T",
        "colab_type": "code",
        "colab": {
          "base_uri": "https://localhost:8080/",
          "height": 34
        },
        "outputId": "900b7deb-0fc7-4d6f-9ca4-d80c1cb5f516"
      },
      "source": [
        "roc_auc_score(y_train_5,y_scores_forest)"
      ],
      "execution_count": 39,
      "outputs": [
        {
          "output_type": "execute_result",
          "data": {
            "text/plain": [
              "0.9920465776979488"
            ]
          },
          "metadata": {
            "tags": []
          },
          "execution_count": 39
        }
      ]
    },
    {
      "cell_type": "markdown",
      "metadata": {
        "id": "GofgxrVDaCZ-",
        "colab_type": "text"
      },
      "source": [
        "This clearly shows that random forest has better AUC score. Now check the precision recall curve."
      ]
    },
    {
      "cell_type": "code",
      "metadata": {
        "id": "2bybyKdVaeNr",
        "colab_type": "code",
        "colab": {
          "base_uri": "https://localhost:8080/",
          "height": 269
        },
        "outputId": "81b85ed2-37de-4c14-cb3f-cf344aa04743"
      },
      "source": [
        "precisions_forest,recalls_forest,threshold_forest= precision_recall_curve(y_train_5,y_scores_forest)\n",
        "plt.plot(threshold_forest,recalls_forest[:-1],'g-',label='Recall')\n",
        "plt.plot(threshold_forest,precisions_forest[:-1],'b-',label='Precision')\n",
        "plt.show()"
      ],
      "execution_count": 46,
      "outputs": [
        {
          "output_type": "display_data",
          "data": {
            "image/png": "[encoded data removed]",
            "text/plain": [
              "<Figure size 432x288 with 1 Axes>"
            ]
          },
          "metadata": {
            "tags": []
          }
        }
      ]
    },
    {
      "cell_type": "code",
      "metadata": {
        "id": "_wNNvJPPcjGQ",
        "colab_type": "code",
        "colab": {
          "base_uri": "https://localhost:8080/",
          "height": 34
        },
        "outputId": "c40cf539-71eb-4e51-b53b-03bddab355e6"
      },
      "source": [
        "y_scores_forest>0.5\n"
      ],
      "execution_count": 54,
      "outputs": [
        {
          "output_type": "execute_result",
          "data": {
            "text/plain": [
              "array([False, False, False, ..., False,  True, False])"
            ]
          },
          "metadata": {
            "tags": []
          },
          "execution_count": 54
        }
      ]
    },
    {
      "cell_type": "code",
      "metadata": {
        "id": "zE2xsuB-cFVz",
        "colab_type": "code",
        "colab": {
          "base_uri": "https://localhost:8080/",
          "height": 51
        },
        "outputId": "5825e067-4a27-42a2-8c6c-334d9ba4ab87"
      },
      "source": [
        "\n",
        "print(precision_score(y_scores_forest>0.5,y_train_5))\n",
        "print(recall_score(y_scores_forest>0.5,y_train_5))"
      ],
      "execution_count": 55,
      "outputs": [
        {
          "output_type": "stream",
          "text": [
            "0.8273381294964028\n",
            "0.9829059829059829\n"
          ],
          "name": "stdout"
        }
      ]
    }
  ]
}