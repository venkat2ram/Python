{
  "nbformat": 4,
  "nbformat_minor": 0,
  "metadata": {
    "colab": {
      "name": "Chapter3_Mnist.ipynb",
      "provenance": [],
      "include_colab_link": true
    },
    "kernelspec": {
      "name": "python3",
      "display_name": "Python 3"
    }
  },
  "cells": [
    {
      "cell_type": "markdown",
      "metadata": {
        "id": "view-in-github",
        "colab_type": "text"
      },
      "source": [
        "<a href=\"https://colab.research.google.com/github/venkat2ram/Python/blob/master/Chapter3_Mnist.ipynb\" target=\"_parent\"><img src=\"https://colab.research.google.com/assets/colab-badge.svg\" alt=\"Open In Colab\"/></a>"
      ]
    },
    {
      "cell_type": "markdown",
      "metadata": {
        "id": "eHz-WCA5kHj8",
        "colab_type": "text"
      },
      "source": [
        "Importing the mnist data from sklearn data sets."
      ]
    },
    {
      "cell_type": "code",
      "metadata": {
        "id": "oLh0FKzJc959",
        "colab_type": "code",
        "colab": {}
      },
      "source": [
        "from sklearn.datasets import fetch_openml\n",
        "mnist=fetch_openml('mnist_784')"
      ],
      "execution_count": 0,
      "outputs": []
    },
    {
      "cell_type": "markdown",
      "metadata": {
        "id": "_xFi_wNdkNO3",
        "colab_type": "text"
      },
      "source": [
        "fetching the data from dataset."
      ]
    },
    {
      "cell_type": "code",
      "metadata": {
        "id": "to3z40hpe5Zl",
        "colab_type": "code",
        "outputId": "4134f863-f2ec-4452-bba9-d33f942d459d",
        "colab": {
          "base_uri": "https://localhost:8080/",
          "height": 34
        }
      },
      "source": [
        "X,y=mnist['data'],mnist['target']\n",
        "\n",
        "print(X.shape,y.shape)"
      ],
      "execution_count": 2,
      "outputs": [
        {
          "output_type": "stream",
          "text": [
            "(70000, 784) (70000,)\n"
          ],
          "name": "stdout"
        }
      ]
    },
    {
      "cell_type": "markdown",
      "metadata": {
        "id": "oL_UqgeZkSSf",
        "colab_type": "text"
      },
      "source": [
        "Displaying a digit in plot."
      ]
    },
    {
      "cell_type": "code",
      "metadata": {
        "id": "ys-5Fj7NfKdS",
        "colab_type": "code",
        "colab": {}
      },
      "source": [
        "%matplotlib inline\n",
        "import matplotlib\n",
        "from matplotlib import pyplot as plt"
      ],
      "execution_count": 0,
      "outputs": []
    },
    {
      "cell_type": "code",
      "metadata": {
        "id": "LtjZcOmlgoJ5",
        "colab_type": "code",
        "outputId": "b1137154-2a9a-48c6-e176-9a57892f380a",
        "colab": {
          "base_uri": "https://localhost:8080/",
          "height": 282
        }
      },
      "source": [
        "some_digit = X[36012]\n",
        "some_digit_image = some_digit.reshape(28, 28)\n",
        "plt.imshow(some_digit_image, cmap = matplotlib.cm.binary, interpolation=\"nearest\")\n",
        "plt.axis(\"off\")\n",
        "plt.show()\n",
        "y[36009]"
      ],
      "execution_count": 4,
      "outputs": [
        {
          "output_type": "display_data",
          "data": {
            "image/png": "[encoded data removed]",
            "text/plain": [
              "<Figure size 432x288 with 1 Axes>"
            ]
          },
          "metadata": {
            "tags": []
          }
        },
        {
          "output_type": "execute_result",
          "data": {
            "text/plain": [
              "'2'"
            ]
          },
          "metadata": {
            "tags": []
          },
          "execution_count": 4
        }
      ]
    },
    {
      "cell_type": "markdown",
      "metadata": {
        "id": "T63EtfYFkfRP",
        "colab_type": "text"
      },
      "source": [
        "Split the sets into traing and test sets."
      ]
    },
    {
      "cell_type": "code",
      "metadata": {
        "id": "5RBmMw_JjEVp",
        "colab_type": "code",
        "colab": {}
      },
      "source": [
        "X_train,X_test,y_train,y_test=X[:60000],X[60000:],y[:60000],y[60000:]"
      ],
      "execution_count": 0,
      "outputs": []
    },
    {
      "cell_type": "code",
      "metadata": {
        "id": "fiJSH9mMZ5v0",
        "colab_type": "code",
        "colab": {}
      },
      "source": [
        "import numpy as np\n",
        "shuffle_index=np.random.permutation(60000)\n",
        "X_train,y_train=X_train[shuffle_index],y_train[shuffle_index]"
      ],
      "execution_count": 0,
      "outputs": []
    },
    {
      "cell_type": "markdown",
      "metadata": {
        "id": "JhHwB-PPfFB0",
        "colab_type": "text"
      },
      "source": [
        "First let's train for the data with digit 5."
      ]
    },
    {
      "cell_type": "code",
      "metadata": {
        "id": "71H-YRSffU0l",
        "colab_type": "code",
        "colab": {}
      },
      "source": [
        "y_train_5=(y_train=='5')\n",
        "y_test_5=(y_test=='5')"
      ],
      "execution_count": 0,
      "outputs": []
    },
    {
      "cell_type": "markdown",
      "metadata": {
        "id": "OmW7PHoDhCLC",
        "colab_type": "text"
      },
      "source": [
        "Train the Stochastic gradient classifier."
      ]
    },
    {
      "cell_type": "code",
      "metadata": {
        "id": "MZqBSmHihaDJ",
        "colab_type": "code",
        "outputId": "d692c904-12be-4a86-d417-ce7b38fb24a8",
        "colab": {
          "base_uri": "https://localhost:8080/",
          "height": 119
        }
      },
      "source": [
        "from sklearn.linear_model import SGDClassifier \n",
        "SGDC=SGDClassifier(random_state=42)\n",
        "SGDC.fit(X_train,y_train_5)\n"
      ],
      "execution_count": 8,
      "outputs": [
        {
          "output_type": "execute_result",
          "data": {
            "text/plain": [
              "SGDClassifier(alpha=0.0001, average=False, class_weight=None,\n",
              "              early_stopping=False, epsilon=0.1, eta0=0.0, fit_intercept=True,\n",
              "              l1_ratio=0.15, learning_rate='optimal', loss='hinge',\n",
              "              max_iter=1000, n_iter_no_change=5, n_jobs=None, penalty='l2',\n",
              "              power_t=0.5, random_state=42, shuffle=True, tol=0.001,\n",
              "              validation_fraction=0.1, verbose=0, warm_start=False)"
            ]
          },
          "metadata": {
            "tags": []
          },
          "execution_count": 8
        }
      ]
    },
    {
      "cell_type": "code",
      "metadata": {
        "id": "Pme9RYvsjmB0",
        "colab_type": "code",
        "outputId": "a5ec7e25-a790-4368-e224-05871668bab1",
        "colab": {
          "base_uri": "https://localhost:8080/",
          "height": 34
        }
      },
      "source": [
        "SGDC.predict([some_digit])"
      ],
      "execution_count": 9,
      "outputs": [
        {
          "output_type": "execute_result",
          "data": {
            "text/plain": [
              "array([False])"
            ]
          },
          "metadata": {
            "tags": []
          },
          "execution_count": 9
        }
      ]
    },
    {
      "cell_type": "markdown",
      "metadata": {
        "id": "ELS9VwXMnBDz",
        "colab_type": "text"
      },
      "source": [
        "Perform cross validation on the training dataset."
      ]
    },
    {
      "cell_type": "code",
      "metadata": {
        "id": "7nfGWTOEPw-Y",
        "colab_type": "code",
        "outputId": "ddbf37a5-90f2-4e1c-f75b-c3e2d2d30555",
        "colab": {
          "base_uri": "https://localhost:8080/",
          "height": 68
        }
      },
      "source": [
        "from sklearn.model_selection import StratifiedKFold\n",
        "from sklearn.base import clone\n",
        "\n",
        "skfolds=StratifiedKFold(n_splits=3,random_state=42)\n",
        "\n",
        "for train_index,test_index in skfolds.split(X_train,y_train_5):\n",
        "  cln=clone(SGDC)\n",
        "  X_fold_train=X_train[train_index]\n",
        "  y_fold_train=y_train_5[train_index]\n",
        "  X_fold_test=X_train[test_index]\n",
        "  y_fold_test=y_train_5[test_index]\n",
        "  cln.fit(X_fold_train,y_fold_train)\n",
        "  y_pred=cln.predict(X_fold_test)\n",
        "  n_pred=sum(y_pred==y_fold_test)\n",
        "  print(n_pred/len(y_fold_test))\n",
        "  \n",
        "  \n",
        "  "
      ],
      "execution_count": 10,
      "outputs": [
        {
          "output_type": "stream",
          "text": [
            "0.96235\n",
            "0.96335\n",
            "0.9627\n"
          ],
          "name": "stdout"
        }
      ]
    },
    {
      "cell_type": "markdown",
      "metadata": {
        "id": "E_mkrhTkoBHd",
        "colab_type": "text"
      },
      "source": [
        "Now perform cross validation using cross_val_score() function.\n"
      ]
    },
    {
      "cell_type": "code",
      "metadata": {
        "id": "hp8TcKehoApK",
        "colab_type": "code",
        "colab": {}
      },
      "source": [
        "from sklearn.model_selection import cross_val_score\n",
        "cvs=cross_val_score(SGDC,X_train,y_train_5,cv=3,scoring='accuracy')"
      ],
      "execution_count": 0,
      "outputs": []
    },
    {
      "cell_type": "code",
      "metadata": {
        "id": "PFSc57o9p1qF",
        "colab_type": "code",
        "outputId": "d835054c-e878-45d3-f610-882960f39f34",
        "colab": {
          "base_uri": "https://localhost:8080/",
          "height": 34
        }
      },
      "source": [
        "cvs"
      ],
      "execution_count": 12,
      "outputs": [
        {
          "output_type": "execute_result",
          "data": {
            "text/plain": [
              "array([0.96235, 0.96335, 0.9627 ])"
            ]
          },
          "metadata": {
            "tags": []
          },
          "execution_count": 12
        }
      ]
    },
    {
      "cell_type": "markdown",
      "metadata": {
        "id": "MJWOpOn0yBTQ",
        "colab_type": "text"
      },
      "source": [
        "We can not depend on The accuracies. If our model predicts eevery thing ngative we will get accuracy as 90%. This is because only 10% of all the records in dataset are of digit 5.\n",
        "\n",
        "So we need a better way to check if the predictions are actually acurate. For this compare predict set with target data in data set using confusion matrix."
      ]
    },
    {
      "cell_type": "code",
      "metadata": {
        "id": "1khzQiK_YdXX",
        "colab_type": "code",
        "colab": {}
      },
      "source": [
        "y_t=SGDC.predict(X_train)"
      ],
      "execution_count": 0,
      "outputs": []
    },
    {
      "cell_type": "code",
      "metadata": {
        "id": "McakoGIjY9GZ",
        "colab_type": "code",
        "outputId": "1764163e-bb9c-45d4-d87f-d0b066242a57",
        "colab": {
          "base_uri": "https://localhost:8080/",
          "height": 51
        }
      },
      "source": [
        "from sklearn.metrics import confusion_matrix\n",
        "cm=confusion_matrix(y_train_5,y_t)\n",
        "cm"
      ],
      "execution_count": 23,
      "outputs": [
        {
          "output_type": "execute_result",
          "data": {
            "text/plain": [
              "array([[53873,   706],\n",
              "       [  951,  4470]])"
            ]
          },
          "metadata": {
            "tags": []
          },
          "execution_count": 23
        }
      ]
    },
    {
      "cell_type": "markdown",
      "metadata": {
        "id": "SVncXlaQEFrx",
        "colab_type": "text"
      },
      "source": [
        "calculate Precision and recall using above numbers."
      ]
    },
    {
      "cell_type": "code",
      "metadata": {
        "id": "vJeTrZA2EFKr",
        "colab_type": "code",
        "colab": {
          "base_uri": "https://localhost:8080/",
          "height": 68
        },
        "outputId": "c9e0b9b3-854e-4b6b-f16a-a1bec95b6847"
      },
      "source": [
        "tn=cm[0,0]\n",
        "fp=cm[0,1]\n",
        "fn=cm[1,0]\n",
        "tp=cm[1,1]\n",
        "print(tn,fn,fp,tp)\n",
        "precision=tp/(tp+fp)\n",
        "recall=tp/(tp+fn)\n",
        "print('Precision=',precision)\n",
        "print('Recall=',recall)\n"
      ],
      "execution_count": 24,
      "outputs": [
        {
          "output_type": "stream",
          "text": [
            "53873 951 706 4470\n",
            "Precision= 0.8636012364760433\n",
            "Recall= 0.8245711123408965\n"
          ],
          "name": "stdout"
        }
      ]
    },
    {
      "cell_type": "markdown",
      "metadata": {
        "id": "LknwvOmvG8Fz",
        "colab_type": "text"
      },
      "source": [
        "Now calculate precision and recall using scikit learn."
      ]
    },
    {
      "cell_type": "code",
      "metadata": {
        "id": "dHLGv_xgHwJX",
        "colab_type": "code",
        "colab": {
          "base_uri": "https://localhost:8080/",
          "height": 51
        },
        "outputId": "7f09fd7b-84c3-4420-cf13-938b39129740"
      },
      "source": [
        "from sklearn.metrics import precision_score,recall_score\n",
        "print(precision_score(y_t,y_train_5))\n",
        "print(recall_score(y_t,y_train_5))"
      ],
      "execution_count": 27,
      "outputs": [
        {
          "output_type": "stream",
          "text": [
            "0.8245711123408965\n",
            "0.8636012364760433\n"
          ],
          "name": "stdout"
        }
      ]
    },
    {
      "cell_type": "markdown",
      "metadata": {
        "id": "lvwstQEAIlra",
        "colab_type": "text"
      },
      "source": [
        "Both are matching. Now calculate the F1 score. f1= 2 / ( (1/precision)+(1/recall))"
      ]
    },
    {
      "cell_type": "code",
      "metadata": {
        "id": "nAZibt7HJH2V",
        "colab_type": "code",
        "colab": {
          "base_uri": "https://localhost:8080/",
          "height": 34
        },
        "outputId": "9c58f5b5-432e-4daf-caca-ea3286a372bc"
      },
      "source": [
        "f1= 2 / ( (1/precision)+(1/recall))\n",
        "print(f1)"
      ],
      "execution_count": 28,
      "outputs": [
        {
          "output_type": "stream",
          "text": [
            "0.8436349910351986\n"
          ],
          "name": "stdout"
        }
      ]
    },
    {
      "cell_type": "markdown",
      "metadata": {
        "id": "vRik6H7XJPV8",
        "colab_type": "text"
      },
      "source": [
        "Now get the f1 score using sklearn."
      ]
    },
    {
      "cell_type": "code",
      "metadata": {
        "id": "RUx0r61HJVsj",
        "colab_type": "code",
        "colab": {
          "base_uri": "https://localhost:8080/",
          "height": 34
        },
        "outputId": "cc1e39b2-faca-4b79-af9f-8097027ba484"
      },
      "source": [
        "from sklearn.metrics import f1_score\n",
        "f1_score(y_t,y_train_5)"
      ],
      "execution_count": 29,
      "outputs": [
        {
          "output_type": "execute_result",
          "data": {
            "text/plain": [
              "0.8436349910351987"
            ]
          },
          "metadata": {
            "tags": []
          },
          "execution_count": 29
        }
      ]
    },
    {
      "cell_type": "markdown",
      "metadata": {
        "id": "9c-wpIJSv86W",
        "colab_type": "text"
      },
      "source": [
        "You can compromise on either recall or precision to improve the other. This is by increasing or decreasing the threshold of the classification. Threshold is nothing but a value used to decide whether an example is positive or negative. \n",
        "For this, you need to get the putput of the decision function of your classifier instead of predictions. like below. And then use precision_recall_curve to check the graph."
      ]
    },
    {
      "cell_type": "code",
      "metadata": {
        "id": "eQLckCMQw5hY",
        "colab_type": "code",
        "colab": {}
      },
      "source": [
        "y_scores=SGDC.decision_function(X_train)"
      ],
      "execution_count": 0,
      "outputs": []
    },
    {
      "cell_type": "code",
      "metadata": {
        "id": "LpLBZyNNx2B6",
        "colab_type": "code",
        "colab": {}
      },
      "source": [
        "from sklearn.metrics import precision_recall_curve\n",
        "precisions,recalls,threshold= precision_recall_curve(y_train_5,y_scores)"
      ],
      "execution_count": 0,
      "outputs": []
    },
    {
      "cell_type": "code",
      "metadata": {
        "id": "zQ87L2G1yX6m",
        "colab_type": "code",
        "colab": {
          "base_uri": "https://localhost:8080/",
          "height": 269
        },
        "outputId": "a2fd1c35-2c46-4e1b-cc8b-86e7acd1a489"
      },
      "source": [
        "import matplotlib.pyplot as plt\n",
        "plt.plot(threshold,precisions[:-1],'g--',label='Precision')\n",
        "plt.plot(threshold,recalls[:-1],'b-',label='Recall')\n",
        "plt.legend()\n",
        "plt.show()"
      ],
      "execution_count": 42,
      "outputs": [
        {
          "output_type": "display_data",
          "data": {
            "image/png": "[encoded data removed]",
            "text/plain": [
              "<Figure size 432x288 with 1 Axes>"
            ]
          },
          "metadata": {
            "tags": []
          }
        }
      ]
    },
    {
      "cell_type": "markdown",
      "metadata": {
        "id": "zrKJ82u183HV",
        "colab_type": "text"
      },
      "source": [
        "This clearly shos that at threshold 0 the precision and recall are at relative high. So now establish relation between precisiona and recall."
      ]
    },
    {
      "cell_type": "code",
      "metadata": {
        "id": "sIvMWZue9RM0",
        "colab_type": "code",
        "colab": {
          "base_uri": "https://localhost:8080/",
          "height": 286
        },
        "outputId": "72fb7f5b-0bb3-445f-e7c4-2650d218af94"
      },
      "source": [
        "plt.plot(recalls[:-1],precisions[:-1],'b-')\n",
        "plt.legend()\n",
        "plt.show()"
      ],
      "execution_count": 54,
      "outputs": [
        {
          "output_type": "stream",
          "text": [
            "No handles with labels found to put in legend.\n"
          ],
          "name": "stderr"
        },
        {
          "output_type": "display_data",
          "data": {
            "image/png": "[encoded data removed]",
            "text/plain": [
              "<Figure size 432x288 with 1 Axes>"
            ]
          },
          "metadata": {
            "tags": []
          }
        }
      ]
    },
    {
      "cell_type": "markdown",
      "metadata": {
        "id": "488sjRaV7gjr",
        "colab_type": "text"
      },
      "source": [
        "Recall is actually about how many positive values are classified as positives i.e) true positives. Now we need to see if the threshold is set to high, how many actual negatives are classified as positives(false positives). Use roc_curve for these details."
      ]
    },
    {
      "cell_type": "code",
      "metadata": {
        "id": "D8ep6fbAA6Ci",
        "colab_type": "code",
        "colab": {
          "base_uri": "https://localhost:8080/",
          "height": 269
        },
        "outputId": "628abe8c-0dc8-40c1-930b-0e3225a9959b"
      },
      "source": [
        "from sklearn.metrics  import roc_curve\n",
        "fpr,tpr,thresholds=roc_curve(y_t,y_train_5)\n",
        "plt.plot(fpr,tpr,\"b-\")\n",
        "plt.xlabel='False positive rate'\n",
        "plt.ylabel='True positive rate'\n",
        "\n",
        "plt.show()"
      ],
      "execution_count": 59,
      "outputs": [
        {
          "output_type": "display_data",
          "data": {
            "image/png": "[encoded data removed]",
            "text/plain": [
              "<Figure size 432x288 with 1 Axes>"
            ]
          },
          "metadata": {
            "tags": []
          }
        }
      ]
    },
    {
      "cell_type": "markdown",
      "metadata": {
        "id": "AKLm5ogTCy74",
        "colab_type": "text"
      },
      "source": [
        "Start from page 92 in the book."
      ]
    }
  ]
}