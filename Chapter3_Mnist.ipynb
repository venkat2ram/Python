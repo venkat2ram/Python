{
  "nbformat": 4,
  "nbformat_minor": 0,
  "metadata": {
    "colab": {
      "name": "Chapter3_Mnist.ipynb",
      "provenance": [],
      "include_colab_link": true
    },
    "kernelspec": {
      "name": "python3",
      "display_name": "Python 3"
    }
  },
  "cells": [
    {
      "cell_type": "markdown",
      "metadata": {
        "id": "view-in-github",
        "colab_type": "text"
      },
      "source": [
        "<a href=\"https://colab.research.google.com/github/venkat2ram/Python/blob/master/Chapter3_Mnist.ipynb\" target=\"_parent\"><img src=\"https://colab.research.google.com/assets/colab-badge.svg\" alt=\"Open In Colab\"/></a>"
      ]
    },
    {
      "cell_type": "markdown",
      "metadata": {
        "id": "eHz-WCA5kHj8",
        "colab_type": "text"
      },
      "source": [
        "Importing the mnist data from sklearn data sets."
      ]
    },
    {
      "cell_type": "code",
      "metadata": {
        "id": "oLh0FKzJc959",
        "colab_type": "code",
        "colab": {}
      },
      "source": [
        "from sklearn.datasets import fetch_openml\n",
        "mnist=fetch_openml('mnist_784')"
      ],
      "execution_count": 0,
      "outputs": []
    },
    {
      "cell_type": "markdown",
      "metadata": {
        "id": "_xFi_wNdkNO3",
        "colab_type": "text"
      },
      "source": [
        "fetching the data from dataset."
      ]
    },
    {
      "cell_type": "code",
      "metadata": {
        "id": "to3z40hpe5Zl",
        "colab_type": "code",
        "colab": {
          "base_uri": "https://localhost:8080/",
          "height": 34
        },
        "outputId": "45e1027d-174d-4a26-ffe0-8550aaf372e6"
      },
      "source": [
        "X,y=mnist['data'],mnist['target']\n",
        "\n",
        "print(X.shape,y.shape)"
      ],
      "execution_count": 2,
      "outputs": [
        {
          "output_type": "stream",
          "text": [
            "(70000, 784) (70000,)\n"
          ],
          "name": "stdout"
        }
      ]
    },
    {
      "cell_type": "markdown",
      "metadata": {
        "id": "oL_UqgeZkSSf",
        "colab_type": "text"
      },
      "source": [
        "Displaying a digit in plot."
      ]
    },
    {
      "cell_type": "code",
      "metadata": {
        "id": "ys-5Fj7NfKdS",
        "colab_type": "code",
        "colab": {}
      },
      "source": [
        "%matplotlib inline\n",
        "import matplotlib\n",
        "from matplotlib import pyplot as plt"
      ],
      "execution_count": 0,
      "outputs": []
    },
    {
      "cell_type": "code",
      "metadata": {
        "id": "LtjZcOmlgoJ5",
        "colab_type": "code",
        "colab": {
          "base_uri": "https://localhost:8080/",
          "height": 282
        },
        "outputId": "3f4c35a1-985a-413c-c100-46cbe02c7081"
      },
      "source": [
        "some_digit = X[36012]\n",
        "some_digit_image = some_digit.reshape(28, 28)\n",
        "plt.imshow(some_digit_image, cmap = matplotlib.cm.binary, interpolation=\"nearest\")\n",
        "plt.axis(\"off\")\n",
        "plt.show()\n",
        "y[36009]"
      ],
      "execution_count": 4,
      "outputs": [
        {
          "output_type": "display_data",
          "data": {
            "image/png": "[encoded data removed]",
            "text/plain": [
              "<Figure size 432x288 with 1 Axes>"
            ]
          },
          "metadata": {
            "tags": []
          }
        },
        {
          "output_type": "execute_result",
          "data": {
            "text/plain": [
              "'2'"
            ]
          },
          "metadata": {
            "tags": []
          },
          "execution_count": 4
        }
      ]
    },
    {
      "cell_type": "markdown",
      "metadata": {
        "id": "T63EtfYFkfRP",
        "colab_type": "text"
      },
      "source": [
        "Split the sets into traing and test sets."
      ]
    },
    {
      "cell_type": "code",
      "metadata": {
        "id": "5RBmMw_JjEVp",
        "colab_type": "code",
        "colab": {}
      },
      "source": [
        "X_train,X_test,y_train,y_test=X[:60000],X[60000:],y[:60000],y[60000:]"
      ],
      "execution_count": 0,
      "outputs": []
    },
    {
      "cell_type": "code",
      "metadata": {
        "id": "fiJSH9mMZ5v0",
        "colab_type": "code",
        "colab": {}
      },
      "source": [
        "import numpy as np\n",
        "shuffle_index=np.random.permutation(60000)\n",
        "X_train,y_train=X_train[shuffle_index],y_train[shuffle_index]"
      ],
      "execution_count": 0,
      "outputs": []
    },
    {
      "cell_type": "markdown",
      "metadata": {
        "id": "JhHwB-PPfFB0",
        "colab_type": "text"
      },
      "source": [
        "First let's train for the data with digit 5."
      ]
    },
    {
      "cell_type": "code",
      "metadata": {
        "id": "71H-YRSffU0l",
        "colab_type": "code",
        "colab": {}
      },
      "source": [
        "y_train_5=(y_train=='5')\n",
        "y_test_5=(y_test=='5')"
      ],
      "execution_count": 0,
      "outputs": []
    },
    {
      "cell_type": "markdown",
      "metadata": {
        "id": "OmW7PHoDhCLC",
        "colab_type": "text"
      },
      "source": [
        "Train the Stochastic gradient classifier."
      ]
    },
    {
      "cell_type": "code",
      "metadata": {
        "id": "MZqBSmHihaDJ",
        "colab_type": "code",
        "colab": {
          "base_uri": "https://localhost:8080/",
          "height": 119
        },
        "outputId": "efff351a-9fc6-4153-ec25-2be6c11440db"
      },
      "source": [
        "from sklearn.linear_model import SGDClassifier \n",
        "SGDC=SGDClassifier(random_state=42)\n",
        "SGDC.fit(X_train,y_train_5)\n"
      ],
      "execution_count": 8,
      "outputs": [
        {
          "output_type": "execute_result",
          "data": {
            "text/plain": [
              "SGDClassifier(alpha=0.0001, average=False, class_weight=None,\n",
              "              early_stopping=False, epsilon=0.1, eta0=0.0, fit_intercept=True,\n",
              "              l1_ratio=0.15, learning_rate='optimal', loss='hinge',\n",
              "              max_iter=1000, n_iter_no_change=5, n_jobs=None, penalty='l2',\n",
              "              power_t=0.5, random_state=42, shuffle=True, tol=0.001,\n",
              "              validation_fraction=0.1, verbose=0, warm_start=False)"
            ]
          },
          "metadata": {
            "tags": []
          },
          "execution_count": 8
        }
      ]
    },
    {
      "cell_type": "code",
      "metadata": {
        "id": "Pme9RYvsjmB0",
        "colab_type": "code",
        "colab": {
          "base_uri": "https://localhost:8080/",
          "height": 34
        },
        "outputId": "34c1244b-2503-42b3-eea5-18715b631e2f"
      },
      "source": [
        "SGDC.predict([some_digit])"
      ],
      "execution_count": 9,
      "outputs": [
        {
          "output_type": "execute_result",
          "data": {
            "text/plain": [
              "array([False])"
            ]
          },
          "metadata": {
            "tags": []
          },
          "execution_count": 9
        }
      ]
    },
    {
      "cell_type": "markdown",
      "metadata": {
        "id": "ELS9VwXMnBDz",
        "colab_type": "text"
      },
      "source": [
        "Perform cross validation on the training dataset."
      ]
    },
    {
      "cell_type": "code",
      "metadata": {
        "id": "7nfGWTOEPw-Y",
        "colab_type": "code",
        "colab": {
          "base_uri": "https://localhost:8080/",
          "height": 68
        },
        "outputId": "894589f8-31d7-4572-aa7a-d54750d256fb"
      },
      "source": [
        "from sklearn.model_selection import StratifiedKFold\n",
        "from sklearn.base import clone\n",
        "\n",
        "skfolds=StratifiedKFold(n_splits=3,random_state=42)\n",
        "\n",
        "for train_index,test_index in skfolds.split(X_train,y_train_5):\n",
        "  cln=clone(SGDC)\n",
        "  X_fold_train=X_train[train_index]\n",
        "  y_fold_train=y_train_5[train_index]\n",
        "  X_fold_test=X_train[test_index]\n",
        "  y_fold_test=y_train_5[test_index]\n",
        "  cln.fit(X_fold_train,y_fold_train)\n",
        "  y_pred=cln.predict(X_fold_test)\n",
        "  n_pred=sum(y_pred==y_fold_test)\n",
        "  print(n_pred/len(y_fold_test))\n",
        "  \n",
        "  \n",
        "  "
      ],
      "execution_count": 10,
      "outputs": [
        {
          "output_type": "stream",
          "text": [
            "0.96235\n",
            "0.96735\n",
            "0.9649\n"
          ],
          "name": "stdout"
        }
      ]
    },
    {
      "cell_type": "markdown",
      "metadata": {
        "id": "E_mkrhTkoBHd",
        "colab_type": "text"
      },
      "source": [
        "Now perform cross validation using cross_val_score() function.\n"
      ]
    },
    {
      "cell_type": "code",
      "metadata": {
        "id": "hp8TcKehoApK",
        "colab_type": "code",
        "colab": {}
      },
      "source": [
        "from sklearn.model_selection import cross_val_score\n",
        "cvs=cross_val_score(SGDC,X_train,y_train_5,cv=3,scoring='accuracy')"
      ],
      "execution_count": 0,
      "outputs": []
    },
    {
      "cell_type": "code",
      "metadata": {
        "id": "PFSc57o9p1qF",
        "colab_type": "code",
        "colab": {
          "base_uri": "https://localhost:8080/",
          "height": 34
        },
        "outputId": "f3ac38ea-fb71-4816-ad5d-8656bd9d42c4"
      },
      "source": [
        "cvs"
      ],
      "execution_count": 12,
      "outputs": [
        {
          "output_type": "execute_result",
          "data": {
            "text/plain": [
              "array([0.96235, 0.96735, 0.9649 ])"
            ]
          },
          "metadata": {
            "tags": []
          },
          "execution_count": 12
        }
      ]
    },
    {
      "cell_type": "markdown",
      "metadata": {
        "id": "MJWOpOn0yBTQ",
        "colab_type": "text"
      },
      "source": [
        "We can not depend on The accuracies. If our model predicts eevery thing ngative we will get accuracy as 90%. This is because only 10% of all the records in dataset are of digit 5.\n",
        "\n",
        "So we need a better way to check if the predictions are actually acurate. For this compare predict set with target data in data set using confusion matrix."
      ]
    },
    {
      "cell_type": "code",
      "metadata": {
        "id": "1khzQiK_YdXX",
        "colab_type": "code",
        "colab": {}
      },
      "source": [
        "y_t=SGDC.predict(X_train)"
      ],
      "execution_count": 0,
      "outputs": []
    },
    {
      "cell_type": "code",
      "metadata": {
        "id": "McakoGIjY9GZ",
        "colab_type": "code",
        "colab": {
          "base_uri": "https://localhost:8080/",
          "height": 51
        },
        "outputId": "af0eac62-4989-440c-8848-dea9e07bebe1"
      },
      "source": [
        "from sklearn.metrics import confusion_matrix\n",
        "confusion_matrix(y_t, y_train_5)"
      ],
      "execution_count": 16,
      "outputs": [
        {
          "output_type": "execute_result",
          "data": {
            "text/plain": [
              "array([[54136,  1163],\n",
              "       [  443,  4258]])"
            ]
          },
          "metadata": {
            "tags": []
          },
          "execution_count": 16
        }
      ]
    }
  ]
}