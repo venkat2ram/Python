{
  "nbformat": 4,
  "nbformat_minor": 0,
  "metadata": {
    "colab": {
      "name": "Neural_multi_record.ipynb",
      "provenance": [],
      "include_colab_link": true
    },
    "kernelspec": {
      "name": "python3",
      "display_name": "Python 3"
    }
  },
  "cells": [
    {
      "cell_type": "markdown",
      "metadata": {
        "id": "view-in-github",
        "colab_type": "text"
      },
      "source": [
        "<a href=\"https://colab.research.google.com/github/venkat2ram/Python/blob/master/Neural_multi_record.ipynb\" target=\"_parent\"><img src=\"https://colab.research.google.com/assets/colab-badge.svg\" alt=\"Open In Colab\"/></a>"
      ]
    },
    {
      "cell_type": "code",
      "metadata": {
        "id": "sadMXuhB1m2E",
        "colab_type": "code",
        "colab": {}
      },
      "source": [
        "import numpy as np"
      ],
      "execution_count": 0,
      "outputs": []
    },
    {
      "cell_type": "code",
      "metadata": {
        "id": "jHoLZrC22pYz",
        "colab_type": "code",
        "colab": {}
      },
      "source": [
        "X_actual=np.array([[2],[3],[4],[5]])/10\n",
        "y_actual=np.array([[0],[1],[0],[1]])"
      ],
      "execution_count": 0,
      "outputs": []
    },
    {
      "cell_type": "code",
      "metadata": {
        "id": "K_mMOJSq204x",
        "colab_type": "code",
        "colab": {}
      },
      "source": [
        "NumHLayers=1\n",
        "NumHUnits=1"
      ],
      "execution_count": 0,
      "outputs": []
    },
    {
      "cell_type": "code",
      "metadata": {
        "id": "OObJU7-T3W9E",
        "colab_type": "code",
        "colab": {}
      },
      "source": [
        "m,n=np.shape(X_actual)\n",
        "p,s=np.shape(y_actual)\n",
        "X_with_bias=np.c_[np.ones((X_actual.shape[0],1)),X_actual]\n",
        "y=y_actual\n",
        "hidden=np.ones((m,NumHUnits+1))\n",
        "out=np.ones((p,s))\n",
        "ITheta=np.ones((n+1,NumHUnits))\n",
        "ETheta=np.ones((NumHUnits+1,s))\n",
        "EGrad=np.ones((NumHUnits+1,s))\n",
        "IGrad=np.ones((n+1,NumHUnits))\n",
        "hidden[:,1:NumHUnits+1]=(1/(1+np.exp(-1*np.matmul(X_with_bias,ITheta))))\n",
        "out=(1/(1+np.exp(-1*np.matmul(hidden,ETheta))))"
      ],
      "execution_count": 0,
      "outputs": []
    },
    {
      "cell_type": "code",
      "metadata": {
        "id": "oAW3qlnk36RP",
        "colab_type": "code",
        "colab": {
          "base_uri": "https://localhost:8080/",
          "height": 85
        },
        "outputId": "d3e06b04-03e2-4b9c-ad4a-e9bdad4776e7"
      },
      "source": [
        "hidden"
      ],
      "execution_count": 26,
      "outputs": [
        {
          "output_type": "execute_result",
          "data": {
            "text/plain": [
              "array([[1.        , 0.76852478],\n",
              "       [1.        , 0.78583498],\n",
              "       [1.        , 0.80218389],\n",
              "       [1.        , 0.81757448]])"
            ]
          },
          "metadata": {
            "tags": []
          },
          "execution_count": 26
        }
      ]
    },
    {
      "cell_type": "code",
      "metadata": {
        "id": "BKSjpU8m9_Uu",
        "colab_type": "code",
        "colab": {
          "base_uri": "https://localhost:8080/",
          "height": 85
        },
        "outputId": "4719afe3-7452-41fd-cc1e-d420ff58079c"
      },
      "source": [
        "out"
      ],
      "execution_count": 28,
      "outputs": [
        {
          "output_type": "execute_result",
          "data": {
            "text/plain": [
              "array([[0.85427412],\n",
              "       [0.85641587],\n",
              "       [0.85841457],\n",
              "       [0.86027483]])"
            ]
          },
          "metadata": {
            "tags": []
          },
          "execution_count": 28
        }
      ]
    }
  ]
}