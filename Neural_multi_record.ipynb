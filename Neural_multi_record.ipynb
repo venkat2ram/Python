{
  "nbformat": 4,
  "nbformat_minor": 0,
  "metadata": {
    "colab": {
      "name": "Neural_multi_record.ipynb",
      "provenance": [],
      "include_colab_link": true
    },
    "kernelspec": {
      "name": "python3",
      "display_name": "Python 3"
    }
  },
  "cells": [
    {
      "cell_type": "markdown",
      "metadata": {
        "id": "view-in-github",
        "colab_type": "text"
      },
      "source": [
        "<a href=\"https://colab.research.google.com/github/venkat2ram/Python/blob/master/Neural_multi_record.ipynb\" target=\"_parent\"><img src=\"https://colab.research.google.com/assets/colab-badge.svg\" alt=\"Open In Colab\"/></a>"
      ]
    },
    {
      "cell_type": "code",
      "metadata": {
        "id": "sadMXuhB1m2E",
        "colab_type": "code",
        "colab": {}
      },
      "source": [
        "import numpy as np"
      ],
      "execution_count": 0,
      "outputs": []
    },
    {
      "cell_type": "code",
      "metadata": {
        "id": "jHoLZrC22pYz",
        "colab_type": "code",
        "colab": {}
      },
      "source": [
        "X_actual=np.array([[0],[1],[2],[3],[4],[5],[6],[7],[8],[9]])/10\n",
        "y_actual=np.array([[0],[0],[0],[0],[0],[1],[1],[1],[1],[1]])\n",
        "#X_actual=np.array([[2]])/10\n",
        "#y_actual=np.array([[0]])"
      ],
      "execution_count": 0,
      "outputs": []
    },
    {
      "cell_type": "code",
      "metadata": {
        "id": "K_mMOJSq204x",
        "colab_type": "code",
        "colab": {}
      },
      "source": [
        "NumHLayers=1\n",
        "NumHUnits=3"
      ],
      "execution_count": 0,
      "outputs": []
    },
    {
      "cell_type": "code",
      "metadata": {
        "id": "OObJU7-T3W9E",
        "colab_type": "code",
        "colab": {
          "base_uri": "https://localhost:8080/",
          "height": 1000
        },
        "outputId": "63c484ad-5afd-4e4b-b9a2-8997b66af782"
      },
      "source": [
        "m,n=np.shape(X_actual)\n",
        "p,s=np.shape(y_actual)\n",
        "X_with_bias=np.c_[np.ones((X_actual.shape[0],1)),X_actual]\n",
        "y=y_actual\n",
        "hidden=np.ones((m,NumHUnits+1))\n",
        "out=np.ones((p,s))\n",
        "ITheta=np.ones((n+1,NumHUnits))\n",
        "ETheta=np.ones((NumHUnits+1,s))\n",
        "EGrad=np.ones((NumHUnits+1,s))\n",
        "IGrad=np.ones((n+1,NumHUnits))\n",
        "for i in range(500000):\n",
        "  hidden[:,1:NumHUnits+1]=(1/(1+np.exp(-1*np.matmul(X_with_bias,ITheta))))\n",
        "  out=(1/(1+np.exp(-1*np.matmul(hidden,ETheta))))\n",
        "  EGrad=np.matmul(hidden.transpose(),2*(y-out)*out*(1-out))\n",
        "  HGrad=(ETheta*sum(2*(y-out)*out*(1-out)))[1:NumHUnits+1]\n",
        "  HTGrad=sum(hidden[:,1:NumHUnits+1]*(hidden[:,1:NumHUnits+1]*(1-hidden[:,1:NumHUnits+1])))*ITheta[1:n+1,:]\n",
        "  cost=sum((y-out)**2)\n",
        "  ETheta=ETheta+EGrad\n",
        "  ITheta=ITheta+HTGrad*0.001\n",
        "  if(i%100000==0):\n",
        "    print(cost,EGrad,out)"
      ],
      "execution_count": 135,
      "outputs": [
        {
          "output_type": "stream",
          "text": [
            "[4.65471634] [[-0.32284844]\n",
            " [-0.24665763]\n",
            " [-0.24665763]\n",
            " [-0.24665763]] [[0.96057666]\n",
            " [0.96270114]\n",
            " [0.96461955]\n",
            " [0.96634974]\n",
            " [0.96790866]\n",
            " [0.96931226]\n",
            " [0.97057532]\n",
            " [0.97171152]\n",
            " [0.97273338]\n",
            " [0.97365233]]\n",
            "[4.29381966] [[0.60006082]\n",
            " [0.60006952]\n",
            " [0.60006952]\n",
            " [0.60006952]] [[0.07014682]\n",
            " [0.07325484]\n",
            " [0.07481627]\n",
            " [0.07558864]\n",
            " [0.07596782]\n",
            " [0.07615329]\n",
            " [0.07624385]\n",
            " [0.07628803]\n",
            " [0.07630957]\n",
            " [0.07632007]]\n",
            "[4.06041597] [[0.74414039]\n",
            " [0.74415044]\n",
            " [0.74415044]\n",
            " [0.74415044]] [[0.10040268]\n",
            " [0.1027901 ]\n",
            " [0.10388846]\n",
            " [0.10438953]\n",
            " [0.10461725]\n",
            " [0.10472056]\n",
            " [0.1047674 ]\n",
            " [0.10478862]\n",
            " [0.10479824]\n",
            " [0.10480259]]\n",
            "[2.49621593] [[0.16017558]\n",
            " [0.16026925]\n",
            " [0.16026925]\n",
            " [0.16026925]] [[0.46125941]\n",
            " [0.4659037 ]\n",
            " [0.46792214]\n",
            " [0.46879879]\n",
            " [0.46917944]\n",
            " [0.46934469]\n",
            " [0.46941644]\n",
            " [0.46944758]\n",
            " [0.46946111]\n",
            " [0.46946698]]\n",
            "[2.65348097] [[0.59971389]\n",
            " [0.59976422]\n",
            " [0.59976422]\n",
            " [0.59976422]] [[0.36737722]\n",
            " [0.37075658]\n",
            " [0.37218398]\n",
            " [0.37278591]\n",
            " [0.37303956]\n",
            " [0.37314643]\n",
            " [0.37319144]\n",
            " [0.3732104 ]\n",
            " [0.37321839]\n",
            " [0.37322175]]\n"
          ],
          "name": "stdout"
        }
      ]
    },
    {
      "cell_type": "code",
      "metadata": {
        "id": "oAW3qlnk36RP",
        "colab_type": "code",
        "colab": {
          "base_uri": "https://localhost:8080/",
          "height": 34
        },
        "outputId": "99ee94cb-54da-478b-f5ab-774fecba022a"
      },
      "source": [
        "ITheta[1:n+1,:]*HTGrad"
      ],
      "execution_count": 129,
      "outputs": [
        {
          "output_type": "execute_result",
          "data": {
            "text/plain": [
              "array([[1.23214901, 1.23214901, 1.23214901]])"
            ]
          },
          "metadata": {
            "tags": []
          },
          "execution_count": 129
        }
      ]
    },
    {
      "cell_type": "code",
      "metadata": {
        "id": "BKSjpU8m9_Uu",
        "colab_type": "code",
        "colab": {
          "base_uri": "https://localhost:8080/",
          "height": 34
        },
        "outputId": "fa1b97b0-5bf5-474b-c973-e2c63710f716"
      },
      "source": [
        "HTGrad"
      ],
      "execution_count": 133,
      "outputs": [
        {
          "output_type": "execute_result",
          "data": {
            "text/plain": [
              "array([[0.05279146, 0.05279146, 0.05279146]])"
            ]
          },
          "metadata": {
            "tags": []
          },
          "execution_count": 133
        }
      ]
    },
    {
      "cell_type": "code",
      "metadata": {
        "id": "AgT9DsvL7_Vd",
        "colab_type": "code",
        "colab": {
          "base_uri": "https://localhost:8080/",
          "height": 187
        },
        "outputId": "eda9aa02-2094-4ba5-e36a-9e240f19b78a"
      },
      "source": [
        "hidden[:,1:NumHUnits+1]"
      ],
      "execution_count": 119,
      "outputs": [
        {
          "output_type": "execute_result",
          "data": {
            "text/plain": [
              "array([[0.73105858, 0.73105858, 0.73105858],\n",
              "       [0.75026011, 0.75026011, 0.75026011],\n",
              "       [0.76852478, 0.76852478, 0.76852478],\n",
              "       [0.78583498, 0.78583498, 0.78583498],\n",
              "       [0.80218389, 0.80218389, 0.80218389],\n",
              "       [0.81757448, 0.81757448, 0.81757448],\n",
              "       [0.83201839, 0.83201839, 0.83201839],\n",
              "       [0.84553473, 0.84553473, 0.84553473],\n",
              "       [0.85814894, 0.85814894, 0.85814894],\n",
              "       [0.86989153, 0.86989153, 0.86989153]])"
            ]
          },
          "metadata": {
            "tags": []
          },
          "execution_count": 119
        }
      ]
    }
  ]
}