{
  "nbformat": 4,
  "nbformat_minor": 0,
  "metadata": {
    "colab": {
      "name": "Neural_multi_record.ipynb",
      "provenance": [],
      "include_colab_link": true
    },
    "kernelspec": {
      "name": "python3",
      "display_name": "Python 3"
    }
  },
  "cells": [
    {
      "cell_type": "markdown",
      "metadata": {
        "id": "view-in-github",
        "colab_type": "text"
      },
      "source": [
        "<a href=\"https://colab.research.google.com/github/venkat2ram/Python/blob/master/Neural_multi_record.ipynb\" target=\"_parent\"><img src=\"https://colab.research.google.com/assets/colab-badge.svg\" alt=\"Open In Colab\"/></a>"
      ]
    },
    {
      "cell_type": "code",
      "metadata": {
        "id": "sadMXuhB1m2E",
        "colab_type": "code",
        "colab": {}
      },
      "source": [
        "import numpy as np"
      ],
      "execution_count": 0,
      "outputs": []
    },
    {
      "cell_type": "code",
      "metadata": {
        "id": "jHoLZrC22pYz",
        "colab_type": "code",
        "colab": {}
      },
      "source": [
        "X_actual=np.array([[0],[1],[2],[3],[4],[5],[6],[7],[8],[9]])/10\n",
        "y_actual=np.array([[0],[0],[0],[0],[0],[1],[1],[1],[1],[1]])\n",
        "#X_actual=np.array([[2]])/10\n",
        "#y_actual=np.array([[0]])"
      ],
      "execution_count": 0,
      "outputs": []
    },
    {
      "cell_type": "code",
      "metadata": {
        "id": "K_mMOJSq204x",
        "colab_type": "code",
        "colab": {}
      },
      "source": [
        "NumHLayers=1\n",
        "NumHUnits=3"
      ],
      "execution_count": 0,
      "outputs": []
    },
    {
      "cell_type": "code",
      "metadata": {
        "id": "OObJU7-T3W9E",
        "colab_type": "code",
        "outputId": "e42bf227-58f4-4305-d80e-3ae12e521a6b",
        "colab": {
          "base_uri": "https://localhost:8080/",
          "height": 1000
        }
      },
      "source": [
        "m,n=np.shape(X_actual)\n",
        "p,s=np.shape(y_actual)\n",
        "X_with_bias=np.c_[np.ones((X_actual.shape[0],1)),X_actual]\n",
        "y=y_actual\n",
        "hidden=np.ones((m,NumHUnits+1))\n",
        "out=np.ones((p,s))\n",
        "#ITheta=np.ones((n+1,NumHUnits))\n",
        "ITheta=np.random.rand(n+1,NumHUnits)\n",
        "#ETheta=np.ones((NumHUnits+1,s))\n",
        "ETheta=np.random.rand(NumHUnits+1,s)\n",
        "EGrad=np.ones((NumHUnits+1,s))\n",
        "IGrad=np.ones((n+1,NumHUnits))\n",
        "for i in range(700000):\n",
        "  hidden[:,1:NumHUnits+1]=(1/(1+np.exp(-1*np.matmul(X_with_bias,ITheta))))\n",
        "  out=(1/(1+np.exp(-1*np.matmul(hidden,ETheta))))\n",
        "  EGrad=np.matmul(hidden.transpose(),2*(y-out)*out*(1-out))\n",
        "  #HGrad=(ETheta*sum(2*(y-out)*out*(1-out)))[1:NumHUnits+1]\n",
        "  HGrad=np.sum(np.matmul(ETheta[1:NumHUnits+1],(2*(y-out)*out*(1-out)).transpose()),axis=1)\n",
        "  HTGrad=np.matmul(X_with_bias.transpose(),hidden[:,1:NumHUnits+1]*HGrad)\n",
        "  #HTGrad=sum(hidden[:,1:NumHUnits+1]*(hidden[:,1:NumHUnits+1]*(1-hidden[:,1:NumHUnits+1])))*ITheta[1:n+1,:]\n",
        "  cost=sum((y-out)**2)\n",
        "  ETheta=ETheta+EGrad*0.01\n",
        "  ITheta=ITheta+HTGrad*0.01\n",
        "  if(i%100000==0):\n",
        "    print(cost,HGrad,out)"
      ],
      "execution_count": 85,
      "outputs": [
        {
          "output_type": "stream",
          "text": [
            "[3.25069438] [-0.17872614 -0.79070135 -0.75201313] [[0.77334899]\n",
            " [0.77596189]\n",
            " [0.77848778]\n",
            " [0.78092647]\n",
            " [0.78327818]\n",
            " [0.78554354]\n",
            " [0.78772353]\n",
            " [0.78981948]\n",
            " [0.79183296]\n",
            " [0.79376583]]\n",
            "[1.04632881] [-0.27096835  0.09814558 -0.27611567] [[0.14111996]\n",
            " [0.2118119 ]\n",
            " [0.29656204]\n",
            " [0.38879965]\n",
            " [0.48069425]\n",
            " [0.56566983]\n",
            " [0.63982109]\n",
            " [0.70189313]\n",
            " [0.75245639]\n",
            " [0.79299413]]\n",
            "[0.88755203] [-0.25624253  0.05887054 -0.21274545] [[0.09167234]\n",
            " [0.16096858]\n",
            " [0.25482627]\n",
            " [0.36494774]\n",
            " [0.47786232]\n",
            " [0.58124922]\n",
            " [0.66822881]\n",
            " [0.73740395]\n",
            " [0.79065302]\n",
            " [0.83101934]]\n",
            "[0.81992552] [-0.24561351  0.04597632 -0.19288855] [[0.07166819]\n",
            " [0.13754121]\n",
            " [0.23355303]\n",
            " [0.35171115]\n",
            " [0.47539093]\n",
            " [0.58832898]\n",
            " [0.68159462]\n",
            " [0.75381185]\n",
            " [0.80780618]\n",
            " [0.84760171]]\n",
            "[0.77798057] [-0.23844366  0.03912147 -0.18318866] [[0.05998447]\n",
            " [0.12268731]\n",
            " [0.2191489 ]\n",
            " [0.34225087]\n",
            " [0.47327078]\n",
            " [0.59282624]\n",
            " [0.6903251 ]\n",
            " [0.76443954]\n",
            " [0.81875484]\n",
            " [0.85802969]]\n",
            "[0.74811464] [-0.23313861  0.03471627 -0.17745027] [[0.0521086 ]\n",
            " [0.11204386]\n",
            " [0.20830518]\n",
            " [0.33484378]\n",
            " [0.47143489]\n",
            " [0.59608449]\n",
            " [0.69677662]\n",
            " [0.77224029]\n",
            " [0.82670394]\n",
            " [0.86551922]]\n",
            "[0.72520003] [-0.22893268  0.03157573 -0.17364643] [[0.04635612]\n",
            " [0.1038805 ]\n",
            " [0.19965052]\n",
            " [0.32874636]\n",
            " [0.46982122]\n",
            " [0.5986218 ]\n",
            " [0.70187415]\n",
            " [0.7783674 ]\n",
            " [0.83289203]\n",
            " [0.87129903]]\n"
          ],
          "name": "stdout"
        }
      ]
    },
    {
      "cell_type": "code",
      "metadata": {
        "id": "oAW3qlnk36RP",
        "colab_type": "code",
        "outputId": "da101601-438e-4366-fc03-80cbf5a842f4",
        "colab": {
          "base_uri": "https://localhost:8080/",
          "height": 85
        }
      },
      "source": [
        "np.random.rand(NumHUnits+1,s)"
      ],
      "execution_count": 63,
      "outputs": [
        {
          "output_type": "execute_result",
          "data": {
            "text/plain": [
              "array([[0.17091614],\n",
              "       [0.83686957],\n",
              "       [0.48632481],\n",
              "       [0.05814245]])"
            ]
          },
          "metadata": {
            "tags": []
          },
          "execution_count": 63
        }
      ]
    },
    {
      "cell_type": "code",
      "metadata": {
        "id": "BKSjpU8m9_Uu",
        "colab_type": "code",
        "outputId": "0a7cbaed-529d-4684-8c44-51114afbc50a",
        "colab": {
          "base_uri": "https://localhost:8080/",
          "height": 85
        }
      },
      "source": [
        "ETheta"
      ],
      "execution_count": 66,
      "outputs": [
        {
          "output_type": "execute_result",
          "data": {
            "text/plain": [
              "array([[-3.24172598e+01],\n",
              "       [-2.54990952e-02],\n",
              "       [-9.01257361e+00],\n",
              "       [ 6.20821362e+01]])"
            ]
          },
          "metadata": {
            "tags": []
          },
          "execution_count": 66
        }
      ]
    },
    {
      "cell_type": "code",
      "metadata": {
        "id": "AgT9DsvL7_Vd",
        "colab_type": "code",
        "outputId": "c0e409ef-4aa5-495c-9be9-db9503fe8b62",
        "colab": {
          "base_uri": "https://localhost:8080/",
          "height": 51
        }
      },
      "source": [
        "HTGrad"
      ],
      "execution_count": 72,
      "outputs": [
        {
          "output_type": "execute_result",
          "data": {
            "text/plain": [
              "array([[-2.94977399e-05, -6.92301236e-06, -2.98922761e-05],\n",
              "       [-8.42691443e-06, -2.11022005e-06, -9.57897376e-06]])"
            ]
          },
          "metadata": {
            "tags": []
          },
          "execution_count": 72
        }
      ]
    },
    {
      "cell_type": "code",
      "metadata": {
        "id": "couxCqIcTpLN",
        "colab_type": "code",
        "colab": {
          "base_uri": "https://localhost:8080/",
          "height": 85
        },
        "outputId": "e3a7e662-ff89-43be-a944-1aa4a1b618bb"
      },
      "source": [
        "EGrad"
      ],
      "execution_count": 73,
      "outputs": [
        {
          "output_type": "execute_result",
          "data": {
            "text/plain": [
              "array([[ 2.00875873e-05],\n",
              "       [-4.16867599e-03],\n",
              "       [-2.57404140e-03],\n",
              "       [-3.79401247e-03]])"
            ]
          },
          "metadata": {
            "tags": []
          },
          "execution_count": 73
        }
      ]
    },
    {
      "cell_type": "code",
      "metadata": {
        "id": "cuqJJTPDTx9u",
        "colab_type": "code",
        "colab": {
          "base_uri": "https://localhost:8080/",
          "height": 51
        },
        "outputId": "309220cb-bae3-411f-b041-d4b9812f9c5c"
      },
      "source": [
        "ITheta"
      ],
      "execution_count": 74,
      "outputs": [
        {
          "output_type": "execute_result",
          "data": {
            "text/plain": [
              "array([[-4.7710567 , -5.22052559, -4.78870332],\n",
              "       [-2.14958941, -1.86520293, -1.64767294]])"
            ]
          },
          "metadata": {
            "tags": []
          },
          "execution_count": 74
        }
      ]
    }
  ]
}