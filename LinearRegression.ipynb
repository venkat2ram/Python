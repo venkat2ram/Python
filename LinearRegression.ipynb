{
  "nbformat": 4,
  "nbformat_minor": 0,
  "metadata": {
    "colab": {
      "name": "LinearRegression.ipynb",
      "version": "0.3.2",
      "provenance": [],
      "collapsed_sections": [],
      "include_colab_link": true
    },
    "kernelspec": {
      "name": "python3",
      "display_name": "Python 3"
    }
  },
  "cells": [
    {
      "cell_type": "markdown",
      "metadata": {
        "id": "view-in-github",
        "colab_type": "text"
      },
      "source": [
        "<a href=\"https://colab.research.google.com/github/venkat2ram/Python/blob/master/LinearRegression.ipynb\" target=\"_parent\"><img src=\"https://colab.research.google.com/assets/colab-badge.svg\" alt=\"Open In Colab\"/></a>"
      ]
    },
    {
      "cell_type": "markdown",
      "metadata": {
        "id": "enB4LkcY4QnV",
        "colab_type": "text"
      },
      "source": [
        "**Linear Regression using normal equation:**"
      ]
    },
    {
      "cell_type": "code",
      "metadata": {
        "id": "QNFm-PTG4HuT",
        "colab_type": "code",
        "outputId": "9c62e972-0b3e-4848-922f-57141de4425e",
        "colab": {
          "base_uri": "https://localhost:8080/",
          "height": 305
        }
      },
      "source": [
        "import tensorflow as tf\n",
        "import numpy as np\n",
        "from sklearn.datasets import fetch_california_housing\n",
        "\n",
        "housing=fetch_california_housing()\n",
        "m,n=housing.data.shape\n",
        "housing_data_with_bias=np.c_[np.ones((m,1)),housing.data]\n",
        "X=tf.constant(housing_data_with_bias,dtype=tf.float32, name='X')\n",
        "y=tf.constant(housing.target.reshape(-1,1),dtype=tf.float32, name='y')\n",
        "XT=tf.transpose(X)\n",
        "Theta=tf.matmul(tf.matmul(tf.matrix_inverse(tf.matmul(XT,X)),XT),y)\n",
        "\n",
        "with tf.Session() as sess:\n",
        "  Theta_val=Theta.eval()\n",
        "  print(Theta_val)\n",
        "print(housing.data[:2])"
      ],
      "execution_count": 0,
      "outputs": [
        {
          "output_type": "stream",
          "text": [
            "Downloading Cal. housing from https://ndownloader.figshare.com/files/5976036 to /root/scikit_learn_data\n",
            "WARNING: Logging before flag parsing goes to stderr.\n",
            "I0813 17:17:12.710201 139805498947456 california_housing.py:115] Downloading Cal. housing from https://ndownloader.figshare.com/files/5976036 to /root/scikit_learn_data\n"
          ],
          "name": "stderr"
        },
        {
          "output_type": "stream",
          "text": [
            "[[-3.67372932e+01]\n",
            " [ 4.37366009e-01]\n",
            " [ 9.47520509e-03]\n",
            " [-1.08159676e-01]\n",
            " [ 6.48537397e-01]\n",
            " [-3.84734449e-06]\n",
            " [-3.79239232e-03]\n",
            " [-4.19136107e-01]\n",
            " [-4.32144403e-01]]\n",
            "[[ 8.32520000e+00  4.10000000e+01  6.98412698e+00  1.02380952e+00\n",
            "   3.22000000e+02  2.55555556e+00  3.78800000e+01 -1.22230000e+02]\n",
            " [ 8.30140000e+00  2.10000000e+01  6.23813708e+00  9.71880492e-01\n",
            "   2.40100000e+03  2.10984183e+00  3.78600000e+01 -1.22220000e+02]]\n"
          ],
          "name": "stdout"
        }
      ]
    },
    {
      "cell_type": "markdown",
      "metadata": {
        "id": "Ytq__U754jQY",
        "colab_type": "text"
      },
      "source": [
        "Linear Manual Parameter calculation"
      ]
    },
    {
      "cell_type": "code",
      "metadata": {
        "id": "7gzhA6qK9PSR",
        "colab_type": "code",
        "outputId": "427ad490-cb73-41a2-833e-daab1ede00ea",
        "colab": {
          "base_uri": "https://localhost:8080/",
          "height": 1000
        }
      },
      "source": [
        "import tensorflow as tf\n",
        "import numpy as np\n",
        "from sklearn.datasets import fetch_california_housing\n",
        "from datetime import datetime\n",
        "timenow=datetime.utcnow().strftime('%Y%m%d%H%M%S')\n",
        "root_logdir=\"tf_logs\"\n",
        "logdir = \"{}/run-{}/\".format(root_logdir, timenow)\n",
        "\n",
        "n_epochs=1000\n",
        "learning_rate=0.01\n",
        "housing=fetch_california_housing()\n",
        "m,n=housing.data.shape\n",
        "housing_data_with_bias=np.c_[np.ones((m,1)),housing.data/1000]\n",
        "X=tf.constant(housing_data_with_bias,dtype=tf.float32, name='X')\n",
        "y=tf.constant(housing.target.reshape(-1,1)/1000,dtype=tf.float32, name='y')\n",
        "Theta=tf.Variable(tf.random_uniform([n+1,1],-1,1),dtype=tf.float32,name='Theta')\n",
        "Predictions=tf.matmul(X,Theta)\n",
        "diff=Predictions-y\n",
        "mse=tf.reduce_mean(tf.square(diff))\n",
        "#gradient=2/m*tf.matmul(tf.transpose(X),diff)\n",
        "#gradient=tf.gradients(mse,Theta)[0]\n",
        "#training_op=tf.assign(Theta,Theta-learning_rate*gradient)\n",
        "optimizer=tf.train.GradientDescentOptimizer(learning_rate=learning_rate)\n",
        "training_op=optimizer.minimize(mse)\n",
        "init=tf.global_variables_initializer()\n",
        "saver=tf.train.Saver()\n",
        "\n",
        "mse_summary=tf.summary.scalar('MSE',mse)\n",
        "file_writer=tf.summary.FileWriter(logdir,tf.get_default_graph())\n",
        "\n",
        "with tf.Session() as sess:\n",
        "  init.run()\n",
        "  for i in range(n_epochs):\n",
        "    if(i%100==0):\n",
        "      summary_str=mse_summary.eval()\n",
        "      file_writer.add_summary(summary_str,i)\n",
        "      print(i, mse.eval())\n",
        "      print(Theta.eval())\n",
        "      save_path=saver.save(sess,\"/tmp/linear.ckpt\")\n",
        "    sess.run(training_op)\n",
        "    \n",
        "  best_theta = Theta.eval()\n",
        "  \n",
        "  save_path=saver.save(sess,\"/tmp/final_linear.ckpt\")\n",
        "print(best_theta)\n"
      ],
      "execution_count": 0,
      "outputs": [
        {
          "output_type": "stream",
          "text": [
            "0 0.25982162\n",
            "[[-0.78305244]\n",
            " [-0.97446036]\n",
            " [-0.23277044]\n",
            " [-0.79998374]\n",
            " [ 0.27064824]\n",
            " [ 0.42016125]\n",
            " [ 0.82027125]\n",
            " [ 0.23611593]\n",
            " [-0.09386396]]\n",
            "100 0.068228856\n",
            "[[-0.42545936]\n",
            " [-0.97307134]\n",
            " [-0.22006938]\n",
            " [-0.7979162 ]\n",
            " [ 0.27106178]\n",
            " [ 0.19698355]\n",
            " [ 0.8207257 ]\n",
            " [ 0.2490038 ]\n",
            " [-0.13674904]]\n",
            "200 0.01853911\n",
            "[[-0.22935297]\n",
            " [-0.9723045 ]\n",
            " [-0.21317562]\n",
            " [-0.79678166]\n",
            " [ 0.27128822]\n",
            " [ 0.10189413]\n",
            " [ 0.8209137 ]\n",
            " [ 0.25606367]\n",
            " [-0.16026166]]\n",
            "300 0.0050850767\n",
            "[[-0.12730767]\n",
            " [-0.9719003 ]\n",
            " [-0.20956884]\n",
            " [-0.79618645]\n",
            " [ 0.2714065 ]\n",
            " [ 0.05241979]\n",
            " [ 0.8209278 ]\n",
            " [ 0.25973496]\n",
            " [-0.17249537]]\n",
            "400 0.0014422333\n",
            "[[-0.07420906]\n",
            " [-0.97168475]\n",
            " [-0.20767255]\n",
            " [-0.7958718 ]\n",
            " [ 0.27146858]\n",
            " [ 0.02667612]\n",
            " [ 0.8208516 ]\n",
            " [ 0.26164305]\n",
            " [-0.17885989]]\n",
            "500 0.0004558723\n",
            "[[-0.04657968]\n",
            " [-0.9715673 ]\n",
            " [-0.20666629]\n",
            " [-0.795703  ]\n",
            " [ 0.27150136]\n",
            " [ 0.01328061]\n",
            " [ 0.82072824]\n",
            " [ 0.2626334 ]\n",
            " [-0.18217053]]\n",
            "600 0.00018878117\n",
            "[[-0.03220314]\n",
            " [-0.971501  ]\n",
            " [-0.2061231 ]\n",
            " [-0.79561013]\n",
            " [ 0.27151895]\n",
            " [ 0.00631042]\n",
            " [ 0.8205804 ]\n",
            " [ 0.26314652]\n",
            " [-0.18389216]]\n",
            "700 0.00011643995\n",
            "[[-0.02472264]\n",
            " [-0.9714613 ]\n",
            " [-0.205821  ]\n",
            " [-0.7955569 ]\n",
            " [ 0.27152866]\n",
            " [ 0.00268362]\n",
            " [ 0.82042027]\n",
            " [ 0.2634111 ]\n",
            " [-0.18478669]]\n",
            "800 9.682938e-05\n",
            "[[-2.0830480e-02]\n",
            " [-9.7143519e-01]\n",
            " [-2.0564424e-01]\n",
            " [-7.9552394e-01]\n",
            " [ 2.7153426e-01]\n",
            " [ 7.9655269e-04]\n",
            " [ 8.2025337e-01]\n",
            " [ 2.6354632e-01]\n",
            " [-1.8525100e-01]]\n",
            "900 9.149586e-05\n",
            "[[-1.8805500e-02]\n",
            " [-9.7141671e-01]\n",
            " [-2.0553273e-01]\n",
            " [-7.9550225e-01]\n",
            " [ 2.7153724e-01]\n",
            " [-1.8525955e-04]\n",
            " [ 8.2008195e-01]\n",
            " [ 2.6361427e-01]\n",
            " [-1.8549147e-01]]\n",
            "[[-1.7752100e-02]\n",
            " [-9.7140181e-01]\n",
            " [-2.0545520e-01]\n",
            " [-7.9548472e-01]\n",
            " [ 2.7154022e-01]\n",
            " [-6.9602643e-04]\n",
            " [ 8.1990910e-01]\n",
            " [ 2.6364723e-01]\n",
            " [-1.8561539e-01]]\n"
          ],
          "name": "stdout"
        }
      ]
    },
    {
      "cell_type": "code",
      "metadata": {
        "id": "PJgPBMdzNbUP",
        "colab_type": "code",
        "colab": {}
      },
      "source": [
        ""
      ],
      "execution_count": 0,
      "outputs": []
    },
    {
      "cell_type": "markdown",
      "metadata": {
        "id": "QIkJt9aHmzCh",
        "colab_type": "text"
      },
      "source": [
        "**Running the linear regression with own data.**"
      ]
    },
    {
      "cell_type": "code",
      "metadata": {
        "id": "UsmuO8n_jY8R",
        "colab_type": "code",
        "outputId": "a6b70650-b999-4688-b69f-8ab39cecc398",
        "colab": {
          "base_uri": "https://localhost:8080/",
          "height": 485
        }
      },
      "source": [
        "import tensorflow as tf\n",
        "import numpy as np\n",
        "from sklearn.datasets import fetch_california_housing\n",
        "from matplotlib import pyplot as plt\n",
        "\n",
        "n_epochs=1000\n",
        "learning_rate=0.01\n",
        "housing=fetch_california_housing()\n",
        "m=3\n",
        "n=1\n",
        "c=[[2],[3],[4]]\n",
        "d=[[1],[1.2],[1.3]]\n",
        "plt.plot(c,d)\n",
        "housing_data_with_bias=np.c_[np.ones((m,1)),c]\n",
        "X=tf.constant(housing_data_with_bias,dtype=tf.float32, name='X')\n",
        "y=tf.constant(d,dtype=tf.float32, name='y')\n",
        "Theta=tf.Variable(tf.random_uniform([n+1,1],1,1),dtype=tf.float32,name='Theta')\n",
        "Predictions=tf.matmul(X,Theta)\n",
        "diff=Predictions-y\n",
        "mse=tf.reduce_mean(tf.square(diff))\n",
        "#gradient=2/m*tf.matmul(tf.transpose(X),diff)\n",
        "#gradient=tf.gradients(mse,Theta)[0]\n",
        "#training_op=tf.assign(Theta,Theta-learning_rate*gradient)\n",
        "optimizer=tf.train.GradientDescentOptimizer(learning_rate=learning_rate)\n",
        "training_op=optimizer.minimize(mse)\n",
        "\n",
        "init=tf.global_variables_initializer()\n",
        "\n",
        "with tf.Session() as sess:\n",
        "  init.run()\n",
        "  for i in range(n_epochs):\n",
        "    if(i%100==0):\n",
        "      print(i, mse.eval())\n",
        "    sess.run(training_op)\n",
        "  best_theta = Theta.eval()\n",
        "print(best_theta)"
      ],
      "execution_count": 0,
      "outputs": [
        {
          "output_type": "stream",
          "text": [
            "0 8.51\n",
            "100 0.0005696894\n",
            "200 0.00056654547\n",
            "300 0.00056410156\n",
            "400 0.0005621983\n",
            "500 0.00056071917\n",
            "600 0.00055957405\n",
            "700 0.00055867934\n",
            "800 0.0005579835\n",
            "900 0.00055744476\n",
            "[[0.7212785 ]\n",
            " [0.14855936]]\n"
          ],
          "name": "stdout"
        },
        {
          "output_type": "display_data",
          "data": {
            "image/png": "[encoded data removed]",
            "text/plain": [
              "<Figure size 432x288 with 1 Axes>"
            ]
          },
          "metadata": {
            "tags": []
          }
        }
      ]
    },
    {
      "cell_type": "markdown",
      "metadata": {
        "id": "XDgyIlPsnAzT",
        "colab_type": "text"
      },
      "source": [
        "**Calculating the predictions using best theta**"
      ]
    },
    {
      "cell_type": "code",
      "metadata": {
        "id": "_sxKbYoBnMBn",
        "colab_type": "code",
        "outputId": "bf900606-fc45-4591-9919-b9f4f8c96f96",
        "colab": {
          "base_uri": "https://localhost:8080/",
          "height": 395
        }
      },
      "source": [
        "print(best_theta)\n",
        "a=[[2.5],[3.5]]\n",
        "a1=np.c_[np.ones((2,1)),a]\n",
        "z=np.matmul(a1,best_theta)\n",
        "print(z)\n",
        "a=a+c\n",
        "print(a)\n",
        "z=np.ndarray.tolist(z)\n",
        "z=z+d\n",
        "print(z)\n",
        "plt.scatter(a,z)"
      ],
      "execution_count": 0,
      "outputs": [
        {
          "output_type": "stream",
          "text": [
            "[[0.7212785 ]\n",
            " [0.14855936]]\n",
            "[[1.09267689]\n",
            " [1.24123625]]\n",
            "[[2.5], [3.5], [2], [3], [4]]\n",
            "[[1.092676892876625], [1.2412362545728683], [1], [1.2], [1.3]]\n"
          ],
          "name": "stdout"
        },
        {
          "output_type": "execute_result",
          "data": {
            "text/plain": [
              "<matplotlib.collections.PathCollection at 0x7f26bec31b38>"
            ]
          },
          "metadata": {
            "tags": []
          },
          "execution_count": 13
        },
        {
          "output_type": "display_data",
          "data": {
            "image/png": "[encoded data removed]",
            "text/plain": [
              "<Figure size 432x288 with 1 Axes>"
            ]
          },
          "metadata": {
            "tags": []
          }
        }
      ]
    },
    {
      "cell_type": "code",
      "metadata": {
        "id": "NQSqXiDy4OhQ",
        "colab_type": "code",
        "outputId": "8ed991e3-db5f-4b44-bf53-84aaa33bb27b",
        "colab": {
          "base_uri": "https://localhost:8080/",
          "height": 53
        }
      },
      "source": [
        "%load_ext tensorboard"
      ],
      "execution_count": 20,
      "outputs": [
        {
          "output_type": "stream",
          "text": [
            "The tensorboard extension is already loaded. To reload it, use:\n",
            "  %reload_ext tensorboard\n"
          ],
          "name": "stdout"
        }
      ]
    },
    {
      "cell_type": "code",
      "metadata": {
        "id": "lOVtOrtmdlp_",
        "colab_type": "code",
        "outputId": "a0727ccb-c164-426f-e92b-6b25ae67aca3",
        "colab": {
          "base_uri": "https://localhost:8080/",
          "height": 35
        }
      },
      "source": [
        "%tensorboard --logdir /content/tf_logs/"
      ],
      "execution_count": 23,
      "outputs": [
        {
          "output_type": "display_data",
          "data": {
            "text/html": [
              "\n",
              "    <div id=\"root\"></div>\n",
              "    <script>\n",
              "      (function() {\n",
              "        window.TENSORBOARD_ENV = window.TENSORBOARD_ENV || {};\n",
              "        window.TENSORBOARD_ENV[\"IN_COLAB\"] = true;\n",
              "        document.querySelector(\"base\").href = \"https://localhost:6006\";\n",
              "        function fixUpTensorboard(root) {\n",
              "          const tftb = root.querySelector(\"tf-tensorboard\");\n",
              "          // Disable the fragment manipulation behavior in Colab. Not\n",
              "          // only is the behavior not useful (as the iframe's location\n",
              "          // is not visible to the user), it causes TensorBoard's usage\n",
              "          // of `window.replace` to navigate away from the page and to\n",
              "          // the `localhost:<port>` URL specified by the base URI, which\n",
              "          // in turn causes the frame to (likely) crash.\n",
              "          tftb.removeAttribute(\"use-hash\");\n",
              "        }\n",
              "        function executeAllScripts(root) {\n",
              "          // When `script` elements are inserted into the DOM by\n",
              "          // assigning to an element's `innerHTML`, the scripts are not\n",
              "          // executed. Thus, we manually re-insert these scripts so that\n",
              "          // TensorBoard can initialize itself.\n",
              "          for (const script of root.querySelectorAll(\"script\")) {\n",
              "            const newScript = document.createElement(\"script\");\n",
              "            newScript.type = script.type;\n",
              "            newScript.textContent = script.textContent;\n",
              "            root.appendChild(newScript);\n",
              "            script.remove();\n",
              "          }\n",
              "        }\n",
              "        function setHeight(root, height) {\n",
              "          // We set the height dynamically after the TensorBoard UI has\n",
              "          // been initialized. This avoids an intermediate state in\n",
              "          // which the container plus the UI become taller than the\n",
              "          // final width and cause the Colab output frame to be\n",
              "          // permanently resized, eventually leading to an empty\n",
              "          // vertical gap below the TensorBoard UI. It's not clear\n",
              "          // exactly what causes this problematic intermediate state,\n",
              "          // but setting the height late seems to fix it.\n",
              "          root.style.height = `${height}px`;\n",
              "        }\n",
              "        const root = document.getElementById(\"root\");\n",
              "        fetch(\".\")\n",
              "          .then((x) => x.text())\n",
              "          .then((html) => void (root.innerHTML = html))\n",
              "          .then(() => fixUpTensorboard(root))\n",
              "          .then(() => executeAllScripts(root))\n",
              "          .then(() => setHeight(root, 800));\n",
              "      })();\n",
              "    </script>\n",
              "  "
            ],
            "text/plain": [
              "<IPython.core.display.HTML object>"
            ]
          },
          "metadata": {
            "tags": []
          }
        }
      ]
    },
    {
      "cell_type": "code",
      "metadata": {
        "id": "cdiiYEMt_kei",
        "colab_type": "code",
        "colab": {}
      },
      "source": [
        ""
      ],
      "execution_count": 0,
      "outputs": []
    },
    {
      "cell_type": "code",
      "metadata": {
        "id": "uAoRSy5AkFXs",
        "colab_type": "code",
        "colab": {}
      },
      "source": [
        "!kill 388"
      ],
      "execution_count": 0,
      "outputs": []
    },
    {
      "cell_type": "code",
      "metadata": {
        "id": "-S9BHouVq3lb",
        "colab_type": "code",
        "outputId": "0df4dc60-87b3-49fd-dc62-e2b9986b9633",
        "colab": {
          "base_uri": "https://localhost:8080/",
          "height": 34
        }
      },
      "source": [
        "cd /content"
      ],
      "execution_count": 0,
      "outputs": [
        {
          "output_type": "stream",
          "text": [
            "/content\n"
          ],
          "name": "stdout"
        }
      ]
    }
  ]
}