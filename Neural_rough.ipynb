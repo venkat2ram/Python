{
  "nbformat": 4,
  "nbformat_minor": 0,
  "metadata": {
    "colab": {
      "name": "Neural rough.ipynb",
      "provenance": [],
      "include_colab_link": true
    },
    "kernelspec": {
      "name": "python3",
      "display_name": "Python 3"
    }
  },
  "cells": [
    {
      "cell_type": "markdown",
      "metadata": {
        "id": "view-in-github",
        "colab_type": "text"
      },
      "source": [
        "<a href=\"https://colab.research.google.com/github/venkat2ram/Python/blob/master/Neural_rough.ipynb\" target=\"_parent\"><img src=\"https://colab.research.google.com/assets/colab-badge.svg\" alt=\"Open In Colab\"/></a>"
      ]
    },
    {
      "cell_type": "code",
      "metadata": {
        "id": "pkcOzrDgFH8V",
        "colab_type": "code",
        "colab": {}
      },
      "source": [
        "import numpy as np\n",
        "\n"
      ],
      "execution_count": 0,
      "outputs": []
    },
    {
      "cell_type": "code",
      "metadata": {
        "id": "vlUzjSs_FseU",
        "colab_type": "code",
        "colab": {}
      },
      "source": [
        "X_actual=np.array([[2]])/10\n",
        "y_actual=np.array([[0]])"
      ],
      "execution_count": 0,
      "outputs": []
    },
    {
      "cell_type": "code",
      "metadata": {
        "id": "ss1JTK8MF8US",
        "colab_type": "code",
        "colab": {}
      },
      "source": [
        "NumHLayers=1\n",
        "NumHUnits=1"
      ],
      "execution_count": 0,
      "outputs": []
    },
    {
      "cell_type": "code",
      "metadata": {
        "id": "b6tVwiADGQXr",
        "colab_type": "code",
        "colab": {}
      },
      "source": [
        "X=np.c_[np.ones((X_actual.shape[0],1)),X_actual]\n",
        "y=y_actual"
      ],
      "execution_count": 0,
      "outputs": []
    },
    {
      "cell_type": "code",
      "metadata": {
        "id": "NOB0mAXuGhR7",
        "colab_type": "code",
        "colab": {
          "base_uri": "https://localhost:8080/",
          "height": 731
        },
        "outputId": "73a27a03-b2aa-481f-b5ab-027255b5ce3e"
      },
      "source": [
        "m,n=np.shape(X_actual)\n",
        "p,s=np.shape(y_actual)\n",
        "X_with_bias=np.c_[np.ones((X_actual.shape[0],1)),X_actual]\n",
        "y=y_actual\n",
        "hidden=np.ones((1,2))\n",
        "out=np.ones((1,1))\n",
        "ITheta=np.ones((2,1))\n",
        "ETheta=np.ones((2,1))\n",
        "EGrad=np.ones((2,1))\n",
        "HGrad=np.ones((2,1))\n",
        "hidden[0,1]=(1/(1+np.exp(-1*np.matmul(X_with_bias,ITheta))))\n",
        "out[0,0]=(1/(1+np.exp(-1*np.matmul(hidden,ETheta))))\n",
        "cost=(y-out)**2\n",
        "print(cost,out,EGrad)\n",
        "for i in range(100000):\n",
        "  EGrad=np.matmul(hidden.transpose(),2*(y-out)*out*(1-out))\n",
        "  HGrad=2*(y-out)*out*(1-out)*ETheta[1,0]\n",
        "  IGrad=np.matmul(X_with_bias.transpose(), HGrad*(hidden[0,1]*(1-hidden[0,1])))\n",
        "  ETheta=ETheta+EGrad\n",
        "  ITheta=ITheta+IGrad\n",
        "  hidden[0,1]=(1/(1+np.exp(-1*np.matmul(X_with_bias,ITheta))))\n",
        "  out[0,0]=(1/(1+np.exp(-1*np.matmul(hidden,ETheta))))\n",
        "  cost=(y-out)**2\n",
        "  if(i%5000==0):\n",
        "    print(cost,out,EGrad)"
      ],
      "execution_count": 128,
      "outputs": [
        {
          "output_type": "stream",
          "text": [
            "[[0.72978427]] [[0.85427412]] [[1.]\n",
            " [1.]]\n",
            "[[0.64965093]] [[0.80600926]] [[-0.21269691]\n",
            " [-0.16346285]]\n",
            "[[2.89058243e-05]] [[0.00537641]] [[-5.75126472e-05]\n",
            " [-4.79520965e-05]]\n",
            "[[1.41783238e-05]] [[0.00376541]] [[-2.82527646e-05]\n",
            " [-2.38105677e-05]]\n",
            "[[9.36008704e-06]] [[0.00305943]] [[-1.86641721e-05]\n",
            " [-1.58248154e-05]]\n",
            "[[6.97523528e-06]] [[0.00264107]] [[-1.39143362e-05]\n",
            " [-1.18468506e-05]]\n",
            "[[5.55408871e-06]] [[0.00235671]] [[-1.10824505e-05]\n",
            " [-9.46568724e-06]]\n",
            "[[4.61149474e-06]] [[0.00214744]] [[-9.20349616e-06]\n",
            " [-7.88088350e-06]]\n",
            "[[3.94093844e-06]] [[0.00198518]] [[-7.86645875e-06]\n",
            " [-6.75030217e-06]]\n",
            "[[3.43969794e-06]] [[0.00185464]] [[-6.86681174e-06]\n",
            " [-5.90320702e-06]]\n",
            "[[3.05094449e-06]] [[0.0017467]] [[-6.09136852e-06]\n",
            " [-5.24488787e-06]]\n",
            "[[2.74070012e-06]] [[0.00165551]] [[-5.47243704e-06]\n",
            " [-4.71858808e-06]]\n",
            "[[2.48740727e-06]] [[0.00157715]] [[-4.96706030e-06]\n",
            " [-4.28822646e-06]]\n",
            "[[2.27673175e-06]] [[0.00150888]] [[-4.54666986e-06]\n",
            " [-3.92976966e-06]]\n",
            "[[2.09877285e-06]] [[0.00144871]] [[-4.19153016e-06]\n",
            " [-3.62659160e-06]]\n",
            "[[1.94647323e-06]] [[0.00139516]] [[-3.88757159e-06]\n",
            " [-3.36682425e-06]]\n",
            "[[1.81466722e-06]] [[0.0013471]] [[-3.62449446e-06]\n",
            " [-3.14176943e-06]]\n",
            "[[1.69948714e-06]] [[0.00130364]] [[-3.39458630e-06]\n",
            " [-2.94490683e-06]]\n",
            "[[1.59797997e-06]] [[0.00126411]] [[-3.19195800e-06]\n",
            " [-2.77125268e-06]]\n",
            "[[1.50785224e-06]] [[0.00122795]] [[-3.01203532e-06]\n",
            " [-2.61693232e-06]]\n",
            "[[1.42729572e-06]] [[0.00119469]] [[-2.85121154e-06]\n",
            " [-2.47888799e-06]]\n"
          ],
          "name": "stdout"
        }
      ]
    },
    {
      "cell_type": "code",
      "metadata": {
        "id": "FsN7fW8wH748",
        "colab_type": "code",
        "colab": {
          "base_uri": "https://localhost:8080/",
          "height": 221
        },
        "outputId": "c2cebb39-4ab7-459d-8ad4-67eb60b6642d"
      },
      "source": [
        "out,y,cost,EGrad,ETheta,IGrad,ITheta,hidden"
      ],
      "execution_count": 94,
      "outputs": [
        {
          "output_type": "execute_result",
          "data": {
            "text/plain": [
              "(array([[0.86145916]]),\n",
              " array([[1]]),\n",
              " array([[0.01919356]]),\n",
              " array([[0.03628279],\n",
              "        [0.02788422]]),\n",
              " array([[1.03628279],\n",
              "        [1.02788422]]),\n",
              " array([[0.00645451],\n",
              "        [0.0012909 ]]),\n",
              " array([[1.00645451],\n",
              "        [1.0012909 ]]),\n",
              " array([[1.        , 0.76971678]]))"
            ]
          },
          "metadata": {
            "tags": []
          },
          "execution_count": 94
        }
      ]
    },
    {
      "cell_type": "code",
      "metadata": {
        "id": "UOfBFgXKP6UT",
        "colab_type": "code",
        "colab": {
          "base_uri": "https://localhost:8080/",
          "height": 34
        },
        "outputId": "22816f6d-d433-459f-cc3c-823653b15307"
      },
      "source": [
        "X_with_bias.shape"
      ],
      "execution_count": 124,
      "outputs": [
        {
          "output_type": "execute_result",
          "data": {
            "text/plain": [
              "(2, 2)"
            ]
          },
          "metadata": {
            "tags": []
          },
          "execution_count": 124
        }
      ]
    },
    {
      "cell_type": "code",
      "metadata": {
        "id": "Nxe2264SQ8LL",
        "colab_type": "code",
        "colab": {
          "base_uri": "https://localhost:8080/",
          "height": 34
        },
        "outputId": "38a843ac-69c1-47fb-aa86-dd83ced0db4a"
      },
      "source": [
        "X_with_bias"
      ],
      "execution_count": 80,
      "outputs": [
        {
          "output_type": "execute_result",
          "data": {
            "text/plain": [
              "array([[1. , 0.2]])"
            ]
          },
          "metadata": {
            "tags": []
          },
          "execution_count": 80
        }
      ]
    },
    {
      "cell_type": "code",
      "metadata": {
        "id": "-DDH3qA8SCWW",
        "colab_type": "code",
        "colab": {}
      },
      "source": [
        "ETheta=ETheta+Egrad"
      ],
      "execution_count": 0,
      "outputs": []
    },
    {
      "cell_type": "code",
      "metadata": {
        "id": "liVWcUftSPvL",
        "colab_type": "code",
        "colab": {
          "base_uri": "https://localhost:8080/",
          "height": 34
        },
        "outputId": "7b580fe9-9d2e-4c7a-871f-e0ad1d631a61"
      },
      "source": [
        "hidden[]"
      ],
      "execution_count": 123,
      "outputs": [
        {
          "output_type": "execute_result",
          "data": {
            "text/plain": [
              "array([[1., 1.]])"
            ]
          },
          "metadata": {
            "tags": []
          },
          "execution_count": 123
        }
      ]
    }
  ]
}