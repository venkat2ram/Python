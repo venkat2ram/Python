{
  "nbformat": 4,
  "nbformat_minor": 0,
  "metadata": {
    "colab": {
      "name": "Neural rough.ipynb",
      "provenance": [],
      "include_colab_link": true
    },
    "kernelspec": {
      "name": "python3",
      "display_name": "Python 3"
    }
  },
  "cells": [
    {
      "cell_type": "markdown",
      "metadata": {
        "id": "view-in-github",
        "colab_type": "text"
      },
      "source": [
        "<a href=\"https://colab.research.google.com/github/venkat2ram/Python/blob/master/Neural_rough.ipynb\" target=\"_parent\"><img src=\"https://colab.research.google.com/assets/colab-badge.svg\" alt=\"Open In Colab\"/></a>"
      ]
    },
    {
      "cell_type": "code",
      "metadata": {
        "id": "pkcOzrDgFH8V",
        "colab_type": "code",
        "colab": {}
      },
      "source": [
        "import numpy as np\n",
        "\n"
      ],
      "execution_count": 0,
      "outputs": []
    },
    {
      "cell_type": "code",
      "metadata": {
        "id": "vlUzjSs_FseU",
        "colab_type": "code",
        "colab": {}
      },
      "source": [
        "X_actual=np.array([2]).reshape(1,-1)/10\n",
        "y_actual=np.array([[1]])"
      ],
      "execution_count": 0,
      "outputs": []
    },
    {
      "cell_type": "code",
      "metadata": {
        "id": "ss1JTK8MF8US",
        "colab_type": "code",
        "colab": {}
      },
      "source": [
        "NumHLayers=1\n",
        "NumHUnits=1"
      ],
      "execution_count": 0,
      "outputs": []
    },
    {
      "cell_type": "code",
      "metadata": {
        "id": "b6tVwiADGQXr",
        "colab_type": "code",
        "colab": {}
      },
      "source": [
        "X=np.c_[np.ones((X_actual.shape[0],1)),X_actual]\n",
        "y=y_actual"
      ],
      "execution_count": 0,
      "outputs": []
    },
    {
      "cell_type": "code",
      "metadata": {
        "id": "NOB0mAXuGhR7",
        "colab_type": "code",
        "colab": {}
      },
      "source": [
        "m,n=np.shape(X_actual)\n",
        "p,s=np.shape(y_actual)\n",
        "X_with_bias=np.c_[np.ones((X_actual.shape[0],1)),X_actual]\n",
        "y=y_actual\n",
        "hidden=np.ones((1,2))\n",
        "out=np.ones((1,1))\n",
        "ITheta=np.ones((2,1))\n",
        "ETheta=np.ones((2,1))\n",
        "EGrad=np.ones((2,1))\n",
        "HGrad=np.ones((2,1))\n",
        "hidden[0,1]=(1/(1+np.exp(-1*np.matmul(X_with_bias,ITheta))))\n",
        "out[0,0]=(1/(1+np.exp(-1*np.matmul(hidden,ETheta))))\n",
        "cost=(y-out)**2\n",
        "EGrad=np.matmul(hidden.transpose(),2*(y-out)*out*(1-out))\n",
        "HGrad=2*(y-out)*out*(1-out)*ETheta[1,0]\n",
        "IGrad=np.matmul(X_with_bias.transpose(), HGrad*(hidden[0,1]*(1-hidden[0,1])))\n",
        "ETheta=ETheta+EGrad\n",
        "\n",
        "out[0,0]=(1/(1+np.exp(-1*np.matmul(hidden,ETheta))))\n",
        "cost=(y-out)**2"
      ],
      "execution_count": 0,
      "outputs": []
    },
    {
      "cell_type": "code",
      "metadata": {
        "id": "FsN7fW8wH748",
        "colab_type": "code",
        "colab": {
          "base_uri": "https://localhost:8080/",
          "height": 136
        },
        "outputId": "fb5d6ff7-6f2e-456c-8c45-37b18858d12f"
      },
      "source": [
        "out,y,cost,EGrad,ETheta"
      ],
      "execution_count": 76,
      "outputs": [
        {
          "output_type": "execute_result",
          "data": {
            "text/plain": [
              "(array([[0.86131287]]),\n",
              " array([[1]]),\n",
              " array([[0.01923412]]),\n",
              " array([[0.03628279],\n",
              "        [0.02788422]]),\n",
              " array([[1.03628279],\n",
              "        [1.02788422]]))"
            ]
          },
          "metadata": {
            "tags": []
          },
          "execution_count": 76
        }
      ]
    },
    {
      "cell_type": "code",
      "metadata": {
        "id": "UOfBFgXKP6UT",
        "colab_type": "code",
        "colab": {
          "base_uri": "https://localhost:8080/",
          "height": 51
        },
        "outputId": "3e20f927-5365-4b1f-8632-a70f4e851efb"
      },
      "source": [
        "np.matmul(hidden.transpose(),2*(y-out)*out*(1-out))"
      ],
      "execution_count": 70,
      "outputs": [
        {
          "output_type": "execute_result",
          "data": {
            "text/plain": [
              "array([[0.03628279],\n",
              "       [0.02788422]])"
            ]
          },
          "metadata": {
            "tags": []
          },
          "execution_count": 70
        }
      ]
    },
    {
      "cell_type": "code",
      "metadata": {
        "id": "Nxe2264SQ8LL",
        "colab_type": "code",
        "colab": {
          "base_uri": "https://localhost:8080/",
          "height": 34
        },
        "outputId": "38a843ac-69c1-47fb-aa86-dd83ced0db4a"
      },
      "source": [
        "X_with_bias"
      ],
      "execution_count": 80,
      "outputs": [
        {
          "output_type": "execute_result",
          "data": {
            "text/plain": [
              "array([[1. , 0.2]])"
            ]
          },
          "metadata": {
            "tags": []
          },
          "execution_count": 80
        }
      ]
    },
    {
      "cell_type": "code",
      "metadata": {
        "id": "-DDH3qA8SCWW",
        "colab_type": "code",
        "colab": {}
      },
      "source": [
        "ETheta=ETheta+Egrad"
      ],
      "execution_count": 0,
      "outputs": []
    },
    {
      "cell_type": "code",
      "metadata": {
        "id": "liVWcUftSPvL",
        "colab_type": "code",
        "colab": {
          "base_uri": "https://localhost:8080/",
          "height": 51
        },
        "outputId": "3b0e4a5b-0ddc-4c1f-bd8e-ff74cbb1bb25"
      },
      "source": [
        "ETheta"
      ],
      "execution_count": 74,
      "outputs": [
        {
          "output_type": "execute_result",
          "data": {
            "text/plain": [
              "array([[3.],\n",
              "       [3.]])"
            ]
          },
          "metadata": {
            "tags": []
          },
          "execution_count": 74
        }
      ]
    }
  ]
}