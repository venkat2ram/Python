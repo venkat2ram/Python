{
  "nbformat": 4,
  "nbformat_minor": 0,
  "metadata": {
    "colab": {
      "name": "Assignment1.ipynb",
      "provenance": [],
      "include_colab_link": true
    },
    "kernelspec": {
      "name": "python3",
      "display_name": "Python 3"
    }
  },
  "cells": [
    {
      "cell_type": "markdown",
      "metadata": {
        "id": "view-in-github",
        "colab_type": "text"
      },
      "source": [
        "<a href=\"https://colab.research.google.com/github/venkat2ram/Python/blob/master/Assignment1.ipynb\" target=\"_parent\"><img src=\"https://colab.research.google.com/assets/colab-badge.svg\" alt=\"Open In Colab\"/></a>"
      ]
    },
    {
      "cell_type": "markdown",
      "metadata": {
        "id": "07n1zwgRdzAc",
        "colab_type": "text"
      },
      "source": [
        "1.\tCreate a one dimensional array with the following values 1, 4, 3 and print the values."
      ]
    },
    {
      "cell_type": "code",
      "metadata": {
        "id": "HShHdfVCDZtW",
        "colab_type": "code",
        "colab": {
          "base_uri": "https://localhost:8080/",
          "height": 34
        },
        "outputId": "aa8b2feb-eed4-4eb9-a1b6-d19f3ca7caf5"
      },
      "source": [
        "import numpy as np\n",
        "a=np.array([1,4,3])\n",
        "print(a)"
      ],
      "execution_count": 10,
      "outputs": [
        {
          "output_type": "stream",
          "text": [
            "[1 4 3]\n"
          ],
          "name": "stdout"
        }
      ]
    },
    {
      "cell_type": "markdown",
      "metadata": {
        "id": "bbczIaateOQ6",
        "colab_type": "text"
      },
      "source": [
        "2.\tCreate a one dimensional array with the following values 1, 4, 3 and print the type of the array."
      ]
    },
    {
      "cell_type": "code",
      "metadata": {
        "id": "NQtZHaGheQ5-",
        "colab_type": "code",
        "colab": {
          "base_uri": "https://localhost:8080/",
          "height": 34
        },
        "outputId": "e5315c65-3f2a-43a8-e0a1-4fc28f1808ec"
      },
      "source": [
        "a=np.array([1,4,3])\n",
        "print(type(a))"
      ],
      "execution_count": 19,
      "outputs": [
        {
          "output_type": "stream",
          "text": [
            "<class 'numpy.ndarray'>\n"
          ],
          "name": "stdout"
        }
      ]
    },
    {
      "cell_type": "markdown",
      "metadata": {
        "id": "yiQN1TMoed3z",
        "colab_type": "text"
      },
      "source": [
        "3.\tCreate a two dimensional array with the following format: [(1, 2, 3), (4, 5, 6)] and print the values."
      ]
    },
    {
      "cell_type": "code",
      "metadata": {
        "id": "U9BHOiIzehsK",
        "colab_type": "code",
        "colab": {
          "base_uri": "https://localhost:8080/",
          "height": 51
        },
        "outputId": "d8e60ef4-4b4e-4d14-80bc-47495228bf52"
      },
      "source": [
        "a=np.array([(1, 2, 3), (4, 5, 6)] )\n",
        "print(a)"
      ],
      "execution_count": 13,
      "outputs": [
        {
          "output_type": "stream",
          "text": [
            "[[1 2 3]\n",
            " [4 5 6]]\n"
          ],
          "name": "stdout"
        }
      ]
    },
    {
      "cell_type": "markdown",
      "metadata": {
        "id": "RonguGJHewju",
        "colab_type": "text"
      },
      "source": [
        "4.\tCreate a two dimensional array with the following format: [(1, 2, 3), (4, 5, 6)] and print the type of the array."
      ]
    },
    {
      "cell_type": "code",
      "metadata": {
        "id": "D7X7GAyde0WF",
        "colab_type": "code",
        "colab": {
          "base_uri": "https://localhost:8080/",
          "height": 34
        },
        "outputId": "931675a9-7453-4f79-9471-067caec2e69d"
      },
      "source": [
        "a=np.array([(1, 2, 3), (4, 5, 6)] )\n",
        "print(type(a))"
      ],
      "execution_count": 20,
      "outputs": [
        {
          "output_type": "stream",
          "text": [
            "<class 'numpy.ndarray'>\n"
          ],
          "name": "stdout"
        }
      ]
    },
    {
      "cell_type": "markdown",
      "metadata": {
        "id": "c1WcjoRDeg1E",
        "colab_type": "text"
      },
      "source": [
        "5.\tCreate a one dimensional array with the following values 1, 4, 3 and print the dimension of the array."
      ]
    },
    {
      "cell_type": "code",
      "metadata": {
        "id": "MWKEFsx2fDYd",
        "colab_type": "code",
        "colab": {
          "base_uri": "https://localhost:8080/",
          "height": 34
        },
        "outputId": "fe002ff8-0837-4fc1-e50d-cd67bf9b7935"
      },
      "source": [
        "a=np.array([1,4,3])\n",
        "print(a.ndim)"
      ],
      "execution_count": 21,
      "outputs": [
        {
          "output_type": "stream",
          "text": [
            "1\n"
          ],
          "name": "stdout"
        }
      ]
    },
    {
      "cell_type": "markdown",
      "metadata": {
        "id": "BStLgd4ehYXo",
        "colab_type": "text"
      },
      "source": [
        "6.\tFor the same one dimensional array find the byte size of an each element."
      ]
    },
    {
      "cell_type": "code",
      "metadata": {
        "id": "ZzV8Yq5Fhxa6",
        "colab_type": "code",
        "colab": {
          "base_uri": "https://localhost:8080/",
          "height": 34
        },
        "outputId": "44851e79-68d9-4ce8-bd5e-8998d6011186"
      },
      "source": [
        "print(a.itemsize)"
      ],
      "execution_count": 18,
      "outputs": [
        {
          "output_type": "stream",
          "text": [
            "8\n"
          ],
          "name": "stdout"
        }
      ]
    },
    {
      "cell_type": "markdown",
      "metadata": {
        "id": "C9l_GdTwh3gt",
        "colab_type": "text"
      },
      "source": [
        "7.\tFor the same one dimensional array find the data type of an each element."
      ]
    },
    {
      "cell_type": "code",
      "metadata": {
        "id": "qiiI2IiXh9M8",
        "colab_type": "code",
        "colab": {
          "base_uri": "https://localhost:8080/",
          "height": 34
        },
        "outputId": "3c600d82-64e4-4440-b7d3-48de5711e983"
      },
      "source": [
        "print(a.dtype)"
      ],
      "execution_count": 22,
      "outputs": [
        {
          "output_type": "stream",
          "text": [
            "int64\n"
          ],
          "name": "stdout"
        }
      ]
    },
    {
      "cell_type": "markdown",
      "metadata": {
        "id": "0zgt8X0WiYvy",
        "colab_type": "text"
      },
      "source": [
        "8.\tFor the same one dimensional array find the size of an array."
      ]
    },
    {
      "cell_type": "code",
      "metadata": {
        "id": "TLIDj0AHiblq",
        "colab_type": "code",
        "colab": {
          "base_uri": "https://localhost:8080/",
          "height": 34
        },
        "outputId": "ce544aa5-fa9c-4cf6-87bd-18d2da49238d"
      },
      "source": [
        "a.size"
      ],
      "execution_count": 24,
      "outputs": [
        {
          "output_type": "execute_result",
          "data": {
            "text/plain": [
              "3"
            ]
          },
          "metadata": {
            "tags": []
          },
          "execution_count": 24
        }
      ]
    },
    {
      "cell_type": "markdown",
      "metadata": {
        "id": "ekE5bBOfjeWb",
        "colab_type": "text"
      },
      "source": [
        "9.\tCreate an array with np.zeros as 3, 3 values and print it."
      ]
    },
    {
      "cell_type": "code",
      "metadata": {
        "id": "Xp-xkE0FjfOe",
        "colab_type": "code",
        "colab": {
          "base_uri": "https://localhost:8080/",
          "height": 68
        },
        "outputId": "88408633-1027-4b79-dbce-d849a408ab8d"
      },
      "source": [
        "a=np.zeros((3,3))\n",
        "print(a)"
      ],
      "execution_count": 31,
      "outputs": [
        {
          "output_type": "stream",
          "text": [
            "[[0. 0. 0.]\n",
            " [0. 0. 0.]\n",
            " [0. 0. 0.]]\n"
          ],
          "name": "stdout"
        }
      ]
    },
    {
      "cell_type": "markdown",
      "metadata": {
        "id": "_ct-s1zpkb1e",
        "colab_type": "text"
      },
      "source": [
        "9.\tCreate an array with np.zeros as 3, 3 values and print it."
      ]
    },
    {
      "cell_type": "code",
      "metadata": {
        "id": "kzS-FPPNkfg2",
        "colab_type": "code",
        "colab": {
          "base_uri": "https://localhost:8080/",
          "height": 68
        },
        "outputId": "3ea06de5-74c0-47e7-fd02-e2fc588cf1e1"
      },
      "source": [
        "a=np.ones((3,3))\n",
        "print(a)"
      ],
      "execution_count": 32,
      "outputs": [
        {
          "output_type": "stream",
          "text": [
            "[[1. 1. 1.]\n",
            " [1. 1. 1.]\n",
            " [1. 1. 1.]]\n"
          ],
          "name": "stdout"
        }
      ]
    },
    {
      "cell_type": "markdown",
      "metadata": {
        "id": "XPjYOZlvljBg",
        "colab_type": "text"
      },
      "source": [
        "11.\tFind the shape of the array for the following values.\n",
        "[(1, 2, 3), (4, 5, 6)]\n"
      ]
    },
    {
      "cell_type": "code",
      "metadata": {
        "id": "m2OHlphall26",
        "colab_type": "code",
        "colab": {
          "base_uri": "https://localhost:8080/",
          "height": 34
        },
        "outputId": "ec69f4b3-c245-43d5-98e7-8145e2c2bdb6"
      },
      "source": [
        "a=np.array( [(1, 2, 3), (4, 5, 6)])\n",
        "print(a.shape)"
      ],
      "execution_count": 37,
      "outputs": [
        {
          "output_type": "stream",
          "text": [
            "(2, 3)\n"
          ],
          "name": "stdout"
        }
      ]
    },
    {
      "cell_type": "markdown",
      "metadata": {
        "id": "zaO_ZXq4l6tM",
        "colab_type": "text"
      },
      "source": [
        "12.\t Find the re shape of the array for the following values.\n",
        "[(1, 2, 3), (4, 5, 6)] and reshape (4, 2) and print it.\n"
      ]
    },
    {
      "cell_type": "code",
      "metadata": {
        "id": "XUVQsXKbmKa_",
        "colab_type": "code",
        "colab": {
          "base_uri": "https://localhost:8080/",
          "height": 180
        },
        "outputId": "6b485366-139c-4888-d8cb-95f76f5637f2"
      },
      "source": [
        "a=np.array([(1, 2, 3), (4, 5, 6)])\n",
        "a.reshape(4,2)\n"
      ],
      "execution_count": 48,
      "outputs": [
        {
          "output_type": "error",
          "ename": "ValueError",
          "evalue": "ignored",
          "traceback": [
            "\u001b[0;31m---------------------------------------------------------------------------\u001b[0m",
            "\u001b[0;31mValueError\u001b[0m                                Traceback (most recent call last)",
            "\u001b[0;32m<ipython-input-48-df836478270d>\u001b[0m in \u001b[0;36m<module>\u001b[0;34m()\u001b[0m\n\u001b[1;32m      1\u001b[0m \u001b[0ma\u001b[0m\u001b[0;34m=\u001b[0m\u001b[0mnp\u001b[0m\u001b[0;34m.\u001b[0m\u001b[0marray\u001b[0m\u001b[0;34m(\u001b[0m\u001b[0;34m[\u001b[0m\u001b[0;34m(\u001b[0m\u001b[0;36m1\u001b[0m\u001b[0;34m,\u001b[0m \u001b[0;36m2\u001b[0m\u001b[0;34m,\u001b[0m \u001b[0;36m3\u001b[0m\u001b[0;34m)\u001b[0m\u001b[0;34m,\u001b[0m \u001b[0;34m(\u001b[0m\u001b[0;36m4\u001b[0m\u001b[0;34m,\u001b[0m \u001b[0;36m5\u001b[0m\u001b[0;34m,\u001b[0m \u001b[0;36m6\u001b[0m\u001b[0;34m)\u001b[0m\u001b[0;34m]\u001b[0m\u001b[0;34m)\u001b[0m\u001b[0;34m\u001b[0m\u001b[0;34m\u001b[0m\u001b[0m\n\u001b[0;32m----> 2\u001b[0;31m \u001b[0ma\u001b[0m\u001b[0;34m.\u001b[0m\u001b[0mreshape\u001b[0m\u001b[0;34m(\u001b[0m\u001b[0;36m4\u001b[0m\u001b[0;34m,\u001b[0m\u001b[0;36m2\u001b[0m\u001b[0;34m)\u001b[0m\u001b[0;34m\u001b[0m\u001b[0;34m\u001b[0m\u001b[0m\n\u001b[0m",
            "\u001b[0;31mValueError\u001b[0m: cannot reshape array of size 6 into shape (4,2)"
          ]
        }
      ]
    },
    {
      "cell_type": "markdown",
      "metadata": {
        "id": "KpwrC0thnH6u",
        "colab_type": "text"
      },
      "source": [
        "13. Find the slice of an array for the following values.\n",
        "[(1, 2, 3), (4, 5, 6)] and a [0:, 2] and print it.\n"
      ]
    },
    {
      "cell_type": "code",
      "metadata": {
        "id": "Uh_0bZGznLBU",
        "colab_type": "code",
        "colab": {
          "base_uri": "https://localhost:8080/",
          "height": 34
        },
        "outputId": "03406d42-52f5-4cdc-b891-4b605a8e2cc7"
      },
      "source": [
        "a=np.array([(1, 2, 3), (4, 5, 6)])\n",
        "a[0:,2]"
      ],
      "execution_count": 51,
      "outputs": [
        {
          "output_type": "execute_result",
          "data": {
            "text/plain": [
              "array([3, 6])"
            ]
          },
          "metadata": {
            "tags": []
          },
          "execution_count": 51
        }
      ]
    },
    {
      "cell_type": "markdown",
      "metadata": {
        "id": "_kio00MnoGTn",
        "colab_type": "text"
      },
      "source": [
        "14. Print the linspace for the values (1, 2, 5)."
      ]
    },
    {
      "cell_type": "code",
      "metadata": {
        "id": "40jMMCyJoH7S",
        "colab_type": "code",
        "colab": {
          "base_uri": "https://localhost:8080/",
          "height": 34
        },
        "outputId": "863ef3d0-59cd-4b87-c29c-f1bfae01c7a5"
      },
      "source": [
        "np.linspace(1, 2, 5)"
      ],
      "execution_count": 54,
      "outputs": [
        {
          "output_type": "execute_result",
          "data": {
            "text/plain": [
              "array([1.  , 1.25, 1.5 , 1.75, 2.  ])"
            ]
          },
          "metadata": {
            "tags": []
          },
          "execution_count": 54
        }
      ]
    },
    {
      "cell_type": "markdown",
      "metadata": {
        "id": "l8XzibCWoWy_",
        "colab_type": "text"
      },
      "source": [
        "15.\t Find the sum, max, min of an array for the following values [(1,2,3),(3,4,5)]."
      ]
    },
    {
      "cell_type": "code",
      "metadata": {
        "id": "MT5DE7h6oXhF",
        "colab_type": "code",
        "colab": {
          "base_uri": "https://localhost:8080/",
          "height": 34
        },
        "outputId": "aa3a0c93-6f6b-408f-b0fd-2a2f2c549806"
      },
      "source": [
        "a=np.array([(1,2,3),(3,4,5)])\n",
        "print(a.sum(),a.min(),a.max())"
      ],
      "execution_count": 56,
      "outputs": [
        {
          "output_type": "stream",
          "text": [
            "18 1 5\n"
          ],
          "name": "stdout"
        }
      ]
    },
    {
      "cell_type": "markdown",
      "metadata": {
        "id": "2_5X0Qh7ouJf",
        "colab_type": "text"
      },
      "source": [
        "16. Find the column wise and row wise sum of an array for the following values [(1, 2, 3), (3, 4, 5)]."
      ]
    },
    {
      "cell_type": "code",
      "metadata": {
        "id": "22FaOGNgou3B",
        "colab_type": "code",
        "colab": {
          "base_uri": "https://localhost:8080/",
          "height": 51
        },
        "outputId": "796dc34e-366d-4e31-c7b7-3fb93c8d885e"
      },
      "source": [
        "a=np.array([(1, 2, 3), (3, 4, 5)])\n",
        "print(a.sum(axis=0)) # columnwise sum\n",
        "print(a.sum(axis=1))  # Rowwise sum"
      ],
      "execution_count": 57,
      "outputs": [
        {
          "output_type": "stream",
          "text": [
            "[4 6 8]\n",
            "[ 6 12]\n"
          ],
          "name": "stdout"
        }
      ]
    },
    {
      "cell_type": "markdown",
      "metadata": {
        "id": "VSC4s6RkpHiR",
        "colab_type": "text"
      },
      "source": [
        "17. Find the transpose of an array [[1,2,3],[3,4,5],[9,6,0]] and print it."
      ]
    },
    {
      "cell_type": "code",
      "metadata": {
        "id": "YRfVkylGpjMQ",
        "colab_type": "code",
        "colab": {
          "base_uri": "https://localhost:8080/",
          "height": 68
        },
        "outputId": "e3e5ca95-bfca-4a2e-cdaf-c935ba19d841"
      },
      "source": [
        "a=np.array([(1,2,3),(3,4,5),(9,6,0)])\n",
        "print(a.T)"
      ],
      "execution_count": 59,
      "outputs": [
        {
          "output_type": "stream",
          "text": [
            "[[1 3 9]\n",
            " [2 4 6]\n",
            " [3 5 0]]\n"
          ],
          "name": "stdout"
        }
      ]
    },
    {
      "cell_type": "markdown",
      "metadata": {
        "id": "Lb9Lpz4opyxj",
        "colab_type": "text"
      },
      "source": [
        "18.\t Find the row wise sort and column wise sort for the following values [[1,4,2],[3,4,6],[0,-1,5]] and print it."
      ]
    },
    {
      "cell_type": "code",
      "metadata": {
        "id": "DGUV3Bd1p3bE",
        "colab_type": "code",
        "colab": {
          "base_uri": "https://localhost:8080/",
          "height": 170
        },
        "outputId": "8f33d6d9-3d2e-4c1e-86a5-02b9f205a04c"
      },
      "source": [
        "a=np.array([(1,4,2),(3,4,6),(0,-1,5)])\n",
        "print(a)\n",
        "print(np.sort(a,axis=0)) #Columnwise sort\n",
        "print(np.sort(a,axis=1)) #Rowwise sort\n"
      ],
      "execution_count": 64,
      "outputs": [
        {
          "output_type": "stream",
          "text": [
            "[[ 1  4  2]\n",
            " [ 3  4  6]\n",
            " [ 0 -1  5]]\n",
            "[[ 0 -1  2]\n",
            " [ 1  4  5]\n",
            " [ 3  4  6]]\n",
            "[[ 1  2  4]\n",
            " [ 3  4  6]\n",
            " [-1  0  5]]\n"
          ],
          "name": "stdout"
        }
      ]
    },
    {
      "cell_type": "markdown",
      "metadata": {
        "id": "DjCv6bZjqv5T",
        "colab_type": "text"
      },
      "source": [
        "19.\t Find the horizontal split and vertical split for the following values\n",
        "[[1,3,5,7,9,11],[2,4,5,8,10,12]] and print it.\n"
      ]
    },
    {
      "cell_type": "code",
      "metadata": {
        "id": "KgnjIhm_sQZl",
        "colab_type": "code",
        "colab": {
          "base_uri": "https://localhost:8080/",
          "height": 85
        },
        "outputId": "28e120f8-848f-4e87-9009-96dc196beb6f"
      },
      "source": [
        "a=np.array([(1,3,5,7,9,11),(2,4,5,8,10,12)] )\n",
        "print(np.hsplit(a,2))\n",
        "print(np.vsplit(a,2))"
      ],
      "execution_count": 68,
      "outputs": [
        {
          "output_type": "stream",
          "text": [
            "[array([[1, 3, 5],\n",
            "       [2, 4, 5]]), array([[ 7,  9, 11],\n",
            "       [ 8, 10, 12]])]\n",
            "[array([[ 1,  3,  5,  7,  9, 11]]), array([[ 2,  4,  5,  8, 10, 12]])]\n"
          ],
          "name": "stdout"
        }
      ]
    },
    {
      "cell_type": "markdown",
      "metadata": {
        "id": "lhMok8ymuLIi",
        "colab_type": "text"
      },
      "source": [
        "20. Find the vstack and hstack for the following values\n",
        "a=np.array([(1,2,3),(3,4,5)])\n",
        "b=np.array([(1,2,3),(3,4,5)]) and print it.\n"
      ]
    },
    {
      "cell_type": "code",
      "metadata": {
        "id": "00C2FYNnuRy2",
        "colab_type": "code",
        "colab": {
          "base_uri": "https://localhost:8080/",
          "height": 119
        },
        "outputId": "46b2953e-3e75-446c-9775-feae02778d74"
      },
      "source": [
        "a=np.array([(1,2,3),(3,4,5)]) \n",
        "b=np.array([(1,2,3),(3,4,5)])\n",
        "print(np.vstack((a,b)))\n",
        "print(np.hstack((a,b)))"
      ],
      "execution_count": 70,
      "outputs": [
        {
          "output_type": "stream",
          "text": [
            "[[1 2 3]\n",
            " [3 4 5]\n",
            " [1 2 3]\n",
            " [3 4 5]]\n",
            "[[1 2 3 1 2 3]\n",
            " [3 4 5 3 4 5]]\n"
          ],
          "name": "stdout"
        }
      ]
    }
  ]
}