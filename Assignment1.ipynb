{
  "nbformat": 4,
  "nbformat_minor": 0,
  "metadata": {
    "colab": {
      "name": "Assignment1.ipynb",
      "provenance": [],
      "include_colab_link": true
    },
    "kernelspec": {
      "name": "python3",
      "display_name": "Python 3"
    }
  },
  "cells": [
    {
      "cell_type": "markdown",
      "metadata": {
        "id": "view-in-github",
        "colab_type": "text"
      },
      "source": [
        "<a href=\"https://colab.research.google.com/github/venkat2ram/Python/blob/master/Assignment1.ipynb\" target=\"_parent\"><img src=\"https://colab.research.google.com/assets/colab-badge.svg\" alt=\"Open In Colab\"/></a>"
      ]
    },
    {
      "cell_type": "markdown",
      "metadata": {
        "id": "07n1zwgRdzAc",
        "colab_type": "text"
      },
      "source": [
        "1.\tCreate a one dimensional array with the following values 1, 4, 3 and print the values."
      ]
    },
    {
      "cell_type": "code",
      "metadata": {
        "id": "HShHdfVCDZtW",
        "colab_type": "code",
        "colab": {
          "base_uri": "https://localhost:8080/",
          "height": 34
        },
        "outputId": "aa8b2feb-eed4-4eb9-a1b6-d19f3ca7caf5"
      },
      "source": [
        "import numpy as np\n",
        "a=np.array([1,4,3])\n",
        "print(a)"
      ],
      "execution_count": 10,
      "outputs": [
        {
          "output_type": "stream",
          "text": [
            "[1 4 3]\n"
          ],
          "name": "stdout"
        }
      ]
    },
    {
      "cell_type": "markdown",
      "metadata": {
        "id": "bbczIaateOQ6",
        "colab_type": "text"
      },
      "source": [
        "2.\tCreate a one dimensional array with the following values 1, 4, 3 and print the type of the array."
      ]
    },
    {
      "cell_type": "code",
      "metadata": {
        "id": "NQtZHaGheQ5-",
        "colab_type": "code",
        "colab": {
          "base_uri": "https://localhost:8080/",
          "height": 34
        },
        "outputId": "e5315c65-3f2a-43a8-e0a1-4fc28f1808ec"
      },
      "source": [
        "a=np.array([1,4,3])\n",
        "print(type(a))"
      ],
      "execution_count": 19,
      "outputs": [
        {
          "output_type": "stream",
          "text": [
            "<class 'numpy.ndarray'>\n"
          ],
          "name": "stdout"
        }
      ]
    },
    {
      "cell_type": "markdown",
      "metadata": {
        "id": "yiQN1TMoed3z",
        "colab_type": "text"
      },
      "source": [
        "3.\tCreate a two dimensional array with the following format: [(1, 2, 3), (4, 5, 6)] and print the values."
      ]
    },
    {
      "cell_type": "code",
      "metadata": {
        "id": "U9BHOiIzehsK",
        "colab_type": "code",
        "colab": {
          "base_uri": "https://localhost:8080/",
          "height": 51
        },
        "outputId": "d8e60ef4-4b4e-4d14-80bc-47495228bf52"
      },
      "source": [
        "a=np.array([(1, 2, 3), (4, 5, 6)] )\n",
        "print(a)"
      ],
      "execution_count": 13,
      "outputs": [
        {
          "output_type": "stream",
          "text": [
            "[[1 2 3]\n",
            " [4 5 6]]\n"
          ],
          "name": "stdout"
        }
      ]
    },
    {
      "cell_type": "markdown",
      "metadata": {
        "id": "RonguGJHewju",
        "colab_type": "text"
      },
      "source": [
        "4.\tCreate a two dimensional array with the following format: [(1, 2, 3), (4, 5, 6)] and print the type of the array."
      ]
    },
    {
      "cell_type": "code",
      "metadata": {
        "id": "D7X7GAyde0WF",
        "colab_type": "code",
        "colab": {
          "base_uri": "https://localhost:8080/",
          "height": 34
        },
        "outputId": "931675a9-7453-4f79-9471-067caec2e69d"
      },
      "source": [
        "a=np.array([(1, 2, 3), (4, 5, 6)] )\n",
        "print(type(a))"
      ],
      "execution_count": 20,
      "outputs": [
        {
          "output_type": "stream",
          "text": [
            "<class 'numpy.ndarray'>\n"
          ],
          "name": "stdout"
        }
      ]
    },
    {
      "cell_type": "markdown",
      "metadata": {
        "id": "c1WcjoRDeg1E",
        "colab_type": "text"
      },
      "source": [
        "5.\tCreate a one dimensional array with the following values 1, 4, 3 and print the dimension of the array."
      ]
    },
    {
      "cell_type": "code",
      "metadata": {
        "id": "MWKEFsx2fDYd",
        "colab_type": "code",
        "colab": {
          "base_uri": "https://localhost:8080/",
          "height": 34
        },
        "outputId": "fe002ff8-0837-4fc1-e50d-cd67bf9b7935"
      },
      "source": [
        "a=np.array([1,4,3])\n",
        "print(a.ndim)"
      ],
      "execution_count": 21,
      "outputs": [
        {
          "output_type": "stream",
          "text": [
            "1\n"
          ],
          "name": "stdout"
        }
      ]
    },
    {
      "cell_type": "markdown",
      "metadata": {
        "id": "BStLgd4ehYXo",
        "colab_type": "text"
      },
      "source": [
        "6.\tFor the same one dimensional array find the byte size of an each element."
      ]
    },
    {
      "cell_type": "code",
      "metadata": {
        "id": "ZzV8Yq5Fhxa6",
        "colab_type": "code",
        "colab": {
          "base_uri": "https://localhost:8080/",
          "height": 34
        },
        "outputId": "44851e79-68d9-4ce8-bd5e-8998d6011186"
      },
      "source": [
        "print(a.itemsize)"
      ],
      "execution_count": 18,
      "outputs": [
        {
          "output_type": "stream",
          "text": [
            "8\n"
          ],
          "name": "stdout"
        }
      ]
    },
    {
      "cell_type": "markdown",
      "metadata": {
        "id": "C9l_GdTwh3gt",
        "colab_type": "text"
      },
      "source": [
        "7.\tFor the same one dimensional array find the data type of an each element."
      ]
    },
    {
      "cell_type": "code",
      "metadata": {
        "id": "qiiI2IiXh9M8",
        "colab_type": "code",
        "colab": {
          "base_uri": "https://localhost:8080/",
          "height": 34
        },
        "outputId": "3c600d82-64e4-4440-b7d3-48de5711e983"
      },
      "source": [
        "print(a.dtype)"
      ],
      "execution_count": 22,
      "outputs": [
        {
          "output_type": "stream",
          "text": [
            "int64\n"
          ],
          "name": "stdout"
        }
      ]
    },
    {
      "cell_type": "markdown",
      "metadata": {
        "id": "0zgt8X0WiYvy",
        "colab_type": "text"
      },
      "source": [
        "8.\tFor the same one dimensional array find the size of an array."
      ]
    },
    {
      "cell_type": "code",
      "metadata": {
        "id": "TLIDj0AHiblq",
        "colab_type": "code",
        "colab": {
          "base_uri": "https://localhost:8080/",
          "height": 34
        },
        "outputId": "ce544aa5-fa9c-4cf6-87bd-18d2da49238d"
      },
      "source": [
        "a.size"
      ],
      "execution_count": 24,
      "outputs": [
        {
          "output_type": "execute_result",
          "data": {
            "text/plain": [
              "3"
            ]
          },
          "metadata": {
            "tags": []
          },
          "execution_count": 24
        }
      ]
    },
    {
      "cell_type": "markdown",
      "metadata": {
        "id": "ekE5bBOfjeWb",
        "colab_type": "text"
      },
      "source": [
        "9.\tCreate an array with np.zeros as 3, 3 values and print it."
      ]
    },
    {
      "cell_type": "code",
      "metadata": {
        "id": "Xp-xkE0FjfOe",
        "colab_type": "code",
        "colab": {
          "base_uri": "https://localhost:8080/",
          "height": 68
        },
        "outputId": "88408633-1027-4b79-dbce-d849a408ab8d"
      },
      "source": [
        "a=np.zeros((3,3))\n",
        "print(a)"
      ],
      "execution_count": 31,
      "outputs": [
        {
          "output_type": "stream",
          "text": [
            "[[0. 0. 0.]\n",
            " [0. 0. 0.]\n",
            " [0. 0. 0.]]\n"
          ],
          "name": "stdout"
        }
      ]
    },
    {
      "cell_type": "markdown",
      "metadata": {
        "id": "_ct-s1zpkb1e",
        "colab_type": "text"
      },
      "source": [
        "9.\tCreate an array with np.zeros as 3, 3 values and print it."
      ]
    },
    {
      "cell_type": "code",
      "metadata": {
        "id": "kzS-FPPNkfg2",
        "colab_type": "code",
        "colab": {
          "base_uri": "https://localhost:8080/",
          "height": 68
        },
        "outputId": "3ea06de5-74c0-47e7-fd02-e2fc588cf1e1"
      },
      "source": [
        "a=np.ones((3,3))\n",
        "print(a)"
      ],
      "execution_count": 32,
      "outputs": [
        {
          "output_type": "stream",
          "text": [
            "[[1. 1. 1.]\n",
            " [1. 1. 1.]\n",
            " [1. 1. 1.]]\n"
          ],
          "name": "stdout"
        }
      ]
    },
    {
      "cell_type": "markdown",
      "metadata": {
        "id": "XPjYOZlvljBg",
        "colab_type": "text"
      },
      "source": [
        "11.\tFind the shape of the array for the following values.\n",
        "[(1, 2, 3), (4, 5, 6)]\n"
      ]
    },
    {
      "cell_type": "code",
      "metadata": {
        "id": "m2OHlphall26",
        "colab_type": "code",
        "colab": {
          "base_uri": "https://localhost:8080/",
          "height": 34
        },
        "outputId": "ec69f4b3-c245-43d5-98e7-8145e2c2bdb6"
      },
      "source": [
        "a=np.array( [(1, 2, 3), (4, 5, 6)])\n",
        "print(a.shape)"
      ],
      "execution_count": 37,
      "outputs": [
        {
          "output_type": "stream",
          "text": [
            "(2, 3)\n"
          ],
          "name": "stdout"
        }
      ]
    },
    {
      "cell_type": "markdown",
      "metadata": {
        "id": "zaO_ZXq4l6tM",
        "colab_type": "text"
      },
      "source": [
        "12.\t Find the re shape of the array for the following values.\n",
        "[(1, 2, 3), (4, 5, 6)] and reshape (4, 2) and print it.\n"
      ]
    },
    {
      "cell_type": "code",
      "metadata": {
        "id": "XUVQsXKbmKa_",
        "colab_type": "code",
        "colab": {
          "base_uri": "https://localhost:8080/",
          "height": 180
        },
        "outputId": "6b485366-139c-4888-d8cb-95f76f5637f2"
      },
      "source": [
        "a=np.array([(1, 2, 3), (4, 5, 6)])\n",
        "a.reshape(4,2)\n"
      ],
      "execution_count": 48,
      "outputs": [
        {
          "output_type": "error",
          "ename": "ValueError",
          "evalue": "ignored",
          "traceback": [
            "\u001b[0;31m---------------------------------------------------------------------------\u001b[0m",
            "\u001b[0;31mValueError\u001b[0m                                Traceback (most recent call last)",
            "\u001b[0;32m<ipython-input-48-df836478270d>\u001b[0m in \u001b[0;36m<module>\u001b[0;34m()\u001b[0m\n\u001b[1;32m      1\u001b[0m \u001b[0ma\u001b[0m\u001b[0;34m=\u001b[0m\u001b[0mnp\u001b[0m\u001b[0;34m.\u001b[0m\u001b[0marray\u001b[0m\u001b[0;34m(\u001b[0m\u001b[0;34m[\u001b[0m\u001b[0;34m(\u001b[0m\u001b[0;36m1\u001b[0m\u001b[0;34m,\u001b[0m \u001b[0;36m2\u001b[0m\u001b[0;34m,\u001b[0m \u001b[0;36m3\u001b[0m\u001b[0;34m)\u001b[0m\u001b[0;34m,\u001b[0m \u001b[0;34m(\u001b[0m\u001b[0;36m4\u001b[0m\u001b[0;34m,\u001b[0m \u001b[0;36m5\u001b[0m\u001b[0;34m,\u001b[0m \u001b[0;36m6\u001b[0m\u001b[0;34m)\u001b[0m\u001b[0;34m]\u001b[0m\u001b[0;34m)\u001b[0m\u001b[0;34m\u001b[0m\u001b[0;34m\u001b[0m\u001b[0m\n\u001b[0;32m----> 2\u001b[0;31m \u001b[0ma\u001b[0m\u001b[0;34m.\u001b[0m\u001b[0mreshape\u001b[0m\u001b[0;34m(\u001b[0m\u001b[0;36m4\u001b[0m\u001b[0;34m,\u001b[0m\u001b[0;36m2\u001b[0m\u001b[0;34m)\u001b[0m\u001b[0;34m\u001b[0m\u001b[0;34m\u001b[0m\u001b[0m\n\u001b[0m",
            "\u001b[0;31mValueError\u001b[0m: cannot reshape array of size 6 into shape (4,2)"
          ]
        }
      ]
    },
    {
      "cell_type": "markdown",
      "metadata": {
        "id": "KpwrC0thnH6u",
        "colab_type": "text"
      },
      "source": [
        "13. Find the slice of an array for the following values.\n",
        "[(1, 2, 3), (4, 5, 6)] and a [0:, 2] and print it.\n"
      ]
    },
    {
      "cell_type": "code",
      "metadata": {
        "id": "Uh_0bZGznLBU",
        "colab_type": "code",
        "colab": {
          "base_uri": "https://localhost:8080/",
          "height": 34
        },
        "outputId": "03406d42-52f5-4cdc-b891-4b605a8e2cc7"
      },
      "source": [
        "a=np.array([(1, 2, 3), (4, 5, 6)])\n",
        "a[0:,2]"
      ],
      "execution_count": 51,
      "outputs": [
        {
          "output_type": "execute_result",
          "data": {
            "text/plain": [
              "array([3, 6])"
            ]
          },
          "metadata": {
            "tags": []
          },
          "execution_count": 51
        }
      ]
    }
  ]
}