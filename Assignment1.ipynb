{
  "nbformat": 4,
  "nbformat_minor": 0,
  "metadata": {
    "colab": {
      "name": "Assignment1.ipynb",
      "provenance": [],
      "include_colab_link": true
    },
    "kernelspec": {
      "name": "python3",
      "display_name": "Python 3"
    }
  },
  "cells": [
    {
      "cell_type": "markdown",
      "metadata": {
        "id": "view-in-github",
        "colab_type": "text"
      },
      "source": [
        "<a href=\"https://colab.research.google.com/github/venkat2ram/Python/blob/master/Assignment1.ipynb\" target=\"_parent\"><img src=\"https://colab.research.google.com/assets/colab-badge.svg\" alt=\"Open In Colab\"/></a>"
      ]
    },
    {
      "cell_type": "markdown",
      "metadata": {
        "id": "07n1zwgRdzAc",
        "colab_type": "text"
      },
      "source": [
        "1.\tCreate a one dimensional array with the following values 1, 4, 3 and print the values."
      ]
    },
    {
      "cell_type": "code",
      "metadata": {
        "id": "HShHdfVCDZtW",
        "colab_type": "code",
        "colab": {
          "base_uri": "https://localhost:8080/",
          "height": 34
        },
        "outputId": "aa8b2feb-eed4-4eb9-a1b6-d19f3ca7caf5"
      },
      "source": [
        "import numpy as np\n",
        "a=np.array([1,4,3])\n",
        "print(a)"
      ],
      "execution_count": 10,
      "outputs": [
        {
          "output_type": "stream",
          "text": [
            "[1 4 3]\n"
          ],
          "name": "stdout"
        }
      ]
    },
    {
      "cell_type": "markdown",
      "metadata": {
        "id": "bbczIaateOQ6",
        "colab_type": "text"
      },
      "source": [
        "2.\tCreate a one dimensional array with the following values 1, 4, 3 and print the type of the array."
      ]
    },
    {
      "cell_type": "code",
      "metadata": {
        "id": "NQtZHaGheQ5-",
        "colab_type": "code",
        "colab": {}
      },
      "source": [
        ""
      ],
      "execution_count": 0,
      "outputs": []
    }
  ]
}