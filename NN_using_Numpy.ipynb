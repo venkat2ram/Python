{
  "nbformat": 4,
  "nbformat_minor": 0,
  "metadata": {
    "colab": {
      "name": "NN_using_Numpy.ipynb",
      "provenance": [],
      "machine_shape": "hm",
      "include_colab_link": true
    },
    "kernelspec": {
      "name": "python3",
      "display_name": "Python 3"
    }
  },
  "cells": [
    {
      "cell_type": "markdown",
      "metadata": {
        "id": "view-in-github",
        "colab_type": "text"
      },
      "source": [
        "<a href=\"https://colab.research.google.com/github/venkat2ram/Python/blob/master/NN_using_Numpy.ipynb\" target=\"_parent\"><img src=\"https://colab.research.google.com/assets/colab-badge.svg\" alt=\"Open In Colab\"/></a>"
      ]
    },
    {
      "cell_type": "code",
      "metadata": {
        "id": "Hv3PPGQtm5t1",
        "colab_type": "code",
        "colab": {}
      },
      "source": [
        "from sklearn.datasets import fetch_openml\n",
        "\n",
        "Data=fetch_openml('mnist_784')"
      ],
      "execution_count": 0,
      "outputs": []
    },
    {
      "cell_type": "code",
      "metadata": {
        "id": "JOJfcO_UnJma",
        "colab_type": "code",
        "colab": {}
      },
      "source": [
        "X,y_actual=Data[\"data\"][:1000]/1000,Data[\"target\"][:1000]"
      ],
      "execution_count": 0,
      "outputs": []
    },
    {
      "cell_type": "code",
      "metadata": {
        "id": "NAEZlwI8nOzw",
        "colab_type": "code",
        "colab": {}
      },
      "source": [
        "import numpy as np\n",
        "import matplotlib \n",
        "import matplotlib.pyplot as plt\n",
        "\n",
        "def show_imag(X,y_actual,position):\n",
        "  img=X[position]\n",
        "  imag=img.reshape(int(np.sqrt(img.size)),int(np.sqrt(img.size)))\n",
        "  plt.imshow(imag,cmap = matplotlib.cm.binary, interpolation=\"nearest\")\n",
        "  plt.show()\n",
        "  print(y_actual[position]) "
      ],
      "execution_count": 0,
      "outputs": []
    },
    {
      "cell_type": "code",
      "metadata": {
        "id": "xG1GujVSnPwt",
        "colab_type": "code",
        "outputId": "7116dff7-ec8a-4abe-f5af-e81b20914593",
        "colab": {
          "base_uri": "https://localhost:8080/",
          "height": 282
        }
      },
      "source": [
        "show_imag(X,y_actual,400)"
      ],
      "execution_count": 138,
      "outputs": [
        {
          "output_type": "display_data",
          "data": {
            "image/png": "[encoded data removed]",
            "text/plain": [
              "<Figure size 432x288 with 1 Axes>"
            ]
          },
          "metadata": {
            "tags": []
          }
        },
        {
          "output_type": "stream",
          "text": [
            "2\n"
          ],
          "name": "stdout"
        }
      ]
    },
    {
      "cell_type": "code",
      "metadata": {
        "id": "NPH1fvVxnWaL",
        "colab_type": "code",
        "colab": {}
      },
      "source": [
        "def convert_binary(y_actual):\n",
        "  y1=np.zeros((len(y_actual),10))\n",
        "  for i in range(len(y_actual)):\n",
        "    y1[i][int(y_actual[i])]=1\n",
        "    \n",
        "    \n",
        "  return y1"
      ],
      "execution_count": 0,
      "outputs": []
    },
    {
      "cell_type": "code",
      "metadata": {
        "id": "87w4EY66xDpH",
        "colab_type": "code",
        "colab": {}
      },
      "source": [
        "NumHlayers=10\n",
        "NumHunits=30"
      ],
      "execution_count": 0,
      "outputs": []
    },
    {
      "cell_type": "code",
      "metadata": {
        "id": "xypaqaTDxITZ",
        "colab_type": "code",
        "outputId": "94b7f4d5-5e47-4f51-b22b-68263ee789eb",
        "colab": {
          "base_uri": "https://localhost:8080/",
          "height": 122
        }
      },
      "source": [
        "y=convert_binary(y_actual)\n",
        "m,n=np.shape(X)\n",
        "p,s=np.shape(y)\n",
        "X_with_bias=np.c_[np.ones((m,1)),X]\n",
        "hidden=np.ones((NumHlayers,m,NumHunits+1))\n",
        "z=np.ones((NumHlayers,m,NumHunits))\n",
        "a=np.ones((NumHlayers,m,NumHunits))\n",
        "d=np.ones((NumHlayers,m,NumHunits+1))\n",
        "ITheta=np.random.rand(n+1,NumHunits)\n",
        "#Igrad=np.zeros((n+1,NumHunits))\n",
        "HTheta=np.random.rand(NumHlayers-1,NumHunits+1,NumHunits)\n",
        "HTGrad=np.random.rand(NumHlayers-1,NumHunits+1,NumHunits)\n",
        "HGrad=np.zeros((NumHlayers,NumHunits+1))\n",
        "ETheta=np.random.rand(NumHunits+1,s)\n",
        "#EGrad=np.zeros((NumHunits+1,s))\n",
        "for rota in range(1000000):\n",
        "  z[0]=np.matmul(X_with_bias,ITheta)\n",
        "  a[0]=1/(1+np.exp(-1*z[0]))\n",
        "  hidden[0]=np.c_[np.ones((m,1)),a[0]]\n",
        "  for i in range(NumHlayers-1):\n",
        "    z[i+1]=np.matmul(hidden[i],HTheta[i])\n",
        "    a[i+1]=1/(1+np.exp(-1*z[i+1]))\n",
        "    hidden[i+1]=np.c_[np.ones((m,1)),a[i+1]]\n",
        "  pred=1/(1+np.exp(-1*np.matmul(hidden[i+1],ETheta)))\n",
        "  cost=sum(((pred-y)**2).transpose()).reshape(-1,1)\n",
        "  if(rota%10000==0):\n",
        "    print(sum(cost),pred[0])\n",
        "  dpred=y-pred\n",
        "  #Egrad_init=np.zeros((m,NumHunits+1,s))\n",
        "  Egrad=np.matmul((hidden[NumHlayers-1].transpose()),(2*dpred)*(pred*(1-pred)))/1000\n",
        "  HGrad[NumHlayers-1]=sum(np.matmul((2*dpred*pred*(1-pred)),ETheta.transpose())).reshape(1,-1)\n",
        "  for j in range(NumHlayers-1):\n",
        "    k=NumHlayers-j-2\n",
        "    HTGrad[k]=np.matmul((sum(hidden[k]).reshape(1,-1)).transpose(),((((sum(a[k+1])).reshape(1,-1))*(((sum(1-a[k+1])).reshape(1,-1))))*(HGrad[k+1,1:NumHunits+1].reshape(1,-1))))\n",
        "    HGrad[k]=np.matmul(((((sum(a[k+1])).reshape(1,-1))*(((sum(1-a[k+1])).reshape(1,-1))))*(HGrad[k+1,1:NumHunits+1].reshape(1,-1))),HTheta[k].transpose())\n",
        "  ETheta=ETheta+Egrad*0.1\n",
        "  HTheta=HTheta+HTGrad*0.1\n",
        "\n",
        "  \n",
        "  \n",
        "\n"
      ],
      "execution_count": 0,
      "outputs": [
        {
          "output_type": "stream",
          "text": [
            "[8999.98086264] [0.99999975 0.99999932 0.99999976 0.99999975 0.99999985 0.99999149\n",
            " 0.99999987 0.99999991 0.99999976 0.99999997]\n"
          ],
          "name": "stdout"
        },
        {
          "output_type": "stream",
          "text": [
            "/usr/local/lib/python3.6/dist-packages/ipykernel_launcher.py:22: RuntimeWarning: overflow encountered in exp\n"
          ],
          "name": "stderr"
        },
        {
          "output_type": "stream",
          "text": [
            "[899.102] [0.09700001 0.116      0.09900001 0.09300003 0.105      0.09200004\n",
            " 0.09400002 0.117      0.08700013 0.1       ]\n",
            "[899.102] [0.097 0.116 0.099 0.093 0.105 0.092 0.094 0.117 0.087 0.1  ]\n"
          ],
          "name": "stdout"
        }
      ]
    },
    {
      "cell_type": "code",
      "metadata": {
        "id": "6XhtY-25D511",
        "colab_type": "code",
        "colab": {}
      },
      "source": [
        "for c in range(1000):\n",
        "  print(np.where(pred[c]==np.amax(pred[c])))"
      ],
      "execution_count": 0,
      "outputs": []
    },
    {
      "cell_type": "code",
      "metadata": {
        "id": "kRr0eH4W9783",
        "colab_type": "code",
        "colab": {}
      },
      "source": [
        "y_actual[1]"
      ],
      "execution_count": 0,
      "outputs": []
    },
    {
      "cell_type": "code",
      "metadata": {
        "id": "zFxpqSnwJRR9",
        "colab_type": "code",
        "colab": {}
      },
      "source": [
        "y[0]"
      ],
      "execution_count": 0,
      "outputs": []
    },
    {
      "cell_type": "code",
      "metadata": {
        "id": "NB0yPDEE97XY",
        "colab_type": "code",
        "colab": {}
      },
      "source": [
        "X[2]"
      ],
      "execution_count": 0,
      "outputs": []
    },
    {
      "cell_type": "code",
      "metadata": {
        "id": "LZnMurwQCaNG",
        "colab_type": "code",
        "colab": {}
      },
      "source": [
        "HGrad[9]"
      ],
      "execution_count": 0,
      "outputs": []
    },
    {
      "cell_type": "code",
      "metadata": {
        "id": "8PkhZc7eC9L7",
        "colab_type": "code",
        "colab": {}
      },
      "source": [
        "HTGrad[8]"
      ],
      "execution_count": 0,
      "outputs": []
    },
    {
      "cell_type": "code",
      "metadata": {
        "id": "L7KkdgsdDGAO",
        "colab_type": "code",
        "colab": {}
      },
      "source": [
        "np.matmul((2*dpred*pred*(1-pred)),ETheta.transpose())"
      ],
      "execution_count": 0,
      "outputs": []
    },
    {
      "cell_type": "code",
      "metadata": {
        "id": "Z6Dxf7C_bIVd",
        "colab_type": "code",
        "colab": {}
      },
      "source": [
        "Egrad"
      ],
      "execution_count": 0,
      "outputs": []
    },
    {
      "cell_type": "code",
      "metadata": {
        "id": "7OmfSa8mbhZ_",
        "colab_type": "code",
        "colab": {}
      },
      "source": [
        "pred"
      ],
      "execution_count": 0,
      "outputs": []
    },
    {
      "cell_type": "code",
      "metadata": {
        "id": "n4_EmyRtblr7",
        "colab_type": "code",
        "colab": {}
      },
      "source": [
        "ETheta"
      ],
      "execution_count": 0,
      "outputs": []
    }
  ]
}