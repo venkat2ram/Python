{
  "nbformat": 4,
  "nbformat_minor": 0,
  "metadata": {
    "colab": {
      "name": "NN_using_Numpy.ipynb",
      "provenance": [],
      "machine_shape": "hm",
      "include_colab_link": true
    },
    "kernelspec": {
      "name": "python3",
      "display_name": "Python 3"
    }
  },
  "cells": [
    {
      "cell_type": "markdown",
      "metadata": {
        "id": "view-in-github",
        "colab_type": "text"
      },
      "source": [
        "<a href=\"https://colab.research.google.com/github/venkat2ram/Python/blob/master/NN_using_Numpy.ipynb\" target=\"_parent\"><img src=\"https://colab.research.google.com/assets/colab-badge.svg\" alt=\"Open In Colab\"/></a>"
      ]
    },
    {
      "cell_type": "code",
      "metadata": {
        "id": "Hv3PPGQtm5t1",
        "colab_type": "code",
        "colab": {}
      },
      "source": [
        "from sklearn.datasets import fetch_openml\n",
        "\n",
        "Data=fetch_openml('mnist_784')"
      ],
      "execution_count": 0,
      "outputs": []
    },
    {
      "cell_type": "code",
      "metadata": {
        "id": "JOJfcO_UnJma",
        "colab_type": "code",
        "colab": {}
      },
      "source": [
        "X,y_actual=Data[\"data\"][:1000]/10000,Data[\"target\"][:1000]"
      ],
      "execution_count": 0,
      "outputs": []
    },
    {
      "cell_type": "code",
      "metadata": {
        "id": "NAEZlwI8nOzw",
        "colab_type": "code",
        "colab": {}
      },
      "source": [
        "import numpy as np\n",
        "import matplotlib \n",
        "import matplotlib.pyplot as plt\n",
        "\n",
        "def show_imag(X,y_actual,position):\n",
        "  img=X[position]\n",
        "  imag=img.reshape(int(np.sqrt(img.size)),int(np.sqrt(img.size)))\n",
        "  plt.imshow(imag,cmap = matplotlib.cm.binary, interpolation=\"nearest\")\n",
        "  plt.show()\n",
        "  print(y_actual[position]) "
      ],
      "execution_count": 0,
      "outputs": []
    },
    {
      "cell_type": "code",
      "metadata": {
        "id": "xG1GujVSnPwt",
        "colab_type": "code",
        "outputId": "0170e595-c2fc-4ad4-feb1-d27ee2722a96",
        "colab": {
          "base_uri": "https://localhost:8080/",
          "height": 282
        }
      },
      "source": [
        "show_imag(X,y_actual,400)"
      ],
      "execution_count": 5,
      "outputs": [
        {
          "output_type": "display_data",
          "data": {
            "image/png": "[encoded data removed]",
            "text/plain": [
              "<Figure size 432x288 with 1 Axes>"
            ]
          },
          "metadata": {
            "tags": []
          }
        },
        {
          "output_type": "stream",
          "text": [
            "2\n"
          ],
          "name": "stdout"
        }
      ]
    },
    {
      "cell_type": "code",
      "metadata": {
        "id": "NPH1fvVxnWaL",
        "colab_type": "code",
        "colab": {}
      },
      "source": [
        "def convert_binary(y_actual):\n",
        "  y1=np.zeros((len(y_actual),10))\n",
        "  for i in range(len(y_actual)):\n",
        "    y1[i][int(y_actual[i])]=1\n",
        "    \n",
        "    \n",
        "  return y1"
      ],
      "execution_count": 0,
      "outputs": []
    },
    {
      "cell_type": "code",
      "metadata": {
        "id": "87w4EY66xDpH",
        "colab_type": "code",
        "colab": {}
      },
      "source": [
        "NumHlayers=10\n",
        "NumHunits=30"
      ],
      "execution_count": 0,
      "outputs": []
    },
    {
      "cell_type": "code",
      "metadata": {
        "id": "xypaqaTDxITZ",
        "colab_type": "code",
        "outputId": "afa9b2e4-f390-45f1-bcb1-55cfd4452bfe",
        "colab": {
          "base_uri": "https://localhost:8080/",
          "height": 1000
        }
      },
      "source": [
        "y=convert_binary(y_actual)\n",
        "m,n=np.shape(X)\n",
        "p,s=np.shape(y)\n",
        "X_with_bias=np.c_[np.ones((m,1)),X]\n",
        "hidden=np.ones((NumHlayers,m,NumHunits+1))\n",
        "z=np.ones((NumHlayers,m,NumHunits))\n",
        "a=np.ones((NumHlayers,m,NumHunits))\n",
        "d=np.ones((NumHlayers,m,NumHunits+1))\n",
        "ITheta=np.random.rand(n+1,NumHunits)\n",
        "#Igrad=np.zeros((n+1,NumHunits))\n",
        "HTheta=np.random.rand(NumHlayers-1,NumHunits+1,NumHunits)\n",
        "HTGrad=np.random.rand(NumHlayers-1,NumHunits+1,NumHunits)\n",
        "HGrad=np.zeros((NumHlayers,NumHunits+1))\n",
        "ETheta=np.random.rand(NumHunits+1,s)\n",
        "#EGrad=np.zeros((NumHunits+1,s))\n",
        "for rota in range(100):\n",
        "  z[0]=np.matmul(X_with_bias,ITheta)\n",
        "  a[0]=1/(1+np.exp(-1*z[0]))\n",
        "  hidden[0]=np.c_[np.ones((m,1)),a[0]]\n",
        "  for i in range(NumHlayers-1):\n",
        "    z[i+1]=np.matmul(hidden[i],HTheta[i])\n",
        "    a[i+1]=1/(1+np.exp(-1*z[i+1]))\n",
        "    hidden[i+1]=np.c_[np.ones((m,1)),a[i+1]]\n",
        "  pred=1/(1+np.exp(-1*np.matmul(hidden[i+1],ETheta)))\n",
        "  cost=sum(((pred-y)**2).transpose()).reshape(-1,1)\n",
        "  print(sum(cost))\n",
        "  dpred=pred-y\n",
        "  #Egrad_init=np.zeros((m,NumHunits+1,s))\n",
        "  Egrad=np.matmul((hidden[NumHlayers-1].transpose()),(2*dpred)*(pred*(1-pred)))/1000\n",
        "  HGrad[NumHlayers-1]=sum(np.matmul((2*dpred*pred*(1-pred)),ETheta.transpose())).reshape(1,-1)/1000\n",
        "  for j in range(NumHlayers-1):\n",
        "    k=NumHlayers-j-2\n",
        "    HTGrad[k]=np.matmul((sum(hidden[k]).reshape(1,-1)/1000).transpose(),((((sum(a[k+1])/1000).reshape(1,-1))*(((sum(1-a[k+1])/1000).reshape(1,-1))))*(HGrad[k+1,1:NumHunits+1].reshape(1,-1))))\n",
        "    HGrad[k]=np.matmul(((((sum(a[k+1])/1000).reshape(1,-1))*(((sum(1-a[k+1])/1000).reshape(1,-1))))*(HGrad[k+1,1:NumHunits+1].reshape(1,-1))),HTheta[8].transpose())\n",
        "  ETheta=ETheta-Egrad*100000000\n",
        "  HTheta=HTheta-HTGrad*100000000\n",
        "\n",
        "  \n",
        "  \n",
        "\n"
      ],
      "execution_count": 21,
      "outputs": [
        {
          "output_type": "stream",
          "text": [
            "[8999.97731859]\n",
            "[999.97208772]\n",
            "[1790.]\n"
          ],
          "name": "stdout"
        },
        {
          "output_type": "stream",
          "text": [
            "/usr/local/lib/python3.6/dist-packages/ipykernel_launcher.py:24: RuntimeWarning: overflow encountered in exp\n"
          ],
          "name": "stderr"
        },
        {
          "output_type": "stream",
          "text": [
            "[1790.]\n",
            "[1790.]\n",
            "[1790.]\n",
            "[1790.]\n",
            "[1790.]\n",
            "[1790.]\n",
            "[1790.]\n",
            "[1790.]\n",
            "[1790.]\n",
            "[1790.]\n",
            "[1790.]\n",
            "[1790.]\n",
            "[1790.]\n",
            "[1790.]\n",
            "[1790.]\n",
            "[1790.]\n",
            "[1790.]\n",
            "[1790.]\n",
            "[1790.]\n",
            "[1790.]\n",
            "[1790.]\n",
            "[1790.]\n",
            "[1790.]\n",
            "[1790.]\n",
            "[1790.]\n",
            "[1790.]\n",
            "[1790.]\n",
            "[1790.]\n",
            "[1790.]\n",
            "[1790.]\n",
            "[1790.]\n",
            "[1790.]\n",
            "[1790.]\n",
            "[1790.]\n",
            "[1790.]\n",
            "[1790.]\n",
            "[1790.]\n",
            "[1790.]\n",
            "[1790.]\n",
            "[1790.]\n",
            "[1790.]\n",
            "[1790.]\n",
            "[1790.]\n",
            "[1790.]\n",
            "[1790.]\n",
            "[1790.]\n",
            "[1790.]\n",
            "[1790.]\n",
            "[1790.]\n",
            "[1790.]\n",
            "[1790.]\n",
            "[1790.]\n",
            "[1790.]\n",
            "[1790.]\n",
            "[1790.]\n",
            "[1790.]\n",
            "[1790.]\n",
            "[1790.]\n",
            "[1790.]\n",
            "[1790.]\n",
            "[1790.]\n",
            "[1790.]\n",
            "[1790.]\n",
            "[1790.]\n",
            "[1790.]\n",
            "[1790.]\n",
            "[1790.]\n",
            "[1790.]\n",
            "[1790.]\n",
            "[1790.]\n",
            "[1790.]\n",
            "[1790.]\n",
            "[1790.]\n",
            "[1790.]\n",
            "[1790.]\n",
            "[1790.]\n",
            "[1790.]\n",
            "[1790.]\n",
            "[1790.]\n",
            "[1790.]\n",
            "[1790.]\n",
            "[1790.]\n",
            "[1790.]\n",
            "[1790.]\n",
            "[1790.]\n",
            "[1790.]\n",
            "[1790.]\n",
            "[1790.]\n",
            "[1790.]\n",
            "[1790.]\n",
            "[1790.]\n",
            "[1790.]\n",
            "[1790.]\n",
            "[1790.]\n",
            "[1790.]\n",
            "[1790.]\n",
            "[1790.]\n"
          ],
          "name": "stdout"
        }
      ]
    },
    {
      "cell_type": "code",
      "metadata": {
        "id": "6XhtY-25D511",
        "colab_type": "code",
        "outputId": "89de969c-d1bc-414c-bded-03954c75605a",
        "colab": {
          "base_uri": "https://localhost:8080/",
          "height": 68
        }
      },
      "source": [
        "pred[802]"
      ],
      "execution_count": 24,
      "outputs": [
        {
          "output_type": "execute_result",
          "data": {
            "text/plain": [
              "array([6.64579066e-25, 0.00000000e+00, 0.00000000e+00, 0.00000000e+00,\n",
              "       1.00000000e+00, 0.00000000e+00, 0.00000000e+00, 3.09641866e-26,\n",
              "       0.00000000e+00, 2.78036661e-35])"
            ]
          },
          "metadata": {
            "tags": []
          },
          "execution_count": 24
        }
      ]
    },
    {
      "cell_type": "code",
      "metadata": {
        "id": "kRr0eH4W9783",
        "colab_type": "code",
        "outputId": "568f2ffc-385b-4287-bfa8-f3cdcd849f90",
        "colab": {
          "base_uri": "https://localhost:8080/",
          "height": 34
        }
      },
      "source": [
        "y_actual[802]"
      ],
      "execution_count": 25,
      "outputs": [
        {
          "output_type": "execute_result",
          "data": {
            "text/plain": [
              "'6'"
            ]
          },
          "metadata": {
            "tags": []
          },
          "execution_count": 25
        }
      ]
    },
    {
      "cell_type": "code",
      "metadata": {
        "id": "NB0yPDEE97XY",
        "colab_type": "code",
        "outputId": "49e5ff79-b284-4f15-d06d-79b27299353a",
        "colab": {
          "base_uri": "https://localhost:8080/",
          "height": 153
        }
      },
      "source": [
        "(HGrad[9,1:31].reshape(1,-1))"
      ],
      "execution_count": 11,
      "outputs": [
        {
          "output_type": "execute_result",
          "data": {
            "text/plain": [
              "array([[9.86017796e-29, 1.05652890e-28, 9.26309290e-29, 7.80658275e-29,\n",
              "        7.72948871e-29, 1.00450636e-28, 9.74533257e-29, 8.77114596e-29,\n",
              "        8.92669567e-29, 8.70021027e-29, 8.34622789e-29, 9.72576055e-29,\n",
              "        1.07187780e-28, 9.08413266e-29, 7.37238128e-29, 9.16023845e-29,\n",
              "        8.32982661e-29, 9.66532599e-29, 1.12262313e-28, 9.89351149e-29,\n",
              "        9.10905077e-29, 1.11891938e-28, 8.16802348e-29, 1.00580597e-28,\n",
              "        8.71498364e-29, 9.28178591e-29, 9.15524389e-29, 1.01241713e-28,\n",
              "        1.06967107e-28, 9.47713859e-29]])"
            ]
          },
          "metadata": {
            "tags": []
          },
          "execution_count": 11
        }
      ]
    },
    {
      "cell_type": "code",
      "metadata": {
        "id": "LZnMurwQCaNG",
        "colab_type": "code",
        "outputId": "a55453d1-27be-4cb1-bee6-a4ee9c3744f7",
        "colab": {
          "base_uri": "https://localhost:8080/",
          "height": 153
        }
      },
      "source": [
        "HGrad[9]"
      ],
      "execution_count": 12,
      "outputs": [
        {
          "output_type": "execute_result",
          "data": {
            "text/plain": [
              "array([8.84083703e-29, 9.86017796e-29, 1.05652890e-28, 9.26309290e-29,\n",
              "       7.80658275e-29, 7.72948871e-29, 1.00450636e-28, 9.74533257e-29,\n",
              "       8.77114596e-29, 8.92669567e-29, 8.70021027e-29, 8.34622789e-29,\n",
              "       9.72576055e-29, 1.07187780e-28, 9.08413266e-29, 7.37238128e-29,\n",
              "       9.16023845e-29, 8.32982661e-29, 9.66532599e-29, 1.12262313e-28,\n",
              "       9.89351149e-29, 9.10905077e-29, 1.11891938e-28, 8.16802348e-29,\n",
              "       1.00580597e-28, 8.71498364e-29, 9.28178591e-29, 9.15524389e-29,\n",
              "       1.01241713e-28, 1.06967107e-28, 9.47713859e-29])"
            ]
          },
          "metadata": {
            "tags": []
          },
          "execution_count": 12
        }
      ]
    },
    {
      "cell_type": "code",
      "metadata": {
        "id": "8PkhZc7eC9L7",
        "colab_type": "code",
        "outputId": "44fcb2f1-ec0b-4b94-80e8-dbafa07735ff",
        "colab": {
          "base_uri": "https://localhost:8080/",
          "height": 1000
        }
      },
      "source": [
        "HTGrad[8]"
      ],
      "execution_count": 13,
      "outputs": [
        {
          "output_type": "execute_result",
          "data": {
            "text/plain": [
              "array([[6.36843882e-35, 1.45026002e-35, 1.14273112e-35, 7.31026913e-36,\n",
              "        1.49675192e-34, 2.19069780e-36, 1.72705700e-35, 3.32245723e-35,\n",
              "        1.72992029e-35, 3.08871070e-35, 4.18355200e-35, 1.49292130e-35,\n",
              "        5.41076837e-36, 8.19087928e-37, 1.32124711e-35, 6.59354073e-36,\n",
              "        3.08036319e-35, 5.60533178e-36, 7.64650037e-35, 2.41489614e-35,\n",
              "        3.84380800e-35, 4.60579781e-35, 8.78522239e-36, 9.31566158e-34,\n",
              "        7.03882153e-35, 0.00000000e+00, 2.84670042e-35, 9.60971491e-35,\n",
              "        1.17738324e-35, 1.62881744e-35],\n",
              "       [6.36843854e-35, 1.45025995e-35, 1.14273107e-35, 7.31026880e-36,\n",
              "        1.49675185e-34, 2.19069770e-36, 1.72705693e-35, 3.32245708e-35,\n",
              "        1.72992021e-35, 3.08871056e-35, 4.18355182e-35, 1.49292124e-35,\n",
              "        5.41076813e-36, 8.19087891e-37, 1.32124705e-35, 6.59354044e-36,\n",
              "        3.08036305e-35, 5.60533153e-36, 7.64650003e-35, 2.41489603e-35,\n",
              "        3.84380783e-35, 4.60579761e-35, 8.78522200e-36, 9.31566117e-34,\n",
              "        7.03882122e-35, 0.00000000e+00, 2.84670029e-35, 9.60971448e-35,\n",
              "        1.17738319e-35, 1.62881736e-35],\n",
              "       [6.36843783e-35, 1.45025979e-35, 1.14273094e-35, 7.31026799e-36,\n",
              "        1.49675168e-34, 2.19069746e-36, 1.72705674e-35, 3.32245671e-35,\n",
              "        1.72992002e-35, 3.08871022e-35, 4.18355135e-35, 1.49292107e-35,\n",
              "        5.41076753e-36, 8.19087800e-37, 1.32124690e-35, 6.59353971e-36,\n",
              "        3.08036271e-35, 5.60533090e-36, 7.64649918e-35, 2.41489577e-35,\n",
              "        3.84380740e-35, 4.60579710e-35, 8.78522103e-36, 9.31566014e-34,\n",
              "        7.03882044e-35, 0.00000000e+00, 2.84669998e-35, 9.60971341e-35,\n",
              "        1.17738306e-35, 1.62881718e-35],\n",
              "       [6.36843819e-35, 1.45025987e-35, 1.14273100e-35, 7.31026839e-36,\n",
              "        1.49675177e-34, 2.19069758e-36, 1.72705683e-35, 3.32245689e-35,\n",
              "        1.72992011e-35, 3.08871039e-35, 4.18355158e-35, 1.49292115e-35,\n",
              "        5.41076783e-36, 8.19087845e-37, 1.32124698e-35, 6.59354007e-36,\n",
              "        3.08036288e-35, 5.60533121e-36, 7.64649961e-35, 2.41489590e-35,\n",
              "        3.84380761e-35, 4.60579735e-35, 8.78522151e-36, 9.31566065e-34,\n",
              "        7.03882083e-35, 0.00000000e+00, 2.84670014e-35, 9.60971394e-35,\n",
              "        1.17738313e-35, 1.62881727e-35],\n",
              "       [6.36843873e-35, 1.45026000e-35, 1.14273110e-35, 7.31026902e-36,\n",
              "        1.49675189e-34, 2.19069777e-36, 1.72705698e-35, 3.32245718e-35,\n",
              "        1.72992026e-35, 3.08871065e-35, 4.18355194e-35, 1.49292128e-35,\n",
              "        5.41076829e-36, 8.19087915e-37, 1.32124709e-35, 6.59354064e-36,\n",
              "        3.08036314e-35, 5.60533169e-36, 7.64650026e-35, 2.41489611e-35,\n",
              "        3.84380794e-35, 4.60579774e-35, 8.78522226e-36, 9.31566145e-34,\n",
              "        7.03882143e-35, 0.00000000e+00, 2.84670038e-35, 9.60971476e-35,\n",
              "        1.17738323e-35, 1.62881741e-35],\n",
              "       [6.36843737e-35, 1.45025969e-35, 1.14273085e-35, 7.31026745e-36,\n",
              "        1.49675157e-34, 2.19069730e-36, 1.72705661e-35, 3.32245647e-35,\n",
              "        1.72991989e-35, 3.08870999e-35, 4.18355104e-35, 1.49292096e-35,\n",
              "        5.41076713e-36, 8.19087740e-37, 1.32124681e-35, 6.59353922e-36,\n",
              "        3.08036248e-35, 5.60533049e-36, 7.64649862e-35, 2.41489559e-35,\n",
              "        3.84380712e-35, 4.60579676e-35, 8.78522038e-36, 9.31565945e-34,\n",
              "        7.03881992e-35, 0.00000000e+00, 2.84669977e-35, 9.60971271e-35,\n",
              "        1.17738297e-35, 1.62881706e-35],\n",
              "       [6.36843871e-35, 1.45025999e-35, 1.14273110e-35, 7.31026900e-36,\n",
              "        1.49675189e-34, 2.19069776e-36, 1.72705697e-35, 3.32245717e-35,\n",
              "        1.72992026e-35, 3.08871064e-35, 4.18355193e-35, 1.49292127e-35,\n",
              "        5.41076827e-36, 8.19087913e-37, 1.32124708e-35, 6.59354061e-36,\n",
              "        3.08036313e-35, 5.60533167e-36, 7.64650023e-35, 2.41489610e-35,\n",
              "        3.84380793e-35, 4.60579773e-35, 8.78522223e-36, 9.31566141e-34,\n",
              "        7.03882141e-35, 0.00000000e+00, 2.84670037e-35, 9.60971473e-35,\n",
              "        1.17738322e-35, 1.62881741e-35],\n",
              "       [6.36843811e-35, 1.45025985e-35, 1.14273099e-35, 7.31026831e-36,\n",
              "        1.49675175e-34, 2.19069755e-36, 1.72705681e-35, 3.32245685e-35,\n",
              "        1.72992009e-35, 3.08871035e-35, 4.18355153e-35, 1.49292113e-35,\n",
              "        5.41076777e-36, 8.19087836e-37, 1.32124696e-35, 6.59353999e-36,\n",
              "        3.08036284e-35, 5.60533115e-36, 7.64649952e-35, 2.41489587e-35,\n",
              "        3.84380757e-35, 4.60579730e-35, 8.78522141e-36, 9.31566054e-34,\n",
              "        7.03882074e-35, 0.00000000e+00, 2.84670010e-35, 9.60971383e-35,\n",
              "        1.17738311e-35, 1.62881725e-35],\n",
              "       [6.36843447e-35, 1.45025903e-35, 1.14273033e-35, 7.31026413e-36,\n",
              "        1.49675089e-34, 2.19069630e-36, 1.72705582e-35, 3.32245495e-35,\n",
              "        1.72991910e-35, 3.08870859e-35, 4.18354914e-35, 1.49292028e-35,\n",
              "        5.41076467e-36, 8.19087367e-37, 1.32124620e-35, 6.59353622e-36,\n",
              "        3.08036108e-35, 5.60532794e-36, 7.64649514e-35, 2.41489449e-35,\n",
              "        3.84380537e-35, 4.60579466e-35, 8.78521638e-36, 9.31565521e-34,\n",
              "        7.03881672e-35, 0.00000000e+00, 2.84669847e-35, 9.60970833e-35,\n",
              "        1.17738244e-35, 1.62881632e-35],\n",
              "       [6.36843870e-35, 1.45025999e-35, 1.14273109e-35, 7.31026898e-36,\n",
              "        1.49675189e-34, 2.19069775e-36, 1.72705697e-35, 3.32245716e-35,\n",
              "        1.72992025e-35, 3.08871064e-35, 4.18355192e-35, 1.49292127e-35,\n",
              "        5.41076827e-36, 8.19087911e-37, 1.32124708e-35, 6.59354060e-36,\n",
              "        3.08036313e-35, 5.60533166e-36, 7.64650022e-35, 2.41489609e-35,\n",
              "        3.84380792e-35, 4.60579772e-35, 8.78522222e-36, 9.31566140e-34,\n",
              "        7.03882139e-35, 0.00000000e+00, 2.84670036e-35, 9.60971472e-35,\n",
              "        1.17738322e-35, 1.62881740e-35],\n",
              "       [6.36843868e-35, 1.45025998e-35, 1.14273109e-35, 7.31026896e-36,\n",
              "        1.49675188e-34, 2.19069775e-36, 1.72705696e-35, 3.32245715e-35,\n",
              "        1.72992025e-35, 3.08871063e-35, 4.18355191e-35, 1.49292127e-35,\n",
              "        5.41076825e-36, 8.19087909e-37, 1.32124708e-35, 6.59354058e-36,\n",
              "        3.08036312e-35, 5.60533165e-36, 7.64650020e-35, 2.41489609e-35,\n",
              "        3.84380791e-35, 4.60579771e-35, 8.78522219e-36, 9.31566137e-34,\n",
              "        7.03882137e-35, 0.00000000e+00, 2.84670036e-35, 9.60971469e-35,\n",
              "        1.17738322e-35, 1.62881740e-35],\n",
              "       [6.36843880e-35, 1.45026001e-35, 1.14273111e-35, 7.31026909e-36,\n",
              "        1.49675191e-34, 2.19069779e-36, 1.72705700e-35, 3.32245721e-35,\n",
              "        1.72992028e-35, 3.08871068e-35, 4.18355198e-35, 1.49292129e-35,\n",
              "        5.41076835e-36, 8.19087924e-37, 1.32124710e-35, 6.59354070e-36,\n",
              "        3.08036317e-35, 5.60533175e-36, 7.64650034e-35, 2.41489613e-35,\n",
              "        3.84380798e-35, 4.60579779e-35, 8.78522235e-36, 9.31566154e-34,\n",
              "        7.03882150e-35, 0.00000000e+00, 2.84670041e-35, 9.60971486e-35,\n",
              "        1.17738324e-35, 1.62881743e-35],\n",
              "       [6.36843844e-35, 1.45025993e-35, 1.14273105e-35, 7.31026869e-36,\n",
              "        1.49675183e-34, 2.19069767e-36, 1.72705690e-35, 3.32245703e-35,\n",
              "        1.72992018e-35, 3.08871051e-35, 4.18355175e-35, 1.49292121e-35,\n",
              "        5.41076805e-36, 8.19087879e-37, 1.32124703e-35, 6.59354034e-36,\n",
              "        3.08036300e-35, 5.60533144e-36, 7.64649992e-35, 2.41489600e-35,\n",
              "        3.84380777e-35, 4.60579754e-35, 8.78522187e-36, 9.31566103e-34,\n",
              "        7.03882111e-35, 0.00000000e+00, 2.84670025e-35, 9.60971433e-35,\n",
              "        1.17738317e-35, 1.62881734e-35],\n",
              "       [6.36843763e-35, 1.45025975e-35, 1.14273090e-35, 7.31026776e-36,\n",
              "        1.49675164e-34, 2.19069739e-36, 1.72705668e-35, 3.32245660e-35,\n",
              "        1.72991996e-35, 3.08871012e-35, 4.18355122e-35, 1.49292102e-35,\n",
              "        5.41076736e-36, 8.19087774e-37, 1.32124686e-35, 6.59353950e-36,\n",
              "        3.08036261e-35, 5.60533073e-36, 7.64649894e-35, 2.41489569e-35,\n",
              "        3.84380728e-35, 4.60579695e-35, 8.78522075e-36, 9.31565984e-34,\n",
              "        7.03882022e-35, 0.00000000e+00, 2.84669989e-35, 9.60971311e-35,\n",
              "        1.17738302e-35, 1.62881713e-35],\n",
              "       [6.36843791e-35, 1.45025981e-35, 1.14273095e-35, 7.31026808e-36,\n",
              "        1.49675170e-34, 2.19069748e-36, 1.72705676e-35, 3.32245675e-35,\n",
              "        1.72992004e-35, 3.08871026e-35, 4.18355140e-35, 1.49292109e-35,\n",
              "        5.41076760e-36, 8.19087810e-37, 1.32124692e-35, 6.59353979e-36,\n",
              "        3.08036275e-35, 5.60533097e-36, 7.64649928e-35, 2.41489580e-35,\n",
              "        3.84380745e-35, 4.60579715e-35, 8.78522113e-36, 9.31566025e-34,\n",
              "        7.03882052e-35, 0.00000000e+00, 2.84670001e-35, 9.60971353e-35,\n",
              "        1.17738308e-35, 1.62881720e-35],\n",
              "       [6.36843542e-35, 1.45025924e-35, 1.14273051e-35, 7.31026522e-36,\n",
              "        1.49675112e-34, 2.19069663e-36, 1.72705608e-35, 3.32245545e-35,\n",
              "        1.72991936e-35, 3.08870905e-35, 4.18354977e-35, 1.49292050e-35,\n",
              "        5.41076548e-36, 8.19087490e-37, 1.32124640e-35, 6.59353721e-36,\n",
              "        3.08036154e-35, 5.60532878e-36, 7.64649629e-35, 2.41489485e-35,\n",
              "        3.84380595e-35, 4.60579535e-35, 8.78521770e-36, 9.31565661e-34,\n",
              "        7.03881777e-35, 0.00000000e+00, 2.84669890e-35, 9.60970978e-35,\n",
              "        1.17738262e-35, 1.62881657e-35],\n",
              "       [6.36842464e-35, 1.45025679e-35, 1.14272857e-35, 7.31025285e-36,\n",
              "        1.49674858e-34, 2.19069292e-36, 1.72705316e-35, 3.32244983e-35,\n",
              "        1.72991644e-35, 3.08870382e-35, 4.18354269e-35, 1.49291798e-35,\n",
              "        5.41075632e-36, 8.19086104e-37, 1.32124417e-35, 6.59352605e-36,\n",
              "        3.08035633e-35, 5.60531929e-36, 7.64648335e-35, 2.41489076e-35,\n",
              "        3.84379944e-35, 4.60578756e-35, 8.78520283e-36, 9.31564084e-34,\n",
              "        7.03880586e-35, 0.00000000e+00, 2.84669408e-35, 9.60969351e-35,\n",
              "        1.17738062e-35, 1.62881381e-35],\n",
              "       [6.36843639e-35, 1.45025946e-35, 1.14273068e-35, 7.31026633e-36,\n",
              "        1.49675134e-34, 2.19069696e-36, 1.72705634e-35, 3.32245595e-35,\n",
              "        1.72991963e-35, 3.08870952e-35, 4.18355040e-35, 1.49292073e-35,\n",
              "        5.41076630e-36, 8.19087614e-37, 1.32124660e-35, 6.59353821e-36,\n",
              "        3.08036201e-35, 5.60532963e-36, 7.64649745e-35, 2.41489522e-35,\n",
              "        3.84380653e-35, 4.60579605e-35, 8.78521903e-36, 9.31565802e-34,\n",
              "        7.03881884e-35, 0.00000000e+00, 2.84669933e-35, 9.60971123e-35,\n",
              "        1.17738279e-35, 1.62881681e-35],\n",
              "       [6.36841812e-35, 1.45025530e-35, 1.14272740e-35, 7.31024536e-36,\n",
              "        1.49674705e-34, 2.19069068e-36, 1.72705139e-35, 3.32244642e-35,\n",
              "        1.72991466e-35, 3.08870066e-35, 4.18353840e-35, 1.49291645e-35,\n",
              "        5.41075078e-36, 8.19085265e-37, 1.32124281e-35, 6.59351930e-36,\n",
              "        3.08035317e-35, 5.60531355e-36, 7.64647551e-35, 2.41488829e-35,\n",
              "        3.84379550e-35, 4.60578284e-35, 8.78519383e-36, 9.31563130e-34,\n",
              "        7.03879865e-35, 0.00000000e+00, 2.84669117e-35, 9.60968367e-35,\n",
              "        1.17737942e-35, 1.62881214e-35],\n",
              "       [6.36843511e-35, 1.45025917e-35, 1.14273045e-35, 7.31026487e-36,\n",
              "        1.49675104e-34, 2.19069652e-36, 1.72705600e-35, 3.32245529e-35,\n",
              "        1.72991928e-35, 3.08870890e-35, 4.18354956e-35, 1.49292043e-35,\n",
              "        5.41076522e-36, 8.19087450e-37, 1.32124634e-35, 6.59353689e-36,\n",
              "        3.08036139e-35, 5.60532851e-36, 7.64649592e-35, 2.41489473e-35,\n",
              "        3.84380576e-35, 4.60579513e-35, 8.78521727e-36, 9.31565615e-34,\n",
              "        7.03881743e-35, 0.00000000e+00, 2.84669876e-35, 9.60970931e-35,\n",
              "        1.17738256e-35, 1.62881649e-35],\n",
              "       [6.36843848e-35, 1.45025994e-35, 1.14273105e-35, 7.31026873e-36,\n",
              "        1.49675183e-34, 2.19069768e-36, 1.72705691e-35, 3.32245705e-35,\n",
              "        1.72992019e-35, 3.08871053e-35, 4.18355178e-35, 1.49292122e-35,\n",
              "        5.41076808e-36, 8.19087883e-37, 1.32124704e-35, 6.59354038e-36,\n",
              "        3.08036302e-35, 5.60533147e-36, 7.64649996e-35, 2.41489601e-35,\n",
              "        3.84380779e-35, 4.60579756e-35, 8.78522192e-36, 9.31566108e-34,\n",
              "        7.03882115e-35, 0.00000000e+00, 2.84670027e-35, 9.60971439e-35,\n",
              "        1.17738318e-35, 1.62881735e-35],\n",
              "       [6.36843700e-35, 1.45025960e-35, 1.14273079e-35, 7.31026704e-36,\n",
              "        1.49675149e-34, 2.19069717e-36, 1.72705651e-35, 3.32245628e-35,\n",
              "        1.72991979e-35, 3.08870982e-35, 4.18355081e-35, 1.49292087e-35,\n",
              "        5.41076683e-36, 8.19087693e-37, 1.32124673e-35, 6.59353885e-36,\n",
              "        3.08036231e-35, 5.60533017e-36, 7.64649819e-35, 2.41489545e-35,\n",
              "        3.84380690e-35, 4.60579649e-35, 8.78521988e-36, 9.31565892e-34,\n",
              "        7.03881952e-35, 0.00000000e+00, 2.84669961e-35, 9.60971216e-35,\n",
              "        1.17738291e-35, 1.62881697e-35],\n",
              "       [6.36843715e-35, 1.45025964e-35, 1.14273081e-35, 7.31026720e-36,\n",
              "        1.49675152e-34, 2.19069722e-36, 1.72705655e-35, 3.32245635e-35,\n",
              "        1.72991983e-35, 3.08870988e-35, 4.18355090e-35, 1.49292091e-35,\n",
              "        5.41076695e-36, 8.19087712e-37, 1.32124676e-35, 6.59353900e-36,\n",
              "        3.08036238e-35, 5.60533030e-36, 7.64649836e-35, 2.41489551e-35,\n",
              "        3.84380699e-35, 4.60579660e-35, 8.78522008e-36, 9.31565913e-34,\n",
              "        7.03881968e-35, 0.00000000e+00, 2.84669967e-35, 9.60971237e-35,\n",
              "        1.17738293e-35, 1.62881701e-35],\n",
              "       [6.36843679e-35, 1.45025956e-35, 1.14273075e-35, 7.31026680e-36,\n",
              "        1.49675144e-34, 2.19069710e-36, 1.72705645e-35, 3.32245617e-35,\n",
              "        1.72991974e-35, 3.08870971e-35, 4.18355067e-35, 1.49292083e-35,\n",
              "        5.41076665e-36, 8.19087666e-37, 1.32124669e-35, 6.59353863e-36,\n",
              "        3.08036221e-35, 5.60532999e-36, 7.64649794e-35, 2.41489537e-35,\n",
              "        3.84380677e-35, 4.60579634e-35, 8.78521959e-36, 9.31565861e-34,\n",
              "        7.03881929e-35, 0.00000000e+00, 2.84669951e-35, 9.60971184e-35,\n",
              "        1.17738287e-35, 1.62881692e-35],\n",
              "       [6.36843849e-35, 1.45025994e-35, 1.14273106e-35, 7.31026875e-36,\n",
              "        1.49675184e-34, 2.19069768e-36, 1.72705691e-35, 3.32245705e-35,\n",
              "        1.72992020e-35, 3.08871054e-35, 4.18355178e-35, 1.49292122e-35,\n",
              "        5.41076809e-36, 8.19087885e-37, 1.32124704e-35, 6.59354039e-36,\n",
              "        3.08036303e-35, 5.60533148e-36, 7.64649998e-35, 2.41489602e-35,\n",
              "        3.84380780e-35, 4.60579757e-35, 8.78522194e-36, 9.31566110e-34,\n",
              "        7.03882117e-35, 0.00000000e+00, 2.84670027e-35, 9.60971441e-35,\n",
              "        1.17738318e-35, 1.62881735e-35],\n",
              "       [6.36843675e-35, 1.45025955e-35, 1.14273074e-35, 7.31026675e-36,\n",
              "        1.49675143e-34, 2.19069709e-36, 1.72705644e-35, 3.32245614e-35,\n",
              "        1.72991972e-35, 3.08870969e-35, 4.18355064e-35, 1.49292082e-35,\n",
              "        5.41076661e-36, 8.19087661e-37, 1.32124668e-35, 6.59353859e-36,\n",
              "        3.08036218e-35, 5.60532995e-36, 7.64649788e-35, 2.41489536e-35,\n",
              "        3.84380675e-35, 4.60579631e-35, 8.78521953e-36, 9.31565855e-34,\n",
              "        7.03881924e-35, 0.00000000e+00, 2.84669949e-35, 9.60971178e-35,\n",
              "        1.17738286e-35, 1.62881691e-35],\n",
              "       [6.36843855e-35, 1.45025995e-35, 1.14273107e-35, 7.31026881e-36,\n",
              "        1.49675185e-34, 2.19069770e-36, 1.72705693e-35, 3.32245708e-35,\n",
              "        1.72992021e-35, 3.08871057e-35, 4.18355182e-35, 1.49292124e-35,\n",
              "        5.41076814e-36, 8.19087892e-37, 1.32124705e-35, 6.59354045e-36,\n",
              "        3.08036305e-35, 5.60533153e-36, 7.64650004e-35, 2.41489604e-35,\n",
              "        3.84380783e-35, 4.60579761e-35, 8.78522201e-36, 9.31566118e-34,\n",
              "        7.03882123e-35, 0.00000000e+00, 2.84670030e-35, 9.60971449e-35,\n",
              "        1.17738319e-35, 1.62881737e-35],\n",
              "       [6.36843717e-35, 1.45025964e-35, 1.14273082e-35, 7.31026723e-36,\n",
              "        1.49675153e-34, 2.19069723e-36, 1.72705656e-35, 3.32245636e-35,\n",
              "        1.72991984e-35, 3.08870990e-35, 4.18355092e-35, 1.49292091e-35,\n",
              "        5.41076697e-36, 8.19087715e-37, 1.32124677e-35, 6.59353902e-36,\n",
              "        3.08036239e-35, 5.60533032e-36, 7.64649839e-35, 2.41489552e-35,\n",
              "        3.84380700e-35, 4.60579662e-35, 8.78522012e-36, 9.31565917e-34,\n",
              "        7.03881971e-35, 0.00000000e+00, 2.84669968e-35, 9.60971242e-35,\n",
              "        1.17738294e-35, 1.62881701e-35],\n",
              "       [6.36843823e-35, 1.45025988e-35, 1.14273101e-35, 7.31026844e-36,\n",
              "        1.49675178e-34, 2.19069759e-36, 1.72705684e-35, 3.32245691e-35,\n",
              "        1.72992013e-35, 3.08871041e-35, 4.18355161e-35, 1.49292116e-35,\n",
              "        5.41076787e-36, 8.19087851e-37, 1.32124698e-35, 6.59354011e-36,\n",
              "        3.08036290e-35, 5.60533125e-36, 7.64649966e-35, 2.41489592e-35,\n",
              "        3.84380764e-35, 4.60579738e-35, 8.78522157e-36, 9.31566071e-34,\n",
              "        7.03882087e-35, 0.00000000e+00, 2.84670015e-35, 9.60971401e-35,\n",
              "        1.17738313e-35, 1.62881728e-35],\n",
              "       [6.36843777e-35, 1.45025978e-35, 1.14273093e-35, 7.31026792e-36,\n",
              "        1.49675167e-34, 2.19069744e-36, 1.72705672e-35, 3.32245668e-35,\n",
              "        1.72992000e-35, 3.08871019e-35, 4.18355131e-35, 1.49292105e-35,\n",
              "        5.41076748e-36, 8.19087792e-37, 1.32124689e-35, 6.59353964e-36,\n",
              "        3.08036268e-35, 5.60533085e-36, 7.64649911e-35, 2.41489574e-35,\n",
              "        3.84380737e-35, 4.60579705e-35, 8.78522094e-36, 9.31566005e-34,\n",
              "        7.03882037e-35, 0.00000000e+00, 2.84669995e-35, 9.60971332e-35,\n",
              "        1.17738305e-35, 1.62881717e-35],\n",
              "       [6.36843861e-35, 1.45025997e-35, 1.14273108e-35, 7.31026889e-36,\n",
              "        1.49675187e-34, 2.19069773e-36, 1.72705695e-35, 3.32245712e-35,\n",
              "        1.72992023e-35, 3.08871060e-35, 4.18355186e-35, 1.49292125e-35,\n",
              "        5.41076819e-36, 8.19087901e-37, 1.32124706e-35, 6.59354052e-36,\n",
              "        3.08036309e-35, 5.60533159e-36, 7.64650012e-35, 2.41489606e-35,\n",
              "        3.84380787e-35, 4.60579766e-35, 8.78522210e-36, 9.31566128e-34,\n",
              "        7.03882130e-35, 0.00000000e+00, 2.84670033e-35, 9.60971459e-35,\n",
              "        1.17738321e-35, 1.62881738e-35]])"
            ]
          },
          "metadata": {
            "tags": []
          },
          "execution_count": 13
        }
      ]
    },
    {
      "cell_type": "code",
      "metadata": {
        "id": "L7KkdgsdDGAO",
        "colab_type": "code",
        "outputId": "3fd7f5bb-fee6-4e0d-c171-a07369203123",
        "colab": {
          "base_uri": "https://localhost:8080/",
          "height": 238
        }
      },
      "source": [
        "np.matmul((2*dpred*pred*(1-pred)),ETheta.transpose())"
      ],
      "execution_count": 14,
      "outputs": [
        {
          "output_type": "execute_result",
          "data": {
            "text/plain": [
              "array([[-2.16123253e-55, -2.40349594e-55, -2.57844677e-55, ...,\n",
              "        -2.47261098e-55, -2.61390369e-55, -2.30868701e-55],\n",
              "       [-2.16123253e-55, -2.40349594e-55, -2.57844677e-55, ...,\n",
              "        -2.47261098e-55, -2.61390369e-55, -2.30868701e-55],\n",
              "       [-2.16123253e-55, -2.40349594e-55, -2.57844677e-55, ...,\n",
              "        -2.47261098e-55, -2.61390369e-55, -2.30868701e-55],\n",
              "       ...,\n",
              "       [-2.16123253e-55, -2.40349594e-55, -2.57844677e-55, ...,\n",
              "        -2.47261098e-55, -2.61390369e-55, -2.30868701e-55],\n",
              "       [-2.16123253e-55, -2.40349594e-55, -2.57844677e-55, ...,\n",
              "        -2.47261098e-55, -2.61390369e-55, -2.30868701e-55],\n",
              "       [ 9.31826432e-28,  1.03625214e-27,  1.11169329e-27, ...,\n",
              "         1.06606956e-27,  1.12699389e-27,  9.95370149e-28]])"
            ]
          },
          "metadata": {
            "tags": []
          },
          "execution_count": 14
        }
      ]
    },
    {
      "cell_type": "code",
      "metadata": {
        "id": "Z6Dxf7C_bIVd",
        "colab_type": "code",
        "outputId": "74ce9afc-90a8-449d-b948-36e2eb7efadc",
        "colab": {
          "base_uri": "https://localhost:8080/",
          "height": 1000
        }
      },
      "source": [
        "Egrad"
      ],
      "execution_count": 15,
      "outputs": [
        {
          "output_type": "execute_result",
          "data": {
            "text/plain": [
              "array([[ 0.00000000e+00,  0.00000000e+00, -3.77437953e-51,\n",
              "        -3.33445516e-93,  0.00000000e+00,  0.00000000e+00,\n",
              "        -4.36001348e-29,  0.00000000e+00,  0.00000000e+00,\n",
              "        -4.44637883e-31],\n",
              "       [ 0.00000000e+00,  0.00000000e+00, -3.77437710e-51,\n",
              "        -3.33445300e-93,  0.00000000e+00,  0.00000000e+00,\n",
              "        -4.36001067e-29,  0.00000000e+00,  0.00000000e+00,\n",
              "        -4.44637596e-31],\n",
              "       [ 0.00000000e+00,  0.00000000e+00, -3.77437902e-51,\n",
              "        -3.33445470e-93,  0.00000000e+00,  0.00000000e+00,\n",
              "        -4.36001288e-29,  0.00000000e+00,  0.00000000e+00,\n",
              "        -4.44637822e-31],\n",
              "       [ 0.00000000e+00,  0.00000000e+00, -3.77437907e-51,\n",
              "        -3.33445475e-93,  0.00000000e+00,  0.00000000e+00,\n",
              "        -4.36001294e-29,  0.00000000e+00,  0.00000000e+00,\n",
              "        -4.44637829e-31],\n",
              "       [ 0.00000000e+00,  0.00000000e+00, -3.77437918e-51,\n",
              "        -3.33445484e-93,  0.00000000e+00,  0.00000000e+00,\n",
              "        -4.36001307e-29,  0.00000000e+00,  0.00000000e+00,\n",
              "        -4.44637842e-31],\n",
              "       [ 0.00000000e+00,  0.00000000e+00, -3.77437222e-51,\n",
              "        -3.33444870e-93,  0.00000000e+00,  0.00000000e+00,\n",
              "        -4.36000504e-29,  0.00000000e+00,  0.00000000e+00,\n",
              "        -4.44637022e-31],\n",
              "       [ 0.00000000e+00,  0.00000000e+00, -3.77437945e-51,\n",
              "        -3.33445508e-93,  0.00000000e+00,  0.00000000e+00,\n",
              "        -4.36001339e-29,  0.00000000e+00,  0.00000000e+00,\n",
              "        -4.44637874e-31],\n",
              "       [ 0.00000000e+00,  0.00000000e+00, -3.77437886e-51,\n",
              "        -3.33445457e-93,  0.00000000e+00,  0.00000000e+00,\n",
              "        -4.36001271e-29,  0.00000000e+00,  0.00000000e+00,\n",
              "        -4.44637805e-31],\n",
              "       [ 0.00000000e+00,  0.00000000e+00, -3.77437810e-51,\n",
              "        -3.33445389e-93,  0.00000000e+00,  0.00000000e+00,\n",
              "        -4.36001183e-29,  0.00000000e+00,  0.00000000e+00,\n",
              "        -4.44637715e-31],\n",
              "       [ 0.00000000e+00,  0.00000000e+00, -3.77437880e-51,\n",
              "        -3.33445451e-93,  0.00000000e+00,  0.00000000e+00,\n",
              "        -4.36001264e-29,  0.00000000e+00,  0.00000000e+00,\n",
              "        -4.44637797e-31],\n",
              "       [ 0.00000000e+00,  0.00000000e+00, -3.77437819e-51,\n",
              "        -3.33445397e-93,  0.00000000e+00,  0.00000000e+00,\n",
              "        -4.36001193e-29,  0.00000000e+00,  0.00000000e+00,\n",
              "        -4.44637726e-31],\n",
              "       [ 0.00000000e+00,  0.00000000e+00, -3.77437764e-51,\n",
              "        -3.33445349e-93,  0.00000000e+00,  0.00000000e+00,\n",
              "        -4.36001130e-29,  0.00000000e+00,  0.00000000e+00,\n",
              "        -4.44637661e-31],\n",
              "       [ 0.00000000e+00,  0.00000000e+00, -3.77437895e-51,\n",
              "        -3.33445465e-93,  0.00000000e+00,  0.00000000e+00,\n",
              "        -4.36001281e-29,  0.00000000e+00,  0.00000000e+00,\n",
              "        -4.44637815e-31],\n",
              "       [ 0.00000000e+00,  0.00000000e+00, -3.77437934e-51,\n",
              "        -3.33445499e-93,  0.00000000e+00,  0.00000000e+00,\n",
              "        -4.36001326e-29,  0.00000000e+00,  0.00000000e+00,\n",
              "        -4.44637861e-31],\n",
              "       [ 0.00000000e+00,  0.00000000e+00, -3.77437950e-51,\n",
              "        -3.33445513e-93,  0.00000000e+00,  0.00000000e+00,\n",
              "        -4.36001344e-29,  0.00000000e+00,  0.00000000e+00,\n",
              "        -4.44637879e-31],\n",
              "       [ 0.00000000e+00,  0.00000000e+00, -3.77437886e-51,\n",
              "        -3.33445456e-93,  0.00000000e+00,  0.00000000e+00,\n",
              "        -4.36001270e-29,  0.00000000e+00,  0.00000000e+00,\n",
              "        -4.44637804e-31],\n",
              "       [ 0.00000000e+00,  0.00000000e+00, -3.77437926e-51,\n",
              "        -3.33445492e-93,  0.00000000e+00,  0.00000000e+00,\n",
              "        -4.36001317e-29,  0.00000000e+00,  0.00000000e+00,\n",
              "        -4.44637851e-31],\n",
              "       [ 0.00000000e+00,  0.00000000e+00, -3.77437814e-51,\n",
              "        -3.33445392e-93,  0.00000000e+00,  0.00000000e+00,\n",
              "        -4.36001187e-29,  0.00000000e+00,  0.00000000e+00,\n",
              "        -4.44637719e-31],\n",
              "       [ 0.00000000e+00,  0.00000000e+00, -3.77437931e-51,\n",
              "        -3.33445496e-93,  0.00000000e+00,  0.00000000e+00,\n",
              "        -4.36001323e-29,  0.00000000e+00,  0.00000000e+00,\n",
              "        -4.44637858e-31],\n",
              "       [ 0.00000000e+00,  0.00000000e+00, -3.77437696e-51,\n",
              "        -3.33445289e-93,  0.00000000e+00,  0.00000000e+00,\n",
              "        -4.36001051e-29,  0.00000000e+00,  0.00000000e+00,\n",
              "        -4.44637581e-31],\n",
              "       [ 0.00000000e+00,  0.00000000e+00, -3.77437861e-51,\n",
              "        -3.33445434e-93,  0.00000000e+00,  0.00000000e+00,\n",
              "        -4.36001242e-29,  0.00000000e+00,  0.00000000e+00,\n",
              "        -4.44637775e-31],\n",
              "       [ 0.00000000e+00,  0.00000000e+00, -3.77437794e-51,\n",
              "        -3.33445375e-93,  0.00000000e+00,  0.00000000e+00,\n",
              "        -4.36001164e-29,  0.00000000e+00,  0.00000000e+00,\n",
              "        -4.44637696e-31],\n",
              "       [ 0.00000000e+00,  0.00000000e+00, -3.77437798e-51,\n",
              "        -3.33445378e-93,  0.00000000e+00,  0.00000000e+00,\n",
              "        -4.36001169e-29,  0.00000000e+00,  0.00000000e+00,\n",
              "        -4.44637700e-31],\n",
              "       [ 0.00000000e+00,  0.00000000e+00, -3.77437913e-51,\n",
              "        -3.33445480e-93,  0.00000000e+00,  0.00000000e+00,\n",
              "        -4.36001301e-29,  0.00000000e+00,  0.00000000e+00,\n",
              "        -4.44637836e-31],\n",
              "       [ 0.00000000e+00,  0.00000000e+00, -3.77434458e-51,\n",
              "        -3.33442427e-93,  0.00000000e+00,  0.00000000e+00,\n",
              "        -4.35997310e-29,  0.00000000e+00,  0.00000000e+00,\n",
              "        -4.44633765e-31],\n",
              "       [ 0.00000000e+00,  0.00000000e+00, -3.77437648e-51,\n",
              "        -3.33445246e-93,  0.00000000e+00,  0.00000000e+00,\n",
              "        -4.36000996e-29,  0.00000000e+00,  0.00000000e+00,\n",
              "        -4.44637524e-31],\n",
              "       [ 0.00000000e+00,  0.00000000e+00,  0.00000000e+00,\n",
              "         0.00000000e+00,  0.00000000e+00,  0.00000000e+00,\n",
              "         0.00000000e+00,  0.00000000e+00,  0.00000000e+00,\n",
              "         0.00000000e+00],\n",
              "       [ 0.00000000e+00,  0.00000000e+00, -3.77437836e-51,\n",
              "        -3.33445412e-93,  0.00000000e+00,  0.00000000e+00,\n",
              "        -4.36001213e-29,  0.00000000e+00,  0.00000000e+00,\n",
              "        -4.44637745e-31],\n",
              "       [ 0.00000000e+00,  0.00000000e+00, -3.77437595e-51,\n",
              "        -3.33445199e-93,  0.00000000e+00,  0.00000000e+00,\n",
              "        -4.36000934e-29,  0.00000000e+00,  0.00000000e+00,\n",
              "        -4.44637461e-31],\n",
              "       [ 0.00000000e+00,  0.00000000e+00, -3.77437912e-51,\n",
              "        -3.33445479e-93,  0.00000000e+00,  0.00000000e+00,\n",
              "        -4.36001300e-29,  0.00000000e+00,  0.00000000e+00,\n",
              "        -4.44637834e-31],\n",
              "       [ 0.00000000e+00,  0.00000000e+00, -3.77437888e-51,\n",
              "        -3.33445458e-93,  0.00000000e+00,  0.00000000e+00,\n",
              "        -4.36001273e-29,  0.00000000e+00,  0.00000000e+00,\n",
              "        -4.44637807e-31]])"
            ]
          },
          "metadata": {
            "tags": []
          },
          "execution_count": 15
        }
      ]
    },
    {
      "cell_type": "code",
      "metadata": {
        "id": "7OmfSa8mbhZ_",
        "colab_type": "code",
        "outputId": "4349d8ce-30dd-498b-dc8e-dd9413b29c45",
        "colab": {
          "base_uri": "https://localhost:8080/",
          "height": 238
        }
      },
      "source": [
        "pred"
      ],
      "execution_count": 16,
      "outputs": [
        {
          "output_type": "execute_result",
          "data": {
            "text/plain": [
              "array([[1.00000000e+00, 0.00000000e+00, 1.90625229e-50, ...,\n",
              "        0.00000000e+00, 0.00000000e+00, 2.22318942e-30],\n",
              "       [1.00000000e+00, 0.00000000e+00, 1.90625229e-50, ...,\n",
              "        0.00000000e+00, 0.00000000e+00, 2.22318942e-30],\n",
              "       [1.00000000e+00, 0.00000000e+00, 1.90625229e-50, ...,\n",
              "        0.00000000e+00, 0.00000000e+00, 2.22318942e-30],\n",
              "       ...,\n",
              "       [1.00000000e+00, 0.00000000e+00, 1.90625229e-50, ...,\n",
              "        0.00000000e+00, 0.00000000e+00, 2.22318942e-30],\n",
              "       [1.00000000e+00, 0.00000000e+00, 1.90625229e-50, ...,\n",
              "        0.00000000e+00, 0.00000000e+00, 2.22318942e-30],\n",
              "       [1.00000000e+00, 0.00000000e+00, 1.90625229e-50, ...,\n",
              "        0.00000000e+00, 0.00000000e+00, 2.22318942e-30]])"
            ]
          },
          "metadata": {
            "tags": []
          },
          "execution_count": 16
        }
      ]
    },
    {
      "cell_type": "code",
      "metadata": {
        "id": "n4_EmyRtblr7",
        "colab_type": "code",
        "outputId": "8a8f143f-2c93-4e49-81b8-69bcf8640e43",
        "colab": {
          "base_uri": "https://localhost:8080/",
          "height": 1000
        }
      },
      "source": [
        "ETheta"
      ],
      "execution_count": 17,
      "outputs": [
        {
          "output_type": "execute_result",
          "data": {
            "text/plain": [
              "array([[ 2.75136956e+01, -3.57982288e+01, -3.54829871e+00,\n",
              "        -6.67687870e+00, -2.24179244e+03, -7.66883771e+04,\n",
              "        -2.00897738e+00, -1.34916907e+04, -2.74990102e+02,\n",
              "        -1.83674334e+00],\n",
              "       [ 2.75309001e+01, -3.59298432e+01, -4.16531766e+00,\n",
              "        -7.40116597e+00, -2.24177627e+03, -7.66879769e+04,\n",
              "        -2.23411467e+00, -1.34908553e+04, -2.74893426e+02,\n",
              "        -2.68550852e+00],\n",
              "       [ 2.77237020e+01, -3.56875145e+01, -3.64002161e+00,\n",
              "        -6.64049068e+00, -2.24153446e+03, -7.66881295e+04,\n",
              "        -2.39676252e+00, -1.34908458e+04, -2.75329739e+02,\n",
              "        -2.59474395e+00],\n",
              "       [ 2.71963935e+01, -3.60370779e+01, -3.90038010e+00,\n",
              "        -7.30070877e+00, -2.24211541e+03, -7.66885164e+04,\n",
              "        -2.10027869e+00, -1.34910755e+04, -2.75196068e+02,\n",
              "        -2.38057747e+00],\n",
              "       [ 2.76151326e+01, -3.63851575e+01, -3.75792069e+00,\n",
              "        -7.44636559e+00, -2.24139707e+03, -7.66886959e+04,\n",
              "        -1.76410254e+00, -1.34911082e+04, -2.75305143e+02,\n",
              "        -2.58799153e+00],\n",
              "       [ 2.76083661e+01, -3.58816423e+01, -3.50747992e+00,\n",
              "        -7.50870655e+00, -2.24143526e+03, -7.66876966e+04,\n",
              "        -1.75079297e+00, -1.34915416e+04, -2.74524944e+02,\n",
              "        -2.15923501e+00],\n",
              "       [ 2.76449644e+01, -3.60727586e+01, -3.97595543e+00,\n",
              "        -7.30648883e+00, -2.24163405e+03, -7.66880806e+04,\n",
              "        -2.28257147e+00, -1.34910899e+04, -2.75076642e+02,\n",
              "        -2.09206701e+00],\n",
              "       [ 2.77984635e+01, -3.57117610e+01, -3.38416313e+00,\n",
              "        -7.27209669e+00, -2.24151820e+03, -7.66877314e+04,\n",
              "        -2.21452275e+00, -1.34909169e+04, -2.74508841e+02,\n",
              "        -2.02374847e+00],\n",
              "       [ 2.71987465e+01, -3.66456859e+01, -4.24537046e+00,\n",
              "        -6.88822671e+00, -2.24131907e+03, -7.66880810e+04,\n",
              "        -1.98327935e+00, -1.34909748e+04, -2.75313665e+02,\n",
              "        -2.78926438e+00],\n",
              "       [ 2.73340429e+01, -3.58994962e+01, -3.39015336e+00,\n",
              "        -6.99789396e+00, -2.24180926e+03, -7.66884511e+04,\n",
              "        -2.02655312e+00, -1.34910362e+04, -2.74968606e+02,\n",
              "        -2.04428718e+00],\n",
              "       [ 2.73861667e+01, -3.66463456e+01, -3.73305069e+00,\n",
              "        -7.14575115e+00, -2.24135233e+03, -7.66883774e+04,\n",
              "        -1.97504389e+00, -1.34914433e+04, -2.74852124e+02,\n",
              "        -2.00145529e+00],\n",
              "       [ 2.73658715e+01, -3.60980041e+01, -4.14633721e+00,\n",
              "        -6.63804910e+00, -2.24123465e+03, -7.66883505e+04,\n",
              "        -1.89355342e+00, -1.34912205e+04, -2.74851753e+02,\n",
              "        -2.03107848e+00],\n",
              "       [ 2.74136991e+01, -3.56867379e+01, -4.13129528e+00,\n",
              "        -7.30420723e+00, -2.24146709e+03, -7.66878457e+04,\n",
              "        -2.20314785e+00, -1.34909077e+04, -2.75387153e+02,\n",
              "        -2.69896559e+00],\n",
              "       [ 2.71558643e+01, -3.65052982e+01, -4.04126240e+00,\n",
              "        -6.66321377e+00, -2.24167215e+03, -7.66878791e+04,\n",
              "        -2.43775533e+00, -1.34915493e+04, -2.74544682e+02,\n",
              "        -2.02708649e+00],\n",
              "       [ 2.77355076e+01, -3.62293163e+01, -3.71648929e+00,\n",
              "        -6.91457535e+00, -2.24190513e+03, -7.66879498e+04,\n",
              "        -2.06413467e+00, -1.34914645e+04, -2.74522019e+02,\n",
              "        -1.89992047e+00],\n",
              "       [ 2.72181953e+01, -3.60599600e+01, -3.99163860e+00,\n",
              "        -7.20785437e+00, -2.24217421e+03, -7.66883602e+04,\n",
              "        -1.66747261e+00, -1.34914945e+04, -2.74974115e+02,\n",
              "        -2.29800989e+00],\n",
              "       [ 2.69542400e+01, -3.62322882e+01, -4.11652601e+00,\n",
              "        -6.86173002e+00, -2.24190634e+03, -7.66886420e+04,\n",
              "        -2.08116299e+00, -1.34915484e+04, -2.74510348e+02,\n",
              "        -1.94179931e+00],\n",
              "       [ 2.74428490e+01, -3.59480959e+01, -3.45151641e+00,\n",
              "        -7.30118942e+00, -2.24163828e+03, -7.66885383e+04,\n",
              "        -1.88205081e+00, -1.34916714e+04, -2.75012857e+02,\n",
              "        -2.79012942e+00],\n",
              "       [ 2.77128592e+01, -3.63645954e+01, -3.51701748e+00,\n",
              "        -7.18567646e+00, -2.24184105e+03, -7.66882828e+04,\n",
              "        -2.19442917e+00, -1.34909580e+04, -2.74919549e+02,\n",
              "        -2.19471232e+00],\n",
              "       [ 2.72070194e+01, -3.63541183e+01, -3.58810350e+00,\n",
              "        -6.65121626e+00, -2.24192916e+03, -7.66881733e+04,\n",
              "        -2.55228018e+00, -1.34908502e+04, -2.74947918e+02,\n",
              "        -2.20978296e+00],\n",
              "       [ 2.69376768e+01, -3.63969139e+01, -3.55561374e+00,\n",
              "        -7.08764425e+00, -2.24192263e+03, -7.66882873e+04,\n",
              "        -2.24729535e+00, -1.34908480e+04, -2.75319761e+02,\n",
              "        -2.14272076e+00],\n",
              "       [ 2.72204114e+01, -3.57316216e+01, -3.78198924e+00,\n",
              "        -7.39207555e+00, -2.24220785e+03, -7.66879252e+04,\n",
              "        -2.06670895e+00, -1.34910566e+04, -2.74697603e+02,\n",
              "        -2.20790665e+00],\n",
              "       [ 2.76721344e+01, -3.60387980e+01, -4.24338586e+00,\n",
              "        -6.62649544e+00, -2.24131293e+03, -7.66885733e+04,\n",
              "        -2.54537085e+00, -1.34915960e+04, -2.75169578e+02,\n",
              "        -2.05431334e+00],\n",
              "       [ 2.77118530e+01, -3.66077876e+01, -3.74995216e+00,\n",
              "        -6.65038316e+00, -2.24160725e+03, -7.66884907e+04,\n",
              "        -1.84825085e+00, -1.34913318e+04, -2.74771959e+02,\n",
              "        -2.46548665e+00],\n",
              "       [ 2.75597771e+01, -3.66160559e+01, -3.78361984e+00,\n",
              "        -7.16227320e+00, -2.24194600e+03, -7.66879669e+04,\n",
              "        -2.28497117e+00, -1.34910766e+04, -2.75025746e+02,\n",
              "        -2.14904209e+00],\n",
              "       [ 2.72981375e+01, -3.66459417e+01, -4.16177856e+00,\n",
              "        -7.19039527e+00, -2.24198347e+03, -7.66877578e+04,\n",
              "        -1.97995443e+00, -1.34910507e+04, -2.74832041e+02,\n",
              "        -1.85219598e+00],\n",
              "       [-1.10757075e+00, -3.56910698e+01, -3.25688916e+00,\n",
              "        -6.83829323e+00, -2.11261130e+03, -7.66870239e+04,\n",
              "        -2.10664000e+00, -1.34907924e+04, -5.45428688e-01,\n",
              "        -2.17721231e+00],\n",
              "       [ 2.74245247e+01, -3.61108005e+01, -3.85712821e+00,\n",
              "        -7.02687505e+00, -2.24137383e+03, -7.66879322e+04,\n",
              "        -2.07155791e+00, -1.34916201e+04, -2.75287007e+02,\n",
              "        -2.77132223e+00],\n",
              "       [ 2.70767650e+01, -3.56948517e+01, -4.04407063e+00,\n",
              "        -7.25384480e+00, -2.24123395e+03, -7.66883508e+04,\n",
              "        -2.29839974e+00, -1.34912852e+04, -2.75119202e+02,\n",
              "        -2.31913242e+00],\n",
              "       [ 2.68425604e+01, -3.66549535e+01, -3.42194751e+00,\n",
              "        -6.56816684e+00, -2.24191557e+03, -7.66881501e+04,\n",
              "        -2.42974996e+00, -1.34911092e+04, -2.74699120e+02,\n",
              "        -2.31577381e+00],\n",
              "       [ 2.70882081e+01, -3.62698845e+01, -3.93640389e+00,\n",
              "        -6.98359211e+00, -2.24146348e+03, -7.66881141e+04,\n",
              "        -2.14597488e+00, -1.34912461e+04, -2.75373002e+02,\n",
              "        -2.71365084e+00]])"
            ]
          },
          "metadata": {
            "tags": []
          },
          "execution_count": 17
        }
      ]
    }
  ]
}