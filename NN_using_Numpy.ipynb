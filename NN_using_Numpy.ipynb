{
  "nbformat": 4,
  "nbformat_minor": 0,
  "metadata": {
    "colab": {
      "name": "NN_using_Numpy.ipynb",
      "provenance": [],
      "machine_shape": "hm",
      "include_colab_link": true
    },
    "kernelspec": {
      "name": "python3",
      "display_name": "Python 3"
    }
  },
  "cells": [
    {
      "cell_type": "markdown",
      "metadata": {
        "id": "view-in-github",
        "colab_type": "text"
      },
      "source": [
        "<a href=\"https://colab.research.google.com/github/venkat2ram/Python/blob/master/NN_using_Numpy.ipynb\" target=\"_parent\"><img src=\"https://colab.research.google.com/assets/colab-badge.svg\" alt=\"Open In Colab\"/></a>"
      ]
    },
    {
      "cell_type": "code",
      "metadata": {
        "id": "Hv3PPGQtm5t1",
        "colab_type": "code",
        "colab": {}
      },
      "source": [
        "from sklearn.datasets import fetch_openml\n",
        "\n",
        "Data=fetch_openml('mnist_784')"
      ],
      "execution_count": 0,
      "outputs": []
    },
    {
      "cell_type": "code",
      "metadata": {
        "id": "JOJfcO_UnJma",
        "colab_type": "code",
        "colab": {}
      },
      "source": [
        "X,y_actual=Data[\"data\"][:1000]/10000,Data[\"target\"][:1000]"
      ],
      "execution_count": 0,
      "outputs": []
    },
    {
      "cell_type": "code",
      "metadata": {
        "id": "NAEZlwI8nOzw",
        "colab_type": "code",
        "colab": {}
      },
      "source": [
        "import numpy as np\n",
        "import matplotlib \n",
        "import matplotlib.pyplot as plt\n",
        "\n",
        "def show_imag(X,y_actual,position):\n",
        "  img=X[position]\n",
        "  imag=img.reshape(int(np.sqrt(img.size)),int(np.sqrt(img.size)))\n",
        "  plt.imshow(imag,cmap = matplotlib.cm.binary, interpolation=\"nearest\")\n",
        "  plt.show()\n",
        "  print(y_actual[position]) "
      ],
      "execution_count": 0,
      "outputs": []
    },
    {
      "cell_type": "code",
      "metadata": {
        "id": "xG1GujVSnPwt",
        "colab_type": "code",
        "outputId": "87e94061-bc07-4a6e-d067-63516e9583b6",
        "colab": {
          "base_uri": "https://localhost:8080/",
          "height": 282
        }
      },
      "source": [
        "show_imag(X,y_actual,400)"
      ],
      "execution_count": 13,
      "outputs": [
        {
          "output_type": "display_data",
          "data": {
            "image/png": "[encoded data removed]",
            "text/plain": [
              "<Figure size 432x288 with 1 Axes>"
            ]
          },
          "metadata": {
            "tags": []
          }
        },
        {
          "output_type": "stream",
          "text": [
            "2\n"
          ],
          "name": "stdout"
        }
      ]
    },
    {
      "cell_type": "code",
      "metadata": {
        "id": "NPH1fvVxnWaL",
        "colab_type": "code",
        "colab": {}
      },
      "source": [
        "def convert_binary(y_actual):\n",
        "  y1=np.zeros((len(y_actual),10))\n",
        "  for i in range(len(y_actual)):\n",
        "    y1[i][int(y_actual[i])]=1\n",
        "    \n",
        "    \n",
        "  return y1"
      ],
      "execution_count": 0,
      "outputs": []
    },
    {
      "cell_type": "code",
      "metadata": {
        "id": "87w4EY66xDpH",
        "colab_type": "code",
        "colab": {}
      },
      "source": [
        "NumHlayers=10\n",
        "NumHunits=30"
      ],
      "execution_count": 0,
      "outputs": []
    },
    {
      "cell_type": "code",
      "metadata": {
        "id": "xypaqaTDxITZ",
        "colab_type": "code",
        "outputId": "7d4c4aed-b2e8-4adb-faff-c31f8fd6c754",
        "colab": {
          "base_uri": "https://localhost:8080/",
          "height": 221
        }
      },
      "source": [
        "y=convert_binary(y_actual)\n",
        "m,n=np.shape(X)\n",
        "p,s=np.shape(y)\n",
        "X_with_bias=np.c_[np.ones((m,1)),X]\n",
        "hidden=np.ones((NumHlayers,m,NumHunits+1))\n",
        "z=np.ones((NumHlayers,m,NumHunits))\n",
        "a=np.ones((NumHlayers,m,NumHunits))\n",
        "d=np.ones((NumHlayers,m,NumHunits+1))\n",
        "ITheta=np.random.rand(n+1,NumHunits)\n",
        "HTheta=np.random.rand(NumHlayers-1,NumHunits+1,NumHunits)\n",
        "ETheta=np.random.rand(NumHunits+1,s)\n",
        "z[0]=np.matmul(X_with_bias,ITheta)\n",
        "a[0]=1/(1+np.exp(-1*z[0]))\n",
        "hidden[0]=np.c_[np.ones((m,1)),a[0]]\n",
        "for i in range(NumHlayers-1):\n",
        "  z[i+1]=np.matmul(hidden[i],HTheta[i])\n",
        "  a[i+1]=1/(1+np.exp(-1*z[i+1]))\n",
        "  hidden[i+1]=np.c_[np.ones((m,1)),a[i+1]]\n",
        "pred=1/(1+np.exp(-1*np.matmul(hidden[i+1],ETheta)))\n",
        "print(pred[999],y[999])\n",
        "cost=sum(((pred-y)**2).transpose()).reshape(-1,1)\n",
        "dpred=pred-y\n",
        "print(dpred[999],ETheta.shape,dpred.shape)\n",
        "d[NumHlayers-1]=np.transpose(np.matmul(ETheta,np.transpose(dpred)))\n",
        "#*(a[NumHlayers]*(1-a[NumHlayers]))\n",
        "print(d[NumHlayers-1],d[NumHlayers-1].shape,hidden[NumHlayers-1].shape)\n",
        "#for"
      ],
      "execution_count": 18,
      "outputs": [
        {
          "output_type": "stream",
          "text": [
            "[0.99999996 0.99999973 0.99999953 0.99999836 0.9999997  0.99999848\n",
            " 0.99999977 0.9999999  0.99999986 0.99999989] [0. 0. 0. 0. 0. 0. 1. 0. 0. 0.]\n",
            "[ 9.99999959e-01  9.99999727e-01  9.99999534e-01  9.99998364e-01\n",
            "  9.99999705e-01  9.99998482e-01 -2.27866710e-07  9.99999896e-01\n",
            "  9.99999856e-01  9.99999893e-01] (31, 10) (1000, 10)\n",
            "[[3.59320136 4.27606069 3.70767554 ... 5.35912738 4.30675309 5.3425251 ]\n",
            " [3.29442152 4.69216289 3.64232557 ... 4.95128508 4.24474859 4.67330483]\n",
            " [3.76945361 4.68611575 4.08689024 ... 5.72768021 4.43578024 4.61858426]\n",
            " ...\n",
            " [3.29442152 4.69216289 3.64232557 ... 4.95128508 4.24474859 4.67330483]\n",
            " [3.71271102 4.64312052 4.19806998 ... 5.48099626 4.88892946 5.23632633]\n",
            " [3.41431804 4.22323039 3.94554791 ... 5.19058312 4.70729034 4.64273431]] (1000, 31) (1000, 31)\n"
          ],
          "name": "stdout"
        }
      ]
    },
    {
      "cell_type": "code",
      "metadata": {
        "id": "iV8-xTD3DTWs",
        "colab_type": "code",
        "colab": {
          "base_uri": "https://localhost:8080/",
          "height": 136
        },
        "outputId": "c367642c-bbe5-4140-c9f2-e9c4339274a8"
      },
      "source": [
        "print(pred)"
      ],
      "execution_count": 29,
      "outputs": [
        {
          "output_type": "stream",
          "text": [
            "[[0.99999996 0.99999973 0.99999953 ... 0.9999999  0.99999986 0.99999989]\n",
            " [0.99999996 0.99999973 0.99999953 ... 0.9999999  0.99999986 0.99999989]\n",
            " [0.99999996 0.99999973 0.99999953 ... 0.9999999  0.99999986 0.99999989]\n",
            " ...\n",
            " [0.99999996 0.99999973 0.99999953 ... 0.9999999  0.99999986 0.99999989]\n",
            " [0.99999996 0.99999973 0.99999953 ... 0.9999999  0.99999986 0.99999989]\n",
            " [0.99999996 0.99999973 0.99999953 ... 0.9999999  0.99999986 0.99999989]]\n"
          ],
          "name": "stdout"
        }
      ]
    },
    {
      "cell_type": "code",
      "metadata": {
        "id": "-cy8-NrsDZIV",
        "colab_type": "code",
        "colab": {
          "base_uri": "https://localhost:8080/",
          "height": 238
        },
        "outputId": "a5e2e0b5-87e0-4519-b890-c72370c05f11"
      },
      "source": [
        "print(dpred)"
      ],
      "execution_count": 30,
      "outputs": [
        {
          "output_type": "stream",
          "text": [
            "[[ 9.99999959e-01  9.99999727e-01  9.99999534e-01 ...  9.99999896e-01\n",
            "   9.99999856e-01  9.99999893e-01]\n",
            " [-4.05583621e-08  9.99999727e-01  9.99999534e-01 ...  9.99999896e-01\n",
            "   9.99999856e-01  9.99999893e-01]\n",
            " [ 9.99999959e-01  9.99999727e-01  9.99999534e-01 ...  9.99999896e-01\n",
            "   9.99999856e-01  9.99999893e-01]\n",
            " ...\n",
            " [-4.05583621e-08  9.99999727e-01  9.99999534e-01 ...  9.99999896e-01\n",
            "   9.99999856e-01  9.99999893e-01]\n",
            " [ 9.99999959e-01  9.99999727e-01  9.99999534e-01 ...  9.99999896e-01\n",
            "   9.99999856e-01  9.99999893e-01]\n",
            " [ 9.99999959e-01  9.99999727e-01  9.99999534e-01 ...  9.99999896e-01\n",
            "   9.99999856e-01  9.99999893e-01]]\n"
          ],
          "name": "stdout"
        }
      ]
    },
    {
      "cell_type": "code",
      "metadata": {
        "id": "6XhtY-25D511",
        "colab_type": "code",
        "colab": {
          "base_uri": "https://localhost:8080/",
          "height": 34
        },
        "outputId": "8c62f2f2-f7b9-432e-aa7a-39b7966d930c"
      },
      "source": [
        "sum(((pred-y)**2).transpose()).reshape(-1,1).shape"
      ],
      "execution_count": 45,
      "outputs": [
        {
          "output_type": "execute_result",
          "data": {
            "text/plain": [
              "(1000, 1)"
            ]
          },
          "metadata": {
            "tags": []
          },
          "execution_count": 45
        }
      ]
    }
  ]
}