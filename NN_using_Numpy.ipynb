{
  "nbformat": 4,
  "nbformat_minor": 0,
  "metadata": {
    "colab": {
      "name": "NN_using_Numpy.ipynb",
      "version": "0.3.2",
      "provenance": [],
      "machine_shape": "hm",
      "include_colab_link": true
    },
    "kernelspec": {
      "name": "python3",
      "display_name": "Python 3"
    }
  },
  "cells": [
    {
      "cell_type": "markdown",
      "metadata": {
        "id": "view-in-github",
        "colab_type": "text"
      },
      "source": [
        "<a href=\"https://colab.research.google.com/github/venkat2ram/Python/blob/master/NN_using_Numpy.ipynb\" target=\"_parent\"><img src=\"https://colab.research.google.com/assets/colab-badge.svg\" alt=\"Open In Colab\"/></a>"
      ]
    },
    {
      "cell_type": "code",
      "metadata": {
        "id": "Hv3PPGQtm5t1",
        "colab_type": "code",
        "colab": {}
      },
      "source": [
        "from sklearn.datasets import fetch_openml\n",
        "\n",
        "Data=fetch_openml('mnist_784')"
      ],
      "execution_count": 0,
      "outputs": []
    },
    {
      "cell_type": "code",
      "metadata": {
        "id": "JOJfcO_UnJma",
        "colab_type": "code",
        "colab": {}
      },
      "source": [
        "X,y1=Data[\"data\"][:1000]/10000,Data[\"target\"][:1000]"
      ],
      "execution_count": 0,
      "outputs": []
    },
    {
      "cell_type": "code",
      "metadata": {
        "id": "NAEZlwI8nOzw",
        "colab_type": "code",
        "colab": {}
      },
      "source": [
        "import numpy as np\n",
        "import matplotlib \n",
        "import matplotlib.pyplot as plt\n",
        "\n",
        "def show_imag(X,y,position):\n",
        "  img=X[position]\n",
        "  imag=img.reshape(int(np.sqrt(img.size)),int(np.sqrt(img.size)))\n",
        "  plt.imshow(imag,cmap = matplotlib.cm.binary, interpolation=\"nearest\")\n",
        "  plt.show()\n",
        "  print(y[position]) "
      ],
      "execution_count": 0,
      "outputs": []
    },
    {
      "cell_type": "code",
      "metadata": {
        "id": "xG1GujVSnPwt",
        "colab_type": "code",
        "outputId": "e15a1848-1a60-4ae8-a05a-0865df39fad2",
        "colab": {
          "base_uri": "https://localhost:8080/",
          "height": 286
        }
      },
      "source": [
        "show_imag(X,y1,400)"
      ],
      "execution_count": 4,
      "outputs": [
        {
          "output_type": "display_data",
          "data": {
            "image/png": "[encoded data removed]",
            "text/plain": [
              "<Figure size 432x288 with 1 Axes>"
            ]
          },
          "metadata": {
            "tags": []
          }
        },
        {
          "output_type": "stream",
          "text": [
            "2\n"
          ],
          "name": "stdout"
        }
      ]
    },
    {
      "cell_type": "code",
      "metadata": {
        "id": "NPH1fvVxnWaL",
        "colab_type": "code",
        "colab": {}
      },
      "source": [
        "def convert_binary(y):\n",
        "  y1=np.zeros((len(y),10))\n",
        "  for i in range(len(y)):\n",
        "    y1[i][int(y[i])]=1\n",
        "    \n",
        "    \n",
        "  return y1"
      ],
      "execution_count": 0,
      "outputs": []
    },
    {
      "cell_type": "code",
      "metadata": {
        "id": "87w4EY66xDpH",
        "colab_type": "code",
        "colab": {}
      },
      "source": [
        "NumHlayers=10\n",
        "NumHunits=30"
      ],
      "execution_count": 0,
      "outputs": []
    },
    {
      "cell_type": "code",
      "metadata": {
        "id": "xypaqaTDxITZ",
        "colab_type": "code",
        "outputId": "da9a48a8-5160-42c8-c5a0-a915e4368301",
        "colab": {
          "base_uri": "https://localhost:8080/",
          "height": 228
        }
      },
      "source": [
        "y=convert_binary(y1)\n",
        "m,n=np.shape(X)\n",
        "p,s=np.shape(y)\n",
        "X_with_bias=np.c_[np.ones((m,1)),X]\n",
        "hidden=np.ones((NumHlayers,m,NumHunits+1))\n",
        "z=np.ones((NumHlayers,m,NumHunits))\n",
        "a=np.ones((NumHlayers,m,NumHunits))\n",
        "d=np.ones((NumHlayers,m,NumHunits+1))\n",
        "ITheta=np.random.rand(n+1,NumHunits)\n",
        "HTheta=np.random.rand(NumHlayers-1,NumHunits+1,NumHunits)\n",
        "ETheta=np.random.rand(NumHunits+1,s)\n",
        "z[0]=np.matmul(X_with_bias,ITheta)\n",
        "a[0]=1/(1+np.exp(-1*z[0]))\n",
        "hidden[0]=np.c_[np.ones((m,1)),a[0]]\n",
        "for i in range(NumHlayers-1):\n",
        "  z[i+1]=np.matmul(hidden[i],HTheta[i])\n",
        "  a[i+1]=1/(1+np.exp(-1*z[i+1]))\n",
        "  hidden[i+1]=np.c_[np.ones((m,1)),a[i+1]]\n",
        "pred=1/(1+np.exp(-1*np.matmul(hidden[i+1],ETheta)))\n",
        "print(pred[999],y[999])\n",
        "dpred=pred-y\n",
        "print(dpred[999],ETheta.shape,dpred.shape)\n",
        "d[NumHlayers-1]=np.transpose(np.matmul(ETheta,np.transpose(dpred)))\n",
        "#*(a[NumHlayers]*(1-a[NumHlayers]))\n",
        "print(d[NumHlayers-1],d[NumHlayers-1].shape,hidden[NumHlayers-1].shape)\n",
        "#for"
      ],
      "execution_count": 32,
      "outputs": [
        {
          "output_type": "stream",
          "text": [
            "[0.99999982 0.99999809 0.99999996 1.         0.99999999 0.99999974\n",
            " 0.99999995 0.9999997  0.99999981 0.99999981] [0. 0. 0. 0. 0. 0. 1. 0. 0. 0.]\n",
            "[ 9.99999822e-01  9.99998086e-01  9.99999958e-01  9.99999996e-01\n",
            "  9.99999991e-01  9.99999736e-01 -4.59345370e-08  9.99999701e-01\n",
            "  9.99999811e-01  9.99999813e-01] (31, 10) (1000, 10)\n",
            "[[5.4371679  2.95452558 5.20396871 ... 3.96044312 4.88743172 4.35013347]\n",
            " [5.98761309 2.29234595 4.62431232 ... 4.31143835 4.92787489 3.93036259]\n",
            " [5.92091209 2.95564413 4.69924923 ... 3.71264759 5.26401465 3.79965493]\n",
            " ...\n",
            " [5.98761309 2.29234595 4.62431232 ... 4.31143835 4.92787489 3.93036259]\n",
            " [5.42292677 2.32412378 4.82152452 ... 3.90961375 5.26666464 3.59231624]\n",
            " [5.9069895  2.98526799 4.40387993 ... 3.93502494 4.98169465 4.09194244]] (1000, 31) (1000, 31)\n"
          ],
          "name": "stdout"
        }
      ]
    },
    {
      "cell_type": "code",
      "metadata": {
        "id": "83wTC9cK2ugz",
        "colab_type": "code",
        "outputId": "cef60580-f8ea-47c5-f917-616bd02e568d",
        "colab": {
          "base_uri": "https://localhost:8080/",
          "height": 34
        }
      },
      "source": [
        "print(y[5],y1[5])"
      ],
      "execution_count": 8,
      "outputs": [
        {
          "output_type": "stream",
          "text": [
            "[0. 0. 1. 0. 0. 0. 0. 0. 0. 0.] 2\n"
          ],
          "name": "stdout"
        }
      ]
    }
  ]
}