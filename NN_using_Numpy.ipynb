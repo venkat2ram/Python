{
  "nbformat": 4,
  "nbformat_minor": 0,
  "metadata": {
    "colab": {
      "name": "NN_using_Numpy.ipynb",
      "provenance": [],
      "machine_shape": "hm",
      "include_colab_link": true
    },
    "kernelspec": {
      "name": "python3",
      "display_name": "Python 3"
    }
  },
  "cells": [
    {
      "cell_type": "markdown",
      "metadata": {
        "id": "view-in-github",
        "colab_type": "text"
      },
      "source": [
        "<a href=\"https://colab.research.google.com/github/venkat2ram/Python/blob/master/NN_using_Numpy.ipynb\" target=\"_parent\"><img src=\"https://colab.research.google.com/assets/colab-badge.svg\" alt=\"Open In Colab\"/></a>"
      ]
    },
    {
      "cell_type": "code",
      "metadata": {
        "id": "Hv3PPGQtm5t1",
        "colab_type": "code",
        "colab": {}
      },
      "source": [
        "from sklearn.datasets import fetch_openml\n",
        "\n",
        "Data=fetch_openml('mnist_784')"
      ],
      "execution_count": 0,
      "outputs": []
    },
    {
      "cell_type": "code",
      "metadata": {
        "id": "JOJfcO_UnJma",
        "colab_type": "code",
        "colab": {}
      },
      "source": [
        "X,y_actual=Data[\"data\"][:1000]/10000,Data[\"target\"][:1000]"
      ],
      "execution_count": 0,
      "outputs": []
    },
    {
      "cell_type": "code",
      "metadata": {
        "id": "NAEZlwI8nOzw",
        "colab_type": "code",
        "colab": {}
      },
      "source": [
        "import numpy as np\n",
        "import matplotlib \n",
        "import matplotlib.pyplot as plt\n",
        "\n",
        "def show_imag(X,y_actual,position):\n",
        "  img=X[position]\n",
        "  imag=img.reshape(int(np.sqrt(img.size)),int(np.sqrt(img.size)))\n",
        "  plt.imshow(imag,cmap = matplotlib.cm.binary, interpolation=\"nearest\")\n",
        "  plt.show()\n",
        "  print(y_actual[position]) "
      ],
      "execution_count": 0,
      "outputs": []
    },
    {
      "cell_type": "code",
      "metadata": {
        "id": "xG1GujVSnPwt",
        "colab_type": "code",
        "outputId": "16f60d5f-dcf5-42b7-ea98-b76542da04e8",
        "colab": {
          "base_uri": "https://localhost:8080/",
          "height": 282
        }
      },
      "source": [
        "show_imag(X,y_actual,400)"
      ],
      "execution_count": 6,
      "outputs": [
        {
          "output_type": "display_data",
          "data": {
            "image/png": "[encoded data removed]",
            "text/plain": [
              "<Figure size 432x288 with 1 Axes>"
            ]
          },
          "metadata": {
            "tags": []
          }
        },
        {
          "output_type": "stream",
          "text": [
            "2\n"
          ],
          "name": "stdout"
        }
      ]
    },
    {
      "cell_type": "code",
      "metadata": {
        "id": "NPH1fvVxnWaL",
        "colab_type": "code",
        "colab": {}
      },
      "source": [
        "def convert_binary(y_actual):\n",
        "  y1=np.zeros((len(y_actual),10))\n",
        "  for i in range(len(y_actual)):\n",
        "    y1[i][int(y_actual[i])]=1\n",
        "    \n",
        "    \n",
        "  return y1"
      ],
      "execution_count": 0,
      "outputs": []
    },
    {
      "cell_type": "code",
      "metadata": {
        "id": "87w4EY66xDpH",
        "colab_type": "code",
        "colab": {}
      },
      "source": [
        "NumHlayers=10\n",
        "NumHunits=30"
      ],
      "execution_count": 0,
      "outputs": []
    },
    {
      "cell_type": "code",
      "metadata": {
        "id": "xypaqaTDxITZ",
        "colab_type": "code",
        "outputId": "38ed7774-bd58-4322-bb12-1667d13e117c",
        "colab": {
          "base_uri": "https://localhost:8080/",
          "height": 51
        }
      },
      "source": [
        "y=convert_binary(y_actual)\n",
        "m,n=np.shape(X)\n",
        "p,s=np.shape(y)\n",
        "X_with_bias=np.c_[np.ones((m,1)),X]\n",
        "hidden=np.ones((NumHlayers,m,NumHunits+1))\n",
        "z=np.ones((NumHlayers,m,NumHunits))\n",
        "a=np.ones((NumHlayers,m,NumHunits))\n",
        "d=np.ones((NumHlayers,m,NumHunits+1))\n",
        "ITheta=np.random.rand(n+1,NumHunits)\n",
        "#Igrad=np.zeros((n+1,NumHunits))\n",
        "HTheta=np.random.rand(NumHlayers-1,NumHunits+1,NumHunits)\n",
        "HGrad=np.zeros((NumHlayers,NumHunits+1))\n",
        "ETheta=np.random.rand(NumHunits+1,s)\n",
        "#EGrad=np.zeros((NumHunits+1,s))\n",
        "\n",
        "z[0]=np.matmul(X_with_bias,ITheta)\n",
        "a[0]=1/(1+np.exp(-1*z[0]))\n",
        "hidden[0]=np.c_[np.ones((m,1)),a[0]]\n",
        "for i in range(NumHlayers-1):\n",
        "  z[i+1]=np.matmul(hidden[i],HTheta[i])\n",
        "  a[i+1]=1/(1+np.exp(-1*z[i+1]))\n",
        "  hidden[i+1]=np.c_[np.ones((m,1)),a[i+1]]\n",
        "pred=1/(1+np.exp(-1*np.matmul(hidden[i+1],ETheta)))\n",
        "print(pred[999],y[999])\n",
        "cost=sum(((pred-y)**2).transpose()).reshape(-1,1)\n",
        "dpred=pred-y\n",
        "#Egrad_init=np.zeros((m,NumHunits+1,s))\n",
        "Egrad=np.matmul((hidden[NumHlayers-1].transpose()),(2*dpred)*(pred*(1-pred)))/1000\n",
        "HGrad[NumHlayers-1]=sum(np.matmul((2*dpred*pred*(1-pred)),ETheta.transpose())).reshape(1,-1)\n",
        "for j in range()\n"
      ],
      "execution_count": 87,
      "outputs": [
        {
          "output_type": "stream",
          "text": [
            "[0.9999989  0.99999992 0.99999941 0.99999635 0.99999994 0.99999998\n",
            " 0.99999965 0.99999987 0.99999978 0.99999764] [0. 0. 0. 0. 0. 0. 1. 0. 0. 0.]\n"
          ],
          "name": "stdout"
        }
      ]
    },
    {
      "cell_type": "code",
      "metadata": {
        "id": "6XhtY-25D511",
        "colab_type": "code",
        "outputId": "746f56d9-e6a9-48dc-e0ca-8724f3b1332c",
        "colab": {
          "base_uri": "https://localhost:8080/",
          "height": 51
        }
      },
      "source": [
        "HGrad[NumHlayers-1]\n"
      ],
      "execution_count": 86,
      "outputs": [
        {
          "output_type": "execute_result",
          "data": {
            "text/plain": [
              "array([0., 0., 0., 0., 0., 0., 0., 0., 0., 0., 0., 0., 0., 0., 0., 0., 0.,\n",
              "       0., 0., 0., 0., 0., 0., 0., 0., 0., 0., 0., 0., 0., 0.])"
            ]
          },
          "metadata": {
            "tags": []
          },
          "execution_count": 86
        }
      ]
    },
    {
      "cell_type": "code",
      "metadata": {
        "id": "kRr0eH4W9783",
        "colab_type": "code",
        "colab": {
          "base_uri": "https://localhost:8080/",
          "height": 51
        },
        "outputId": "b0be6b96-f6bb-4511-ca4c-0519930fa7cc"
      },
      "source": [
        "p=np.array([[1,2],[3,4]])\n",
        "q=np.array([[1,2],[3,4]])\n",
        "p*q"
      ],
      "execution_count": 14,
      "outputs": [
        {
          "output_type": "execute_result",
          "data": {
            "text/plain": [
              "array([[ 1,  4],\n",
              "       [ 9, 16]])"
            ]
          },
          "metadata": {
            "tags": []
          },
          "execution_count": 14
        }
      ]
    },
    {
      "cell_type": "code",
      "metadata": {
        "id": "NB0yPDEE97XY",
        "colab_type": "code",
        "colab": {
          "base_uri": "https://localhost:8080/",
          "height": 187
        },
        "outputId": "dfef9694-1c1c-4532-85bb-96647f900f23"
      },
      "source": [
        "for k in range(10):\n",
        "  print(k)"
      ],
      "execution_count": 88,
      "outputs": [
        {
          "output_type": "stream",
          "text": [
            "0\n",
            "1\n",
            "2\n",
            "3\n",
            "4\n",
            "5\n",
            "6\n",
            "7\n",
            "8\n",
            "9\n"
          ],
          "name": "stdout"
        }
      ]
    },
    {
      "cell_type": "code",
      "metadata": {
        "id": "LZnMurwQCaNG",
        "colab_type": "code",
        "colab": {
          "base_uri": "https://localhost:8080/",
          "height": 34
        },
        "outputId": "481c9099-a9b4-4ad6-eca2-fdb417def3d7"
      },
      "source": [
        "Egrad[1,1]"
      ],
      "execution_count": 48,
      "outputs": [
        {
          "output_type": "execute_result",
          "data": {
            "text/plain": [
              "1.6022510786692108e-06"
            ]
          },
          "metadata": {
            "tags": []
          },
          "execution_count": 48
        }
      ]
    },
    {
      "cell_type": "code",
      "metadata": {
        "id": "8PkhZc7eC9L7",
        "colab_type": "code",
        "colab": {
          "base_uri": "https://localhost:8080/",
          "height": 34
        },
        "outputId": "6c9f86cb-4510-4276-d4de-12b6536dcbbd"
      },
      "source": [
        "print(m,n)"
      ],
      "execution_count": 21,
      "outputs": [
        {
          "output_type": "stream",
          "text": [
            "1000 784\n"
          ],
          "name": "stdout"
        }
      ]
    },
    {
      "cell_type": "code",
      "metadata": {
        "id": "L7KkdgsdDGAO",
        "colab_type": "code",
        "colab": {
          "base_uri": "https://localhost:8080/",
          "height": 238
        },
        "outputId": "50eba1a4-23f0-461e-b11e-832a8c3a4c88"
      },
      "source": [
        "np.matmul((2*dpred*pred*(1-pred)),ETheta.transpose())"
      ],
      "execution_count": 70,
      "outputs": [
        {
          "output_type": "execute_result",
          "data": {
            "text/plain": [
              "array([[4.03189002e-06, 3.71910499e-06, 1.47702775e-06, ...,\n",
              "        3.76068274e-06, 2.27065486e-06, 2.62186741e-06],\n",
              "       [3.89500072e-06, 4.33171692e-06, 1.57319558e-06, ...,\n",
              "        3.71384308e-06, 2.94100648e-06, 2.78786031e-06],\n",
              "       [4.11301931e-06, 4.52248102e-06, 1.79153439e-06, ...,\n",
              "        3.68718984e-06, 2.90510182e-06, 2.73021410e-06],\n",
              "       ...,\n",
              "       [3.89500072e-06, 4.33171692e-06, 1.57319558e-06, ...,\n",
              "        3.71384308e-06, 2.94100648e-06, 2.78786031e-06],\n",
              "       [3.71944100e-06, 3.18432251e-06, 1.59648407e-06, ...,\n",
              "        3.27022113e-06, 2.10094851e-06, 2.23601549e-06],\n",
              "       [3.71584012e-06, 4.12456404e-06, 1.73004104e-06, ...,\n",
              "        3.18866793e-06, 2.92929200e-06, 2.27633303e-06]])"
            ]
          },
          "metadata": {
            "tags": []
          },
          "execution_count": 70
        }
      ]
    },
    {
      "cell_type": "code",
      "metadata": {
        "id": "Z6Dxf7C_bIVd",
        "colab_type": "code",
        "colab": {
          "base_uri": "https://localhost:8080/",
          "height": 1000
        },
        "outputId": "892f2874-b3b1-4a65-dceb-e068ca50284f"
      },
      "source": [
        "Egrad"
      ],
      "execution_count": 71,
      "outputs": [
        {
          "output_type": "execute_result",
          "data": {
            "text/plain": [
              "array([[2.97837036e-07, 1.82770038e-07, 1.77695746e-06, 1.37761919e-06,\n",
              "        8.01244376e-08, 1.43680986e-06, 5.43513683e-07, 7.17583827e-08,\n",
              "        1.20485593e-06, 2.10597697e-07],\n",
              "       [2.97837029e-07, 1.82770033e-07, 1.77695742e-06, 1.37761916e-06,\n",
              "        8.01244358e-08, 1.43680983e-06, 5.43513671e-07, 7.17583810e-08,\n",
              "        1.20485590e-06, 2.10597693e-07],\n",
              "       [2.97836823e-07, 1.82769907e-07, 1.77695619e-06, 1.37761821e-06,\n",
              "        8.01243804e-08, 1.43680884e-06, 5.43513295e-07, 7.17583314e-08,\n",
              "        1.20485507e-06, 2.10597547e-07],\n",
              "       [2.97837024e-07, 1.82770030e-07, 1.77695738e-06, 1.37761914e-06,\n",
              "        8.01244343e-08, 1.43680981e-06, 5.43513661e-07, 7.17583797e-08,\n",
              "        1.20485588e-06, 2.10597689e-07],\n",
              "       [2.97836912e-07, 1.82769962e-07, 1.77695672e-06, 1.37761862e-06,\n",
              "        8.01244042e-08, 1.43680927e-06, 5.43513457e-07, 7.17583528e-08,\n",
              "        1.20485543e-06, 2.10597610e-07],\n",
              "       [2.97837031e-07, 1.82770035e-07, 1.77695743e-06, 1.37761917e-06,\n",
              "        8.01244363e-08, 1.43680984e-06, 5.43513675e-07, 7.17583815e-08,\n",
              "        1.20485591e-06, 2.10597694e-07],\n",
              "       [2.97837020e-07, 1.82770028e-07, 1.77695736e-06, 1.37761912e-06,\n",
              "        8.01244333e-08, 1.43680979e-06, 5.43513654e-07, 7.17583788e-08,\n",
              "        1.20485587e-06, 2.10597686e-07],\n",
              "       [2.97836866e-07, 1.82769933e-07, 1.77695644e-06, 1.37761841e-06,\n",
              "        8.01243918e-08, 1.43680904e-06, 5.43513373e-07, 7.17583417e-08,\n",
              "        1.20485524e-06, 2.10597577e-07],\n",
              "       [2.97837024e-07, 1.82770031e-07, 1.77695739e-06, 1.37761914e-06,\n",
              "        8.01244345e-08, 1.43680981e-06, 5.43513662e-07, 7.17583799e-08,\n",
              "        1.20485588e-06, 2.10597689e-07],\n",
              "       [2.97837018e-07, 1.82770027e-07, 1.77695735e-06, 1.37761911e-06,\n",
              "        8.01244329e-08, 1.43680978e-06, 5.43513651e-07, 7.17583784e-08,\n",
              "        1.20485586e-06, 2.10597685e-07],\n",
              "       [2.97836993e-07, 1.82770011e-07, 1.77695720e-06, 1.37761900e-06,\n",
              "        8.01244261e-08, 1.43680966e-06, 5.43513605e-07, 7.17583723e-08,\n",
              "        1.20485576e-06, 2.10597667e-07],\n",
              "       [2.97836889e-07, 1.82769948e-07, 1.77695658e-06, 1.37761852e-06,\n",
              "        8.01243981e-08, 1.43680916e-06, 5.43513416e-07, 7.17583473e-08,\n",
              "        1.20485534e-06, 2.10597594e-07],\n",
              "       [2.97837028e-07, 1.82770033e-07, 1.77695741e-06, 1.37761916e-06,\n",
              "        8.01244355e-08, 1.43680983e-06, 5.43513669e-07, 7.17583807e-08,\n",
              "        1.20485590e-06, 2.10597692e-07],\n",
              "       [2.97837028e-07, 1.82770033e-07, 1.77695741e-06, 1.37761916e-06,\n",
              "        8.01244355e-08, 1.43680983e-06, 5.43513669e-07, 7.17583808e-08,\n",
              "        1.20485590e-06, 2.10597692e-07],\n",
              "       [2.97836915e-07, 1.82769963e-07, 1.77695673e-06, 1.37761863e-06,\n",
              "        8.01244050e-08, 1.43680928e-06, 5.43513462e-07, 7.17583534e-08,\n",
              "        1.20485544e-06, 2.10597612e-07],\n",
              "       [2.97836449e-07, 1.82769678e-07, 1.77695396e-06, 1.37761648e-06,\n",
              "        8.01242798e-08, 1.43680703e-06, 5.43512613e-07, 7.17582413e-08,\n",
              "        1.20485356e-06, 2.10597283e-07],\n",
              "       [2.97836968e-07, 1.82769996e-07, 1.77695705e-06, 1.37761888e-06,\n",
              "        8.01244193e-08, 1.43680954e-06, 5.43513559e-07, 7.17583662e-08,\n",
              "        1.20485565e-06, 2.10597649e-07],\n",
              "       [2.97837008e-07, 1.82770021e-07, 1.77695729e-06, 1.37761907e-06,\n",
              "        8.01244301e-08, 1.43680973e-06, 5.43513633e-07, 7.17583760e-08,\n",
              "        1.20485582e-06, 2.10597678e-07],\n",
              "       [2.97836996e-07, 1.82770013e-07, 1.77695722e-06, 1.37761901e-06,\n",
              "        8.01244268e-08, 1.43680967e-06, 5.43513610e-07, 7.17583730e-08,\n",
              "        1.20485577e-06, 2.10597669e-07],\n",
              "       [2.97836756e-07, 1.82769866e-07, 1.77695579e-06, 1.37761790e-06,\n",
              "        8.01243624e-08, 1.43680852e-06, 5.43513173e-07, 7.17583153e-08,\n",
              "        1.20485480e-06, 2.10597500e-07],\n",
              "       [2.97836182e-07, 1.82769514e-07, 1.77695236e-06, 1.37761525e-06,\n",
              "        8.01242079e-08, 1.43680575e-06, 5.43512125e-07, 7.17581769e-08,\n",
              "        1.20485248e-06, 2.10597094e-07],\n",
              "       [2.97836797e-07, 1.82769891e-07, 1.77695603e-06, 1.37761809e-06,\n",
              "        8.01243732e-08, 1.43680871e-06, 5.43513246e-07, 7.17583249e-08,\n",
              "        1.20485496e-06, 2.10597528e-07],\n",
              "       [2.97837028e-07, 1.82770033e-07, 1.77695741e-06, 1.37761916e-06,\n",
              "        8.01244354e-08, 1.43680982e-06, 5.43513668e-07, 7.17583807e-08,\n",
              "        1.20485590e-06, 2.10597692e-07],\n",
              "       [2.97836779e-07, 1.82769880e-07, 1.77695592e-06, 1.37761800e-06,\n",
              "        8.01243684e-08, 1.43680862e-06, 5.43513214e-07, 7.17583206e-08,\n",
              "        1.20485489e-06, 2.10597515e-07],\n",
              "       [2.97836987e-07, 1.82770007e-07, 1.77695716e-06, 1.37761897e-06,\n",
              "        8.01244243e-08, 1.43680963e-06, 5.43513593e-07, 7.17583708e-08,\n",
              "        1.20485573e-06, 2.10597662e-07],\n",
              "       [2.97836955e-07, 1.82769988e-07, 1.77695698e-06, 1.37761882e-06,\n",
              "        8.01244159e-08, 1.43680948e-06, 5.43513536e-07, 7.17583632e-08,\n",
              "        1.20485560e-06, 2.10597640e-07],\n",
              "       [2.97836848e-07, 1.82769923e-07, 1.77695634e-06, 1.37761833e-06,\n",
              "        8.01243871e-08, 1.43680896e-06, 5.43513341e-07, 7.17583374e-08,\n",
              "        1.20485517e-06, 2.10597565e-07],\n",
              "       [2.97837006e-07, 1.82770019e-07, 1.77695728e-06, 1.37761906e-06,\n",
              "        8.01244296e-08, 1.43680972e-06, 5.43513629e-07, 7.17583755e-08,\n",
              "        1.20485581e-06, 2.10597676e-07],\n",
              "       [2.97837024e-07, 1.82770030e-07, 1.77695738e-06, 1.37761914e-06,\n",
              "        8.01244343e-08, 1.43680980e-06, 5.43513661e-07, 7.17583797e-08,\n",
              "        1.20485588e-06, 2.10597689e-07],\n",
              "       [2.97836986e-07, 1.82770007e-07, 1.77695716e-06, 1.37761896e-06,\n",
              "        8.01244242e-08, 1.43680962e-06, 5.43513593e-07, 7.17583707e-08,\n",
              "        1.20485573e-06, 2.10597662e-07],\n",
              "       [2.97836723e-07, 1.82769846e-07, 1.77695559e-06, 1.37761775e-06,\n",
              "        8.01243535e-08, 1.43680836e-06, 5.43513113e-07, 7.17583073e-08,\n",
              "        1.20485467e-06, 2.10597476e-07]])"
            ]
          },
          "metadata": {
            "tags": []
          },
          "execution_count": 71
        }
      ]
    },
    {
      "cell_type": "code",
      "metadata": {
        "id": "7OmfSa8mbhZ_",
        "colab_type": "code",
        "colab": {
          "base_uri": "https://localhost:8080/",
          "height": 238
        },
        "outputId": "92a3a1b4-2d67-4d5e-c15b-3235d416d85f"
      },
      "source": [
        "pred"
      ],
      "execution_count": 72,
      "outputs": [
        {
          "output_type": "execute_result",
          "data": {
            "text/plain": [
              "array([[0.99999984, 0.9999999 , 0.99999901, ..., 0.99999996, 0.99999934,\n",
              "        0.99999988],\n",
              "       [0.99999984, 0.9999999 , 0.99999901, ..., 0.99999996, 0.99999934,\n",
              "        0.99999988],\n",
              "       [0.99999984, 0.9999999 , 0.99999901, ..., 0.99999996, 0.99999934,\n",
              "        0.99999988],\n",
              "       ...,\n",
              "       [0.99999984, 0.9999999 , 0.99999901, ..., 0.99999996, 0.99999934,\n",
              "        0.99999988],\n",
              "       [0.99999984, 0.9999999 , 0.99999901, ..., 0.99999996, 0.99999934,\n",
              "        0.99999988],\n",
              "       [0.99999984, 0.9999999 , 0.99999901, ..., 0.99999996, 0.99999934,\n",
              "        0.99999988]])"
            ]
          },
          "metadata": {
            "tags": []
          },
          "execution_count": 72
        }
      ]
    },
    {
      "cell_type": "code",
      "metadata": {
        "id": "n4_EmyRtblr7",
        "colab_type": "code",
        "colab": {
          "base_uri": "https://localhost:8080/",
          "height": 1000
        },
        "outputId": "717073bf-6bc3-4267-be7e-5b0444dbd888"
      },
      "source": [
        "ETheta"
      ],
      "execution_count": 73,
      "outputs": [
        {
          "output_type": "execute_result",
          "data": {
            "text/plain": [
              "array([[0.88655622, 0.05624732, 0.90890827, 0.30810495, 0.83099961,\n",
              "        0.09828425, 0.78608128, 0.67335575, 0.57741514, 0.4471608 ],\n",
              "       [0.80248152, 0.13046147, 0.26368829, 0.92968591, 0.82568357,\n",
              "        0.55441095, 0.7865178 , 0.24497938, 0.66252139, 0.23655989],\n",
              "       [0.72084563, 0.9472338 , 0.08315038, 0.14120214, 0.21690351,\n",
              "        0.21102547, 0.13487393, 0.14368889, 0.29542551, 0.69701223],\n",
              "       [0.43164007, 0.1067416 , 0.36998048, 0.38358609, 0.0026059 ,\n",
              "        0.32618407, 0.6048448 , 0.0646968 , 0.30344236, 0.03930616],\n",
              "       [0.51510842, 0.47174006, 0.53495522, 0.34387943, 0.2682669 ,\n",
              "        0.32632138, 0.90286229, 0.29843816, 0.36140648, 0.89668056],\n",
              "       [0.11047551, 0.78556467, 0.22151342, 0.51774092, 0.62491049,\n",
              "        0.36170313, 0.21218136, 0.2077134 , 0.50804208, 0.93176139],\n",
              "       [0.66680223, 0.88516235, 0.6086645 , 0.74955084, 0.86250863,\n",
              "        0.49189932, 0.19285159, 0.59687249, 0.67055951, 0.22508006],\n",
              "       [0.86087381, 0.61423788, 0.40994677, 0.00432146, 0.50796834,\n",
              "        0.35066074, 0.06775955, 0.94699555, 0.6704982 , 0.44811884],\n",
              "       [0.25935262, 0.38727077, 0.15201437, 0.65712434, 0.03750904,\n",
              "        0.26556328, 0.15420129, 0.61015928, 0.36624947, 0.39408733],\n",
              "       [0.70192765, 0.09512702, 0.29679487, 0.39406623, 0.21721819,\n",
              "        0.34469766, 0.01898612, 0.90741758, 0.08333451, 0.99273629],\n",
              "       [0.68054155, 0.61696734, 0.04240107, 0.85618533, 0.0543891 ,\n",
              "        0.35212757, 0.13108932, 0.48184215, 0.43426192, 0.38206423],\n",
              "       [0.85557717, 0.86840617, 0.01959281, 0.65599441, 0.34406467,\n",
              "        0.95959074, 0.02793825, 0.28645654, 0.38089998, 0.87231866],\n",
              "       [0.79368333, 0.34167327, 0.91791113, 0.17766717, 0.75332268,\n",
              "        0.96932277, 0.28624084, 0.44569016, 0.475927  , 0.50142775],\n",
              "       [0.58926978, 0.540132  , 0.7235875 , 0.31762064, 0.79621348,\n",
              "        0.68357222, 0.78077261, 0.68863725, 0.79757012, 0.2039134 ],\n",
              "       [0.03195416, 0.46235754, 0.54712401, 0.88620661, 0.85075461,\n",
              "        0.41282749, 0.29367728, 0.84007654, 0.62461867, 0.38112316],\n",
              "       [0.90037922, 0.06118372, 0.14580136, 0.26627391, 0.93046348,\n",
              "        0.28934104, 0.86706418, 0.44672763, 0.39491561, 0.58692149],\n",
              "       [0.21920436, 0.48066884, 0.25427027, 0.86675382, 0.84093334,\n",
              "        0.36925394, 0.80664445, 0.41339494, 0.25415761, 0.72958209],\n",
              "       [0.92465264, 0.33429377, 0.28604018, 0.18947715, 0.80654093,\n",
              "        0.90980707, 0.25446115, 0.20856688, 0.20788605, 0.41489074],\n",
              "       [0.02031593, 0.43030182, 0.07883301, 0.87057111, 0.59788507,\n",
              "        0.09189766, 0.94795288, 0.62923842, 0.48064304, 0.90105   ],\n",
              "       [0.75855346, 0.67176176, 0.71953978, 0.04755426, 0.08762211,\n",
              "        0.79284137, 0.71085901, 0.5150523 , 0.23847894, 0.36574481],\n",
              "       [0.45507407, 0.77400424, 0.54205581, 0.41725581, 0.61465165,\n",
              "        0.20124987, 0.18016875, 0.46528223, 0.84408809, 0.24322356],\n",
              "       [0.80325093, 0.57964968, 0.27237407, 0.13154756, 0.00198102,\n",
              "        0.1891552 , 0.66701417, 0.57042971, 0.05338091, 0.42843086],\n",
              "       [0.66389643, 0.90077811, 0.82417004, 0.40804049, 0.20082255,\n",
              "        0.93778047, 0.90141919, 0.92372232, 0.14086847, 0.20280436],\n",
              "       [0.89461822, 0.93008725, 0.7761179 , 0.01670641, 0.32721276,\n",
              "        0.9967436 , 0.24686376, 0.64593726, 0.9286499 , 0.51105019],\n",
              "       [0.37981329, 0.85517048, 0.31672546, 0.13814497, 0.82672435,\n",
              "        0.58145967, 0.98072764, 0.97977132, 0.75226334, 0.54255485],\n",
              "       [0.34845513, 0.48776561, 0.33280693, 0.72346287, 0.12646079,\n",
              "        0.4983348 , 0.24930747, 0.44684738, 0.15662993, 0.87759785],\n",
              "       [0.00261192, 0.1123397 , 0.83901767, 0.59118008, 0.9540192 ,\n",
              "        0.43650916, 0.67702862, 0.64826235, 0.64294412, 0.62985472],\n",
              "       [0.0374254 , 0.4143835 , 0.92624889, 0.82662032, 0.95609066,\n",
              "        0.48517525, 0.23530353, 0.89361411, 0.74742153, 0.17065629],\n",
              "       [0.17821233, 0.41400899, 0.54020124, 0.33077217, 0.95429878,\n",
              "        0.00754569, 0.97341265, 0.34248577, 0.90649108, 0.66252184],\n",
              "       [0.03311185, 0.33432205, 0.53021492, 0.56026917, 0.52305189,\n",
              "        0.43053384, 0.03773229, 0.92575005, 0.09720821, 0.0895882 ],\n",
              "       [0.09117604, 0.99485094, 0.34485706, 0.38312381, 0.97983068,\n",
              "        0.12390461, 0.90280962, 0.52658246, 0.17308379, 0.95528686]])"
            ]
          },
          "metadata": {
            "tags": []
          },
          "execution_count": 73
        }
      ]
    }
  ]
}