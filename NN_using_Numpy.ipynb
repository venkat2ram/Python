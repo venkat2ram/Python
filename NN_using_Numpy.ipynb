{
  "nbformat": 4,
  "nbformat_minor": 0,
  "metadata": {
    "colab": {
      "name": "NN_using_Numpy.ipynb",
      "provenance": [],
      "machine_shape": "hm",
      "include_colab_link": true
    },
    "kernelspec": {
      "name": "python3",
      "display_name": "Python 3"
    }
  },
  "cells": [
    {
      "cell_type": "markdown",
      "metadata": {
        "id": "view-in-github",
        "colab_type": "text"
      },
      "source": [
        "<a href=\"https://colab.research.google.com/github/venkat2ram/Python/blob/master/NN_using_Numpy.ipynb\" target=\"_parent\"><img src=\"https://colab.research.google.com/assets/colab-badge.svg\" alt=\"Open In Colab\"/></a>"
      ]
    },
    {
      "cell_type": "code",
      "metadata": {
        "id": "Hv3PPGQtm5t1",
        "colab_type": "code",
        "colab": {}
      },
      "source": [
        "from sklearn.datasets import fetch_openml\n",
        "\n",
        "Data=fetch_openml('mnist_784')"
      ],
      "execution_count": 0,
      "outputs": []
    },
    {
      "cell_type": "code",
      "metadata": {
        "id": "JOJfcO_UnJma",
        "colab_type": "code",
        "colab": {}
      },
      "source": [
        "X,y_actual=Data[\"data\"][:1000]/10000,Data[\"target\"][:1000]"
      ],
      "execution_count": 0,
      "outputs": []
    },
    {
      "cell_type": "code",
      "metadata": {
        "id": "NAEZlwI8nOzw",
        "colab_type": "code",
        "colab": {}
      },
      "source": [
        "import numpy as np\n",
        "import matplotlib \n",
        "import matplotlib.pyplot as plt\n",
        "\n",
        "def show_imag(X,y_actual,position):\n",
        "  img=X[position]\n",
        "  imag=img.reshape(int(np.sqrt(img.size)),int(np.sqrt(img.size)))\n",
        "  plt.imshow(imag,cmap = matplotlib.cm.binary, interpolation=\"nearest\")\n",
        "  plt.show()\n",
        "  print(y_actual[position]) "
      ],
      "execution_count": 0,
      "outputs": []
    },
    {
      "cell_type": "code",
      "metadata": {
        "id": "xG1GujVSnPwt",
        "colab_type": "code",
        "outputId": "a0e76f75-89fc-4431-a585-bad3b4d9ddf4",
        "colab": {
          "base_uri": "https://localhost:8080/",
          "height": 282
        }
      },
      "source": [
        "show_imag(X,y_actual,400)"
      ],
      "execution_count": 5,
      "outputs": [
        {
          "output_type": "display_data",
          "data": {
            "image/png": "[encoded data removed]",
            "text/plain": [
              "<Figure size 432x288 with 1 Axes>"
            ]
          },
          "metadata": {
            "tags": []
          }
        },
        {
          "output_type": "stream",
          "text": [
            "2\n"
          ],
          "name": "stdout"
        }
      ]
    },
    {
      "cell_type": "code",
      "metadata": {
        "id": "NPH1fvVxnWaL",
        "colab_type": "code",
        "colab": {}
      },
      "source": [
        "def convert_binary(y_actual):\n",
        "  y1=np.zeros((len(y_actual),10))\n",
        "  for i in range(len(y_actual)):\n",
        "    y1[i][int(y_actual[i])]=1\n",
        "    \n",
        "    \n",
        "  return y1"
      ],
      "execution_count": 0,
      "outputs": []
    },
    {
      "cell_type": "code",
      "metadata": {
        "id": "87w4EY66xDpH",
        "colab_type": "code",
        "colab": {}
      },
      "source": [
        "NumHlayers=10\n",
        "NumHunits=30"
      ],
      "execution_count": 0,
      "outputs": []
    },
    {
      "cell_type": "code",
      "metadata": {
        "id": "xypaqaTDxITZ",
        "colab_type": "code",
        "outputId": "9ac70b70-438f-40c6-8d92-768faf5ac57e",
        "colab": {
          "base_uri": "https://localhost:8080/"
        }
      },
      "source": [
        "y=convert_binary(y_actual)\n",
        "m,n=np.shape(X)\n",
        "p,s=np.shape(y)\n",
        "X_with_bias=np.c_[np.ones((m,1)),X]\n",
        "hidden=np.ones((NumHlayers,m,NumHunits+1))\n",
        "z=np.ones((NumHlayers,m,NumHunits))\n",
        "a=np.ones((NumHlayers,m,NumHunits))\n",
        "d=np.ones((NumHlayers,m,NumHunits+1))\n",
        "ITheta=np.random.rand(n+1,NumHunits)\n",
        "#Igrad=np.zeros((n+1,NumHunits))\n",
        "HTheta=np.random.rand(NumHlayers-1,NumHunits+1,NumHunits)\n",
        "HTGrad=np.random.rand(NumHlayers-1,NumHunits+1,NumHunits)\n",
        "HGrad=np.zeros((NumHlayers,NumHunits+1))\n",
        "ETheta=np.random.rand(NumHunits+1,s)\n",
        "#EGrad=np.zeros((NumHunits+1,s))\n",
        "for rota in range(10):\n",
        "  z[0]=np.matmul(X_with_bias,ITheta)\n",
        "  a[0]=1/(1+np.exp(-1*z[0]))\n",
        "  hidden[0]=np.c_[np.ones((m,1)),a[0]]\n",
        "  for i in range(NumHlayers-1):\n",
        "    z[i+1]=np.matmul(hidden[i],HTheta[i])\n",
        "    a[i+1]=1/(1+np.exp(-1*z[i+1]))\n",
        "    hidden[i+1]=np.c_[np.ones((m,1)),a[i+1]]\n",
        "  pred=1/(1+np.exp(-1*np.matmul(hidden[i+1],ETheta)))\n",
        "  cost=sum(((pred-y)**2).transpose()).reshape(-1,1)\n",
        "  print(sum(cost))\n",
        "  dpred=pred-y\n",
        "  #Egrad_init=np.zeros((m,NumHunits+1,s))\n",
        "  Egrad=np.matmul((hidden[NumHlayers-1].transpose()),(2*dpred)*(pred*(1-pred)))/1000\n",
        "  HGrad[NumHlayers-1]=sum(np.matmul((2*dpred*pred*(1-pred)),ETheta.transpose())).reshape(1,-1)/1000\n",
        "  for j in range(NumHlayers-1):\n",
        "    k=NumHlayers-j-2\n",
        "    HTGrad[k]=np.matmul((sum(hidden[k]).reshape(1,-1)/1000).transpose(),((((sum(a[k+1])/1000).reshape(1,-1))*(((sum(1-a[k+1])/1000).reshape(1,-1))))*(HGrad[k+1,1:NumHunits+1].reshape(1,-1))))\n",
        "    HGrad[k]=np.matmul(((((sum(a[k+1])/1000).reshape(1,-1))*(((sum(1-a[k+1])/1000).reshape(1,-1))))*(HGrad[k+1,1:NumHunits+1].reshape(1,-1))),HTheta[8].transpose())\n",
        "  ETheta=ETheta+Egrad\n",
        "  HTheta=HTheta+HTGrad\n",
        "\n",
        "  \n",
        "  \n",
        "\n"
      ],
      "execution_count": 8,
      "outputs": [
        {
          "output_type": "stream",
          "text": [
            "[8999.99347594]\n",
            "[8999.99347622]\n",
            "[8999.9934765]\n",
            "[8999.99347677]\n",
            "[8999.99347705]\n",
            "[8999.99347733]\n",
            "[8999.99347761]\n",
            "[8999.99347789]\n",
            "[8999.99347817]\n",
            "[8999.99347844]\n"
          ],
          "name": "stdout"
        }
      ]
    },
    {
      "cell_type": "code",
      "metadata": {
        "id": "6XhtY-25D511",
        "colab_type": "code",
        "outputId": "696f9ac0-a387-4eb2-ae35-edd065b87bee",
        "colab": {
          "base_uri": "https://localhost:8080/",
          "height": 34
        }
      },
      "source": [
        "k=8\n",
        "((((sum(a[k+1])/1000).reshape(1,-1))*(((sum(1-a[k+1])/1000).reshape(1,-1))))*(HGrad[k+1,1:NumHunits+1].reshape(1,-1))).shape\n"
      ],
      "execution_count": 9,
      "outputs": [
        {
          "output_type": "execute_result",
          "data": {
            "text/plain": [
              "(1, 30)"
            ]
          },
          "metadata": {
            "tags": []
          },
          "execution_count": 9
        }
      ]
    },
    {
      "cell_type": "code",
      "metadata": {
        "id": "kRr0eH4W9783",
        "colab_type": "code",
        "outputId": "b9ff4962-710b-4151-9fdb-01025993aa4b",
        "colab": {
          "base_uri": "https://localhost:8080/",
          "height": 34
        }
      },
      "source": [
        "sum(cost)"
      ],
      "execution_count": 10,
      "outputs": [
        {
          "output_type": "execute_result",
          "data": {
            "text/plain": [
              "array([8999.99347844])"
            ]
          },
          "metadata": {
            "tags": []
          },
          "execution_count": 10
        }
      ]
    },
    {
      "cell_type": "code",
      "metadata": {
        "id": "NB0yPDEE97XY",
        "colab_type": "code",
        "outputId": "6a8b654b-8b5b-4fa6-c97c-03b5de04c443",
        "colab": {
          "base_uri": "https://localhost:8080/",
          "height": 153
        }
      },
      "source": [
        "(HGrad[9,1:31].reshape(1,-1))"
      ],
      "execution_count": 11,
      "outputs": [
        {
          "output_type": "execute_result",
          "data": {
            "text/plain": [
              "array([[3.72599370e-06, 2.74533535e-06, 1.54222624e-06, 4.35861299e-06,\n",
              "        3.24414073e-06, 2.98658353e-06, 1.31550039e-06, 2.84744345e-06,\n",
              "        1.95975389e-06, 2.05139183e-06, 3.61617283e-06, 3.97921995e-06,\n",
              "        3.30484254e-06, 2.70045251e-06, 3.67050658e-06, 4.58372738e-06,\n",
              "        4.43685408e-06, 3.81177822e-06, 3.75496295e-06, 3.37183008e-06,\n",
              "        2.11301142e-06, 4.45426641e-06, 3.28217752e-06, 3.85870459e-06,\n",
              "        2.65002675e-06, 3.15192863e-06, 1.35552641e-06, 2.02232930e-06,\n",
              "        1.73763162e-06, 2.29790566e-06]])"
            ]
          },
          "metadata": {
            "tags": []
          },
          "execution_count": 11
        }
      ]
    },
    {
      "cell_type": "code",
      "metadata": {
        "id": "LZnMurwQCaNG",
        "colab_type": "code",
        "outputId": "fbc38ca1-dda6-497b-d368-80c37b0cd8b4",
        "colab": {
          "base_uri": "https://localhost:8080/",
          "height": 153
        }
      },
      "source": [
        "HGrad[9]"
      ],
      "execution_count": 12,
      "outputs": [
        {
          "output_type": "execute_result",
          "data": {
            "text/plain": [
              "array([2.73485004e-06, 3.72599370e-06, 2.74533535e-06, 1.54222624e-06,\n",
              "       4.35861299e-06, 3.24414073e-06, 2.98658353e-06, 1.31550039e-06,\n",
              "       2.84744345e-06, 1.95975389e-06, 2.05139183e-06, 3.61617283e-06,\n",
              "       3.97921995e-06, 3.30484254e-06, 2.70045251e-06, 3.67050658e-06,\n",
              "       4.58372738e-06, 4.43685408e-06, 3.81177822e-06, 3.75496295e-06,\n",
              "       3.37183008e-06, 2.11301142e-06, 4.45426641e-06, 3.28217752e-06,\n",
              "       3.85870459e-06, 2.65002675e-06, 3.15192863e-06, 1.35552641e-06,\n",
              "       2.02232930e-06, 1.73763162e-06, 2.29790566e-06])"
            ]
          },
          "metadata": {
            "tags": []
          },
          "execution_count": 12
        }
      ]
    },
    {
      "cell_type": "code",
      "metadata": {
        "id": "8PkhZc7eC9L7",
        "colab_type": "code",
        "outputId": "b3b1fb69-2586-4276-e4d9-5c7685270405",
        "colab": {
          "base_uri": "https://localhost:8080/",
          "height": 1000
        }
      },
      "source": [
        "HTGrad[8]"
      ],
      "execution_count": 13,
      "outputs": [
        {
          "output_type": "execute_result",
          "data": {
            "text/plain": [
              "array([[7.88657432e-13, 1.25892043e-13, 9.50685416e-14, 1.00886398e-13,\n",
              "        1.17439491e-12, 3.81609722e-12, 3.83198788e-15, 6.51157837e-14,\n",
              "        3.91599936e-13, 6.68583703e-12, 3.26996130e-13, 6.88849122e-13,\n",
              "        6.09097931e-13, 2.67878388e-12, 2.27713925e-13, 6.48521679e-13,\n",
              "        3.80621008e-12, 5.55120344e-13, 3.18036362e-13, 1.95855359e-13,\n",
              "        1.78226688e-11, 1.64976570e-13, 2.24434903e-13, 4.31148575e-13,\n",
              "        7.63139659e-13, 8.88399078e-13, 1.04557751e-14, 2.07508963e-13,\n",
              "        1.58479390e-13, 2.65100216e-13],\n",
              "       [7.88656356e-13, 1.25891872e-13, 9.50684119e-14, 1.00886260e-13,\n",
              "        1.17439331e-12, 3.81609202e-12, 3.83198265e-15, 6.51156949e-14,\n",
              "        3.91599401e-13, 6.68582791e-12, 3.26995684e-13, 6.88848182e-13,\n",
              "        6.09097100e-13, 2.67878022e-12, 2.27713614e-13, 6.48520794e-13,\n",
              "        3.80620488e-12, 5.55119587e-13, 3.18035928e-13, 1.95855092e-13,\n",
              "        1.78226445e-11, 1.64976345e-13, 2.24434597e-13, 4.31147987e-13,\n",
              "        7.63138618e-13, 8.88397866e-13, 1.04557609e-14, 2.07508680e-13,\n",
              "        1.58479174e-13, 2.65099854e-13],\n",
              "       [7.88657078e-13, 1.25891987e-13, 9.50684989e-14, 1.00886353e-13,\n",
              "        1.17439439e-12, 3.81609551e-12, 3.83198616e-15, 6.51157545e-14,\n",
              "        3.91599760e-13, 6.68583403e-12, 3.26995983e-13, 6.88848813e-13,\n",
              "        6.09097657e-13, 2.67878268e-12, 2.27713822e-13, 6.48521388e-13,\n",
              "        3.80620837e-12, 5.55120095e-13, 3.18036219e-13, 1.95855271e-13,\n",
              "        1.78226608e-11, 1.64976496e-13, 2.24434803e-13, 4.31148382e-13,\n",
              "        7.63139316e-13, 8.88398680e-13, 1.04557705e-14, 2.07508870e-13,\n",
              "        1.58479319e-13, 2.65100097e-13],\n",
              "       [7.88656896e-13, 1.25891958e-13, 9.50684770e-14, 1.00886329e-13,\n",
              "        1.17439412e-12, 3.81609463e-12, 3.83198527e-15, 6.51157395e-14,\n",
              "        3.91599670e-13, 6.68583249e-12, 3.26995908e-13, 6.88848654e-13,\n",
              "        6.09097517e-13, 2.67878206e-12, 2.27713770e-13, 6.48521239e-13,\n",
              "        3.80620749e-12, 5.55119967e-13, 3.18036146e-13, 1.95855226e-13,\n",
              "        1.78226567e-11, 1.64976458e-13, 2.24434751e-13, 4.31148283e-13,\n",
              "        7.63139141e-13, 8.88398475e-13, 1.04557680e-14, 2.07508823e-13,\n",
              "        1.58479282e-13, 2.65100036e-13],\n",
              "       [7.88657408e-13, 1.25892040e-13, 9.50685387e-14, 1.00886395e-13,\n",
              "        1.17439488e-12, 3.81609711e-12, 3.83198776e-15, 6.51157818e-14,\n",
              "        3.91599924e-13, 6.68583683e-12, 3.26996120e-13, 6.88849101e-13,\n",
              "        6.09097912e-13, 2.67878380e-12, 2.27713918e-13, 6.48521659e-13,\n",
              "        3.80620996e-12, 5.55120327e-13, 3.18036352e-13, 1.95855353e-13,\n",
              "        1.78226682e-11, 1.64976565e-13, 2.24434896e-13, 4.31148562e-13,\n",
              "        7.63139636e-13, 8.88399051e-13, 1.04557748e-14, 2.07508957e-13,\n",
              "        1.58479385e-13, 2.65100208e-13],\n",
              "       [7.88657428e-13, 1.25892043e-13, 9.50685411e-14, 1.00886397e-13,\n",
              "        1.17439491e-12, 3.81609721e-12, 3.83198786e-15, 6.51157834e-14,\n",
              "        3.91599934e-13, 6.68583700e-12, 3.26996129e-13, 6.88849119e-13,\n",
              "        6.09097928e-13, 2.67878387e-12, 2.27713924e-13, 6.48521676e-13,\n",
              "        3.80621006e-12, 5.55120341e-13, 3.18036360e-13, 1.95855358e-13,\n",
              "        1.78226687e-11, 1.64976570e-13, 2.24434902e-13, 4.31148574e-13,\n",
              "        7.63139655e-13, 8.88399074e-13, 1.04557751e-14, 2.07508963e-13,\n",
              "        1.58479389e-13, 2.65100215e-13],\n",
              "       [7.88657348e-13, 1.25892030e-13, 9.50685315e-14, 1.00886387e-13,\n",
              "        1.17439479e-12, 3.81609682e-12, 3.83198747e-15, 6.51157768e-14,\n",
              "        3.91599894e-13, 6.68583632e-12, 3.26996095e-13, 6.88849049e-13,\n",
              "        6.09097866e-13, 2.67878359e-12, 2.27713900e-13, 6.48521610e-13,\n",
              "        3.80620967e-12, 5.55120285e-13, 3.18036328e-13, 1.95855338e-13,\n",
              "        1.78226669e-11, 1.64976553e-13, 2.24434879e-13, 4.31148530e-13,\n",
              "        7.63139578e-13, 8.88398984e-13, 1.04557740e-14, 2.07508942e-13,\n",
              "        1.58479373e-13, 2.65100188e-13],\n",
              "       [7.88657364e-13, 1.25892033e-13, 9.50685335e-14, 1.00886389e-13,\n",
              "        1.17439481e-12, 3.81609690e-12, 3.83198755e-15, 6.51157782e-14,\n",
              "        3.91599902e-13, 6.68583646e-12, 3.26996102e-13, 6.88849063e-13,\n",
              "        6.09097879e-13, 2.67878365e-12, 2.27713905e-13, 6.48521624e-13,\n",
              "        3.80620975e-12, 5.55120296e-13, 3.18036335e-13, 1.95855342e-13,\n",
              "        1.78226673e-11, 1.64976556e-13, 2.24434884e-13, 4.31148539e-13,\n",
              "        7.63139593e-13, 8.88399002e-13, 1.04557743e-14, 2.07508946e-13,\n",
              "        1.58479376e-13, 2.65100193e-13],\n",
              "       [7.88657037e-13, 1.25891981e-13, 9.50684941e-14, 1.00886347e-13,\n",
              "        1.17439433e-12, 3.81609532e-12, 3.83198596e-15, 6.51157512e-14,\n",
              "        3.91599740e-13, 6.68583369e-12, 3.26995967e-13, 6.88848778e-13,\n",
              "        6.09097626e-13, 2.67878254e-12, 2.27713811e-13, 6.48521355e-13,\n",
              "        3.80620817e-12, 5.55120066e-13, 3.18036203e-13, 1.95855261e-13,\n",
              "        1.78226599e-11, 1.64976488e-13, 2.24434791e-13, 4.31148360e-13,\n",
              "        7.63139277e-13, 8.88398634e-13, 1.04557699e-14, 2.07508860e-13,\n",
              "        1.58479311e-13, 2.65100083e-13],\n",
              "       [7.88657078e-13, 1.25891987e-13, 9.50684989e-14, 1.00886352e-13,\n",
              "        1.17439439e-12, 3.81609551e-12, 3.83198616e-15, 6.51157545e-14,\n",
              "        3.91599760e-13, 6.68583403e-12, 3.26995983e-13, 6.88848813e-13,\n",
              "        6.09097657e-13, 2.67878268e-12, 2.27713822e-13, 6.48521388e-13,\n",
              "        3.80620837e-12, 5.55120095e-13, 3.18036219e-13, 1.95855271e-13,\n",
              "        1.78226608e-11, 1.64976496e-13, 2.24434803e-13, 4.31148382e-13,\n",
              "        7.63139316e-13, 8.88398679e-13, 1.04557705e-14, 2.07508870e-13,\n",
              "        1.58479319e-13, 2.65100097e-13],\n",
              "       [7.88656962e-13, 1.25891969e-13, 9.50684850e-14, 1.00886338e-13,\n",
              "        1.17439421e-12, 3.81609495e-12, 3.83198560e-15, 6.51157450e-14,\n",
              "        3.91599703e-13, 6.68583306e-12, 3.26995935e-13, 6.88848712e-13,\n",
              "        6.09097568e-13, 2.67878228e-12, 2.27713789e-13, 6.48521293e-13,\n",
              "        3.80620781e-12, 5.55120013e-13, 3.18036173e-13, 1.95855242e-13,\n",
              "        1.78226582e-11, 1.64976472e-13, 2.24434770e-13, 4.31148319e-13,\n",
              "        7.63139205e-13, 8.88398550e-13, 1.04557689e-14, 2.07508840e-13,\n",
              "        1.58479296e-13, 2.65100058e-13],\n",
              "       [7.88657346e-13, 1.25892030e-13, 9.50685313e-14, 1.00886387e-13,\n",
              "        1.17439478e-12, 3.81609681e-12, 3.83198746e-15, 6.51157767e-14,\n",
              "        3.91599893e-13, 6.68583631e-12, 3.26996094e-13, 6.88849047e-13,\n",
              "        6.09097864e-13, 2.67878359e-12, 2.27713900e-13, 6.48521609e-13,\n",
              "        3.80620966e-12, 5.55120283e-13, 3.18036327e-13, 1.95855338e-13,\n",
              "        1.78226669e-11, 1.64976552e-13, 2.24434879e-13, 4.31148529e-13,\n",
              "        7.63139576e-13, 8.88398982e-13, 1.04557740e-14, 2.07508941e-13,\n",
              "        1.58479373e-13, 2.65100187e-13],\n",
              "       [7.88657399e-13, 1.25892038e-13, 9.50685376e-14, 1.00886394e-13,\n",
              "        1.17439486e-12, 3.81609707e-12, 3.83198772e-15, 6.51157810e-14,\n",
              "        3.91599919e-13, 6.68583676e-12, 3.26996116e-13, 6.88849093e-13,\n",
              "        6.09097905e-13, 2.67878377e-12, 2.27713915e-13, 6.48521652e-13,\n",
              "        3.80620992e-12, 5.55120321e-13, 3.18036349e-13, 1.95855351e-13,\n",
              "        1.78226680e-11, 1.64976563e-13, 2.24434894e-13, 4.31148558e-13,\n",
              "        7.63139627e-13, 8.88399041e-13, 1.04557747e-14, 2.07508955e-13,\n",
              "        1.58479383e-13, 2.65100205e-13],\n",
              "       [7.88657274e-13, 1.25892018e-13, 9.50685226e-14, 1.00886378e-13,\n",
              "        1.17439468e-12, 3.81609646e-12, 3.83198711e-15, 6.51157708e-14,\n",
              "        3.91599857e-13, 6.68583570e-12, 3.26996065e-13, 6.88848985e-13,\n",
              "        6.09097809e-13, 2.67878334e-12, 2.27713879e-13, 6.48521550e-13,\n",
              "        3.80620932e-12, 5.55120233e-13, 3.18036298e-13, 1.95855320e-13,\n",
              "        1.78226652e-11, 1.64976537e-13, 2.24434858e-13, 4.31148489e-13,\n",
              "        7.63139506e-13, 8.88398901e-13, 1.04557731e-14, 2.07508922e-13,\n",
              "        1.58479358e-13, 2.65100163e-13],\n",
              "       [7.88657422e-13, 1.25892042e-13, 9.50685404e-14, 1.00886397e-13,\n",
              "        1.17439490e-12, 3.81609718e-12, 3.83198783e-15, 6.51157830e-14,\n",
              "        3.91599931e-13, 6.68583695e-12, 3.26996126e-13, 6.88849114e-13,\n",
              "        6.09097923e-13, 2.67878385e-12, 2.27713922e-13, 6.48521671e-13,\n",
              "        3.80621003e-12, 5.55120337e-13, 3.18036358e-13, 1.95855357e-13,\n",
              "        1.78226686e-11, 1.64976568e-13, 2.24434901e-13, 4.31148570e-13,\n",
              "        7.63139649e-13, 8.88399067e-13, 1.04557750e-14, 2.07508961e-13,\n",
              "        1.58479388e-13, 2.65100213e-13],\n",
              "       [7.88656753e-13, 1.25891935e-13, 9.50684598e-14, 1.00886311e-13,\n",
              "        1.17439390e-12, 3.81609394e-12, 3.83198458e-15, 6.51157278e-14,\n",
              "        3.91599599e-13, 6.68583128e-12, 3.26995849e-13, 6.88848530e-13,\n",
              "        6.09097407e-13, 2.67878158e-12, 2.27713729e-13, 6.48521121e-13,\n",
              "        3.80620680e-12, 5.55119866e-13, 3.18036088e-13, 1.95855191e-13,\n",
              "        1.78226535e-11, 1.64976428e-13, 2.24434710e-13, 4.31148205e-13,\n",
              "        7.63139003e-13, 8.88398314e-13, 1.04557662e-14, 2.07508785e-13,\n",
              "        1.58479254e-13, 2.65099988e-13],\n",
              "       [7.88657307e-13, 1.25892024e-13, 9.50685266e-14, 1.00886382e-13,\n",
              "        1.17439473e-12, 3.81609662e-12, 3.83198727e-15, 6.51157735e-14,\n",
              "        3.91599874e-13, 6.68583598e-12, 3.26996079e-13, 6.88849013e-13,\n",
              "        6.09097835e-13, 2.67878346e-12, 2.27713889e-13, 6.48521577e-13,\n",
              "        3.80620948e-12, 5.55120256e-13, 3.18036312e-13, 1.95855328e-13,\n",
              "        1.78226660e-11, 1.64976544e-13, 2.24434868e-13, 4.31148508e-13,\n",
              "        7.63139539e-13, 8.88398938e-13, 1.04557735e-14, 2.07508931e-13,\n",
              "        1.58479365e-13, 2.65100174e-13],\n",
              "       [7.88655061e-13, 1.25891665e-13, 9.50682558e-14, 1.00886094e-13,\n",
              "        1.17439138e-12, 3.81608575e-12, 3.83197636e-15, 6.51155880e-14,\n",
              "        3.91598758e-13, 6.68581693e-12, 3.26995147e-13, 6.88847051e-13,\n",
              "        6.09096099e-13, 2.67877583e-12, 2.27713240e-13, 6.48519729e-13,\n",
              "        3.80619863e-12, 5.55118675e-13, 3.18035406e-13, 1.95854770e-13,\n",
              "        1.78226152e-11, 1.64976074e-13, 2.24434229e-13, 4.31147279e-13,\n",
              "        7.63137364e-13, 8.88396407e-13, 1.04557437e-14, 2.07508340e-13,\n",
              "        1.58478914e-13, 2.65099419e-13],\n",
              "       [7.88656283e-13, 1.25891860e-13, 9.50684032e-14, 1.00886251e-13,\n",
              "        1.17439320e-12, 3.81609167e-12, 3.83198230e-15, 6.51156889e-14,\n",
              "        3.91599365e-13, 6.68582730e-12, 3.26995654e-13, 6.88848119e-13,\n",
              "        6.09097044e-13, 2.67877998e-12, 2.27713593e-13, 6.48520735e-13,\n",
              "        3.80620453e-12, 5.55119535e-13, 3.18035899e-13, 1.95855074e-13,\n",
              "        1.78226428e-11, 1.64976330e-13, 2.24434576e-13, 4.31147948e-13,\n",
              "        7.63138548e-13, 8.88397784e-13, 1.04557599e-14, 2.07508661e-13,\n",
              "        1.58479159e-13, 2.65099830e-13],\n",
              "       [7.88657341e-13, 1.25892029e-13, 9.50685306e-14, 1.00886386e-13,\n",
              "        1.17439478e-12, 3.81609679e-12, 3.83198744e-15, 6.51157763e-14,\n",
              "        3.91599891e-13, 6.68583626e-12, 3.26996092e-13, 6.88849043e-13,\n",
              "        6.09097861e-13, 2.67878357e-12, 2.27713898e-13, 6.48521604e-13,\n",
              "        3.80620964e-12, 5.55120280e-13, 3.18036325e-13, 1.95855336e-13,\n",
              "        1.78226667e-11, 1.64976551e-13, 2.24434877e-13, 4.31148526e-13,\n",
              "        7.63139571e-13, 8.88398976e-13, 1.04557739e-14, 2.07508940e-13,\n",
              "        1.58479372e-13, 2.65100185e-13],\n",
              "       [7.88656703e-13, 1.25891927e-13, 9.50684537e-14, 1.00886305e-13,\n",
              "        1.17439383e-12, 3.81609370e-12, 3.83198434e-15, 6.51157236e-14,\n",
              "        3.91599574e-13, 6.68583085e-12, 3.26995828e-13, 6.88848485e-13,\n",
              "        6.09097368e-13, 2.67878140e-12, 2.27713714e-13, 6.48521080e-13,\n",
              "        3.80620656e-12, 5.55119831e-13, 3.18036068e-13, 1.95855178e-13,\n",
              "        1.78226523e-11, 1.64976418e-13, 2.24434696e-13, 4.31148177e-13,\n",
              "        7.63138953e-13, 8.88398257e-13, 1.04557655e-14, 2.07508772e-13,\n",
              "        1.58479244e-13, 2.65099971e-13],\n",
              "       [7.88657154e-13, 1.25891999e-13, 9.50685081e-14, 1.00886362e-13,\n",
              "        1.17439450e-12, 3.81609588e-12, 3.83198653e-15, 6.51157608e-14,\n",
              "        3.91599798e-13, 6.68583468e-12, 3.26996015e-13, 6.88848879e-13,\n",
              "        6.09097716e-13, 2.67878293e-12, 2.27713844e-13, 6.48521451e-13,\n",
              "        3.80620874e-12, 5.55120148e-13, 3.18036250e-13, 1.95855290e-13,\n",
              "        1.78226625e-11, 1.64976512e-13, 2.24434824e-13, 4.31148424e-13,\n",
              "        7.63139390e-13, 8.88398765e-13, 1.04557715e-14, 2.07508890e-13,\n",
              "        1.58479334e-13, 2.65100122e-13],\n",
              "       [7.88657414e-13, 1.25892041e-13, 9.50685394e-14, 1.00886396e-13,\n",
              "        1.17439489e-12, 3.81609714e-12, 3.83198779e-15, 6.51157823e-14,\n",
              "        3.91599927e-13, 6.68583688e-12, 3.26996123e-13, 6.88849106e-13,\n",
              "        6.09097917e-13, 2.67878382e-12, 2.27713919e-13, 6.48521664e-13,\n",
              "        3.80620999e-12, 5.55120331e-13, 3.18036355e-13, 1.95855355e-13,\n",
              "        1.78226684e-11, 1.64976567e-13, 2.24434898e-13, 4.31148566e-13,\n",
              "        7.63139642e-13, 8.88399058e-13, 1.04557749e-14, 2.07508959e-13,\n",
              "        1.58479386e-13, 2.65100210e-13],\n",
              "       [7.88656722e-13, 1.25891930e-13, 9.50684561e-14, 1.00886307e-13,\n",
              "        1.17439386e-12, 3.81609379e-12, 3.83198443e-15, 6.51157252e-14,\n",
              "        3.91599583e-13, 6.68583102e-12, 3.26995836e-13, 6.88848502e-13,\n",
              "        6.09097383e-13, 2.67878147e-12, 2.27713720e-13, 6.48521096e-13,\n",
              "        3.80620665e-12, 5.55119844e-13, 3.18036076e-13, 1.95855183e-13,\n",
              "        1.78226528e-11, 1.64976422e-13, 2.24434701e-13, 4.31148188e-13,\n",
              "        7.63138972e-13, 8.88398279e-13, 1.04557657e-14, 2.07508777e-13,\n",
              "        1.58479247e-13, 2.65099977e-13],\n",
              "       [7.88657345e-13, 1.25892030e-13, 9.50685311e-14, 1.00886387e-13,\n",
              "        1.17439478e-12, 3.81609681e-12, 3.83198746e-15, 6.51157766e-14,\n",
              "        3.91599893e-13, 6.68583630e-12, 3.26996094e-13, 6.88849046e-13,\n",
              "        6.09097864e-13, 2.67878358e-12, 2.27713900e-13, 6.48521608e-13,\n",
              "        3.80620966e-12, 5.55120283e-13, 3.18036327e-13, 1.95855337e-13,\n",
              "        1.78226668e-11, 1.64976552e-13, 2.24434879e-13, 4.31148528e-13,\n",
              "        7.63139575e-13, 8.88398980e-13, 1.04557740e-14, 2.07508941e-13,\n",
              "        1.58479373e-13, 2.65100187e-13],\n",
              "       [7.88657164e-13, 1.25892001e-13, 9.50685093e-14, 1.00886364e-13,\n",
              "        1.17439451e-12, 3.81609593e-12, 3.83198658e-15, 6.51157616e-14,\n",
              "        3.91599803e-13, 6.68583476e-12, 3.26996019e-13, 6.88848888e-13,\n",
              "        6.09097724e-13, 2.67878297e-12, 2.27713847e-13, 6.48521459e-13,\n",
              "        3.80620878e-12, 5.55120155e-13, 3.18036254e-13, 1.95855292e-13,\n",
              "        1.78226627e-11, 1.64976514e-13, 2.24434827e-13, 4.31148429e-13,\n",
              "        7.63139400e-13, 8.88398777e-13, 1.04557716e-14, 2.07508893e-13,\n",
              "        1.58479336e-13, 2.65100126e-13],\n",
              "       [7.88657401e-13, 1.25892039e-13, 9.50685378e-14, 1.00886394e-13,\n",
              "        1.17439487e-12, 3.81609707e-12, 3.83198773e-15, 6.51157812e-14,\n",
              "        3.91599920e-13, 6.68583677e-12, 3.26996117e-13, 6.88849095e-13,\n",
              "        6.09097907e-13, 2.67878377e-12, 2.27713916e-13, 6.48521654e-13,\n",
              "        3.80620993e-12, 5.55120322e-13, 3.18036349e-13, 1.95855351e-13,\n",
              "        1.78226681e-11, 1.64976564e-13, 2.24434894e-13, 4.31148558e-13,\n",
              "        7.63139629e-13, 8.88399043e-13, 1.04557747e-14, 2.07508955e-13,\n",
              "        1.58479384e-13, 2.65100205e-13],\n",
              "       [7.88657397e-13, 1.25892038e-13, 9.50685374e-14, 1.00886393e-13,\n",
              "        1.17439486e-12, 3.81609706e-12, 3.83198771e-15, 6.51157809e-14,\n",
              "        3.91599918e-13, 6.68583674e-12, 3.26996116e-13, 6.88849092e-13,\n",
              "        6.09097904e-13, 2.67878376e-12, 2.27713915e-13, 6.48521651e-13,\n",
              "        3.80620991e-12, 5.55120320e-13, 3.18036348e-13, 1.95855350e-13,\n",
              "        1.78226680e-11, 1.64976563e-13, 2.24434893e-13, 4.31148557e-13,\n",
              "        7.63139625e-13, 8.88399039e-13, 1.04557747e-14, 2.07508954e-13,\n",
              "        1.58479383e-13, 2.65100204e-13],\n",
              "       [7.88657364e-13, 1.25892033e-13, 9.50685334e-14, 1.00886389e-13,\n",
              "        1.17439481e-12, 3.81609690e-12, 3.83198755e-15, 6.51157782e-14,\n",
              "        3.91599902e-13, 6.68583646e-12, 3.26996102e-13, 6.88849063e-13,\n",
              "        6.09097878e-13, 2.67878365e-12, 2.27713905e-13, 6.48521623e-13,\n",
              "        3.80620975e-12, 5.55120296e-13, 3.18036335e-13, 1.95855342e-13,\n",
              "        1.78226673e-11, 1.64976556e-13, 2.24434884e-13, 4.31148538e-13,\n",
              "        7.63139593e-13, 8.88399002e-13, 1.04557743e-14, 2.07508946e-13,\n",
              "        1.58479376e-13, 2.65100193e-13],\n",
              "       [7.88657105e-13, 1.25891991e-13, 9.50685022e-14, 1.00886356e-13,\n",
              "        1.17439443e-12, 3.81609565e-12, 3.83198629e-15, 6.51157568e-14,\n",
              "        3.91599773e-13, 6.68583427e-12, 3.26995995e-13, 6.88848837e-13,\n",
              "        6.09097678e-13, 2.67878277e-12, 2.27713830e-13, 6.48521411e-13,\n",
              "        3.80620850e-12, 5.55120114e-13, 3.18036230e-13, 1.95855278e-13,\n",
              "        1.78226614e-11, 1.64976502e-13, 2.24434810e-13, 4.31148397e-13,\n",
              "        7.63139343e-13, 8.88398710e-13, 1.04557708e-14, 2.07508878e-13,\n",
              "        1.58479324e-13, 2.65100106e-13],\n",
              "       [7.88656796e-13, 1.25891942e-13, 9.50684650e-14, 1.00886316e-13,\n",
              "        1.17439397e-12, 3.81609415e-12, 3.83198479e-15, 6.51157313e-14,\n",
              "        3.91599620e-13, 6.68583165e-12, 3.26995867e-13, 6.88848567e-13,\n",
              "        6.09097440e-13, 2.67878172e-12, 2.27713741e-13, 6.48521157e-13,\n",
              "        3.80620701e-12, 5.55119896e-13, 3.18036106e-13, 1.95855201e-13,\n",
              "        1.78226544e-11, 1.64976437e-13, 2.24434722e-13, 4.31148228e-13,\n",
              "        7.63139044e-13, 8.88398362e-13, 1.04557667e-14, 2.07508796e-13,\n",
              "        1.58479262e-13, 2.65100002e-13]])"
            ]
          },
          "metadata": {
            "tags": []
          },
          "execution_count": 13
        }
      ]
    },
    {
      "cell_type": "code",
      "metadata": {
        "id": "L7KkdgsdDGAO",
        "colab_type": "code",
        "outputId": "ed2da860-dcc3-4e6e-fcfc-44af527083a5",
        "colab": {
          "base_uri": "https://localhost:8080/",
          "height": 238
        }
      },
      "source": [
        "np.matmul((2*dpred*pred*(1-pred)),ETheta.transpose())"
      ],
      "execution_count": 14,
      "outputs": [
        {
          "output_type": "execute_result",
          "data": {
            "text/plain": [
              "array([[2.81938728e-06, 3.57943245e-06, 2.92362702e-06, ...,\n",
              "        2.22545276e-06, 1.87935192e-06, 1.94541821e-06],\n",
              "       [2.84518273e-06, 1.95898349e-06, 1.52045637e-06, ...,\n",
              "        2.06546722e-06, 1.57815616e-06, 1.89093020e-06],\n",
              "       [2.97364571e-06, 4.06881670e-06, 3.00588084e-06, ...,\n",
              "        2.20118036e-06, 1.89048119e-06, 2.51489420e-06],\n",
              "       ...,\n",
              "       [2.84518273e-06, 1.95898349e-06, 1.52045637e-06, ...,\n",
              "        2.06546722e-06, 1.57815616e-06, 1.89093020e-06],\n",
              "       [2.44484663e-06, 3.53142002e-06, 2.67056850e-06, ...,\n",
              "        1.71464701e-06, 1.57445138e-06, 2.49251432e-06],\n",
              "       [2.97753098e-06, 3.93157249e-06, 3.04211611e-06, ...,\n",
              "        2.26017308e-06, 1.88970553e-06, 2.52351687e-06]])"
            ]
          },
          "metadata": {
            "tags": []
          },
          "execution_count": 14
        }
      ]
    },
    {
      "cell_type": "code",
      "metadata": {
        "id": "Z6Dxf7C_bIVd",
        "colab_type": "code",
        "outputId": "a57f6003-f48e-49f2-92ad-05a5b3b2d55a",
        "colab": {
          "base_uri": "https://localhost:8080/",
          "height": 1000
        }
      },
      "source": [
        "Egrad"
      ],
      "execution_count": 15,
      "outputs": [
        {
          "output_type": "execute_result",
          "data": {
            "text/plain": [
              "array([[2.25319483e-06, 1.65375183e-06, 3.13790937e-07, 5.69872732e-07,\n",
              "        7.09036690e-08, 5.61644603e-07, 1.75995558e-07, 9.14138014e-08,\n",
              "        2.80653412e-07, 5.50326286e-07],\n",
              "       [2.25319436e-06, 1.65375148e-06, 3.13790870e-07, 5.69872611e-07,\n",
              "        7.09036540e-08, 5.61644484e-07, 1.75995521e-07, 9.14137821e-08,\n",
              "        2.80653353e-07, 5.50326170e-07],\n",
              "       [2.25319473e-06, 1.65375175e-06, 3.13790922e-07, 5.69872706e-07,\n",
              "        7.09036658e-08, 5.61644578e-07, 1.75995550e-07, 9.14137972e-08,\n",
              "        2.80653399e-07, 5.50326261e-07],\n",
              "       [2.25319469e-06, 1.65375173e-06, 3.13790917e-07, 5.69872697e-07,\n",
              "        7.09036646e-08, 5.61644569e-07, 1.75995548e-07, 9.14137958e-08,\n",
              "        2.80653395e-07, 5.50326252e-07],\n",
              "       [2.25319478e-06, 1.65375179e-06, 3.13790930e-07, 5.69872719e-07,\n",
              "        7.09036674e-08, 5.61644590e-07, 1.75995554e-07, 9.14137993e-08,\n",
              "        2.80653406e-07, 5.50326274e-07],\n",
              "       [2.25319402e-06, 1.65375123e-06, 3.13790823e-07, 5.69872526e-07,\n",
              "        7.09036433e-08, 5.61644400e-07, 1.75995495e-07, 9.14137683e-08,\n",
              "        2.80653310e-07, 5.50326087e-07],\n",
              "       [2.25319195e-06, 1.65374971e-06, 3.13790536e-07, 5.69872004e-07,\n",
              "        7.09035784e-08, 5.61643886e-07, 1.75995334e-07, 9.14136846e-08,\n",
              "        2.80653053e-07, 5.50325583e-07],\n",
              "       [2.25319483e-06, 1.65375182e-06, 3.13790936e-07, 5.69872730e-07,\n",
              "        7.09036688e-08, 5.61644602e-07, 1.75995558e-07, 9.14138011e-08,\n",
              "        2.80653411e-07, 5.50326285e-07],\n",
              "       [2.25319478e-06, 1.65375179e-06, 3.13790930e-07, 5.69872719e-07,\n",
              "        7.09036674e-08, 5.61644590e-07, 1.75995554e-07, 9.14137993e-08,\n",
              "        2.80653406e-07, 5.50326274e-07],\n",
              "       [2.25319438e-06, 1.65375150e-06, 3.13790874e-07, 5.69872618e-07,\n",
              "        7.09036548e-08, 5.61644491e-07, 1.75995523e-07, 9.14137831e-08,\n",
              "        2.80653356e-07, 5.50326176e-07],\n",
              "       [2.25318749e-06, 1.65374644e-06, 3.13789914e-07, 5.69870875e-07,\n",
              "        7.09034379e-08, 5.61642773e-07, 1.75994985e-07, 9.14135035e-08,\n",
              "        2.80652497e-07, 5.50324493e-07],\n",
              "       [2.25319463e-06, 1.65375168e-06, 3.13790908e-07, 5.69872681e-07,\n",
              "        7.09036626e-08, 5.61644552e-07, 1.75995542e-07, 9.14137931e-08,\n",
              "        2.80653387e-07, 5.50326236e-07],\n",
              "       [2.25319444e-06, 1.65375154e-06, 3.13790882e-07, 5.69872633e-07,\n",
              "        7.09036567e-08, 5.61644506e-07, 1.75995528e-07, 9.14137856e-08,\n",
              "        2.80653363e-07, 5.50326191e-07],\n",
              "       [2.25319442e-06, 1.65375152e-06, 3.13790879e-07, 5.69872627e-07,\n",
              "        7.09036559e-08, 5.61644500e-07, 1.75995526e-07, 9.14137846e-08,\n",
              "        2.80653360e-07, 5.50326185e-07],\n",
              "       [2.25319260e-06, 1.65375019e-06, 3.13790626e-07, 5.69872167e-07,\n",
              "        7.09035987e-08, 5.61644046e-07, 1.75995384e-07, 9.14137107e-08,\n",
              "        2.80653134e-07, 5.50325740e-07],\n",
              "       [2.25319469e-06, 1.65375172e-06, 3.13790917e-07, 5.69872697e-07,\n",
              "        7.09036646e-08, 5.61644568e-07, 1.75995547e-07, 9.14137957e-08,\n",
              "        2.80653395e-07, 5.50326252e-07],\n",
              "       [2.25319451e-06, 1.65375159e-06, 3.13790892e-07, 5.69872651e-07,\n",
              "        7.09036590e-08, 5.61644524e-07, 1.75995534e-07, 9.14137885e-08,\n",
              "        2.80653372e-07, 5.50326208e-07],\n",
              "       [2.25319290e-06, 1.65375041e-06, 3.13790668e-07, 5.69872243e-07,\n",
              "        7.09036082e-08, 5.61644121e-07, 1.75995407e-07, 9.14137230e-08,\n",
              "        2.80653171e-07, 5.50325814e-07],\n",
              "       [2.25319450e-06, 1.65375159e-06, 3.13790891e-07, 5.69872649e-07,\n",
              "        7.09036587e-08, 5.61644521e-07, 1.75995533e-07, 9.14137881e-08,\n",
              "        2.80653371e-07, 5.50326206e-07],\n",
              "       [2.25319464e-06, 1.65375169e-06, 3.13790910e-07, 5.69872684e-07,\n",
              "        7.09036630e-08, 5.61644556e-07, 1.75995543e-07, 9.14137937e-08,\n",
              "        2.80653388e-07, 5.50326240e-07],\n",
              "       [2.25319470e-06, 1.65375173e-06, 3.13790919e-07, 5.69872699e-07,\n",
              "        7.09036649e-08, 5.61644571e-07, 1.75995548e-07, 9.14137961e-08,\n",
              "        2.80653396e-07, 5.50326254e-07],\n",
              "       [2.25317583e-06, 1.65373788e-06, 3.13788290e-07, 5.69867925e-07,\n",
              "        7.09030710e-08, 5.61639866e-07, 1.75994074e-07, 9.14130304e-08,\n",
              "        2.80651045e-07, 5.50321644e-07],\n",
              "       [2.25319475e-06, 1.65375177e-06, 3.13790925e-07, 5.69872711e-07,\n",
              "        7.09036664e-08, 5.61644582e-07, 1.75995552e-07, 9.14137980e-08,\n",
              "        2.80653402e-07, 5.50326266e-07],\n",
              "       [2.25319468e-06, 1.65375171e-06, 3.13790915e-07, 5.69872693e-07,\n",
              "        7.09036642e-08, 5.61644565e-07, 1.75995546e-07, 9.14137952e-08,\n",
              "        2.80653393e-07, 5.50326249e-07],\n",
              "       [2.25319458e-06, 1.65375164e-06, 3.13790902e-07, 5.69872668e-07,\n",
              "        7.09036611e-08, 5.61644541e-07, 1.75995539e-07, 9.14137912e-08,\n",
              "        2.80653381e-07, 5.50326225e-07],\n",
              "       [2.25319418e-06, 1.65375135e-06, 3.13790846e-07, 5.69872568e-07,\n",
              "        7.09036486e-08, 5.61644442e-07, 1.75995508e-07, 9.14137751e-08,\n",
              "        2.80653331e-07, 5.50326128e-07],\n",
              "       [2.25319420e-06, 1.65375136e-06, 3.13790848e-07, 5.69872571e-07,\n",
              "        7.09036490e-08, 5.61644445e-07, 1.75995509e-07, 9.14137756e-08,\n",
              "        2.80653333e-07, 5.50326131e-07],\n",
              "       [2.25319481e-06, 1.65375181e-06, 3.13790934e-07, 5.69872728e-07,\n",
              "        7.09036685e-08, 5.61644599e-07, 1.75995557e-07, 9.14138007e-08,\n",
              "        2.80653410e-07, 5.50326282e-07],\n",
              "       [2.25319460e-06, 1.65375166e-06, 3.13790905e-07, 5.69872674e-07,\n",
              "        7.09036617e-08, 5.61644546e-07, 1.75995540e-07, 9.14137920e-08,\n",
              "        2.80653383e-07, 5.50326230e-07],\n",
              "       [2.25319463e-06, 1.65375168e-06, 3.13790908e-07, 5.69872680e-07,\n",
              "        7.09036625e-08, 5.61644552e-07, 1.75995542e-07, 9.14137931e-08,\n",
              "        2.80653386e-07, 5.50326236e-07],\n",
              "       [2.25319457e-06, 1.65375164e-06, 3.13790901e-07, 5.69872666e-07,\n",
              "        7.09036608e-08, 5.61644538e-07, 1.75995538e-07, 9.14137909e-08,\n",
              "        2.80653380e-07, 5.50326223e-07]])"
            ]
          },
          "metadata": {
            "tags": []
          },
          "execution_count": 15
        }
      ]
    },
    {
      "cell_type": "code",
      "metadata": {
        "id": "7OmfSa8mbhZ_",
        "colab_type": "code",
        "outputId": "4856c044-1343-4e34-9485-132731e892d6",
        "colab": {
          "base_uri": "https://localhost:8080/",
          "height": 238
        }
      },
      "source": [
        "pred"
      ],
      "execution_count": 16,
      "outputs": [
        {
          "output_type": "execute_result",
          "data": {
            "text/plain": [
              "array([[0.99999875, 0.99999906, 0.99999983, ..., 0.99999995, 0.99999985,\n",
              "        0.99999969],\n",
              "       [0.99999875, 0.99999906, 0.99999983, ..., 0.99999995, 0.99999985,\n",
              "        0.99999969],\n",
              "       [0.99999875, 0.99999906, 0.99999983, ..., 0.99999995, 0.99999985,\n",
              "        0.99999969],\n",
              "       ...,\n",
              "       [0.99999875, 0.99999906, 0.99999983, ..., 0.99999995, 0.99999985,\n",
              "        0.99999969],\n",
              "       [0.99999875, 0.99999906, 0.99999983, ..., 0.99999995, 0.99999985,\n",
              "        0.99999969],\n",
              "       [0.99999875, 0.99999906, 0.99999983, ..., 0.99999995, 0.99999985,\n",
              "        0.99999969]])"
            ]
          },
          "metadata": {
            "tags": []
          },
          "execution_count": 16
        }
      ]
    },
    {
      "cell_type": "code",
      "metadata": {
        "id": "n4_EmyRtblr7",
        "colab_type": "code",
        "outputId": "9330b04f-1d98-4916-d7fd-78ae70210161",
        "colab": {
          "base_uri": "https://localhost:8080/",
          "height": 1000
        }
      },
      "source": [
        "ETheta"
      ],
      "execution_count": 17,
      "outputs": [
        {
          "output_type": "execute_result",
          "data": {
            "text/plain": [
              "array([[0.08168989, 0.53920612, 0.7692845 , 0.96158923, 0.95140952,\n",
              "        0.37123984, 0.36800624, 0.87641739, 0.35711438, 0.63350045],\n",
              "       [0.8671479 , 0.04979494, 0.21734035, 0.94110608, 0.68043344,\n",
              "        0.87832541, 0.98401017, 0.95713141, 0.70029262, 0.15722131],\n",
              "       [0.6131012 , 0.24952396, 0.12935633, 0.60435576, 0.56054644,\n",
              "        0.204771  , 0.04206999, 0.63363846, 0.13415114, 0.56063054],\n",
              "       [0.19086326, 0.13314766, 0.45458285, 0.09223343, 0.34534348,\n",
              "        0.01318753, 0.65723233, 0.30558566, 0.00239756, 0.94601005],\n",
              "       [0.66413915, 0.72568608, 0.80630718, 0.51142516, 0.55596599,\n",
              "        0.78447821, 0.39732955, 0.77279813, 0.91874334, 0.43462247],\n",
              "       [0.23124578, 0.87888013, 0.86271372, 0.19011686, 0.11619636,\n",
              "        0.49841904, 0.9240326 , 0.79406556, 0.80115197, 0.25870251],\n",
              "       [0.31322919, 0.14449758, 0.87429496, 0.93513431, 0.8961277 ,\n",
              "        0.67728317, 0.79104051, 0.59727062, 0.75132801, 0.70139709],\n",
              "       [0.16182179, 0.17257949, 0.50633354, 0.10173066, 0.63553204,\n",
              "        0.18819749, 0.64125168, 0.57943259, 0.00111084, 0.23937491],\n",
              "       [0.40240159, 0.76293564, 0.03328356, 0.33431578, 0.82348498,\n",
              "        0.13996847, 0.09365018, 0.91498009, 0.18347223, 0.34430287],\n",
              "       [0.0493664 , 0.04773161, 0.34188179, 0.70724338, 0.87913868,\n",
              "        0.74091004, 0.4753703 , 0.58188884, 0.65966082, 0.83372779],\n",
              "       [0.13970895, 0.377961  , 0.75021326, 0.11718162, 0.58065022,\n",
              "        0.39202066, 0.92182399, 0.33686364, 0.88885657, 0.19175685],\n",
              "       [0.49919388, 0.84197057, 0.54979976, 0.49939789, 0.29244659,\n",
              "        0.5584445 , 0.38948404, 0.51206554, 0.44106463, 0.12419626],\n",
              "       [0.69054287, 0.21571691, 0.98900132, 0.72252199, 0.49978046,\n",
              "        0.79980384, 0.85357601, 0.04414478, 0.98328786, 0.78064221],\n",
              "       [0.6024225 , 0.27490095, 0.55167927, 0.26584545, 0.08249446,\n",
              "        0.59030218, 0.78908997, 0.40180829, 0.9245187 , 0.71917805],\n",
              "       [0.62551771, 0.31186189, 0.11060429, 0.34621387, 0.847413  ,\n",
              "        0.15950097, 0.61739462, 0.37089748, 0.3618046 , 0.27170876],\n",
              "       [0.35237878, 0.61935121, 0.62541357, 0.9730843 , 0.61597036,\n",
              "        0.17794016, 0.54316183, 0.97941356, 0.94943237, 0.91999949],\n",
              "       [0.99257164, 0.48146038, 0.92109374, 0.94695442, 0.17285036,\n",
              "        0.36812792, 0.26077377, 0.25301637, 0.37213145, 0.59948392],\n",
              "       [0.87135048, 0.64795098, 0.78616292, 0.45275609, 0.40025149,\n",
              "        0.63296607, 0.89212544, 0.51645437, 0.63700773, 0.23696045],\n",
              "       [0.62614791, 0.34632015, 0.6030381 , 0.79338516, 0.78030253,\n",
              "        0.97450209, 0.69594667, 0.84888426, 0.35374126, 0.51761625],\n",
              "       [0.33771195, 0.94001731, 0.67060104, 0.3489592 , 0.27908954,\n",
              "        0.66243656, 0.19144231, 0.51875874, 0.35201595, 0.8330391 ],\n",
              "       [0.47092572, 0.56495753, 0.27495214, 0.06878675, 0.56622942,\n",
              "        0.72761505, 0.68332475, 0.56502745, 0.63664135, 0.8205625 ],\n",
              "       [0.19205449, 0.44146973, 0.00754891, 0.35443509, 0.63762296,\n",
              "        0.10405463, 0.83930317, 0.9607304 , 0.69771275, 0.38313004],\n",
              "       [0.90743178, 0.86465181, 0.67889281, 0.1392333 , 0.38261465,\n",
              "        0.0228234 , 0.8858757 , 0.21776694, 0.16704974, 0.77174585],\n",
              "       [0.72039042, 0.10739932, 0.85314366, 0.52855807, 0.05451632,\n",
              "        0.66888178, 0.1232944 , 0.40123929, 0.12660133, 0.79775709],\n",
              "       [0.78847942, 0.26461845, 0.397663  , 0.95331007, 0.94884572,\n",
              "        0.46081663, 0.78699751, 0.15429887, 0.37216152, 0.71466837],\n",
              "       [0.33446866, 0.38727664, 0.33685801, 0.14957528, 0.27422039,\n",
              "        0.93761602, 0.22838321, 0.52468113, 0.64003887, 0.45641018],\n",
              "       [0.33715896, 0.88395211, 0.12754104, 0.31081922, 0.7962462 ,\n",
              "        0.52556199, 0.06561756, 0.88338578, 0.83233725, 0.06492615],\n",
              "       [0.04106981, 0.20985664, 0.3852603 , 0.07111855, 0.49248968,\n",
              "        0.58661982, 0.57651364, 0.21286748, 0.37609767, 0.29738622],\n",
              "       [0.0794899 , 0.64373829, 0.47259548, 0.87404362, 0.79060018,\n",
              "        0.06201669, 0.01873921, 0.28737396, 0.01536316, 0.0136126 ],\n",
              "       [0.14408386, 0.38857915, 0.26713463, 0.57810744, 0.59577122,\n",
              "        0.09429682, 0.24696243, 0.36069859, 0.44104054, 0.11208934],\n",
              "       [0.2662412 , 0.36437452, 0.20887512, 0.09987255, 0.509588  ,\n",
              "        0.98592684, 0.16343365, 0.41301592, 0.60996563, 0.26420422]])"
            ]
          },
          "metadata": {
            "tags": []
          },
          "execution_count": 17
        }
      ]
    }
  ]
}