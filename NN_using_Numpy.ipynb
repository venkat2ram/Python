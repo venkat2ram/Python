{
  "nbformat": 4,
  "nbformat_minor": 0,
  "metadata": {
    "colab": {
      "name": "NN_using_Numpy.ipynb",
      "provenance": [],
      "machine_shape": "hm",
      "include_colab_link": true
    },
    "kernelspec": {
      "name": "python3",
      "display_name": "Python 3"
    }
  },
  "cells": [
    {
      "cell_type": "markdown",
      "metadata": {
        "id": "view-in-github",
        "colab_type": "text"
      },
      "source": [
        "<a href=\"https://colab.research.google.com/github/venkat2ram/Python/blob/master/NN_using_Numpy.ipynb\" target=\"_parent\"><img src=\"https://colab.research.google.com/assets/colab-badge.svg\" alt=\"Open In Colab\"/></a>"
      ]
    },
    {
      "cell_type": "code",
      "metadata": {
        "id": "Hv3PPGQtm5t1",
        "colab_type": "code",
        "colab": {}
      },
      "source": [
        "from sklearn.datasets import fetch_openml\n",
        "\n",
        "Data=fetch_openml('mnist_784')"
      ],
      "execution_count": 0,
      "outputs": []
    },
    {
      "cell_type": "code",
      "metadata": {
        "id": "JOJfcO_UnJma",
        "colab_type": "code",
        "colab": {}
      },
      "source": [
        "X,y_actual=Data[\"data\"][:1000]/10000,Data[\"target\"][:1000]"
      ],
      "execution_count": 0,
      "outputs": []
    },
    {
      "cell_type": "code",
      "metadata": {
        "id": "NAEZlwI8nOzw",
        "colab_type": "code",
        "colab": {}
      },
      "source": [
        "import numpy as np\n",
        "import matplotlib \n",
        "import matplotlib.pyplot as plt\n",
        "\n",
        "def show_imag(X,y_actual,position):\n",
        "  img=X[position]\n",
        "  imag=img.reshape(int(np.sqrt(img.size)),int(np.sqrt(img.size)))\n",
        "  plt.imshow(imag,cmap = matplotlib.cm.binary, interpolation=\"nearest\")\n",
        "  plt.show()\n",
        "  print(y_actual[position]) "
      ],
      "execution_count": 0,
      "outputs": []
    },
    {
      "cell_type": "code",
      "metadata": {
        "id": "xG1GujVSnPwt",
        "colab_type": "code",
        "outputId": "029942dc-4746-4051-ff1c-b8a847ea8105",
        "colab": {
          "base_uri": "https://localhost:8080/",
          "height": 282
        }
      },
      "source": [
        "show_imag(X,y_actual,400)"
      ],
      "execution_count": 4,
      "outputs": [
        {
          "output_type": "display_data",
          "data": {
            "image/png": "[encoded data removed]",
            "text/plain": [
              "<Figure size 432x288 with 1 Axes>"
            ]
          },
          "metadata": {
            "tags": []
          }
        },
        {
          "output_type": "stream",
          "text": [
            "2\n"
          ],
          "name": "stdout"
        }
      ]
    },
    {
      "cell_type": "code",
      "metadata": {
        "id": "NPH1fvVxnWaL",
        "colab_type": "code",
        "colab": {}
      },
      "source": [
        "def convert_binary(y_actual):\n",
        "  y1=np.zeros((len(y_actual),10))\n",
        "  for i in range(len(y_actual)):\n",
        "    y1[i][int(y_actual[i])]=1\n",
        "    \n",
        "    \n",
        "  return y1"
      ],
      "execution_count": 0,
      "outputs": []
    },
    {
      "cell_type": "code",
      "metadata": {
        "id": "87w4EY66xDpH",
        "colab_type": "code",
        "colab": {}
      },
      "source": [
        "NumHlayers=10\n",
        "NumHunits=30"
      ],
      "execution_count": 0,
      "outputs": []
    },
    {
      "cell_type": "code",
      "metadata": {
        "id": "xypaqaTDxITZ",
        "colab_type": "code",
        "outputId": "1fae72e6-8457-443b-d199-ab88d7e59cbe",
        "colab": {
          "base_uri": "https://localhost:8080/",
          "height": 51
        }
      },
      "source": [
        "y=convert_binary(y_actual)\n",
        "m,n=np.shape(X)\n",
        "p,s=np.shape(y)\n",
        "X_with_bias=np.c_[np.ones((m,1)),X]\n",
        "hidden=np.ones((NumHlayers,m,NumHunits+1))\n",
        "z=np.ones((NumHlayers,m,NumHunits))\n",
        "a=np.ones((NumHlayers,m,NumHunits))\n",
        "d=np.ones((NumHlayers,m,NumHunits+1))\n",
        "ITheta=np.random.rand(n+1,NumHunits)\n",
        "#Igrad=np.zeros((n+1,NumHunits))\n",
        "HTheta=np.random.rand(NumHlayers-1,NumHunits+1,NumHunits)\n",
        "HTGrad=np.random.rand(NumHlayers-1,NumHunits+1,NumHunits)\n",
        "HGrad=np.zeros((NumHlayers,NumHunits+1))\n",
        "ETheta=np.random.rand(NumHunits+1,s)\n",
        "#EGrad=np.zeros((NumHunits+1,s))\n",
        "\n",
        "z[0]=np.matmul(X_with_bias,ITheta)\n",
        "a[0]=1/(1+np.exp(-1*z[0]))\n",
        "hidden[0]=np.c_[np.ones((m,1)),a[0]]\n",
        "for i in range(NumHlayers-1):\n",
        "  z[i+1]=np.matmul(hidden[i],HTheta[i])\n",
        "  a[i+1]=1/(1+np.exp(-1*z[i+1]))\n",
        "  hidden[i+1]=np.c_[np.ones((m,1)),a[i+1]]\n",
        "pred=1/(1+np.exp(-1*np.matmul(hidden[i+1],ETheta)))\n",
        "print(pred[999],y[999])\n",
        "cost=sum(((pred-y)**2).transpose()).reshape(-1,1)\n",
        "dpred=pred-y\n",
        "#Egrad_init=np.zeros((m,NumHunits+1,s))\n",
        "Egrad=np.matmul((hidden[NumHlayers-1].transpose()),(2*dpred)*(pred*(1-pred)))/1000\n",
        "HGrad[NumHlayers-1]=sum(np.matmul((2*dpred*pred*(1-pred)),ETheta.transpose())).reshape(1,-1)/1000\n",
        "for j in range(NumHlayers-1):\n",
        "  k=NumHlayers-j-2\n",
        "  HTGrad[k]=np.matmul((sum(hidden[k]).reshape(1,-1)/1000).transpose(),((((sum(a[9])/1000).reshape(1,-1))*(1-((sum(a[9])/1000).reshape(1,-1))))*(HGrad[9,1:31].reshape(1,-1))))\n",
        "\n",
        "  \n",
        "  \n",
        "\n"
      ],
      "execution_count": 45,
      "outputs": [
        {
          "output_type": "stream",
          "text": [
            "[0.99997807 0.99999991 0.99999995 0.99999999 0.99999962 0.9999998\n",
            " 0.99999982 0.99999934 0.99999991 0.99999999] [0. 0. 0. 0. 0. 0. 1. 0. 0. 0.]\n"
          ],
          "name": "stdout"
        }
      ]
    },
    {
      "cell_type": "code",
      "metadata": {
        "id": "6XhtY-25D511",
        "colab_type": "code",
        "outputId": "4bd84737-3329-4100-9925-afe4e53eb21f",
        "colab": {
          "base_uri": "https://localhost:8080/",
          "height": 34
        }
      },
      "source": [
        "((((sum(a[9])/1000).reshape(1,-1))*(1-((sum(a[9])/1000).reshape(1,-1))))*(HGrad[9,1:31].reshape(1,-1))).shape\n"
      ],
      "execution_count": 44,
      "outputs": [
        {
          "output_type": "execute_result",
          "data": {
            "text/plain": [
              "(1, 30)"
            ]
          },
          "metadata": {
            "tags": []
          },
          "execution_count": 44
        }
      ]
    },
    {
      "cell_type": "code",
      "metadata": {
        "id": "kRr0eH4W9783",
        "colab_type": "code",
        "colab": {
          "base_uri": "https://localhost:8080/",
          "height": 34
        },
        "outputId": "15f12656-affa-4664-ba04-6a8b36805086"
      },
      "source": [
        "(sum(hidden[8]).reshape(1,-1)/1000).shape"
      ],
      "execution_count": 33,
      "outputs": [
        {
          "output_type": "execute_result",
          "data": {
            "text/plain": [
              "(1, 31)"
            ]
          },
          "metadata": {
            "tags": []
          },
          "execution_count": 33
        }
      ]
    },
    {
      "cell_type": "code",
      "metadata": {
        "id": "NB0yPDEE97XY",
        "colab_type": "code",
        "colab": {
          "base_uri": "https://localhost:8080/",
          "height": 153
        },
        "outputId": "a0eb089c-bccf-4b26-d8a6-4d0b96e12077"
      },
      "source": [
        "(HGrad[9,1:31].reshape(1,-1))"
      ],
      "execution_count": 41,
      "outputs": [
        {
          "output_type": "execute_result",
          "data": {
            "text/plain": [
              "array([[3.52195882e-06, 2.63110338e-06, 3.26686237e-06, 4.41339409e-06,\n",
              "        3.65724624e-06, 3.04367649e-06, 7.16949572e-06, 4.64944402e-06,\n",
              "        5.70373588e-06, 4.35193094e-06, 3.73119573e-06, 5.92687141e-06,\n",
              "        3.54048909e-06, 6.41665544e-06, 3.14334260e-06, 3.89254041e-06,\n",
              "        4.19360818e-06, 5.45532293e-06, 7.59393187e-06, 7.81975884e-06,\n",
              "        4.21373750e-06, 5.24977664e-06, 2.90466137e-06, 3.78457509e-06,\n",
              "        5.89432150e-06, 3.83836710e-06, 3.52177005e-06, 3.75456488e-06,\n",
              "        3.32385155e-06, 4.34721926e-06]])"
            ]
          },
          "metadata": {
            "tags": []
          },
          "execution_count": 41
        }
      ]
    },
    {
      "cell_type": "code",
      "metadata": {
        "id": "LZnMurwQCaNG",
        "colab_type": "code",
        "colab": {
          "base_uri": "https://localhost:8080/",
          "height": 153
        },
        "outputId": "5cbf9a3b-88e6-4687-cd33-8eb3bebd3f14"
      },
      "source": [
        "HGrad[9]"
      ],
      "execution_count": 40,
      "outputs": [
        {
          "output_type": "execute_result",
          "data": {
            "text/plain": [
              "array([3.63259926e-06, 3.52195882e-06, 2.63110338e-06, 3.26686237e-06,\n",
              "       4.41339409e-06, 3.65724624e-06, 3.04367649e-06, 7.16949572e-06,\n",
              "       4.64944402e-06, 5.70373588e-06, 4.35193094e-06, 3.73119573e-06,\n",
              "       5.92687141e-06, 3.54048909e-06, 6.41665544e-06, 3.14334260e-06,\n",
              "       3.89254041e-06, 4.19360818e-06, 5.45532293e-06, 7.59393187e-06,\n",
              "       7.81975884e-06, 4.21373750e-06, 5.24977664e-06, 2.90466137e-06,\n",
              "       3.78457509e-06, 5.89432150e-06, 3.83836710e-06, 3.52177005e-06,\n",
              "       3.75456488e-06, 3.32385155e-06, 4.34721926e-06])"
            ]
          },
          "metadata": {
            "tags": []
          },
          "execution_count": 40
        }
      ]
    },
    {
      "cell_type": "code",
      "metadata": {
        "id": "8PkhZc7eC9L7",
        "colab_type": "code",
        "colab": {
          "base_uri": "https://localhost:8080/",
          "height": 1000
        },
        "outputId": "9889c976-d86d-4742-bf7e-252de5dba56e"
      },
      "source": [
        "HTGrad[8]"
      ],
      "execution_count": 46,
      "outputs": [
        {
          "output_type": "execute_result",
          "data": {
            "text/plain": [
              "array([[1.26864235e-11, 2.08796641e-12, 4.10844678e-12, 7.58636627e-12,\n",
              "        1.07639053e-10, 3.58968123e-11, 9.49187314e-12, 4.39876180e-12,\n",
              "        2.28099565e-12, 9.90916947e-11, 1.18656797e-11, 4.03046844e-12,\n",
              "        4.11542785e-12, 2.26223560e-12, 4.24259625e-11, 1.78626961e-11,\n",
              "        1.10157839e-12, 6.58956666e-13, 1.41994168e-12, 1.31464577e-11,\n",
              "        2.43875932e-12, 7.01672961e-12, 3.17352334e-11, 2.25472312e-13,\n",
              "        2.68190567e-13, 9.57508168e-12, 1.90158697e-12, 3.41366308e-13,\n",
              "        5.89394136e-13, 1.11460984e-11],\n",
              "       [1.26864221e-11, 2.08796618e-12, 4.10844633e-12, 7.58636544e-12,\n",
              "        1.07639041e-10, 3.58968084e-11, 9.49187211e-12, 4.39876133e-12,\n",
              "        2.28099540e-12, 9.90916839e-11, 1.18656784e-11, 4.03046800e-12,\n",
              "        4.11542740e-12, 2.26223536e-12, 4.24259579e-11, 1.78626942e-11,\n",
              "        1.10157827e-12, 6.58956594e-13, 1.41994153e-12, 1.31464563e-11,\n",
              "        2.43875906e-12, 7.01672885e-12, 3.17352299e-11, 2.25472287e-13,\n",
              "        2.68190538e-13, 9.57508064e-12, 1.90158676e-12, 3.41366270e-13,\n",
              "        5.89394072e-13, 1.11460971e-11],\n",
              "       [1.26864225e-11, 2.08796624e-12, 4.10844646e-12, 7.58636568e-12,\n",
              "        1.07639044e-10, 3.58968095e-11, 9.49187241e-12, 4.39876146e-12,\n",
              "        2.28099547e-12, 9.90916870e-11, 1.18656787e-11, 4.03046813e-12,\n",
              "        4.11542753e-12, 2.26223543e-12, 4.24259592e-11, 1.78626947e-11,\n",
              "        1.10157831e-12, 6.58956615e-13, 1.41994157e-12, 1.31464567e-11,\n",
              "        2.43875913e-12, 7.01672907e-12, 3.17352309e-11, 2.25472294e-13,\n",
              "        2.68190546e-13, 9.57508094e-12, 1.90158682e-12, 3.41366281e-13,\n",
              "        5.89394091e-13, 1.11460975e-11],\n",
              "       [1.26864202e-11, 2.08796587e-12, 4.10844572e-12, 7.58636431e-12,\n",
              "        1.07639025e-10, 3.58968030e-11, 9.49187070e-12, 4.39876067e-12,\n",
              "        2.28099506e-12, 9.90916692e-11, 1.18656766e-11, 4.03046740e-12,\n",
              "        4.11542679e-12, 2.26223502e-12, 4.24259516e-11, 1.78626915e-11,\n",
              "        1.10157811e-12, 6.58956496e-13, 1.41994132e-12, 1.31464543e-11,\n",
              "        2.43875869e-12, 7.01672780e-12, 3.17352252e-11, 2.25472254e-13,\n",
              "        2.68190498e-13, 9.57507921e-12, 1.90158648e-12, 3.41366220e-13,\n",
              "        5.89393984e-13, 1.11460955e-11],\n",
              "       [1.26864233e-11, 2.08796638e-12, 4.10844673e-12, 7.58636617e-12,\n",
              "        1.07639051e-10, 3.58968118e-11, 9.49187302e-12, 4.39876175e-12,\n",
              "        2.28099562e-12, 9.90916934e-11, 1.18656795e-11, 4.03046839e-12,\n",
              "        4.11542780e-12, 2.26223557e-12, 4.24259619e-11, 1.78626959e-11,\n",
              "        1.10157838e-12, 6.58956657e-13, 1.41994166e-12, 1.31464576e-11,\n",
              "        2.43875929e-12, 7.01672952e-12, 3.17352330e-11, 2.25472309e-13,\n",
              "        2.68190564e-13, 9.57508156e-12, 1.90158694e-12, 3.41366303e-13,\n",
              "        5.89394129e-13, 1.11460982e-11],\n",
              "       [1.26864208e-11, 2.08796597e-12, 4.10844593e-12, 7.58636469e-12,\n",
              "        1.07639030e-10, 3.58968048e-11, 9.49187117e-12, 4.39876089e-12,\n",
              "        2.28099518e-12, 9.90916741e-11, 1.18656772e-11, 4.03046760e-12,\n",
              "        4.11542699e-12, 2.26223513e-12, 4.24259537e-11, 1.78626924e-11,\n",
              "        1.10157816e-12, 6.58956529e-13, 1.41994139e-12, 1.31464550e-11,\n",
              "        2.43875882e-12, 7.01672815e-12, 3.17352268e-11, 2.25472265e-13,\n",
              "        2.68190511e-13, 9.57507969e-12, 1.90158657e-12, 3.41366237e-13,\n",
              "        5.89394014e-13, 1.11460960e-11],\n",
              "       [1.26864195e-11, 2.08796575e-12, 4.10844549e-12, 7.58636388e-12,\n",
              "        1.07639019e-10, 3.58968009e-11, 9.49187015e-12, 4.39876042e-12,\n",
              "        2.28099493e-12, 9.90916635e-11, 1.18656759e-11, 4.03046717e-12,\n",
              "        4.11542655e-12, 2.26223489e-12, 4.24259491e-11, 1.78626905e-11,\n",
              "        1.10157805e-12, 6.58956458e-13, 1.41994123e-12, 1.31464536e-11,\n",
              "        2.43875855e-12, 7.01672740e-12, 3.17352234e-11, 2.25472241e-13,\n",
              "        2.68190482e-13, 9.57507866e-12, 1.90158637e-12, 3.41366200e-13,\n",
              "        5.89393951e-13, 1.11460948e-11],\n",
              "       [1.26864196e-11, 2.08796577e-12, 4.10844552e-12, 7.58636395e-12,\n",
              "        1.07639020e-10, 3.58968013e-11, 9.49187024e-12, 4.39876046e-12,\n",
              "        2.28099495e-12, 9.90916644e-11, 1.18656760e-11, 4.03046721e-12,\n",
              "        4.11542659e-12, 2.26223491e-12, 4.24259495e-11, 1.78626907e-11,\n",
              "        1.10157806e-12, 6.58956464e-13, 1.41994125e-12, 1.31464537e-11,\n",
              "        2.43875858e-12, 7.01672747e-12, 3.17352237e-11, 2.25472243e-13,\n",
              "        2.68190485e-13, 9.57507875e-12, 1.90158639e-12, 3.41366203e-13,\n",
              "        5.89393956e-13, 1.11460950e-11],\n",
              "       [1.26864224e-11, 2.08796623e-12, 4.10844645e-12, 7.58636565e-12,\n",
              "        1.07639044e-10, 3.58968093e-11, 9.49187237e-12, 4.39876144e-12,\n",
              "        2.28099546e-12, 9.90916866e-11, 1.18656787e-11, 4.03046811e-12,\n",
              "        4.11542751e-12, 2.26223542e-12, 4.24259590e-11, 1.78626947e-11,\n",
              "        1.10157830e-12, 6.58956612e-13, 1.41994157e-12, 1.31464567e-11,\n",
              "        2.43875912e-12, 7.01672904e-12, 3.17352308e-11, 2.25472293e-13,\n",
              "        2.68190545e-13, 9.57508090e-12, 1.90158681e-12, 3.41366280e-13,\n",
              "        5.89394088e-13, 1.11460975e-11],\n",
              "       [1.26864232e-11, 2.08796636e-12, 4.10844669e-12, 7.58636610e-12,\n",
              "        1.07639050e-10, 3.58968115e-11, 9.49187293e-12, 4.39876171e-12,\n",
              "        2.28099560e-12, 9.90916925e-11, 1.18656794e-11, 4.03046835e-12,\n",
              "        4.11542776e-12, 2.26223555e-12, 4.24259616e-11, 1.78626957e-11,\n",
              "        1.10157837e-12, 6.58956651e-13, 1.41994165e-12, 1.31464574e-11,\n",
              "        2.43875927e-12, 7.01672946e-12, 3.17352327e-11, 2.25472307e-13,\n",
              "        2.68190561e-13, 9.57508147e-12, 1.90158693e-12, 3.41366300e-13,\n",
              "        5.89394123e-13, 1.11460981e-11],\n",
              "       [1.26862889e-11, 2.08794425e-12, 4.10840319e-12, 7.58628578e-12,\n",
              "        1.07637911e-10, 3.58964314e-11, 9.49177244e-12, 4.39871513e-12,\n",
              "        2.28097145e-12, 9.90906434e-11, 1.18655538e-11, 4.03042568e-12,\n",
              "        4.11538419e-12, 2.26221160e-12, 4.24255124e-11, 1.78625066e-11,\n",
              "        1.10156671e-12, 6.58949674e-13, 1.41992662e-12, 1.31463183e-11,\n",
              "        2.43873345e-12, 7.01665517e-12, 3.17348967e-11, 2.25469920e-13,\n",
              "        2.68187722e-13, 9.57498009e-12, 1.90156679e-12, 3.41362686e-13,\n",
              "        5.89387883e-13, 1.11459801e-11],\n",
              "       [1.26864220e-11, 2.08796617e-12, 4.10844631e-12, 7.58636540e-12,\n",
              "        1.07639040e-10, 3.58968081e-11, 9.49187205e-12, 4.39876130e-12,\n",
              "        2.28099539e-12, 9.90916833e-11, 1.18656783e-11, 4.03046798e-12,\n",
              "        4.11542738e-12, 2.26223534e-12, 4.24259576e-11, 1.78626941e-11,\n",
              "        1.10157827e-12, 6.58956590e-13, 1.41994152e-12, 1.31464562e-11,\n",
              "        2.43875904e-12, 7.01672881e-12, 3.17352297e-11, 2.25472286e-13,\n",
              "        2.68190536e-13, 9.57508058e-12, 1.90158675e-12, 3.41366268e-13,\n",
              "        5.89394069e-13, 1.11460971e-11],\n",
              "       [1.26863335e-11, 2.08795159e-12, 4.10841763e-12, 7.58631245e-12,\n",
              "        1.07638289e-10, 3.58965576e-11, 9.49180580e-12, 4.39873060e-12,\n",
              "        2.28097947e-12, 9.90909917e-11, 1.18655955e-11, 4.03043985e-12,\n",
              "        4.11539865e-12, 2.26221955e-12, 4.24256615e-11, 1.78625694e-11,\n",
              "        1.10157058e-12, 6.58951991e-13, 1.41993161e-12, 1.31463645e-11,\n",
              "        2.43874202e-12, 7.01667983e-12, 3.17350082e-11, 2.25470712e-13,\n",
              "        2.68188664e-13, 9.57501375e-12, 1.90157348e-12, 3.41363886e-13,\n",
              "        5.89389955e-13, 1.11460193e-11],\n",
              "       [1.26864169e-11, 2.08796532e-12, 4.10844465e-12, 7.58636234e-12,\n",
              "        1.07638997e-10, 3.58967937e-11, 9.49186823e-12, 4.39875953e-12,\n",
              "        2.28099447e-12, 9.90916434e-11, 1.18656735e-11, 4.03046635e-12,\n",
              "        4.11542572e-12, 2.26223443e-12, 4.24259405e-11, 1.78626869e-11,\n",
              "        1.10157782e-12, 6.58956325e-13, 1.41994095e-12, 1.31464509e-11,\n",
              "        2.43875806e-12, 7.01672598e-12, 3.17352170e-11, 2.25472195e-13,\n",
              "        2.68190428e-13, 9.57507672e-12, 1.90158598e-12, 3.41366131e-13,\n",
              "        5.89393831e-13, 1.11460926e-11],\n",
              "       [1.26863866e-11, 2.08796034e-12, 4.10843485e-12, 7.58634424e-12,\n",
              "        1.07638740e-10, 3.58967080e-11, 9.49184558e-12, 4.39874903e-12,\n",
              "        2.28098903e-12, 9.90914070e-11, 1.18656452e-11, 4.03045674e-12,\n",
              "        4.11541590e-12, 2.26222903e-12, 4.24258393e-11, 1.78626443e-11,\n",
              "        1.10157520e-12, 6.58954753e-13, 1.41993756e-12, 1.31464196e-11,\n",
              "        2.43875224e-12, 7.01670924e-12, 3.17351413e-11, 2.25471657e-13,\n",
              "        2.68189788e-13, 9.57505388e-12, 1.90158145e-12, 3.41365316e-13,\n",
              "        5.89392425e-13, 1.11460660e-11],\n",
              "       [1.26864218e-11, 2.08796613e-12, 4.10844625e-12, 7.58636528e-12,\n",
              "        1.07639039e-10, 3.58968076e-11, 9.49187190e-12, 4.39876123e-12,\n",
              "        2.28099535e-12, 9.90916818e-11, 1.18656781e-11, 4.03046791e-12,\n",
              "        4.11542731e-12, 2.26223531e-12, 4.24259570e-11, 1.78626938e-11,\n",
              "        1.10157825e-12, 6.58956580e-13, 1.41994150e-12, 1.31464560e-11,\n",
              "        2.43875900e-12, 7.01672870e-12, 3.17352292e-11, 2.25472282e-13,\n",
              "        2.68190532e-13, 9.57508043e-12, 1.90158672e-12, 3.41366263e-13,\n",
              "        5.89394060e-13, 1.11460969e-11],\n",
              "       [1.26863924e-11, 2.08796130e-12, 4.10843674e-12, 7.58634772e-12,\n",
              "        1.07638789e-10, 3.58967245e-11, 9.49184994e-12, 4.39875105e-12,\n",
              "        2.28099007e-12, 9.90914524e-11, 1.18656507e-11, 4.03045859e-12,\n",
              "        4.11541779e-12, 2.26223007e-12, 4.24258588e-11, 1.78626524e-11,\n",
              "        1.10157570e-12, 6.58955055e-13, 1.41993821e-12, 1.31464256e-11,\n",
              "        2.43875336e-12, 7.01671246e-12, 3.17351558e-11, 2.25471761e-13,\n",
              "        2.68189911e-13, 9.57505827e-12, 1.90158232e-12, 3.41365473e-13,\n",
              "        5.89392695e-13, 1.11460711e-11],\n",
              "       [1.26864176e-11, 2.08796544e-12, 4.10844488e-12, 7.58636276e-12,\n",
              "        1.07639003e-10, 3.58967957e-11, 9.49186875e-12, 4.39875977e-12,\n",
              "        2.28099459e-12, 9.90916489e-11, 1.18656742e-11, 4.03046657e-12,\n",
              "        4.11542595e-12, 2.26223455e-12, 4.24259429e-11, 1.78626878e-11,\n",
              "        1.10157788e-12, 6.58956361e-13, 1.41994103e-12, 1.31464517e-11,\n",
              "        2.43875819e-12, 7.01672636e-12, 3.17352187e-11, 2.25472208e-13,\n",
              "        2.68190443e-13, 9.57507725e-12, 1.90158609e-12, 3.41366150e-13,\n",
              "        5.89393864e-13, 1.11460932e-11],\n",
              "       [1.26864234e-11, 2.08796640e-12, 4.10844677e-12, 7.58636625e-12,\n",
              "        1.07639052e-10, 3.58968122e-11, 9.49187312e-12, 4.39876180e-12,\n",
              "        2.28099565e-12, 9.90916945e-11, 1.18656796e-11, 4.03046843e-12,\n",
              "        4.11542784e-12, 2.26223560e-12, 4.24259624e-11, 1.78626961e-11,\n",
              "        1.10157839e-12, 6.58956664e-13, 1.41994168e-12, 1.31464577e-11,\n",
              "        2.43875932e-12, 7.01672960e-12, 3.17352333e-11, 2.25472311e-13,\n",
              "        2.68190567e-13, 9.57508166e-12, 1.90158696e-12, 3.41366307e-13,\n",
              "        5.89394135e-13, 1.11460983e-11],\n",
              "       [1.26864221e-11, 2.08796618e-12, 4.10844634e-12, 7.58636544e-12,\n",
              "        1.07639041e-10, 3.58968084e-11, 9.49187211e-12, 4.39876133e-12,\n",
              "        2.28099540e-12, 9.90916839e-11, 1.18656784e-11, 4.03046800e-12,\n",
              "        4.11542740e-12, 2.26223536e-12, 4.24259579e-11, 1.78626942e-11,\n",
              "        1.10157827e-12, 6.58956594e-13, 1.41994153e-12, 1.31464563e-11,\n",
              "        2.43875906e-12, 7.01672885e-12, 3.17352299e-11, 2.25472287e-13,\n",
              "        2.68190538e-13, 9.57508064e-12, 1.90158676e-12, 3.41366270e-13,\n",
              "        5.89394072e-13, 1.11460972e-11],\n",
              "       [1.26864171e-11, 2.08796536e-12, 4.10844472e-12, 7.58636246e-12,\n",
              "        1.07638999e-10, 3.58967943e-11, 9.49186838e-12, 4.39875960e-12,\n",
              "        2.28099451e-12, 9.90916450e-11, 1.18656737e-11, 4.03046642e-12,\n",
              "        4.11542579e-12, 2.26223447e-12, 4.24259412e-11, 1.78626872e-11,\n",
              "        1.10157784e-12, 6.58956335e-13, 1.41994097e-12, 1.31464511e-11,\n",
              "        2.43875810e-12, 7.01672609e-12, 3.17352175e-11, 2.25472199e-13,\n",
              "        2.68190433e-13, 9.57507688e-12, 1.90158601e-12, 3.41366136e-13,\n",
              "        5.89393841e-13, 1.11460928e-11],\n",
              "       [1.26864211e-11, 2.08796602e-12, 4.10844602e-12, 7.58636486e-12,\n",
              "        1.07639033e-10, 3.58968056e-11, 9.49187138e-12, 4.39876099e-12,\n",
              "        2.28099523e-12, 9.90916763e-11, 1.18656775e-11, 4.03046769e-12,\n",
              "        4.11542708e-12, 2.26223518e-12, 4.24259546e-11, 1.78626928e-11,\n",
              "        1.10157819e-12, 6.58956543e-13, 1.41994142e-12, 1.31464553e-11,\n",
              "        2.43875887e-12, 7.01672831e-12, 3.17352275e-11, 2.25472270e-13,\n",
              "        2.68190517e-13, 9.57507990e-12, 1.90158661e-12, 3.41366244e-13,\n",
              "        5.89394027e-13, 1.11460963e-11],\n",
              "       [1.26864090e-11, 2.08796403e-12, 4.10844211e-12, 7.58635764e-12,\n",
              "        1.07638930e-10, 3.58967714e-11, 9.49186235e-12, 4.39875680e-12,\n",
              "        2.28099306e-12, 9.90915820e-11, 1.18656662e-11, 4.03046386e-12,\n",
              "        4.11542317e-12, 2.26223303e-12, 4.24259142e-11, 1.78626758e-11,\n",
              "        1.10157714e-12, 6.58955916e-13, 1.41994007e-12, 1.31464428e-11,\n",
              "        2.43875655e-12, 7.01672163e-12, 3.17351973e-11, 2.25472055e-13,\n",
              "        2.68190262e-13, 9.57507079e-12, 1.90158481e-12, 3.41365919e-13,\n",
              "        5.89393466e-13, 1.11460857e-11],\n",
              "       [1.26864218e-11, 2.08796614e-12, 4.10844626e-12, 7.58636530e-12,\n",
              "        1.07639039e-10, 3.58968077e-11, 9.49187193e-12, 4.39876124e-12,\n",
              "        2.28099536e-12, 9.90916820e-11, 1.18656782e-11, 4.03046792e-12,\n",
              "        4.11542732e-12, 2.26223531e-12, 4.24259571e-11, 1.78626938e-11,\n",
              "        1.10157825e-12, 6.58956581e-13, 1.41994150e-12, 1.31464561e-11,\n",
              "        2.43875901e-12, 7.01672871e-12, 3.17352293e-11, 2.25472283e-13,\n",
              "        2.68190533e-13, 9.57508046e-12, 1.90158672e-12, 3.41366264e-13,\n",
              "        5.89394061e-13, 1.11460969e-11],\n",
              "       [1.26864226e-11, 2.08796627e-12, 4.10844651e-12, 7.58636577e-12,\n",
              "        1.07639046e-10, 3.58968099e-11, 9.49187252e-12, 4.39876152e-12,\n",
              "        2.28099550e-12, 9.90916882e-11, 1.18656789e-11, 4.03046818e-12,\n",
              "        4.11542758e-12, 2.26223545e-12, 4.24259597e-11, 1.78626949e-11,\n",
              "        1.10157832e-12, 6.58956623e-13, 1.41994159e-12, 1.31464569e-11,\n",
              "        2.43875916e-12, 7.01672915e-12, 3.17352313e-11, 2.25472297e-13,\n",
              "        2.68190550e-13, 9.57508105e-12, 1.90158684e-12, 3.41366285e-13,\n",
              "        5.89394098e-13, 1.11460976e-11],\n",
              "       [1.26864229e-11, 2.08796631e-12, 4.10844659e-12, 7.58636591e-12,\n",
              "        1.07639047e-10, 3.58968106e-11, 9.49187269e-12, 4.39876160e-12,\n",
              "        2.28099554e-12, 9.90916900e-11, 1.18656791e-11, 4.03046825e-12,\n",
              "        4.11542766e-12, 2.26223549e-12, 4.24259605e-11, 1.78626953e-11,\n",
              "        1.10157834e-12, 6.58956634e-13, 1.41994161e-12, 1.31464571e-11,\n",
              "        2.43875921e-12, 7.01672928e-12, 3.17352319e-11, 2.25472301e-13,\n",
              "        2.68190554e-13, 9.57508123e-12, 1.90158688e-12, 3.41366291e-13,\n",
              "        5.89394108e-13, 1.11460978e-11],\n",
              "       [1.26864155e-11, 2.08796510e-12, 4.10844422e-12, 7.58636154e-12,\n",
              "        1.07638985e-10, 3.58967899e-11, 9.49186723e-12, 4.39875906e-12,\n",
              "        2.28099423e-12, 9.90916329e-11, 1.18656723e-11, 4.03046593e-12,\n",
              "        4.11542529e-12, 2.26223419e-12, 4.24259360e-11, 1.78626850e-11,\n",
              "        1.10157771e-12, 6.58956255e-13, 1.41994080e-12, 1.31464495e-11,\n",
              "        2.43875780e-12, 7.01672524e-12, 3.17352136e-11, 2.25472171e-13,\n",
              "        2.68190400e-13, 9.57507571e-12, 1.90158578e-12, 3.41366095e-13,\n",
              "        5.89393769e-13, 1.11460914e-11],\n",
              "       [1.26864228e-11, 2.08796630e-12, 4.10844657e-12, 7.58636587e-12,\n",
              "        1.07639047e-10, 3.58968104e-11, 9.49187265e-12, 4.39876158e-12,\n",
              "        2.28099553e-12, 9.90916896e-11, 1.18656791e-11, 4.03046823e-12,\n",
              "        4.11542764e-12, 2.26223548e-12, 4.24259603e-11, 1.78626952e-11,\n",
              "        1.10157834e-12, 6.58956632e-13, 1.41994161e-12, 1.31464571e-11,\n",
              "        2.43875920e-12, 7.01672925e-12, 3.17352317e-11, 2.25472300e-13,\n",
              "        2.68190553e-13, 9.57508118e-12, 1.90158687e-12, 3.41366290e-13,\n",
              "        5.89394106e-13, 1.11460978e-11],\n",
              "       [1.26864180e-11, 2.08796550e-12, 4.10844500e-12, 7.58636299e-12,\n",
              "        1.07639006e-10, 3.58967967e-11, 9.49186904e-12, 4.39875990e-12,\n",
              "        2.28099466e-12, 9.90916519e-11, 1.18656745e-11, 4.03046670e-12,\n",
              "        4.11542607e-12, 2.26223462e-12, 4.24259441e-11, 1.78626884e-11,\n",
              "        1.10157792e-12, 6.58956381e-13, 1.41994107e-12, 1.31464521e-11,\n",
              "        2.43875827e-12, 7.01672658e-12, 3.17352197e-11, 2.25472214e-13,\n",
              "        2.68190451e-13, 9.57507754e-12, 1.90158615e-12, 3.41366160e-13,\n",
              "        5.89393882e-13, 1.11460935e-11],\n",
              "       [1.26864230e-11, 2.08796634e-12, 4.10844665e-12, 7.58636602e-12,\n",
              "        1.07639049e-10, 3.58968111e-11, 9.49187284e-12, 4.39876166e-12,\n",
              "        2.28099558e-12, 9.90916915e-11, 1.18656793e-11, 4.03046831e-12,\n",
              "        4.11542772e-12, 2.26223553e-12, 4.24259611e-11, 1.78626955e-11,\n",
              "        1.10157836e-12, 6.58956644e-13, 1.41994164e-12, 1.31464573e-11,\n",
              "        2.43875924e-12, 7.01672939e-12, 3.17352324e-11, 2.25472305e-13,\n",
              "        2.68190558e-13, 9.57508137e-12, 1.90158691e-12, 3.41366297e-13,\n",
              "        5.89394117e-13, 1.11460980e-11],\n",
              "       [1.26864228e-11, 2.08796630e-12, 4.10844657e-12, 7.58636589e-12,\n",
              "        1.07639047e-10, 3.58968105e-11, 9.49187266e-12, 4.39876158e-12,\n",
              "        2.28099553e-12, 9.90916897e-11, 1.18656791e-11, 4.03046824e-12,\n",
              "        4.11542764e-12, 2.26223549e-12, 4.24259604e-11, 1.78626952e-11,\n",
              "        1.10157834e-12, 6.58956633e-13, 1.41994161e-12, 1.31464571e-11,\n",
              "        2.43875920e-12, 7.01672926e-12, 3.17352318e-11, 2.25472301e-13,\n",
              "        2.68190554e-13, 9.57508120e-12, 1.90158687e-12, 3.41366290e-13,\n",
              "        5.89394107e-13, 1.11460978e-11]])"
            ]
          },
          "metadata": {
            "tags": []
          },
          "execution_count": 46
        }
      ]
    },
    {
      "cell_type": "code",
      "metadata": {
        "id": "L7KkdgsdDGAO",
        "colab_type": "code",
        "colab": {}
      },
      "source": [
        "np.matmul((2*dpred*pred*(1-pred)),ETheta.transpose())"
      ],
      "execution_count": 0,
      "outputs": []
    },
    {
      "cell_type": "code",
      "metadata": {
        "id": "Z6Dxf7C_bIVd",
        "colab_type": "code",
        "colab": {}
      },
      "source": [
        "Egrad"
      ],
      "execution_count": 0,
      "outputs": []
    },
    {
      "cell_type": "code",
      "metadata": {
        "id": "7OmfSa8mbhZ_",
        "colab_type": "code",
        "colab": {}
      },
      "source": [
        "pred"
      ],
      "execution_count": 0,
      "outputs": []
    },
    {
      "cell_type": "code",
      "metadata": {
        "id": "n4_EmyRtblr7",
        "colab_type": "code",
        "colab": {}
      },
      "source": [
        "ETheta"
      ],
      "execution_count": 0,
      "outputs": []
    }
  ]
}