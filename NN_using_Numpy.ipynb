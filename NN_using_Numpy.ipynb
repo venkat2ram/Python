{
  "nbformat": 4,
  "nbformat_minor": 0,
  "metadata": {
    "colab": {
      "name": "NN_using_Numpy.ipynb",
      "provenance": [],
      "machine_shape": "hm",
      "include_colab_link": true
    },
    "kernelspec": {
      "name": "python3",
      "display_name": "Python 3"
    }
  },
  "cells": [
    {
      "cell_type": "markdown",
      "metadata": {
        "id": "view-in-github",
        "colab_type": "text"
      },
      "source": [
        "<a href=\"https://colab.research.google.com/github/venkat2ram/Python/blob/master/NN_using_Numpy.ipynb\" target=\"_parent\"><img src=\"https://colab.research.google.com/assets/colab-badge.svg\" alt=\"Open In Colab\"/></a>"
      ]
    },
    {
      "cell_type": "code",
      "metadata": {
        "id": "Hv3PPGQtm5t1",
        "colab_type": "code",
        "colab": {}
      },
      "source": [
        "from sklearn.datasets import fetch_openml\n",
        "\n",
        "Data=fetch_openml('mnist_784')"
      ],
      "execution_count": 0,
      "outputs": []
    },
    {
      "cell_type": "code",
      "metadata": {
        "id": "JOJfcO_UnJma",
        "colab_type": "code",
        "colab": {}
      },
      "source": [
        "X,y_actual=Data[\"data\"][:1000]/10000,Data[\"target\"][:1000]"
      ],
      "execution_count": 0,
      "outputs": []
    },
    {
      "cell_type": "code",
      "metadata": {
        "id": "NAEZlwI8nOzw",
        "colab_type": "code",
        "colab": {}
      },
      "source": [
        "import numpy as np\n",
        "import matplotlib \n",
        "import matplotlib.pyplot as plt\n",
        "\n",
        "def show_imag(X,y_actual,position):\n",
        "  img=X[position]\n",
        "  imag=img.reshape(int(np.sqrt(img.size)),int(np.sqrt(img.size)))\n",
        "  plt.imshow(imag,cmap = matplotlib.cm.binary, interpolation=\"nearest\")\n",
        "  plt.show()\n",
        "  print(y_actual[position]) "
      ],
      "execution_count": 0,
      "outputs": []
    },
    {
      "cell_type": "code",
      "metadata": {
        "id": "xG1GujVSnPwt",
        "colab_type": "code",
        "outputId": "1e243e46-02a2-4379-aa07-9acb254ab4e0",
        "colab": {
          "base_uri": "https://localhost:8080/",
          "height": 282
        }
      },
      "source": [
        "show_imag(X,y_actual,400)"
      ],
      "execution_count": 4,
      "outputs": [
        {
          "output_type": "display_data",
          "data": {
            "image/png": "[encoded data removed]",
            "text/plain": [
              "<Figure size 432x288 with 1 Axes>"
            ]
          },
          "metadata": {
            "tags": []
          }
        },
        {
          "output_type": "stream",
          "text": [
            "2\n"
          ],
          "name": "stdout"
        }
      ]
    },
    {
      "cell_type": "code",
      "metadata": {
        "id": "NPH1fvVxnWaL",
        "colab_type": "code",
        "colab": {}
      },
      "source": [
        "def convert_binary(y_actual):\n",
        "  y1=np.zeros((len(y_actual),10))\n",
        "  for i in range(len(y_actual)):\n",
        "    y1[i][int(y_actual[i])]=1\n",
        "    \n",
        "    \n",
        "  return y1"
      ],
      "execution_count": 0,
      "outputs": []
    },
    {
      "cell_type": "code",
      "metadata": {
        "id": "87w4EY66xDpH",
        "colab_type": "code",
        "colab": {}
      },
      "source": [
        "NumHlayers=10\n",
        "NumHunits=30"
      ],
      "execution_count": 0,
      "outputs": []
    },
    {
      "cell_type": "code",
      "metadata": {
        "id": "xypaqaTDxITZ",
        "colab_type": "code",
        "outputId": "4eefe4eb-9e8a-434c-cd74-a9a055d5bedf",
        "colab": {
          "base_uri": "https://localhost:8080/",
          "height": 51
        }
      },
      "source": [
        "y=convert_binary(y_actual)\n",
        "m,n=np.shape(X)\n",
        "p,s=np.shape(y)\n",
        "X_with_bias=np.c_[np.ones((m,1)),X]\n",
        "hidden=np.ones((NumHlayers,m,NumHunits+1))\n",
        "z=np.ones((NumHlayers,m,NumHunits))\n",
        "a=np.ones((NumHlayers,m,NumHunits))\n",
        "d=np.ones((NumHlayers,m,NumHunits+1))\n",
        "ITheta=np.random.rand(n+1,NumHunits)\n",
        "#Igrad=np.zeros((n+1,NumHunits))\n",
        "HTheta=np.random.rand(NumHlayers-1,NumHunits+1,NumHunits)\n",
        "HTGrad=np.random.rand(NumHlayers-1,NumHunits+1,NumHunits)\n",
        "HGrad=np.zeros((NumHlayers,NumHunits+1))\n",
        "ETheta=np.random.rand(NumHunits+1,s)\n",
        "#EGrad=np.zeros((NumHunits+1,s))\n",
        "\n",
        "z[0]=np.matmul(X_with_bias,ITheta)\n",
        "a[0]=1/(1+np.exp(-1*z[0]))\n",
        "hidden[0]=np.c_[np.ones((m,1)),a[0]]\n",
        "for i in range(NumHlayers-1):\n",
        "  z[i+1]=np.matmul(hidden[i],HTheta[i])\n",
        "  a[i+1]=1/(1+np.exp(-1*z[i+1]))\n",
        "  hidden[i+1]=np.c_[np.ones((m,1)),a[i+1]]\n",
        "pred=1/(1+np.exp(-1*np.matmul(hidden[i+1],ETheta)))\n",
        "print(pred[999],y[999])\n",
        "cost=sum(((pred-y)**2).transpose()).reshape(-1,1)\n",
        "dpred=pred-y\n",
        "#Egrad_init=np.zeros((m,NumHunits+1,s))\n",
        "Egrad=np.matmul((hidden[NumHlayers-1].transpose()),(2*dpred)*(pred*(1-pred)))/1000\n",
        "HGrad[NumHlayers-1]=sum(np.matmul((2*dpred*pred*(1-pred)),ETheta.transpose())).reshape(1,-1)/1000\n",
        "for j in range(NumHlayers-1):\n",
        "  k=NumHlayers-j-2\n",
        "  HTGrad[k]=np.matmul((sum(hidden[k]).reshape(1,-1)/1000).transpose(),((((sum(a[k+1])/1000).reshape(1,-1))*(1-((sum(a[k+1])/1000).reshape(1,-1))))*(HGrad[k+1,1:NumHunits+1].reshape(1,-1))))\n",
        "  HGrad[k]=\n",
        "\n",
        "  \n",
        "  \n",
        "\n"
      ],
      "execution_count": 18,
      "outputs": [
        {
          "output_type": "stream",
          "text": [
            "[0.99999989 0.99999899 0.99996912 0.99999995 0.99999992 0.99999996\n",
            " 1.         0.99999992 0.99999981 0.99999937] [0. 0. 0. 0. 0. 0. 1. 0. 0. 0.]\n"
          ],
          "name": "stdout"
        }
      ]
    },
    {
      "cell_type": "code",
      "metadata": {
        "id": "6XhtY-25D511",
        "colab_type": "code",
        "outputId": "68f9cb98-a471-4612-f1ab-0d5aa9be6927",
        "colab": {
          "base_uri": "https://localhost:8080/",
          "height": 34
        }
      },
      "source": [
        "((((sum(a[9])/1000).reshape(1,-1))*(1-((sum(a[9])/1000).reshape(1,-1))))*(HGrad[9,1:31].reshape(1,-1))).shape\n"
      ],
      "execution_count": 8,
      "outputs": [
        {
          "output_type": "execute_result",
          "data": {
            "text/plain": [
              "(1, 30)"
            ]
          },
          "metadata": {
            "tags": []
          },
          "execution_count": 8
        }
      ]
    },
    {
      "cell_type": "code",
      "metadata": {
        "id": "kRr0eH4W9783",
        "colab_type": "code",
        "colab": {
          "base_uri": "https://localhost:8080/",
          "height": 34
        },
        "outputId": "434b5fd7-56eb-47ab-d42e-c7da86b8637a"
      },
      "source": [
        "(sum(hidden[8]).reshape(1,-1)/1000).shape"
      ],
      "execution_count": 9,
      "outputs": [
        {
          "output_type": "execute_result",
          "data": {
            "text/plain": [
              "(1, 31)"
            ]
          },
          "metadata": {
            "tags": []
          },
          "execution_count": 9
        }
      ]
    },
    {
      "cell_type": "code",
      "metadata": {
        "id": "NB0yPDEE97XY",
        "colab_type": "code",
        "colab": {
          "base_uri": "https://localhost:8080/",
          "height": 153
        },
        "outputId": "edcfb423-a8e0-4111-f031-63c563311a19"
      },
      "source": [
        "(HGrad[9,1:31].reshape(1,-1))"
      ],
      "execution_count": 10,
      "outputs": [
        {
          "output_type": "execute_result",
          "data": {
            "text/plain": [
              "array([[3.15812841e-06, 2.87618729e-06, 3.80222209e-06, 1.76962202e-06,\n",
              "        2.07569563e-06, 5.79275239e-06, 3.28701409e-06, 3.21054327e-06,\n",
              "        4.39749691e-06, 2.22655971e-06, 3.75974525e-06, 2.13220218e-06,\n",
              "        4.28594292e-06, 3.66564001e-06, 2.76813624e-06, 3.63109345e-06,\n",
              "        2.28273792e-06, 4.46237324e-06, 5.27637760e-06, 3.37646950e-06,\n",
              "        4.87103279e-06, 3.42489949e-06, 2.80064182e-06, 3.00194651e-06,\n",
              "        4.55319412e-06, 3.97904984e-06, 3.95631554e-06, 4.04180261e-06,\n",
              "        1.42243391e-06, 3.97244372e-06]])"
            ]
          },
          "metadata": {
            "tags": []
          },
          "execution_count": 10
        }
      ]
    },
    {
      "cell_type": "code",
      "metadata": {
        "id": "LZnMurwQCaNG",
        "colab_type": "code",
        "colab": {
          "base_uri": "https://localhost:8080/",
          "height": 153
        },
        "outputId": "ac1acd7c-de57-4bde-9642-a759d6d80af1"
      },
      "source": [
        "HGrad[9]"
      ],
      "execution_count": 11,
      "outputs": [
        {
          "output_type": "execute_result",
          "data": {
            "text/plain": [
              "array([4.35500854e-06, 3.15812841e-06, 2.87618729e-06, 3.80222209e-06,\n",
              "       1.76962202e-06, 2.07569563e-06, 5.79275239e-06, 3.28701409e-06,\n",
              "       3.21054327e-06, 4.39749691e-06, 2.22655971e-06, 3.75974525e-06,\n",
              "       2.13220218e-06, 4.28594292e-06, 3.66564001e-06, 2.76813624e-06,\n",
              "       3.63109345e-06, 2.28273792e-06, 4.46237324e-06, 5.27637760e-06,\n",
              "       3.37646950e-06, 4.87103279e-06, 3.42489949e-06, 2.80064182e-06,\n",
              "       3.00194651e-06, 4.55319412e-06, 3.97904984e-06, 3.95631554e-06,\n",
              "       4.04180261e-06, 1.42243391e-06, 3.97244372e-06])"
            ]
          },
          "metadata": {
            "tags": []
          },
          "execution_count": 11
        }
      ]
    },
    {
      "cell_type": "code",
      "metadata": {
        "id": "8PkhZc7eC9L7",
        "colab_type": "code",
        "colab": {
          "base_uri": "https://localhost:8080/",
          "height": 1000
        },
        "outputId": "47109f89-37d3-4a71-a62d-be76c0c40fbb"
      },
      "source": [
        "HTGrad[7]"
      ],
      "execution_count": 22,
      "outputs": [
        {
          "output_type": "execute_result",
          "data": {
            "text/plain": [
              "array([[0., 0., 0., 0., 0., 0., 0., 0., 0., 0., 0., 0., 0., 0., 0., 0.,\n",
              "        0., 0., 0., 0., 0., 0., 0., 0., 0., 0., 0., 0., 0., 0.],\n",
              "       [0., 0., 0., 0., 0., 0., 0., 0., 0., 0., 0., 0., 0., 0., 0., 0.,\n",
              "        0., 0., 0., 0., 0., 0., 0., 0., 0., 0., 0., 0., 0., 0.],\n",
              "       [0., 0., 0., 0., 0., 0., 0., 0., 0., 0., 0., 0., 0., 0., 0., 0.,\n",
              "        0., 0., 0., 0., 0., 0., 0., 0., 0., 0., 0., 0., 0., 0.],\n",
              "       [0., 0., 0., 0., 0., 0., 0., 0., 0., 0., 0., 0., 0., 0., 0., 0.,\n",
              "        0., 0., 0., 0., 0., 0., 0., 0., 0., 0., 0., 0., 0., 0.],\n",
              "       [0., 0., 0., 0., 0., 0., 0., 0., 0., 0., 0., 0., 0., 0., 0., 0.,\n",
              "        0., 0., 0., 0., 0., 0., 0., 0., 0., 0., 0., 0., 0., 0.],\n",
              "       [0., 0., 0., 0., 0., 0., 0., 0., 0., 0., 0., 0., 0., 0., 0., 0.,\n",
              "        0., 0., 0., 0., 0., 0., 0., 0., 0., 0., 0., 0., 0., 0.],\n",
              "       [0., 0., 0., 0., 0., 0., 0., 0., 0., 0., 0., 0., 0., 0., 0., 0.,\n",
              "        0., 0., 0., 0., 0., 0., 0., 0., 0., 0., 0., 0., 0., 0.],\n",
              "       [0., 0., 0., 0., 0., 0., 0., 0., 0., 0., 0., 0., 0., 0., 0., 0.,\n",
              "        0., 0., 0., 0., 0., 0., 0., 0., 0., 0., 0., 0., 0., 0.],\n",
              "       [0., 0., 0., 0., 0., 0., 0., 0., 0., 0., 0., 0., 0., 0., 0., 0.,\n",
              "        0., 0., 0., 0., 0., 0., 0., 0., 0., 0., 0., 0., 0., 0.],\n",
              "       [0., 0., 0., 0., 0., 0., 0., 0., 0., 0., 0., 0., 0., 0., 0., 0.,\n",
              "        0., 0., 0., 0., 0., 0., 0., 0., 0., 0., 0., 0., 0., 0.],\n",
              "       [0., 0., 0., 0., 0., 0., 0., 0., 0., 0., 0., 0., 0., 0., 0., 0.,\n",
              "        0., 0., 0., 0., 0., 0., 0., 0., 0., 0., 0., 0., 0., 0.],\n",
              "       [0., 0., 0., 0., 0., 0., 0., 0., 0., 0., 0., 0., 0., 0., 0., 0.,\n",
              "        0., 0., 0., 0., 0., 0., 0., 0., 0., 0., 0., 0., 0., 0.],\n",
              "       [0., 0., 0., 0., 0., 0., 0., 0., 0., 0., 0., 0., 0., 0., 0., 0.,\n",
              "        0., 0., 0., 0., 0., 0., 0., 0., 0., 0., 0., 0., 0., 0.],\n",
              "       [0., 0., 0., 0., 0., 0., 0., 0., 0., 0., 0., 0., 0., 0., 0., 0.,\n",
              "        0., 0., 0., 0., 0., 0., 0., 0., 0., 0., 0., 0., 0., 0.],\n",
              "       [0., 0., 0., 0., 0., 0., 0., 0., 0., 0., 0., 0., 0., 0., 0., 0.,\n",
              "        0., 0., 0., 0., 0., 0., 0., 0., 0., 0., 0., 0., 0., 0.],\n",
              "       [0., 0., 0., 0., 0., 0., 0., 0., 0., 0., 0., 0., 0., 0., 0., 0.,\n",
              "        0., 0., 0., 0., 0., 0., 0., 0., 0., 0., 0., 0., 0., 0.],\n",
              "       [0., 0., 0., 0., 0., 0., 0., 0., 0., 0., 0., 0., 0., 0., 0., 0.,\n",
              "        0., 0., 0., 0., 0., 0., 0., 0., 0., 0., 0., 0., 0., 0.],\n",
              "       [0., 0., 0., 0., 0., 0., 0., 0., 0., 0., 0., 0., 0., 0., 0., 0.,\n",
              "        0., 0., 0., 0., 0., 0., 0., 0., 0., 0., 0., 0., 0., 0.],\n",
              "       [0., 0., 0., 0., 0., 0., 0., 0., 0., 0., 0., 0., 0., 0., 0., 0.,\n",
              "        0., 0., 0., 0., 0., 0., 0., 0., 0., 0., 0., 0., 0., 0.],\n",
              "       [0., 0., 0., 0., 0., 0., 0., 0., 0., 0., 0., 0., 0., 0., 0., 0.,\n",
              "        0., 0., 0., 0., 0., 0., 0., 0., 0., 0., 0., 0., 0., 0.],\n",
              "       [0., 0., 0., 0., 0., 0., 0., 0., 0., 0., 0., 0., 0., 0., 0., 0.,\n",
              "        0., 0., 0., 0., 0., 0., 0., 0., 0., 0., 0., 0., 0., 0.],\n",
              "       [0., 0., 0., 0., 0., 0., 0., 0., 0., 0., 0., 0., 0., 0., 0., 0.,\n",
              "        0., 0., 0., 0., 0., 0., 0., 0., 0., 0., 0., 0., 0., 0.],\n",
              "       [0., 0., 0., 0., 0., 0., 0., 0., 0., 0., 0., 0., 0., 0., 0., 0.,\n",
              "        0., 0., 0., 0., 0., 0., 0., 0., 0., 0., 0., 0., 0., 0.],\n",
              "       [0., 0., 0., 0., 0., 0., 0., 0., 0., 0., 0., 0., 0., 0., 0., 0.,\n",
              "        0., 0., 0., 0., 0., 0., 0., 0., 0., 0., 0., 0., 0., 0.],\n",
              "       [0., 0., 0., 0., 0., 0., 0., 0., 0., 0., 0., 0., 0., 0., 0., 0.,\n",
              "        0., 0., 0., 0., 0., 0., 0., 0., 0., 0., 0., 0., 0., 0.],\n",
              "       [0., 0., 0., 0., 0., 0., 0., 0., 0., 0., 0., 0., 0., 0., 0., 0.,\n",
              "        0., 0., 0., 0., 0., 0., 0., 0., 0., 0., 0., 0., 0., 0.],\n",
              "       [0., 0., 0., 0., 0., 0., 0., 0., 0., 0., 0., 0., 0., 0., 0., 0.,\n",
              "        0., 0., 0., 0., 0., 0., 0., 0., 0., 0., 0., 0., 0., 0.],\n",
              "       [0., 0., 0., 0., 0., 0., 0., 0., 0., 0., 0., 0., 0., 0., 0., 0.,\n",
              "        0., 0., 0., 0., 0., 0., 0., 0., 0., 0., 0., 0., 0., 0.],\n",
              "       [0., 0., 0., 0., 0., 0., 0., 0., 0., 0., 0., 0., 0., 0., 0., 0.,\n",
              "        0., 0., 0., 0., 0., 0., 0., 0., 0., 0., 0., 0., 0., 0.],\n",
              "       [0., 0., 0., 0., 0., 0., 0., 0., 0., 0., 0., 0., 0., 0., 0., 0.,\n",
              "        0., 0., 0., 0., 0., 0., 0., 0., 0., 0., 0., 0., 0., 0.],\n",
              "       [0., 0., 0., 0., 0., 0., 0., 0., 0., 0., 0., 0., 0., 0., 0., 0.,\n",
              "        0., 0., 0., 0., 0., 0., 0., 0., 0., 0., 0., 0., 0., 0.]])"
            ]
          },
          "metadata": {
            "tags": []
          },
          "execution_count": 22
        }
      ]
    },
    {
      "cell_type": "code",
      "metadata": {
        "id": "L7KkdgsdDGAO",
        "colab_type": "code",
        "colab": {
          "base_uri": "https://localhost:8080/",
          "height": 238
        },
        "outputId": "4bf554f4-3f82-4b11-fa72-44bd40cac194"
      },
      "source": [
        "np.matmul((2*dpred*pred*(1-pred)),ETheta.transpose())"
      ],
      "execution_count": 13,
      "outputs": [
        {
          "output_type": "execute_result",
          "data": {
            "text/plain": [
              "array([[4.65541866e-06, 3.48804520e-06, 3.05954498e-06, ...,\n",
              "        4.42496930e-06, 1.51797071e-06, 4.29898233e-06],\n",
              "       [4.84934149e-06, 3.51884718e-06, 3.20063943e-06, ...,\n",
              "        4.48195735e-06, 1.56628981e-06, 4.39464740e-06],\n",
              "       [4.85210074e-06, 3.45674853e-06, 3.07855603e-06, ...,\n",
              "        4.45856650e-06, 1.47172798e-06, 4.30986104e-06],\n",
              "       ...,\n",
              "       [4.84934149e-06, 3.51884718e-06, 3.20063943e-06, ...,\n",
              "        4.48195735e-06, 1.56628981e-06, 4.39464740e-06],\n",
              "       [4.84092698e-06, 3.52196655e-06, 3.20772731e-06, ...,\n",
              "        4.49496283e-06, 1.57739080e-06, 4.41551913e-06],\n",
              "       [4.07691664e-06, 2.44386387e-06, 3.17539546e-06, ...,\n",
              "        3.40336111e-06, 1.20673412e-06, 4.13565394e-06]])"
            ]
          },
          "metadata": {
            "tags": []
          },
          "execution_count": 13
        }
      ]
    },
    {
      "cell_type": "code",
      "metadata": {
        "id": "Z6Dxf7C_bIVd",
        "colab_type": "code",
        "colab": {
          "base_uri": "https://localhost:8080/",
          "height": 1000
        },
        "outputId": "d464116b-5817-4336-8b41-ddce835c2754"
      },
      "source": [
        "Egrad"
      ],
      "execution_count": 14,
      "outputs": [
        {
          "output_type": "execute_result",
          "data": {
            "text/plain": [
              "array([[2.85665219e-08, 6.52321525e-07, 2.55586349e-06, 1.38154652e-08,\n",
              "        1.23523907e-07, 1.89795435e-07, 1.68104147e-06, 1.38489359e-06,\n",
              "        9.59017204e-07, 1.20447768e-07],\n",
              "       [2.85664975e-08, 6.52320968e-07, 2.55586131e-06, 1.38154534e-08,\n",
              "        1.23523802e-07, 1.89795273e-07, 1.68104003e-06, 1.38489241e-06,\n",
              "        9.59016385e-07, 1.20447665e-07],\n",
              "       [2.85665215e-08, 6.52321516e-07, 2.55586346e-06, 1.38154650e-08,\n",
              "        1.23523906e-07, 1.89795433e-07, 1.68104145e-06, 1.38489357e-06,\n",
              "        9.59017191e-07, 1.20447766e-07],\n",
              "       [2.85665144e-08, 6.52321354e-07, 2.55586282e-06, 1.38154615e-08,\n",
              "        1.23523875e-07, 1.89795386e-07, 1.68104103e-06, 1.38489323e-06,\n",
              "        9.59016953e-07, 1.20447736e-07],\n",
              "       [2.85664741e-08, 6.52320433e-07, 2.55585921e-06, 1.38154420e-08,\n",
              "        1.23523701e-07, 1.89795118e-07, 1.68103865e-06, 1.38489127e-06,\n",
              "        9.59015598e-07, 1.20447566e-07],\n",
              "       [2.85665183e-08, 6.52321443e-07, 2.55586317e-06, 1.38154634e-08,\n",
              "        1.23523892e-07, 1.89795411e-07, 1.68104126e-06, 1.38489342e-06,\n",
              "        9.59017084e-07, 1.20447752e-07],\n",
              "       [2.85665021e-08, 6.52321073e-07, 2.55586172e-06, 1.38154556e-08,\n",
              "        1.23523822e-07, 1.89795304e-07, 1.68104030e-06, 1.38489263e-06,\n",
              "        9.59016539e-07, 1.20447684e-07],\n",
              "       [2.85665168e-08, 6.52321409e-07, 2.55586304e-06, 1.38154627e-08,\n",
              "        1.23523885e-07, 1.89795401e-07, 1.68104117e-06, 1.38489334e-06,\n",
              "        9.59017033e-07, 1.20447746e-07],\n",
              "       [2.85665213e-08, 6.52321512e-07, 2.55586344e-06, 1.38154649e-08,\n",
              "        1.23523905e-07, 1.89795432e-07, 1.68104144e-06, 1.38489357e-06,\n",
              "        9.59017185e-07, 1.20447765e-07],\n",
              "       [2.85664850e-08, 6.52320682e-07, 2.55586019e-06, 1.38154473e-08,\n",
              "        1.23523748e-07, 1.89795190e-07, 1.68103929e-06, 1.38489180e-06,\n",
              "        9.59015964e-07, 1.20447612e-07],\n",
              "       [2.85665193e-08, 6.52321466e-07, 2.55586326e-06, 1.38154639e-08,\n",
              "        1.23523896e-07, 1.89795418e-07, 1.68104131e-06, 1.38489347e-06,\n",
              "        9.59017116e-07, 1.20447757e-07],\n",
              "       [2.85665213e-08, 6.52321511e-07, 2.55586344e-06, 1.38154649e-08,\n",
              "        1.23523905e-07, 1.89795431e-07, 1.68104143e-06, 1.38489356e-06,\n",
              "        9.59017183e-07, 1.20447765e-07],\n",
              "       [2.85665214e-08, 6.52321514e-07, 2.55586345e-06, 1.38154649e-08,\n",
              "        1.23523905e-07, 1.89795432e-07, 1.68104144e-06, 1.38489357e-06,\n",
              "        9.59017188e-07, 1.20447765e-07],\n",
              "       [2.85665201e-08, 6.52321485e-07, 2.55586333e-06, 1.38154643e-08,\n",
              "        1.23523900e-07, 1.89795423e-07, 1.68104136e-06, 1.38489351e-06,\n",
              "        9.59017144e-07, 1.20447760e-07],\n",
              "       [2.85664994e-08, 6.52321011e-07, 2.55586148e-06, 1.38154543e-08,\n",
              "        1.23523810e-07, 1.89795286e-07, 1.68104014e-06, 1.38489250e-06,\n",
              "        9.59016448e-07, 1.20447672e-07],\n",
              "       [2.85665157e-08, 6.52321383e-07, 2.55586294e-06, 1.38154621e-08,\n",
              "        1.23523880e-07, 1.89795394e-07, 1.68104110e-06, 1.38489329e-06,\n",
              "        9.59016995e-07, 1.20447741e-07],\n",
              "       [2.85665094e-08, 6.52321240e-07, 2.55586237e-06, 1.38154591e-08,\n",
              "        1.23523853e-07, 1.89795352e-07, 1.68104073e-06, 1.38489299e-06,\n",
              "        9.59016784e-07, 1.20447715e-07],\n",
              "       [2.85665191e-08, 6.52321462e-07, 2.55586325e-06, 1.38154638e-08,\n",
              "        1.23523896e-07, 1.89795417e-07, 1.68104131e-06, 1.38489346e-06,\n",
              "        9.59017112e-07, 1.20447756e-07],\n",
              "       [2.85665115e-08, 6.52321287e-07, 2.55586256e-06, 1.38154601e-08,\n",
              "        1.23523862e-07, 1.89795366e-07, 1.68104086e-06, 1.38489309e-06,\n",
              "        9.59016855e-07, 1.20447724e-07],\n",
              "       [2.85664947e-08, 6.52320903e-07, 2.55586106e-06, 1.38154520e-08,\n",
              "        1.23523790e-07, 1.89795254e-07, 1.68103987e-06, 1.38489227e-06,\n",
              "        9.59016290e-07, 1.20447653e-07],\n",
              "       [2.85665210e-08, 6.52321504e-07, 2.55586341e-06, 1.38154647e-08,\n",
              "        1.23523903e-07, 1.89795429e-07, 1.68104141e-06, 1.38489355e-06,\n",
              "        9.59017172e-07, 1.20447764e-07],\n",
              "       [2.85665216e-08, 6.52321518e-07, 2.55586346e-06, 1.38154650e-08,\n",
              "        1.23523906e-07, 1.89795433e-07, 1.68104145e-06, 1.38489358e-06,\n",
              "        9.59017193e-07, 1.20447766e-07],\n",
              "       [2.85665115e-08, 6.52321289e-07, 2.55586257e-06, 1.38154602e-08,\n",
              "        1.23523863e-07, 1.89795367e-07, 1.68104086e-06, 1.38489309e-06,\n",
              "        9.59016857e-07, 1.20447724e-07],\n",
              "       [2.85665073e-08, 6.52321191e-07, 2.55586218e-06, 1.38154581e-08,\n",
              "        1.23523844e-07, 1.89795338e-07, 1.68104061e-06, 1.38489288e-06,\n",
              "        9.59016713e-07, 1.20447706e-07],\n",
              "       [2.85665069e-08, 6.52321183e-07, 2.55586215e-06, 1.38154579e-08,\n",
              "        1.23523843e-07, 1.89795336e-07, 1.68104059e-06, 1.38489287e-06,\n",
              "        9.59016700e-07, 1.20447704e-07],\n",
              "       [2.85665152e-08, 6.52321372e-07, 2.55586289e-06, 1.38154619e-08,\n",
              "        1.23523878e-07, 1.89795391e-07, 1.68104107e-06, 1.38489327e-06,\n",
              "        9.59016979e-07, 1.20447739e-07],\n",
              "       [2.85664853e-08, 6.52320690e-07, 2.55586022e-06, 1.38154475e-08,\n",
              "        1.23523749e-07, 1.89795192e-07, 1.68103932e-06, 1.38489182e-06,\n",
              "        9.59015977e-07, 1.20447613e-07],\n",
              "       [2.85664966e-08, 6.52320947e-07, 2.55586123e-06, 1.38154529e-08,\n",
              "        1.23523798e-07, 1.89795267e-07, 1.68103998e-06, 1.38489237e-06,\n",
              "        9.59016354e-07, 1.20447661e-07],\n",
              "       [2.85665181e-08, 6.52321439e-07, 2.55586315e-06, 1.38154633e-08,\n",
              "        1.23523891e-07, 1.89795410e-07, 1.68104124e-06, 1.38489341e-06,\n",
              "        9.59017077e-07, 1.20447752e-07],\n",
              "       [2.85665196e-08, 6.52321473e-07, 2.55586329e-06, 1.38154640e-08,\n",
              "        1.23523897e-07, 1.89795420e-07, 1.68104133e-06, 1.38489348e-06,\n",
              "        9.59017127e-07, 1.20447758e-07],\n",
              "       [2.85665209e-08, 6.52321503e-07, 2.55586341e-06, 1.38154647e-08,\n",
              "        1.23523903e-07, 1.89795429e-07, 1.68104141e-06, 1.38489355e-06,\n",
              "        9.59017171e-07, 1.20447763e-07]])"
            ]
          },
          "metadata": {
            "tags": []
          },
          "execution_count": 14
        }
      ]
    },
    {
      "cell_type": "code",
      "metadata": {
        "id": "7OmfSa8mbhZ_",
        "colab_type": "code",
        "colab": {
          "base_uri": "https://localhost:8080/",
          "height": 238
        },
        "outputId": "a791aa5f-48a3-4880-8986-fede03c3524f"
      },
      "source": [
        "pred"
      ],
      "execution_count": 15,
      "outputs": [
        {
          "output_type": "execute_result",
          "data": {
            "text/plain": [
              "array([[0.99999998, 0.99999963, 0.99999858, ..., 0.99999922, 0.99999947,\n",
              "        0.99999993],\n",
              "       [0.99999998, 0.99999963, 0.99999858, ..., 0.99999922, 0.99999947,\n",
              "        0.99999993],\n",
              "       [0.99999998, 0.99999963, 0.99999858, ..., 0.99999922, 0.99999947,\n",
              "        0.99999993],\n",
              "       ...,\n",
              "       [0.99999998, 0.99999963, 0.99999858, ..., 0.99999922, 0.99999947,\n",
              "        0.99999993],\n",
              "       [0.99999998, 0.99999963, 0.99999858, ..., 0.99999922, 0.99999947,\n",
              "        0.99999993],\n",
              "       [0.99999998, 0.99999963, 0.99999858, ..., 0.99999922, 0.99999947,\n",
              "        0.99999993]])"
            ]
          },
          "metadata": {
            "tags": []
          },
          "execution_count": 15
        }
      ]
    },
    {
      "cell_type": "code",
      "metadata": {
        "id": "n4_EmyRtblr7",
        "colab_type": "code",
        "colab": {
          "base_uri": "https://localhost:8080/",
          "height": 1000
        },
        "outputId": "fd0ae089-7f6f-45bc-9e01-69eb096fd964"
      },
      "source": [
        "ETheta"
      ],
      "execution_count": 16,
      "outputs": [
        {
          "output_type": "execute_result",
          "data": {
            "text/plain": [
              "array([[0.15949522, 0.83906295, 0.80973267, 0.88367383, 0.01656629,\n",
              "        0.95188467, 0.41901855, 0.51797348, 0.08248273, 0.31383898],\n",
              "       [0.47435732, 0.74208962, 0.11402866, 0.78039279, 0.55866894,\n",
              "        0.21915153, 0.58745108, 0.82460759, 0.10515344, 0.14365715],\n",
              "       [0.46572496, 0.90357062, 0.07356308, 0.5019283 , 0.99131343,\n",
              "        0.74549504, 0.02154577, 0.69144466, 0.75775205, 0.78105802],\n",
              "       [0.62376536, 0.87502606, 0.30819856, 0.93984225, 0.88338672,\n",
              "        0.62874169, 0.84233655, 0.47745436, 0.10585554, 0.04742322],\n",
              "       [0.84003703, 0.39414195, 0.04095672, 0.16002473, 0.21893794,\n",
              "        0.2420774 , 0.29495244, 0.15069337, 0.60538008, 0.19549111],\n",
              "       [0.28237592, 0.43828839, 0.13915972, 0.79970463, 0.21458342,\n",
              "        0.74831533, 0.14015323, 0.42173712, 0.40920989, 0.28531768],\n",
              "       [0.71987564, 0.47472517, 0.77461689, 0.61400705, 0.43036595,\n",
              "        0.42819921, 0.96147579, 0.90833646, 0.46242726, 0.18331857],\n",
              "       [0.87872746, 0.9875014 , 0.4024033 , 0.32596546, 0.29787219,\n",
              "        0.03811919, 0.40310022, 0.51497605, 0.09422669, 0.49434541],\n",
              "       [0.37684026, 0.42772488, 0.62430495, 0.3032501 , 0.51775092,\n",
              "        0.63652322, 0.35652224, 0.27575612, 0.06578235, 0.76269208],\n",
              "       [0.97433081, 0.34720698, 0.36801741, 0.62411654, 0.899279  ,\n",
              "        0.85266335, 0.45971964, 0.95978938, 0.81718061, 0.29332283],\n",
              "       [0.48940945, 0.53417224, 0.43715103, 0.63056839, 0.00984302,\n",
              "        0.23512787, 0.10114063, 0.25163534, 0.11913455, 0.49409879],\n",
              "       [0.71249797, 0.7843853 , 0.34511695, 0.94404755, 0.67902575,\n",
              "        0.06972818, 0.72669423, 0.24690493, 0.5999932 , 0.80160864],\n",
              "       [0.72138304, 0.44532763, 0.04063351, 0.70149183, 0.51033963,\n",
              "        0.76935291, 0.37649172, 0.34089747, 0.28562114, 0.99274173],\n",
              "       [0.49283337, 0.0271653 , 0.84175415, 0.52408853, 0.56671222,\n",
              "        0.29155035, 0.93017635, 0.00505241, 0.3871165 , 0.23448971],\n",
              "       [0.58879585, 0.39851936, 0.51029221, 0.87610963, 0.54074323,\n",
              "        0.92259321, 0.36807539, 0.58262209, 0.29764154, 0.99258507],\n",
              "       [0.69759523, 0.47597736, 0.07133891, 0.81113184, 0.93167404,\n",
              "        0.96150255, 0.72215075, 0.10266556, 0.49442222, 0.96557158],\n",
              "       [0.12243495, 0.56400658, 0.19039474, 0.73099014, 0.96980427,\n",
              "        0.59262181, 0.4803625 , 0.66465994, 0.81654055, 0.16289567],\n",
              "       [0.85145721, 0.15430441, 0.01644804, 0.38285472, 0.43860375,\n",
              "        0.453721  , 0.20516943, 0.46636443, 0.98933053, 0.25396694],\n",
              "       [0.82919821, 0.07033924, 0.8548261 , 0.86179291, 0.37098042,\n",
              "        0.29223113, 0.39533212, 0.54898164, 0.63288325, 0.52297692],\n",
              "       [0.46355728, 0.98953703, 0.6422915 , 0.16279334, 0.48437011,\n",
              "        0.12989963, 0.47674866, 0.78636102, 0.95523533, 0.68699687],\n",
              "       [0.72369536, 0.28897463, 0.55595509, 0.63934664, 0.50223557,\n",
              "        0.05920009, 0.39396727, 0.17743781, 0.76658837, 0.17484963],\n",
              "       [0.01148872, 0.2211401 , 0.85288257, 0.6636896 , 0.28541103,\n",
              "        0.7365757 , 0.75533733, 0.12476435, 0.90005593, 0.47047723],\n",
              "       [0.23907472, 0.24555464, 0.38152806, 0.49119186, 0.3344492 ,\n",
              "        0.57586536, 0.7550747 , 0.47196826, 0.12895719, 0.65381652],\n",
              "       [0.67412786, 0.36929293, 0.31467935, 0.24670335, 0.14877357,\n",
              "        0.82052307, 0.44164295, 0.1380121 , 0.55160414, 0.79820618],\n",
              "       [0.57447675, 0.35230354, 0.52076446, 0.15997708, 0.97358142,\n",
              "        0.82004188, 0.22323465, 0.10456702, 0.53012454, 0.98073446],\n",
              "       [0.57347773, 0.73835739, 0.76054541, 0.91608645, 0.92569937,\n",
              "        0.16253232, 0.29411946, 0.37087723, 0.87075255, 0.91613108],\n",
              "       [0.62262885, 0.03889868, 0.48872033, 0.61155173, 0.46287379,\n",
              "        0.66160849, 0.59411624, 0.80979322, 0.30686983, 0.67320933],\n",
              "       [0.3412405 , 0.38796484, 0.98288959, 0.29668876, 0.29759755,\n",
              "        0.69777773, 0.20818832, 0.35784142, 0.12967685, 0.31678374],\n",
              "       [0.83781912, 0.13629189, 0.488793  , 0.88622633, 0.36151986,\n",
              "        0.39943656, 0.59559522, 0.93142758, 0.14802435, 0.94528328],\n",
              "       [0.73603423, 0.34379367, 0.0762802 , 0.79986287, 0.85386294,\n",
              "        0.34255878, 0.20633214, 0.28030403, 0.05109435, 0.13780766],\n",
              "       [0.86339613, 0.81693669, 0.43775129, 0.4229186 , 0.81222734,\n",
              "        0.58834219, 0.15430552, 0.5527023 , 0.99237141, 0.84414586]])"
            ]
          },
          "metadata": {
            "tags": []
          },
          "execution_count": 16
        }
      ]
    }
  ]
}