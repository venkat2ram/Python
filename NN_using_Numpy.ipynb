{
  "nbformat": 4,
  "nbformat_minor": 0,
  "metadata": {
    "colab": {
      "name": "NN_using_Numpy.ipynb",
      "version": "0.3.2",
      "provenance": [],
      "machine_shape": "hm",
      "include_colab_link": true
    },
    "kernelspec": {
      "name": "python3",
      "display_name": "Python 3"
    }
  },
  "cells": [
    {
      "cell_type": "markdown",
      "metadata": {
        "id": "view-in-github",
        "colab_type": "text"
      },
      "source": [
        "<a href=\"https://colab.research.google.com/github/venkat2ram/Python/blob/master/NN_using_Numpy.ipynb\" target=\"_parent\"><img src=\"https://colab.research.google.com/assets/colab-badge.svg\" alt=\"Open In Colab\"/></a>"
      ]
    },
    {
      "cell_type": "code",
      "metadata": {
        "id": "Hv3PPGQtm5t1",
        "colab_type": "code",
        "colab": {}
      },
      "source": [
        "from sklearn.datasets import fetch_openml\n",
        "\n",
        "Data=fetch_openml('mnist_784')"
      ],
      "execution_count": 0,
      "outputs": []
    },
    {
      "cell_type": "code",
      "metadata": {
        "id": "JOJfcO_UnJma",
        "colab_type": "code",
        "colab": {}
      },
      "source": [
        "X,y1=Data[\"data\"][:1000]/10000,Data[\"target\"][:1000]"
      ],
      "execution_count": 0,
      "outputs": []
    },
    {
      "cell_type": "code",
      "metadata": {
        "id": "NAEZlwI8nOzw",
        "colab_type": "code",
        "colab": {}
      },
      "source": [
        "import numpy as np\n",
        "import matplotlib \n",
        "import matplotlib.pyplot as plt\n",
        "\n",
        "def show_imag(X,y,position):\n",
        "  img=X[position]\n",
        "  imag=img.reshape(int(np.sqrt(img.size)),int(np.sqrt(img.size)))\n",
        "  plt.imshow(imag,cmap = matplotlib.cm.binary, interpolation=\"nearest\")\n",
        "  plt.show()\n",
        "  print(y[position]) "
      ],
      "execution_count": 0,
      "outputs": []
    },
    {
      "cell_type": "code",
      "metadata": {
        "id": "xG1GujVSnPwt",
        "colab_type": "code",
        "colab": {
          "base_uri": "https://localhost:8080/",
          "height": 286
        },
        "outputId": "d3d61a57-e451-4926-ae99-79ea235fae7e"
      },
      "source": [
        "show_imag(X,y1,400)"
      ],
      "execution_count": 35,
      "outputs": [
        {
          "output_type": "display_data",
          "data": {
            "image/png": "[encoded data removed]",
            "text/plain": [
              "<Figure size 432x288 with 1 Axes>"
            ]
          },
          "metadata": {
            "tags": []
          }
        },
        {
          "output_type": "stream",
          "text": [
            "2\n"
          ],
          "name": "stdout"
        }
      ]
    },
    {
      "cell_type": "code",
      "metadata": {
        "id": "NPH1fvVxnWaL",
        "colab_type": "code",
        "colab": {}
      },
      "source": [
        "def convert_binary(y):\n",
        "  y1=np.zeros((len(y),10))\n",
        "  for i in range(len(y)):\n",
        "    y1[i][int(y[i])]=1\n",
        "    \n",
        "    \n",
        "  return y1"
      ],
      "execution_count": 0,
      "outputs": []
    },
    {
      "cell_type": "code",
      "metadata": {
        "id": "87w4EY66xDpH",
        "colab_type": "code",
        "colab": {}
      },
      "source": [
        "NumHlayers=10\n",
        "NumHunits=30"
      ],
      "execution_count": 0,
      "outputs": []
    },
    {
      "cell_type": "code",
      "metadata": {
        "id": "xypaqaTDxITZ",
        "colab_type": "code",
        "colab": {
          "base_uri": "https://localhost:8080/",
          "height": 52
        },
        "outputId": "46a85007-6615-489b-a442-d24a47b9100f"
      },
      "source": [
        "y=convert_binary(y1)\n",
        "m,n=np.shape(X)\n",
        "p,s=np.shape(y)\n",
        "X_with_bias=np.c_[np.ones((m,1)),X]\n",
        "hidden=np.ones((NumHlayers,m,NumHunits+1))\n",
        "ITheta=np.random.rand(n+1,NumHunits)\n",
        "HTheta=np.random.rand(NumHlayers-1,NumHunits+1,NumHunits)\n",
        "ETheta=np.random.rand(NumHunits+1,s)\n",
        "hidden[0]=np.c_[np.ones((m,1)),1/(1+np.exp(-1*np.matmul(X_with_bias,ITheta)))]\n",
        "for i in range(NumHlayers-1):\n",
        "  hidden[i+1]=np.c_[np.ones((m,1)),1/(1+np.exp(-1*np.matmul(hidden[i],HTheta[i])))]\n",
        "pred=1/(1+np.exp(-1*np.matmul(hidden[i+1],ETheta)))\n",
        "print(pred[999],y[999])\n"
      ],
      "execution_count": 52,
      "outputs": [
        {
          "output_type": "stream",
          "text": [
            "[0.99999921 0.99999886 0.99999948 0.99999914 0.99999957 0.99999999\n",
            " 0.99999993 0.9999995  0.99999992 0.99999999] [0. 0. 0. 0. 0. 0. 1. 0. 0. 0.]\n"
          ],
          "name": "stdout"
        }
      ]
    },
    {
      "cell_type": "code",
      "metadata": {
        "id": "83wTC9cK2ugz",
        "colab_type": "code",
        "colab": {
          "base_uri": "https://localhost:8080/",
          "height": 34
        },
        "outputId": "fe405ff1-6df3-4e2c-f191-9b7f894fc5e5"
      },
      "source": [
        "print(y[5],y1[5])"
      ],
      "execution_count": 13,
      "outputs": [
        {
          "output_type": "stream",
          "text": [
            "[0. 0. 1. 0. 0. 0. 0. 0. 0. 0.] 2\n"
          ],
          "name": "stdout"
        }
      ]
    }
  ]
}