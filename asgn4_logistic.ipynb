{
  "nbformat": 4,
  "nbformat_minor": 0,
  "metadata": {
    "colab": {
      "name": "asgn4_logistic.ipynb",
      "provenance": [],
      "include_colab_link": true
    },
    "kernelspec": {
      "name": "python3",
      "display_name": "Python 3"
    }
  },
  "cells": [
    {
      "cell_type": "markdown",
      "metadata": {
        "id": "view-in-github",
        "colab_type": "text"
      },
      "source": [
        "<a href=\"https://colab.research.google.com/github/venkat2ram/Python/blob/master/asgn4_logistic.ipynb\" target=\"_parent\"><img src=\"https://colab.research.google.com/assets/colab-badge.svg\" alt=\"Open In Colab\"/></a>"
      ]
    },
    {
      "cell_type": "markdown",
      "metadata": {
        "id": "FK27lNTituu3",
        "colab_type": "text"
      },
      "source": [
        "Import required packages."
      ]
    },
    {
      "cell_type": "code",
      "metadata": {
        "id": "4m7rba_HqthQ",
        "colab_type": "code",
        "colab": {}
      },
      "source": [
        "import pandas as pd #Pandas is used for loading data into data frame, data analysis and wrangling.\n",
        "import seaborn as sns #Seaborn library is used for drawing plots and data analysis.\n",
        "from matplotlib import pyplot as plt #matplotlib is used for drawing varous plots."
      ],
      "execution_count": 0,
      "outputs": []
    },
    {
      "cell_type": "markdown",
      "metadata": {
        "id": "j_Zc-5FNtw8N",
        "colab_type": "text"
      },
      "source": [
        "Read file into dataframe."
      ]
    },
    {
      "cell_type": "code",
      "metadata": {
        "id": "Cp1G_HTotwUE",
        "colab_type": "code",
        "colab": {}
      },
      "source": [
        "df=pd.read_csv('/content/sales.csv')"
      ],
      "execution_count": 0,
      "outputs": []
    },
    {
      "cell_type": "markdown",
      "metadata": {
        "id": "uwI0oi5Nuka_",
        "colab_type": "text"
      },
      "source": [
        "Print dataframe."
      ]
    },
    {
      "cell_type": "code",
      "metadata": {
        "id": "HS3fNXUHunlZ",
        "colab_type": "code",
        "colab": {
          "base_uri": "https://localhost:8080/",
          "height": 1000
        },
        "outputId": "ba20ce94-b15f-4ccc-9c56-1b89b850d2c4"
      },
      "source": [
        "df"
      ],
      "execution_count": 27,
      "outputs": [
        {
          "output_type": "execute_result",
          "data": {
            "text/html": [
              "<div>\n",
              "<style scoped>\n",
              "    .dataframe tbody tr th:only-of-type {\n",
              "        vertical-align: middle;\n",
              "    }\n",
              "\n",
              "    .dataframe tbody tr th {\n",
              "        vertical-align: top;\n",
              "    }\n",
              "\n",
              "    .dataframe thead th {\n",
              "        text-align: right;\n",
              "    }\n",
              "</style>\n",
              "<table border=\"1\" class=\"dataframe\">\n",
              "  <thead>\n",
              "    <tr style=\"text-align: right;\">\n",
              "      <th></th>\n",
              "      <th>User ID</th>\n",
              "      <th>Gender</th>\n",
              "      <th>Age</th>\n",
              "      <th>EstimatedSalary</th>\n",
              "      <th>Purchased</th>\n",
              "    </tr>\n",
              "  </thead>\n",
              "  <tbody>\n",
              "    <tr>\n",
              "      <th>0</th>\n",
              "      <td>15624510</td>\n",
              "      <td>Male</td>\n",
              "      <td>19.0</td>\n",
              "      <td>19000.0</td>\n",
              "      <td>0</td>\n",
              "    </tr>\n",
              "    <tr>\n",
              "      <th>1</th>\n",
              "      <td>15810944</td>\n",
              "      <td>Male</td>\n",
              "      <td>35.0</td>\n",
              "      <td>20000.0</td>\n",
              "      <td>0</td>\n",
              "    </tr>\n",
              "    <tr>\n",
              "      <th>2</th>\n",
              "      <td>15668575</td>\n",
              "      <td>Female</td>\n",
              "      <td>26.0</td>\n",
              "      <td>43000.0</td>\n",
              "      <td>0</td>\n",
              "    </tr>\n",
              "    <tr>\n",
              "      <th>3</th>\n",
              "      <td>15603246</td>\n",
              "      <td>Female</td>\n",
              "      <td>27.0</td>\n",
              "      <td>57000.0</td>\n",
              "      <td>0</td>\n",
              "    </tr>\n",
              "    <tr>\n",
              "      <th>4</th>\n",
              "      <td>15804002</td>\n",
              "      <td>Male</td>\n",
              "      <td>19.0</td>\n",
              "      <td>76000.0</td>\n",
              "      <td>0</td>\n",
              "    </tr>\n",
              "    <tr>\n",
              "      <th>5</th>\n",
              "      <td>15728773</td>\n",
              "      <td>Male</td>\n",
              "      <td>27.0</td>\n",
              "      <td>58000.0</td>\n",
              "      <td>0</td>\n",
              "    </tr>\n",
              "    <tr>\n",
              "      <th>6</th>\n",
              "      <td>15598044</td>\n",
              "      <td>Female</td>\n",
              "      <td>33.0</td>\n",
              "      <td>84000.0</td>\n",
              "      <td>0</td>\n",
              "    </tr>\n",
              "    <tr>\n",
              "      <th>7</th>\n",
              "      <td>15694829</td>\n",
              "      <td>Female</td>\n",
              "      <td>32.0</td>\n",
              "      <td>150000.0</td>\n",
              "      <td>1</td>\n",
              "    </tr>\n",
              "    <tr>\n",
              "      <th>8</th>\n",
              "      <td>15600575</td>\n",
              "      <td>Male</td>\n",
              "      <td>25.0</td>\n",
              "      <td>33000.0</td>\n",
              "      <td>0</td>\n",
              "    </tr>\n",
              "    <tr>\n",
              "      <th>9</th>\n",
              "      <td>15727311</td>\n",
              "      <td>Female</td>\n",
              "      <td>35.0</td>\n",
              "      <td>20000.0</td>\n",
              "      <td>0</td>\n",
              "    </tr>\n",
              "    <tr>\n",
              "      <th>10</th>\n",
              "      <td>15570769</td>\n",
              "      <td>Female</td>\n",
              "      <td>26.0</td>\n",
              "      <td>80000.0</td>\n",
              "      <td>0</td>\n",
              "    </tr>\n",
              "    <tr>\n",
              "      <th>11</th>\n",
              "      <td>15606274</td>\n",
              "      <td>Female</td>\n",
              "      <td>26.0</td>\n",
              "      <td>52000.0</td>\n",
              "      <td>0</td>\n",
              "    </tr>\n",
              "    <tr>\n",
              "      <th>12</th>\n",
              "      <td>15746139</td>\n",
              "      <td>Male</td>\n",
              "      <td>20.0</td>\n",
              "      <td>86000.0</td>\n",
              "      <td>0</td>\n",
              "    </tr>\n",
              "    <tr>\n",
              "      <th>13</th>\n",
              "      <td>15704987</td>\n",
              "      <td>Male</td>\n",
              "      <td>34.0</td>\n",
              "      <td>18000.0</td>\n",
              "      <td>0</td>\n",
              "    </tr>\n",
              "    <tr>\n",
              "      <th>14</th>\n",
              "      <td>15628972</td>\n",
              "      <td>Male</td>\n",
              "      <td>18.0</td>\n",
              "      <td>82000.0</td>\n",
              "      <td>0</td>\n",
              "    </tr>\n",
              "    <tr>\n",
              "      <th>15</th>\n",
              "      <td>15697686</td>\n",
              "      <td>Male</td>\n",
              "      <td>29.0</td>\n",
              "      <td>80000.0</td>\n",
              "      <td>0</td>\n",
              "    </tr>\n",
              "    <tr>\n",
              "      <th>16</th>\n",
              "      <td>15733883</td>\n",
              "      <td>Male</td>\n",
              "      <td>47.0</td>\n",
              "      <td>25000.0</td>\n",
              "      <td>1</td>\n",
              "    </tr>\n",
              "    <tr>\n",
              "      <th>17</th>\n",
              "      <td>15617482</td>\n",
              "      <td>Male</td>\n",
              "      <td>45.0</td>\n",
              "      <td>20000.0</td>\n",
              "      <td>1</td>\n",
              "    </tr>\n",
              "    <tr>\n",
              "      <th>18</th>\n",
              "      <td>15704583</td>\n",
              "      <td>Male</td>\n",
              "      <td>46.0</td>\n",
              "      <td>28000.0</td>\n",
              "      <td>1</td>\n",
              "    </tr>\n",
              "    <tr>\n",
              "      <th>19</th>\n",
              "      <td>15621083</td>\n",
              "      <td>Female</td>\n",
              "      <td>48.0</td>\n",
              "      <td>29000.0</td>\n",
              "      <td>1</td>\n",
              "    </tr>\n",
              "    <tr>\n",
              "      <th>20</th>\n",
              "      <td>15649487</td>\n",
              "      <td>Male</td>\n",
              "      <td>45.0</td>\n",
              "      <td>22000.0</td>\n",
              "      <td>1</td>\n",
              "    </tr>\n",
              "    <tr>\n",
              "      <th>21</th>\n",
              "      <td>15736760</td>\n",
              "      <td>Female</td>\n",
              "      <td>36.0</td>\n",
              "      <td>49000.0</td>\n",
              "      <td>1</td>\n",
              "    </tr>\n",
              "    <tr>\n",
              "      <th>22</th>\n",
              "      <td>15714658</td>\n",
              "      <td>Male</td>\n",
              "      <td>48.0</td>\n",
              "      <td>41000.0</td>\n",
              "      <td>1</td>\n",
              "    </tr>\n",
              "    <tr>\n",
              "      <th>23</th>\n",
              "      <td>15599081</td>\n",
              "      <td>Female</td>\n",
              "      <td>45.0</td>\n",
              "      <td>22000.0</td>\n",
              "      <td>1</td>\n",
              "    </tr>\n",
              "    <tr>\n",
              "      <th>24</th>\n",
              "      <td>15705113</td>\n",
              "      <td>Male</td>\n",
              "      <td>46.0</td>\n",
              "      <td>23000.0</td>\n",
              "      <td>1</td>\n",
              "    </tr>\n",
              "    <tr>\n",
              "      <th>25</th>\n",
              "      <td>15631159</td>\n",
              "      <td>Male</td>\n",
              "      <td>47.0</td>\n",
              "      <td>20000.0</td>\n",
              "      <td>1</td>\n",
              "    </tr>\n",
              "    <tr>\n",
              "      <th>26</th>\n",
              "      <td>15792818</td>\n",
              "      <td>Male</td>\n",
              "      <td>49.0</td>\n",
              "      <td>28000.0</td>\n",
              "      <td>1</td>\n",
              "    </tr>\n",
              "    <tr>\n",
              "      <th>27</th>\n",
              "      <td>15633531</td>\n",
              "      <td>Female</td>\n",
              "      <td>47.0</td>\n",
              "      <td>30000.0</td>\n",
              "      <td>1</td>\n",
              "    </tr>\n",
              "    <tr>\n",
              "      <th>28</th>\n",
              "      <td>15744529</td>\n",
              "      <td>Male</td>\n",
              "      <td>29.0</td>\n",
              "      <td>30000.0</td>\n",
              "      <td>0</td>\n",
              "    </tr>\n",
              "    <tr>\n",
              "      <th>29</th>\n",
              "      <td>15669656</td>\n",
              "      <td>Male</td>\n",
              "      <td>37.0</td>\n",
              "      <td>18000.0</td>\n",
              "      <td>0</td>\n",
              "    </tr>\n",
              "    <tr>\n",
              "      <th>...</th>\n",
              "      <td>...</td>\n",
              "      <td>...</td>\n",
              "      <td>...</td>\n",
              "      <td>...</td>\n",
              "      <td>...</td>\n",
              "    </tr>\n",
              "    <tr>\n",
              "      <th>971</th>\n",
              "      <td>85611430</td>\n",
              "      <td>Female</td>\n",
              "      <td>60.0</td>\n",
              "      <td>46000.0</td>\n",
              "      <td>1</td>\n",
              "    </tr>\n",
              "    <tr>\n",
              "      <th>972</th>\n",
              "      <td>85774744</td>\n",
              "      <td>Male</td>\n",
              "      <td>60.0</td>\n",
              "      <td>83000.0</td>\n",
              "      <td>1</td>\n",
              "    </tr>\n",
              "    <tr>\n",
              "      <th>973</th>\n",
              "      <td>85629885</td>\n",
              "      <td>Female</td>\n",
              "      <td>39.0</td>\n",
              "      <td>73000.0</td>\n",
              "      <td>0</td>\n",
              "    </tr>\n",
              "    <tr>\n",
              "      <th>974</th>\n",
              "      <td>85708791</td>\n",
              "      <td>Male</td>\n",
              "      <td>59.0</td>\n",
              "      <td>130000.0</td>\n",
              "      <td>1</td>\n",
              "    </tr>\n",
              "    <tr>\n",
              "      <th>975</th>\n",
              "      <td>85793890</td>\n",
              "      <td>Female</td>\n",
              "      <td>37.0</td>\n",
              "      <td>80000.0</td>\n",
              "      <td>0</td>\n",
              "    </tr>\n",
              "    <tr>\n",
              "      <th>976</th>\n",
              "      <td>85646091</td>\n",
              "      <td>Female</td>\n",
              "      <td>46.0</td>\n",
              "      <td>32000.0</td>\n",
              "      <td>1</td>\n",
              "    </tr>\n",
              "    <tr>\n",
              "      <th>977</th>\n",
              "      <td>85596984</td>\n",
              "      <td>Female</td>\n",
              "      <td>46.0</td>\n",
              "      <td>74000.0</td>\n",
              "      <td>0</td>\n",
              "    </tr>\n",
              "    <tr>\n",
              "      <th>978</th>\n",
              "      <td>85800215</td>\n",
              "      <td>Female</td>\n",
              "      <td>42.0</td>\n",
              "      <td>53000.0</td>\n",
              "      <td>0</td>\n",
              "    </tr>\n",
              "    <tr>\n",
              "      <th>979</th>\n",
              "      <td>85577806</td>\n",
              "      <td>Male</td>\n",
              "      <td>41.0</td>\n",
              "      <td>87000.0</td>\n",
              "      <td>1</td>\n",
              "    </tr>\n",
              "    <tr>\n",
              "      <th>980</th>\n",
              "      <td>85749381</td>\n",
              "      <td>Female</td>\n",
              "      <td>58.0</td>\n",
              "      <td>23000.0</td>\n",
              "      <td>1</td>\n",
              "    </tr>\n",
              "    <tr>\n",
              "      <th>981</th>\n",
              "      <td>85683758</td>\n",
              "      <td>Male</td>\n",
              "      <td>42.0</td>\n",
              "      <td>64000.0</td>\n",
              "      <td>0</td>\n",
              "    </tr>\n",
              "    <tr>\n",
              "      <th>982</th>\n",
              "      <td>85670615</td>\n",
              "      <td>Male</td>\n",
              "      <td>48.0</td>\n",
              "      <td>33000.0</td>\n",
              "      <td>1</td>\n",
              "    </tr>\n",
              "    <tr>\n",
              "      <th>983</th>\n",
              "      <td>85715622</td>\n",
              "      <td>Female</td>\n",
              "      <td>44.0</td>\n",
              "      <td>139000.0</td>\n",
              "      <td>1</td>\n",
              "    </tr>\n",
              "    <tr>\n",
              "      <th>984</th>\n",
              "      <td>85707634</td>\n",
              "      <td>Male</td>\n",
              "      <td>49.0</td>\n",
              "      <td>28000.0</td>\n",
              "      <td>1</td>\n",
              "    </tr>\n",
              "    <tr>\n",
              "      <th>985</th>\n",
              "      <td>85806901</td>\n",
              "      <td>Female</td>\n",
              "      <td>57.0</td>\n",
              "      <td>33000.0</td>\n",
              "      <td>1</td>\n",
              "    </tr>\n",
              "    <tr>\n",
              "      <th>986</th>\n",
              "      <td>85775335</td>\n",
              "      <td>Male</td>\n",
              "      <td>56.0</td>\n",
              "      <td>60000.0</td>\n",
              "      <td>1</td>\n",
              "    </tr>\n",
              "    <tr>\n",
              "      <th>987</th>\n",
              "      <td>85724150</td>\n",
              "      <td>Female</td>\n",
              "      <td>49.0</td>\n",
              "      <td>39000.0</td>\n",
              "      <td>1</td>\n",
              "    </tr>\n",
              "    <tr>\n",
              "      <th>988</th>\n",
              "      <td>85627220</td>\n",
              "      <td>Male</td>\n",
              "      <td>39.0</td>\n",
              "      <td>71000.0</td>\n",
              "      <td>0</td>\n",
              "    </tr>\n",
              "    <tr>\n",
              "      <th>989</th>\n",
              "      <td>85672330</td>\n",
              "      <td>Male</td>\n",
              "      <td>47.0</td>\n",
              "      <td>34000.0</td>\n",
              "      <td>1</td>\n",
              "    </tr>\n",
              "    <tr>\n",
              "      <th>990</th>\n",
              "      <td>85668521</td>\n",
              "      <td>Female</td>\n",
              "      <td>48.0</td>\n",
              "      <td>35000.0</td>\n",
              "      <td>1</td>\n",
              "    </tr>\n",
              "    <tr>\n",
              "      <th>991</th>\n",
              "      <td>85807837</td>\n",
              "      <td>Male</td>\n",
              "      <td>48.0</td>\n",
              "      <td>33000.0</td>\n",
              "      <td>1</td>\n",
              "    </tr>\n",
              "    <tr>\n",
              "      <th>992</th>\n",
              "      <td>85592570</td>\n",
              "      <td>Male</td>\n",
              "      <td>47.0</td>\n",
              "      <td>23000.0</td>\n",
              "      <td>1</td>\n",
              "    </tr>\n",
              "    <tr>\n",
              "      <th>993</th>\n",
              "      <td>85748589</td>\n",
              "      <td>Female</td>\n",
              "      <td>45.0</td>\n",
              "      <td>45000.0</td>\n",
              "      <td>1</td>\n",
              "    </tr>\n",
              "    <tr>\n",
              "      <th>994</th>\n",
              "      <td>85635893</td>\n",
              "      <td>Male</td>\n",
              "      <td>60.0</td>\n",
              "      <td>42000.0</td>\n",
              "      <td>1</td>\n",
              "    </tr>\n",
              "    <tr>\n",
              "      <th>995</th>\n",
              "      <td>85757632</td>\n",
              "      <td>Female</td>\n",
              "      <td>39.0</td>\n",
              "      <td>59000.0</td>\n",
              "      <td>0</td>\n",
              "    </tr>\n",
              "    <tr>\n",
              "      <th>996</th>\n",
              "      <td>85691863</td>\n",
              "      <td>Female</td>\n",
              "      <td>46.0</td>\n",
              "      <td>41000.0</td>\n",
              "      <td>1</td>\n",
              "    </tr>\n",
              "    <tr>\n",
              "      <th>997</th>\n",
              "      <td>85706071</td>\n",
              "      <td>Male</td>\n",
              "      <td>51.0</td>\n",
              "      <td>23000.0</td>\n",
              "      <td>1</td>\n",
              "    </tr>\n",
              "    <tr>\n",
              "      <th>998</th>\n",
              "      <td>85654296</td>\n",
              "      <td>Female</td>\n",
              "      <td>50.0</td>\n",
              "      <td>20000.0</td>\n",
              "      <td>1</td>\n",
              "    </tr>\n",
              "    <tr>\n",
              "      <th>999</th>\n",
              "      <td>85755018</td>\n",
              "      <td>Male</td>\n",
              "      <td>36.0</td>\n",
              "      <td>33000.0</td>\n",
              "      <td>0</td>\n",
              "    </tr>\n",
              "    <tr>\n",
              "      <th>1000</th>\n",
              "      <td>85594041</td>\n",
              "      <td>Female</td>\n",
              "      <td>49.0</td>\n",
              "      <td>36000.0</td>\n",
              "      <td>1</td>\n",
              "    </tr>\n",
              "  </tbody>\n",
              "</table>\n",
              "<p>1001 rows × 5 columns</p>\n",
              "</div>"
            ],
            "text/plain": [
              "       User ID  Gender   Age  EstimatedSalary  Purchased\n",
              "0     15624510    Male  19.0          19000.0          0\n",
              "1     15810944    Male  35.0          20000.0          0\n",
              "2     15668575  Female  26.0          43000.0          0\n",
              "3     15603246  Female  27.0          57000.0          0\n",
              "4     15804002    Male  19.0          76000.0          0\n",
              "5     15728773    Male  27.0          58000.0          0\n",
              "6     15598044  Female  33.0          84000.0          0\n",
              "7     15694829  Female  32.0         150000.0          1\n",
              "8     15600575    Male  25.0          33000.0          0\n",
              "9     15727311  Female  35.0          20000.0          0\n",
              "10    15570769  Female  26.0          80000.0          0\n",
              "11    15606274  Female  26.0          52000.0          0\n",
              "12    15746139    Male  20.0          86000.0          0\n",
              "13    15704987    Male  34.0          18000.0          0\n",
              "14    15628972    Male  18.0          82000.0          0\n",
              "15    15697686    Male  29.0          80000.0          0\n",
              "16    15733883    Male  47.0          25000.0          1\n",
              "17    15617482    Male  45.0          20000.0          1\n",
              "18    15704583    Male  46.0          28000.0          1\n",
              "19    15621083  Female  48.0          29000.0          1\n",
              "20    15649487    Male  45.0          22000.0          1\n",
              "21    15736760  Female  36.0          49000.0          1\n",
              "22    15714658    Male  48.0          41000.0          1\n",
              "23    15599081  Female  45.0          22000.0          1\n",
              "24    15705113    Male  46.0          23000.0          1\n",
              "25    15631159    Male  47.0          20000.0          1\n",
              "26    15792818    Male  49.0          28000.0          1\n",
              "27    15633531  Female  47.0          30000.0          1\n",
              "28    15744529    Male  29.0          30000.0          0\n",
              "29    15669656    Male  37.0          18000.0          0\n",
              "...        ...     ...   ...              ...        ...\n",
              "971   85611430  Female  60.0          46000.0          1\n",
              "972   85774744    Male  60.0          83000.0          1\n",
              "973   85629885  Female  39.0          73000.0          0\n",
              "974   85708791    Male  59.0         130000.0          1\n",
              "975   85793890  Female  37.0          80000.0          0\n",
              "976   85646091  Female  46.0          32000.0          1\n",
              "977   85596984  Female  46.0          74000.0          0\n",
              "978   85800215  Female  42.0          53000.0          0\n",
              "979   85577806    Male  41.0          87000.0          1\n",
              "980   85749381  Female  58.0          23000.0          1\n",
              "981   85683758    Male  42.0          64000.0          0\n",
              "982   85670615    Male  48.0          33000.0          1\n",
              "983   85715622  Female  44.0         139000.0          1\n",
              "984   85707634    Male  49.0          28000.0          1\n",
              "985   85806901  Female  57.0          33000.0          1\n",
              "986   85775335    Male  56.0          60000.0          1\n",
              "987   85724150  Female  49.0          39000.0          1\n",
              "988   85627220    Male  39.0          71000.0          0\n",
              "989   85672330    Male  47.0          34000.0          1\n",
              "990   85668521  Female  48.0          35000.0          1\n",
              "991   85807837    Male  48.0          33000.0          1\n",
              "992   85592570    Male  47.0          23000.0          1\n",
              "993   85748589  Female  45.0          45000.0          1\n",
              "994   85635893    Male  60.0          42000.0          1\n",
              "995   85757632  Female  39.0          59000.0          0\n",
              "996   85691863  Female  46.0          41000.0          1\n",
              "997   85706071    Male  51.0          23000.0          1\n",
              "998   85654296  Female  50.0          20000.0          1\n",
              "999   85755018    Male  36.0          33000.0          0\n",
              "1000  85594041  Female  49.0          36000.0          1\n",
              "\n",
              "[1001 rows x 5 columns]"
            ]
          },
          "metadata": {
            "tags": []
          },
          "execution_count": 27
        }
      ]
    },
    {
      "cell_type": "markdown",
      "metadata": {
        "id": "MLz8KzT8u3xx",
        "colab_type": "text"
      },
      "source": [
        "Print shape of the data set."
      ]
    },
    {
      "cell_type": "code",
      "metadata": {
        "id": "XDnhPgAyu7th",
        "colab_type": "code",
        "colab": {
          "base_uri": "https://localhost:8080/",
          "height": 34
        },
        "outputId": "271f6905-4c02-49e3-f897-c39ec45bc694"
      },
      "source": [
        "df.shape"
      ],
      "execution_count": 28,
      "outputs": [
        {
          "output_type": "execute_result",
          "data": {
            "text/plain": [
              "(1001, 5)"
            ]
          },
          "metadata": {
            "tags": []
          },
          "execution_count": 28
        }
      ]
    },
    {
      "cell_type": "markdown",
      "metadata": {
        "id": "_EdoBsSVvSFi",
        "colab_type": "text"
      },
      "source": [
        "Print number of rows only."
      ]
    },
    {
      "cell_type": "code",
      "metadata": {
        "id": "mCN2_M2GvBlh",
        "colab_type": "code",
        "colab": {
          "base_uri": "https://localhost:8080/",
          "height": 34
        },
        "outputId": "ed7fac71-fd72-44ce-d13a-2442c87472b4"
      },
      "source": [
        "df.shape[0]"
      ],
      "execution_count": 29,
      "outputs": [
        {
          "output_type": "execute_result",
          "data": {
            "text/plain": [
              "1001"
            ]
          },
          "metadata": {
            "tags": []
          },
          "execution_count": 29
        }
      ]
    },
    {
      "cell_type": "markdown",
      "metadata": {
        "id": "GV57Dq50vVaj",
        "colab_type": "text"
      },
      "source": [
        "Print number of columns only."
      ]
    },
    {
      "cell_type": "code",
      "metadata": {
        "id": "drqAWJW9vLB1",
        "colab_type": "code",
        "colab": {
          "base_uri": "https://localhost:8080/",
          "height": 34
        },
        "outputId": "59d2aa56-dccf-42eb-b45e-0c96e13e1ea2"
      },
      "source": [
        "df.shape[1]"
      ],
      "execution_count": 30,
      "outputs": [
        {
          "output_type": "execute_result",
          "data": {
            "text/plain": [
              "5"
            ]
          },
          "metadata": {
            "tags": []
          },
          "execution_count": 30
        }
      ]
    },
    {
      "cell_type": "markdown",
      "metadata": {
        "id": "pRu0UlfEux77",
        "colab_type": "text"
      },
      "source": [
        "Print first 5 rows."
      ]
    },
    {
      "cell_type": "code",
      "metadata": {
        "id": "01Wcsdfst2ki",
        "colab_type": "code",
        "colab": {
          "base_uri": "https://localhost:8080/",
          "height": 204
        },
        "outputId": "391af3ab-d578-417d-93ea-3202565328ba"
      },
      "source": [
        "df.head()"
      ],
      "execution_count": 31,
      "outputs": [
        {
          "output_type": "execute_result",
          "data": {
            "text/html": [
              "<div>\n",
              "<style scoped>\n",
              "    .dataframe tbody tr th:only-of-type {\n",
              "        vertical-align: middle;\n",
              "    }\n",
              "\n",
              "    .dataframe tbody tr th {\n",
              "        vertical-align: top;\n",
              "    }\n",
              "\n",
              "    .dataframe thead th {\n",
              "        text-align: right;\n",
              "    }\n",
              "</style>\n",
              "<table border=\"1\" class=\"dataframe\">\n",
              "  <thead>\n",
              "    <tr style=\"text-align: right;\">\n",
              "      <th></th>\n",
              "      <th>User ID</th>\n",
              "      <th>Gender</th>\n",
              "      <th>Age</th>\n",
              "      <th>EstimatedSalary</th>\n",
              "      <th>Purchased</th>\n",
              "    </tr>\n",
              "  </thead>\n",
              "  <tbody>\n",
              "    <tr>\n",
              "      <th>0</th>\n",
              "      <td>15624510</td>\n",
              "      <td>Male</td>\n",
              "      <td>19.0</td>\n",
              "      <td>19000.0</td>\n",
              "      <td>0</td>\n",
              "    </tr>\n",
              "    <tr>\n",
              "      <th>1</th>\n",
              "      <td>15810944</td>\n",
              "      <td>Male</td>\n",
              "      <td>35.0</td>\n",
              "      <td>20000.0</td>\n",
              "      <td>0</td>\n",
              "    </tr>\n",
              "    <tr>\n",
              "      <th>2</th>\n",
              "      <td>15668575</td>\n",
              "      <td>Female</td>\n",
              "      <td>26.0</td>\n",
              "      <td>43000.0</td>\n",
              "      <td>0</td>\n",
              "    </tr>\n",
              "    <tr>\n",
              "      <th>3</th>\n",
              "      <td>15603246</td>\n",
              "      <td>Female</td>\n",
              "      <td>27.0</td>\n",
              "      <td>57000.0</td>\n",
              "      <td>0</td>\n",
              "    </tr>\n",
              "    <tr>\n",
              "      <th>4</th>\n",
              "      <td>15804002</td>\n",
              "      <td>Male</td>\n",
              "      <td>19.0</td>\n",
              "      <td>76000.0</td>\n",
              "      <td>0</td>\n",
              "    </tr>\n",
              "  </tbody>\n",
              "</table>\n",
              "</div>"
            ],
            "text/plain": [
              "    User ID  Gender   Age  EstimatedSalary  Purchased\n",
              "0  15624510    Male  19.0          19000.0          0\n",
              "1  15810944    Male  35.0          20000.0          0\n",
              "2  15668575  Female  26.0          43000.0          0\n",
              "3  15603246  Female  27.0          57000.0          0\n",
              "4  15804002    Male  19.0          76000.0          0"
            ]
          },
          "metadata": {
            "tags": []
          },
          "execution_count": 31
        }
      ]
    },
    {
      "cell_type": "markdown",
      "metadata": {
        "id": "dQ_ZH0NGt1NU",
        "colab_type": "text"
      },
      "source": [
        "Print last 5 records."
      ]
    },
    {
      "cell_type": "code",
      "metadata": {
        "id": "OZK3gUtzvdew",
        "colab_type": "code",
        "colab": {
          "base_uri": "https://localhost:8080/",
          "height": 204
        },
        "outputId": "765392a3-3b09-4b25-9a70-279da5f57cf9"
      },
      "source": [
        "df.tail()"
      ],
      "execution_count": 32,
      "outputs": [
        {
          "output_type": "execute_result",
          "data": {
            "text/html": [
              "<div>\n",
              "<style scoped>\n",
              "    .dataframe tbody tr th:only-of-type {\n",
              "        vertical-align: middle;\n",
              "    }\n",
              "\n",
              "    .dataframe tbody tr th {\n",
              "        vertical-align: top;\n",
              "    }\n",
              "\n",
              "    .dataframe thead th {\n",
              "        text-align: right;\n",
              "    }\n",
              "</style>\n",
              "<table border=\"1\" class=\"dataframe\">\n",
              "  <thead>\n",
              "    <tr style=\"text-align: right;\">\n",
              "      <th></th>\n",
              "      <th>User ID</th>\n",
              "      <th>Gender</th>\n",
              "      <th>Age</th>\n",
              "      <th>EstimatedSalary</th>\n",
              "      <th>Purchased</th>\n",
              "    </tr>\n",
              "  </thead>\n",
              "  <tbody>\n",
              "    <tr>\n",
              "      <th>996</th>\n",
              "      <td>85691863</td>\n",
              "      <td>Female</td>\n",
              "      <td>46.0</td>\n",
              "      <td>41000.0</td>\n",
              "      <td>1</td>\n",
              "    </tr>\n",
              "    <tr>\n",
              "      <th>997</th>\n",
              "      <td>85706071</td>\n",
              "      <td>Male</td>\n",
              "      <td>51.0</td>\n",
              "      <td>23000.0</td>\n",
              "      <td>1</td>\n",
              "    </tr>\n",
              "    <tr>\n",
              "      <th>998</th>\n",
              "      <td>85654296</td>\n",
              "      <td>Female</td>\n",
              "      <td>50.0</td>\n",
              "      <td>20000.0</td>\n",
              "      <td>1</td>\n",
              "    </tr>\n",
              "    <tr>\n",
              "      <th>999</th>\n",
              "      <td>85755018</td>\n",
              "      <td>Male</td>\n",
              "      <td>36.0</td>\n",
              "      <td>33000.0</td>\n",
              "      <td>0</td>\n",
              "    </tr>\n",
              "    <tr>\n",
              "      <th>1000</th>\n",
              "      <td>85594041</td>\n",
              "      <td>Female</td>\n",
              "      <td>49.0</td>\n",
              "      <td>36000.0</td>\n",
              "      <td>1</td>\n",
              "    </tr>\n",
              "  </tbody>\n",
              "</table>\n",
              "</div>"
            ],
            "text/plain": [
              "       User ID  Gender   Age  EstimatedSalary  Purchased\n",
              "996   85691863  Female  46.0          41000.0          1\n",
              "997   85706071    Male  51.0          23000.0          1\n",
              "998   85654296  Female  50.0          20000.0          1\n",
              "999   85755018    Male  36.0          33000.0          0\n",
              "1000  85594041  Female  49.0          36000.0          1"
            ]
          },
          "metadata": {
            "tags": []
          },
          "execution_count": 32
        }
      ]
    },
    {
      "cell_type": "markdown",
      "metadata": {
        "id": "Sg0wMXFPvuJP",
        "colab_type": "text"
      },
      "source": [
        "Create a count plot to check the data based on gender."
      ]
    },
    {
      "cell_type": "code",
      "metadata": {
        "id": "1ePLf1qKvwOg",
        "colab_type": "code",
        "colab": {
          "base_uri": "https://localhost:8080/",
          "height": 300
        },
        "outputId": "903af881-8b70-457b-8b1a-621ebcf85d5d"
      },
      "source": [
        "sns.countplot(df['Purchased'],hue=df['Gender'])"
      ],
      "execution_count": 33,
      "outputs": [
        {
          "output_type": "execute_result",
          "data": {
            "text/plain": [
              "<matplotlib.axes._subplots.AxesSubplot at 0x7fc1b3550470>"
            ]
          },
          "metadata": {
            "tags": []
          },
          "execution_count": 33
        },
        {
          "output_type": "display_data",
          "data": {
            "image/png": "[encoded data removed]",
            "text/plain": [
              "<Figure size 432x288 with 1 Axes>"
            ]
          },
          "metadata": {
            "tags": []
          }
        }
      ]
    },
    {
      "cell_type": "markdown",
      "metadata": {
        "id": "fcDodejVv0lV",
        "colab_type": "text"
      },
      "source": [
        "Create a heatmap to identify Nulls in data."
      ]
    },
    {
      "cell_type": "code",
      "metadata": {
        "id": "9bwyblqbv1vP",
        "colab_type": "code",
        "colab": {
          "base_uri": "https://localhost:8080/",
          "height": 358
        },
        "outputId": "fabe2ecc-e217-4856-f90f-0ada7140f548"
      },
      "source": [
        "sns.heatmap(df.isnull(),yticklabels=False,)"
      ],
      "execution_count": 34,
      "outputs": [
        {
          "output_type": "execute_result",
          "data": {
            "text/plain": [
              "<matplotlib.axes._subplots.AxesSubplot at 0x7fc1b7103908>"
            ]
          },
          "metadata": {
            "tags": []
          },
          "execution_count": 34
        },
        {
          "output_type": "display_data",
          "data": {
            "image/png": "[encoded data removed]",
            "text/plain": [
              "<Figure size 432x288 with 2 Axes>"
            ]
          },
          "metadata": {
            "tags": []
          }
        }
      ]
    },
    {
      "cell_type": "markdown",
      "metadata": {
        "id": "NbalChwyv8bb",
        "colab_type": "text"
      },
      "source": [
        "Fill the Nulls in Age and Estimatedsalary with their mean values."
      ]
    },
    {
      "cell_type": "code",
      "metadata": {
        "id": "SUGutnW6v8HN",
        "colab_type": "code",
        "colab": {}
      },
      "source": [
        "df['Age'].fillna(df['Age'].mean(),inplace=True)"
      ],
      "execution_count": 0,
      "outputs": []
    },
    {
      "cell_type": "markdown",
      "metadata": {
        "id": "NcA_SzHCwCRA",
        "colab_type": "text"
      },
      "source": [
        "Drop the column userid as that is not qunatitative value."
      ]
    },
    {
      "cell_type": "code",
      "metadata": {
        "id": "CHB3zsXWwDAf",
        "colab_type": "code",
        "colab": {
          "base_uri": "https://localhost:8080/",
          "height": 204
        },
        "outputId": "1102075c-4dbe-499a-c516-ed92df289739"
      },
      "source": [
        "df.drop('User ID',axis=1,inplace=True)\n",
        "df.head()"
      ],
      "execution_count": 36,
      "outputs": [
        {
          "output_type": "execute_result",
          "data": {
            "text/html": [
              "<div>\n",
              "<style scoped>\n",
              "    .dataframe tbody tr th:only-of-type {\n",
              "        vertical-align: middle;\n",
              "    }\n",
              "\n",
              "    .dataframe tbody tr th {\n",
              "        vertical-align: top;\n",
              "    }\n",
              "\n",
              "    .dataframe thead th {\n",
              "        text-align: right;\n",
              "    }\n",
              "</style>\n",
              "<table border=\"1\" class=\"dataframe\">\n",
              "  <thead>\n",
              "    <tr style=\"text-align: right;\">\n",
              "      <th></th>\n",
              "      <th>Gender</th>\n",
              "      <th>Age</th>\n",
              "      <th>EstimatedSalary</th>\n",
              "      <th>Purchased</th>\n",
              "    </tr>\n",
              "  </thead>\n",
              "  <tbody>\n",
              "    <tr>\n",
              "      <th>0</th>\n",
              "      <td>Male</td>\n",
              "      <td>19.0</td>\n",
              "      <td>19000.0</td>\n",
              "      <td>0</td>\n",
              "    </tr>\n",
              "    <tr>\n",
              "      <th>1</th>\n",
              "      <td>Male</td>\n",
              "      <td>35.0</td>\n",
              "      <td>20000.0</td>\n",
              "      <td>0</td>\n",
              "    </tr>\n",
              "    <tr>\n",
              "      <th>2</th>\n",
              "      <td>Female</td>\n",
              "      <td>26.0</td>\n",
              "      <td>43000.0</td>\n",
              "      <td>0</td>\n",
              "    </tr>\n",
              "    <tr>\n",
              "      <th>3</th>\n",
              "      <td>Female</td>\n",
              "      <td>27.0</td>\n",
              "      <td>57000.0</td>\n",
              "      <td>0</td>\n",
              "    </tr>\n",
              "    <tr>\n",
              "      <th>4</th>\n",
              "      <td>Male</td>\n",
              "      <td>19.0</td>\n",
              "      <td>76000.0</td>\n",
              "      <td>0</td>\n",
              "    </tr>\n",
              "  </tbody>\n",
              "</table>\n",
              "</div>"
            ],
            "text/plain": [
              "   Gender   Age  EstimatedSalary  Purchased\n",
              "0    Male  19.0          19000.0          0\n",
              "1    Male  35.0          20000.0          0\n",
              "2  Female  26.0          43000.0          0\n",
              "3  Female  27.0          57000.0          0\n",
              "4    Male  19.0          76000.0          0"
            ]
          },
          "metadata": {
            "tags": []
          },
          "execution_count": 36
        }
      ]
    },
    {
      "cell_type": "markdown",
      "metadata": {
        "id": "opudrU-PwKtb",
        "colab_type": "text"
      },
      "source": [
        "Delete the records from data set where estimated salary is null."
      ]
    },
    {
      "cell_type": "code",
      "metadata": {
        "id": "VGdeAjAZwNBZ",
        "colab_type": "code",
        "colab": {
          "base_uri": "https://localhost:8080/",
          "height": 170
        },
        "outputId": "97027770-37cd-4e61-dc4f-e4340bb407eb"
      },
      "source": [
        "df.dropna(inplace=True)\n",
        "df.info()"
      ],
      "execution_count": 37,
      "outputs": [
        {
          "output_type": "stream",
          "text": [
            "<class 'pandas.core.frame.DataFrame'>\n",
            "Int64Index: 982 entries, 0 to 1000\n",
            "Data columns (total 4 columns):\n",
            "Gender             982 non-null object\n",
            "Age                982 non-null float64\n",
            "EstimatedSalary    982 non-null float64\n",
            "Purchased          982 non-null int64\n",
            "dtypes: float64(2), int64(1), object(1)\n",
            "memory usage: 38.4+ KB\n"
          ],
          "name": "stdout"
        }
      ]
    },
    {
      "cell_type": "markdown",
      "metadata": {
        "id": "EWP9AmffwWMQ",
        "colab_type": "text"
      },
      "source": [
        "As a final step, convert the Gender column into binary."
      ]
    },
    {
      "cell_type": "code",
      "metadata": {
        "id": "bAr_qgFqwRpV",
        "colab_type": "code",
        "colab": {}
      },
      "source": [
        "Gender=pd.get_dummies(df['Gender'],drop_first=True)\n",
        "df=pd.concat([df,Gender],axis=1)\n",
        "df.drop('Gender',axis=1,inplace=True)"
      ],
      "execution_count": 0,
      "outputs": []
    },
    {
      "cell_type": "markdown",
      "metadata": {
        "id": "6NmpYLeRwcBh",
        "colab_type": "text"
      },
      "source": [
        "Save independent variable in y and delete it from dataset."
      ]
    },
    {
      "cell_type": "code",
      "metadata": {
        "id": "oHQujHEewZIL",
        "colab_type": "code",
        "colab": {}
      },
      "source": [
        "y=df['Purchased']\n",
        "df.drop('Purchased',axis=1,inplace=True)"
      ],
      "execution_count": 0,
      "outputs": []
    },
    {
      "cell_type": "code",
      "metadata": {
        "id": "skk5zs2mwjrQ",
        "colab_type": "code",
        "colab": {
          "base_uri": "https://localhost:8080/",
          "height": 204
        },
        "outputId": "2c5b0a4f-c878-4892-b3c8-d8a783dad68e"
      },
      "source": [
        "df.head()"
      ],
      "execution_count": 40,
      "outputs": [
        {
          "output_type": "execute_result",
          "data": {
            "text/html": [
              "<div>\n",
              "<style scoped>\n",
              "    .dataframe tbody tr th:only-of-type {\n",
              "        vertical-align: middle;\n",
              "    }\n",
              "\n",
              "    .dataframe tbody tr th {\n",
              "        vertical-align: top;\n",
              "    }\n",
              "\n",
              "    .dataframe thead th {\n",
              "        text-align: right;\n",
              "    }\n",
              "</style>\n",
              "<table border=\"1\" class=\"dataframe\">\n",
              "  <thead>\n",
              "    <tr style=\"text-align: right;\">\n",
              "      <th></th>\n",
              "      <th>Age</th>\n",
              "      <th>EstimatedSalary</th>\n",
              "      <th>Male</th>\n",
              "    </tr>\n",
              "  </thead>\n",
              "  <tbody>\n",
              "    <tr>\n",
              "      <th>0</th>\n",
              "      <td>19.0</td>\n",
              "      <td>19000.0</td>\n",
              "      <td>1</td>\n",
              "    </tr>\n",
              "    <tr>\n",
              "      <th>1</th>\n",
              "      <td>35.0</td>\n",
              "      <td>20000.0</td>\n",
              "      <td>1</td>\n",
              "    </tr>\n",
              "    <tr>\n",
              "      <th>2</th>\n",
              "      <td>26.0</td>\n",
              "      <td>43000.0</td>\n",
              "      <td>0</td>\n",
              "    </tr>\n",
              "    <tr>\n",
              "      <th>3</th>\n",
              "      <td>27.0</td>\n",
              "      <td>57000.0</td>\n",
              "      <td>0</td>\n",
              "    </tr>\n",
              "    <tr>\n",
              "      <th>4</th>\n",
              "      <td>19.0</td>\n",
              "      <td>76000.0</td>\n",
              "      <td>1</td>\n",
              "    </tr>\n",
              "  </tbody>\n",
              "</table>\n",
              "</div>"
            ],
            "text/plain": [
              "    Age  EstimatedSalary  Male\n",
              "0  19.0          19000.0     1\n",
              "1  35.0          20000.0     1\n",
              "2  26.0          43000.0     0\n",
              "3  27.0          57000.0     0\n",
              "4  19.0          76000.0     1"
            ]
          },
          "metadata": {
            "tags": []
          },
          "execution_count": 40
        }
      ]
    },
    {
      "cell_type": "code",
      "metadata": {
        "id": "2Zq77CGvxm7X",
        "colab_type": "code",
        "colab": {
          "base_uri": "https://localhost:8080/",
          "height": 297
        },
        "outputId": "2a5adaeb-81d2-4219-fe7d-472893295251"
      },
      "source": [
        "df.describe()"
      ],
      "execution_count": 41,
      "outputs": [
        {
          "output_type": "execute_result",
          "data": {
            "text/html": [
              "<div>\n",
              "<style scoped>\n",
              "    .dataframe tbody tr th:only-of-type {\n",
              "        vertical-align: middle;\n",
              "    }\n",
              "\n",
              "    .dataframe tbody tr th {\n",
              "        vertical-align: top;\n",
              "    }\n",
              "\n",
              "    .dataframe thead th {\n",
              "        text-align: right;\n",
              "    }\n",
              "</style>\n",
              "<table border=\"1\" class=\"dataframe\">\n",
              "  <thead>\n",
              "    <tr style=\"text-align: right;\">\n",
              "      <th></th>\n",
              "      <th>Age</th>\n",
              "      <th>EstimatedSalary</th>\n",
              "      <th>Male</th>\n",
              "    </tr>\n",
              "  </thead>\n",
              "  <tbody>\n",
              "    <tr>\n",
              "      <th>count</th>\n",
              "      <td>982.000000</td>\n",
              "      <td>982.000000</td>\n",
              "      <td>982.000000</td>\n",
              "    </tr>\n",
              "    <tr>\n",
              "      <th>mean</th>\n",
              "      <td>38.927417</td>\n",
              "      <td>69303.462322</td>\n",
              "      <td>0.485743</td>\n",
              "    </tr>\n",
              "    <tr>\n",
              "      <th>std</th>\n",
              "      <td>10.674492</td>\n",
              "      <td>34320.869568</td>\n",
              "      <td>0.500051</td>\n",
              "    </tr>\n",
              "    <tr>\n",
              "      <th>min</th>\n",
              "      <td>18.000000</td>\n",
              "      <td>15000.000000</td>\n",
              "      <td>0.000000</td>\n",
              "    </tr>\n",
              "    <tr>\n",
              "      <th>25%</th>\n",
              "      <td>32.000000</td>\n",
              "      <td>42250.000000</td>\n",
              "      <td>0.000000</td>\n",
              "    </tr>\n",
              "    <tr>\n",
              "      <th>50%</th>\n",
              "      <td>38.000000</td>\n",
              "      <td>65000.000000</td>\n",
              "      <td>0.000000</td>\n",
              "    </tr>\n",
              "    <tr>\n",
              "      <th>75%</th>\n",
              "      <td>46.000000</td>\n",
              "      <td>88000.000000</td>\n",
              "      <td>1.000000</td>\n",
              "    </tr>\n",
              "    <tr>\n",
              "      <th>max</th>\n",
              "      <td>77.000000</td>\n",
              "      <td>150000.000000</td>\n",
              "      <td>1.000000</td>\n",
              "    </tr>\n",
              "  </tbody>\n",
              "</table>\n",
              "</div>"
            ],
            "text/plain": [
              "              Age  EstimatedSalary        Male\n",
              "count  982.000000       982.000000  982.000000\n",
              "mean    38.927417     69303.462322    0.485743\n",
              "std     10.674492     34320.869568    0.500051\n",
              "min     18.000000     15000.000000    0.000000\n",
              "25%     32.000000     42250.000000    0.000000\n",
              "50%     38.000000     65000.000000    0.000000\n",
              "75%     46.000000     88000.000000    1.000000\n",
              "max     77.000000    150000.000000    1.000000"
            ]
          },
          "metadata": {
            "tags": []
          },
          "execution_count": 41
        }
      ]
    },
    {
      "cell_type": "code",
      "metadata": {
        "id": "_NNEYH5hxwnT",
        "colab_type": "code",
        "colab": {}
      },
      "source": [
        "X=df"
      ],
      "execution_count": 0,
      "outputs": []
    },
    {
      "cell_type": "markdown",
      "metadata": {
        "id": "F-DLTeJt1rHL",
        "colab_type": "text"
      },
      "source": [
        "import sklearn.linearmodel.logistic regression to train the model."
      ]
    },
    {
      "cell_type": "markdown",
      "metadata": {
        "id": "hHWh4jX13TMU",
        "colab_type": "text"
      },
      "source": [
        "Split the dta set into train and test data set."
      ]
    },
    {
      "cell_type": "code",
      "metadata": {
        "id": "a52lAe8r3XKK",
        "colab_type": "code",
        "colab": {
          "base_uri": "https://localhost:8080/",
          "height": 319
        },
        "outputId": "aa73a760-bf23-4178-a741-20d5c454d43a"
      },
      "source": [
        "from sklearn.cross_validation import train_test_split #this is failing in colab . So manually splitting data."
      ],
      "execution_count": 51,
      "outputs": [
        {
          "output_type": "error",
          "ename": "ModuleNotFoundError",
          "evalue": "ignored",
          "traceback": [
            "\u001b[0;31m---------------------------------------------------------------------------\u001b[0m",
            "\u001b[0;31mModuleNotFoundError\u001b[0m                       Traceback (most recent call last)",
            "\u001b[0;32m<ipython-input-51-d05cc6ee7707>\u001b[0m in \u001b[0;36m<module>\u001b[0;34m()\u001b[0m\n\u001b[0;32m----> 1\u001b[0;31m \u001b[0;32mfrom\u001b[0m \u001b[0msklearn\u001b[0m\u001b[0;34m.\u001b[0m\u001b[0mcross_validation\u001b[0m \u001b[0;32mimport\u001b[0m \u001b[0mtrain_test_split\u001b[0m\u001b[0;34m\u001b[0m\u001b[0;34m\u001b[0m\u001b[0m\n\u001b[0m",
            "\u001b[0;31mModuleNotFoundError\u001b[0m: No module named 'sklearn.cross_validation'",
            "",
            "\u001b[0;31m---------------------------------------------------------------------------\u001b[0;32m\nNOTE: If your import is failing due to a missing package, you can\nmanually install dependencies using either !pip or !apt.\n\nTo view examples of installing some common dependencies, click the\n\"Open Examples\" button below.\n\u001b[0;31m---------------------------------------------------------------------------\u001b[0m\n"
          ]
        }
      ]
    },
    {
      "cell_type": "code",
      "metadata": {
        "id": "mdQE90fQ12wh",
        "colab_type": "code",
        "colab": {}
      },
      "source": [
        "from sklearn.linear_model import LogisticRegression"
      ],
      "execution_count": 0,
      "outputs": []
    },
    {
      "cell_type": "markdown",
      "metadata": {
        "id": "eobfQyAL2Izn",
        "colab_type": "text"
      },
      "source": [
        "train the model"
      ]
    },
    {
      "cell_type": "code",
      "metadata": {
        "id": "FpqUtIvp2IE2",
        "colab_type": "code",
        "colab": {}
      },
      "source": [
        "lrt=LogisticRegression()"
      ],
      "execution_count": 0,
      "outputs": []
    },
    {
      "cell_type": "code",
      "metadata": {
        "id": "2j9gagaU3HZ5",
        "colab_type": "code",
        "colab": {}
      },
      "source": [
        "lrt.fit()"
      ],
      "execution_count": 0,
      "outputs": []
    }
  ]
}